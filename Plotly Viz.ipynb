{
 "cells": [
  {
   "cell_type": "code",
   "execution_count": 81,
   "id": "0d7ad71e",
   "metadata": {},
   "outputs": [],
   "source": [
    "import pandas as pd\n",
    "import plotly.express as px\n",
    "import plotly.graph_objs as go\n",
    "import matplotlib.pyplot as plt\n",
    "import plotly as py\n",
    "import nbconvert\n",
    "import plotly.io as pio"
   ]
  },
  {
   "cell_type": "code",
   "execution_count": 82,
   "id": "a28c80c7",
   "metadata": {},
   "outputs": [],
   "source": [
    "AbVolume_df = pd.read_csv('/Users/petergunn/Banning-The-Bortions/Resources/csvData.csv')\n",
    "AbTimeline_df = pd.read_csv('/Users/petergunn/Banning-The-Bortions/Resources/NationalAndStatePregnancy_PublicUse.csv')"
   ]
  },
  {
   "cell_type": "code",
   "execution_count": 83,
   "id": "658ef236",
   "metadata": {},
   "outputs": [
    {
     "ename": "NameError",
     "evalue": "name 'iplot' is not defined",
     "output_type": "error",
     "traceback": [
      "\u001b[0;31m---------------------------------------------------------------------------\u001b[0m",
      "\u001b[0;31mNameError\u001b[0m                                 Traceback (most recent call last)",
      "Input \u001b[0;32mIn [83]\u001b[0m, in \u001b[0;36m<cell line: 26>\u001b[0;34m()\u001b[0m\n\u001b[1;32m     22\u001b[0m layout \u001b[38;5;241m=\u001b[39m \u001b[38;5;28mdict\u001b[39m(title \u001b[38;5;241m=\u001b[39m \u001b[38;5;124m'\u001b[39m\u001b[38;5;124mAbortion Timeline\u001b[39m\u001b[38;5;124m'\u001b[39m,\n\u001b[1;32m     23\u001b[0m               xaxis\u001b[38;5;241m=\u001b[39m \u001b[38;5;28mdict\u001b[39m(title\u001b[38;5;241m=\u001b[39m \u001b[38;5;124m'\u001b[39m\u001b[38;5;124mYear\u001b[39m\u001b[38;5;124m'\u001b[39m,ticklen\u001b[38;5;241m=\u001b[39m \u001b[38;5;241m1\u001b[39m,zeroline\u001b[38;5;241m=\u001b[39m \u001b[38;5;28;01mFalse\u001b[39;00m)\n\u001b[1;32m     24\u001b[0m             )\n\u001b[1;32m     25\u001b[0m fig \u001b[38;5;241m=\u001b[39m \u001b[38;5;28mdict\u001b[39m(data \u001b[38;5;241m=\u001b[39m data, layout \u001b[38;5;241m=\u001b[39m layout)\n\u001b[0;32m---> 26\u001b[0m \u001b[43miplot\u001b[49m(fig)\n",
      "\u001b[0;31mNameError\u001b[0m: name 'iplot' is not defined"
     ]
    }
   ],
   "source": [
    "line_df = AbTimeline_df.iloc[:100]\n",
    "trace1 = go.Scatter(x = line_df.year,\n",
    "                    y = line_df.abortionratiototal,\n",
    "                    mode = \"markers\",\n",
    "                    name = \"citations\",\n",
    "                    marker = dict(color = 'rgba(80, 26, 80, 0.8)'),\n",
    "                    text= line_df.year)\n",
    "\n",
    "# #trace 2 \n",
    "# trace2 = go.Scatter(x = line_df.year,\n",
    "#                     y = line_df.abortionratiototal,\n",
    "#                     mode = \"markers\",\n",
    "#                     name = \"Abortions\",\n",
    "#                     marker = dict(color = 'rgba(0, 255, 200, 0.8)'),\n",
    "#                     text= line_df.abortionratiototal)\n",
    "\n",
    "\n",
    "\n",
    "\n",
    "\n",
    "data = [trace1]\n",
    "layout = dict(title = 'Abortion Timeline',\n",
    "              xaxis= dict(title= 'Year',ticklen= 1,zeroline= False)\n",
    "            )\n",
    "fig = dict(data = data, layout = layout)\n",
    "iplot(fig)\n"
   ]
  },
  {
   "cell_type": "code",
   "execution_count": 98,
   "id": "111dbee2",
   "metadata": {
    "scrolled": true
   },
   "outputs": [
    {
     "data": {
      "application/vnd.plotly.v1+json": {
       "config": {
        "plotlyServerURL": "https://plot.ly"
       },
       "data": [
        {
         "alignmentgroup": "True",
         "hovertemplate": "State=%{x}<br>totalAbortions=%{y}<extra></extra>",
         "legendgroup": "",
         "marker": {
          "color": "#636efa",
          "pattern": {
           "shape": ""
          }
         },
         "name": "",
         "offsetgroup": "",
         "orientation": "v",
         "showlegend": false,
         "textposition": "auto",
         "type": "bar",
         "x": [
          "Wyoming",
          "South Dakota",
          "Kentucky",
          "Idaho",
          "Missouri",
          "Mississippi",
          "West Virginia",
          "Utah",
          "South Carolina",
          "Nebraska",
          "Arkansas",
          "Wisconsin",
          "Indiana",
          "Oklahoma",
          "Iowa",
          "Alabama",
          "North Dakota",
          "Montana",
          "Alaska",
          "Maine",
          "Tennessee",
          "New Hampshire",
          "Arizona",
          "Texas",
          "Ohio",
          "Minnesota",
          "Virginia",
          "Delaware",
          "Louisiana",
          "Colorado",
          "Vermont",
          "New Mexico",
          "Oregon",
          "Hawaii",
          "Washington",
          "Kansas",
          "Pennsylvania",
          "Massachusetts",
          "Michigan",
          "North Carolina",
          "Nevada",
          "California",
          "Illinois",
          "Rhode Island",
          "Georgia",
          "Connecticut",
          "Florida",
          "Maryland",
          "New York",
          "New Jersey"
         ],
         "xaxis": "x",
         "y": [
          140,
          500,
          3200,
          1290,
          4710,
          2550,
          1430,
          2990,
          5120,
          2020,
          3200,
          6360,
          7710,
          4780,
          3760,
          6110,
          1160,
          1580,
          1260,
          2040,
          12140,
          2210,
          12400,
          55440,
          20630,
          10740,
          17210,
          1900,
          9920,
          12390,
          1300,
          4620,
          9640,
          3200,
          17740,
          6830,
          31260,
          18590,
          26630,
          29500,
          9690,
          132680,
          42080,
          3500,
          36330,
          11910,
          71050,
          29800,
          105380,
          48110
         ],
         "yaxis": "y"
        }
       ],
       "layout": {
        "barmode": "relative",
        "legend": {
         "tracegroupgap": 0
        },
        "margin": {
         "t": 60
        },
        "template": {
         "data": {
          "bar": [
           {
            "error_x": {
             "color": "#2a3f5f"
            },
            "error_y": {
             "color": "#2a3f5f"
            },
            "marker": {
             "line": {
              "color": "#E5ECF6",
              "width": 0.5
             },
             "pattern": {
              "fillmode": "overlay",
              "size": 10,
              "solidity": 0.2
             }
            },
            "type": "bar"
           }
          ],
          "barpolar": [
           {
            "marker": {
             "line": {
              "color": "#E5ECF6",
              "width": 0.5
             },
             "pattern": {
              "fillmode": "overlay",
              "size": 10,
              "solidity": 0.2
             }
            },
            "type": "barpolar"
           }
          ],
          "carpet": [
           {
            "aaxis": {
             "endlinecolor": "#2a3f5f",
             "gridcolor": "white",
             "linecolor": "white",
             "minorgridcolor": "white",
             "startlinecolor": "#2a3f5f"
            },
            "baxis": {
             "endlinecolor": "#2a3f5f",
             "gridcolor": "white",
             "linecolor": "white",
             "minorgridcolor": "white",
             "startlinecolor": "#2a3f5f"
            },
            "type": "carpet"
           }
          ],
          "choropleth": [
           {
            "colorbar": {
             "outlinewidth": 0,
             "ticks": ""
            },
            "type": "choropleth"
           }
          ],
          "contour": [
           {
            "colorbar": {
             "outlinewidth": 0,
             "ticks": ""
            },
            "colorscale": [
             [
              0,
              "#0d0887"
             ],
             [
              0.1111111111111111,
              "#46039f"
             ],
             [
              0.2222222222222222,
              "#7201a8"
             ],
             [
              0.3333333333333333,
              "#9c179e"
             ],
             [
              0.4444444444444444,
              "#bd3786"
             ],
             [
              0.5555555555555556,
              "#d8576b"
             ],
             [
              0.6666666666666666,
              "#ed7953"
             ],
             [
              0.7777777777777778,
              "#fb9f3a"
             ],
             [
              0.8888888888888888,
              "#fdca26"
             ],
             [
              1,
              "#f0f921"
             ]
            ],
            "type": "contour"
           }
          ],
          "contourcarpet": [
           {
            "colorbar": {
             "outlinewidth": 0,
             "ticks": ""
            },
            "type": "contourcarpet"
           }
          ],
          "heatmap": [
           {
            "colorbar": {
             "outlinewidth": 0,
             "ticks": ""
            },
            "colorscale": [
             [
              0,
              "#0d0887"
             ],
             [
              0.1111111111111111,
              "#46039f"
             ],
             [
              0.2222222222222222,
              "#7201a8"
             ],
             [
              0.3333333333333333,
              "#9c179e"
             ],
             [
              0.4444444444444444,
              "#bd3786"
             ],
             [
              0.5555555555555556,
              "#d8576b"
             ],
             [
              0.6666666666666666,
              "#ed7953"
             ],
             [
              0.7777777777777778,
              "#fb9f3a"
             ],
             [
              0.8888888888888888,
              "#fdca26"
             ],
             [
              1,
              "#f0f921"
             ]
            ],
            "type": "heatmap"
           }
          ],
          "heatmapgl": [
           {
            "colorbar": {
             "outlinewidth": 0,
             "ticks": ""
            },
            "colorscale": [
             [
              0,
              "#0d0887"
             ],
             [
              0.1111111111111111,
              "#46039f"
             ],
             [
              0.2222222222222222,
              "#7201a8"
             ],
             [
              0.3333333333333333,
              "#9c179e"
             ],
             [
              0.4444444444444444,
              "#bd3786"
             ],
             [
              0.5555555555555556,
              "#d8576b"
             ],
             [
              0.6666666666666666,
              "#ed7953"
             ],
             [
              0.7777777777777778,
              "#fb9f3a"
             ],
             [
              0.8888888888888888,
              "#fdca26"
             ],
             [
              1,
              "#f0f921"
             ]
            ],
            "type": "heatmapgl"
           }
          ],
          "histogram": [
           {
            "marker": {
             "pattern": {
              "fillmode": "overlay",
              "size": 10,
              "solidity": 0.2
             }
            },
            "type": "histogram"
           }
          ],
          "histogram2d": [
           {
            "colorbar": {
             "outlinewidth": 0,
             "ticks": ""
            },
            "colorscale": [
             [
              0,
              "#0d0887"
             ],
             [
              0.1111111111111111,
              "#46039f"
             ],
             [
              0.2222222222222222,
              "#7201a8"
             ],
             [
              0.3333333333333333,
              "#9c179e"
             ],
             [
              0.4444444444444444,
              "#bd3786"
             ],
             [
              0.5555555555555556,
              "#d8576b"
             ],
             [
              0.6666666666666666,
              "#ed7953"
             ],
             [
              0.7777777777777778,
              "#fb9f3a"
             ],
             [
              0.8888888888888888,
              "#fdca26"
             ],
             [
              1,
              "#f0f921"
             ]
            ],
            "type": "histogram2d"
           }
          ],
          "histogram2dcontour": [
           {
            "colorbar": {
             "outlinewidth": 0,
             "ticks": ""
            },
            "colorscale": [
             [
              0,
              "#0d0887"
             ],
             [
              0.1111111111111111,
              "#46039f"
             ],
             [
              0.2222222222222222,
              "#7201a8"
             ],
             [
              0.3333333333333333,
              "#9c179e"
             ],
             [
              0.4444444444444444,
              "#bd3786"
             ],
             [
              0.5555555555555556,
              "#d8576b"
             ],
             [
              0.6666666666666666,
              "#ed7953"
             ],
             [
              0.7777777777777778,
              "#fb9f3a"
             ],
             [
              0.8888888888888888,
              "#fdca26"
             ],
             [
              1,
              "#f0f921"
             ]
            ],
            "type": "histogram2dcontour"
           }
          ],
          "mesh3d": [
           {
            "colorbar": {
             "outlinewidth": 0,
             "ticks": ""
            },
            "type": "mesh3d"
           }
          ],
          "parcoords": [
           {
            "line": {
             "colorbar": {
              "outlinewidth": 0,
              "ticks": ""
             }
            },
            "type": "parcoords"
           }
          ],
          "pie": [
           {
            "automargin": true,
            "type": "pie"
           }
          ],
          "scatter": [
           {
            "fillpattern": {
             "fillmode": "overlay",
             "size": 10,
             "solidity": 0.2
            },
            "type": "scatter"
           }
          ],
          "scatter3d": [
           {
            "line": {
             "colorbar": {
              "outlinewidth": 0,
              "ticks": ""
             }
            },
            "marker": {
             "colorbar": {
              "outlinewidth": 0,
              "ticks": ""
             }
            },
            "type": "scatter3d"
           }
          ],
          "scattercarpet": [
           {
            "marker": {
             "colorbar": {
              "outlinewidth": 0,
              "ticks": ""
             }
            },
            "type": "scattercarpet"
           }
          ],
          "scattergeo": [
           {
            "marker": {
             "colorbar": {
              "outlinewidth": 0,
              "ticks": ""
             }
            },
            "type": "scattergeo"
           }
          ],
          "scattergl": [
           {
            "marker": {
             "colorbar": {
              "outlinewidth": 0,
              "ticks": ""
             }
            },
            "type": "scattergl"
           }
          ],
          "scattermapbox": [
           {
            "marker": {
             "colorbar": {
              "outlinewidth": 0,
              "ticks": ""
             }
            },
            "type": "scattermapbox"
           }
          ],
          "scatterpolar": [
           {
            "marker": {
             "colorbar": {
              "outlinewidth": 0,
              "ticks": ""
             }
            },
            "type": "scatterpolar"
           }
          ],
          "scatterpolargl": [
           {
            "marker": {
             "colorbar": {
              "outlinewidth": 0,
              "ticks": ""
             }
            },
            "type": "scatterpolargl"
           }
          ],
          "scatterternary": [
           {
            "marker": {
             "colorbar": {
              "outlinewidth": 0,
              "ticks": ""
             }
            },
            "type": "scatterternary"
           }
          ],
          "surface": [
           {
            "colorbar": {
             "outlinewidth": 0,
             "ticks": ""
            },
            "colorscale": [
             [
              0,
              "#0d0887"
             ],
             [
              0.1111111111111111,
              "#46039f"
             ],
             [
              0.2222222222222222,
              "#7201a8"
             ],
             [
              0.3333333333333333,
              "#9c179e"
             ],
             [
              0.4444444444444444,
              "#bd3786"
             ],
             [
              0.5555555555555556,
              "#d8576b"
             ],
             [
              0.6666666666666666,
              "#ed7953"
             ],
             [
              0.7777777777777778,
              "#fb9f3a"
             ],
             [
              0.8888888888888888,
              "#fdca26"
             ],
             [
              1,
              "#f0f921"
             ]
            ],
            "type": "surface"
           }
          ],
          "table": [
           {
            "cells": {
             "fill": {
              "color": "#EBF0F8"
             },
             "line": {
              "color": "white"
             }
            },
            "header": {
             "fill": {
              "color": "#C8D4E3"
             },
             "line": {
              "color": "white"
             }
            },
            "type": "table"
           }
          ]
         },
         "layout": {
          "annotationdefaults": {
           "arrowcolor": "#2a3f5f",
           "arrowhead": 0,
           "arrowwidth": 1
          },
          "autotypenumbers": "strict",
          "coloraxis": {
           "colorbar": {
            "outlinewidth": 0,
            "ticks": ""
           }
          },
          "colorscale": {
           "diverging": [
            [
             0,
             "#8e0152"
            ],
            [
             0.1,
             "#c51b7d"
            ],
            [
             0.2,
             "#de77ae"
            ],
            [
             0.3,
             "#f1b6da"
            ],
            [
             0.4,
             "#fde0ef"
            ],
            [
             0.5,
             "#f7f7f7"
            ],
            [
             0.6,
             "#e6f5d0"
            ],
            [
             0.7,
             "#b8e186"
            ],
            [
             0.8,
             "#7fbc41"
            ],
            [
             0.9,
             "#4d9221"
            ],
            [
             1,
             "#276419"
            ]
           ],
           "sequential": [
            [
             0,
             "#0d0887"
            ],
            [
             0.1111111111111111,
             "#46039f"
            ],
            [
             0.2222222222222222,
             "#7201a8"
            ],
            [
             0.3333333333333333,
             "#9c179e"
            ],
            [
             0.4444444444444444,
             "#bd3786"
            ],
            [
             0.5555555555555556,
             "#d8576b"
            ],
            [
             0.6666666666666666,
             "#ed7953"
            ],
            [
             0.7777777777777778,
             "#fb9f3a"
            ],
            [
             0.8888888888888888,
             "#fdca26"
            ],
            [
             1,
             "#f0f921"
            ]
           ],
           "sequentialminus": [
            [
             0,
             "#0d0887"
            ],
            [
             0.1111111111111111,
             "#46039f"
            ],
            [
             0.2222222222222222,
             "#7201a8"
            ],
            [
             0.3333333333333333,
             "#9c179e"
            ],
            [
             0.4444444444444444,
             "#bd3786"
            ],
            [
             0.5555555555555556,
             "#d8576b"
            ],
            [
             0.6666666666666666,
             "#ed7953"
            ],
            [
             0.7777777777777778,
             "#fb9f3a"
            ],
            [
             0.8888888888888888,
             "#fdca26"
            ],
            [
             1,
             "#f0f921"
            ]
           ]
          },
          "colorway": [
           "#636efa",
           "#EF553B",
           "#00cc96",
           "#ab63fa",
           "#FFA15A",
           "#19d3f3",
           "#FF6692",
           "#B6E880",
           "#FF97FF",
           "#FECB52"
          ],
          "font": {
           "color": "#2a3f5f"
          },
          "geo": {
           "bgcolor": "white",
           "lakecolor": "white",
           "landcolor": "#E5ECF6",
           "showlakes": true,
           "showland": true,
           "subunitcolor": "white"
          },
          "hoverlabel": {
           "align": "left"
          },
          "hovermode": "closest",
          "mapbox": {
           "style": "light"
          },
          "paper_bgcolor": "white",
          "plot_bgcolor": "#E5ECF6",
          "polar": {
           "angularaxis": {
            "gridcolor": "white",
            "linecolor": "white",
            "ticks": ""
           },
           "bgcolor": "#E5ECF6",
           "radialaxis": {
            "gridcolor": "white",
            "linecolor": "white",
            "ticks": ""
           }
          },
          "scene": {
           "xaxis": {
            "backgroundcolor": "#E5ECF6",
            "gridcolor": "white",
            "gridwidth": 2,
            "linecolor": "white",
            "showbackground": true,
            "ticks": "",
            "zerolinecolor": "white"
           },
           "yaxis": {
            "backgroundcolor": "#E5ECF6",
            "gridcolor": "white",
            "gridwidth": 2,
            "linecolor": "white",
            "showbackground": true,
            "ticks": "",
            "zerolinecolor": "white"
           },
           "zaxis": {
            "backgroundcolor": "#E5ECF6",
            "gridcolor": "white",
            "gridwidth": 2,
            "linecolor": "white",
            "showbackground": true,
            "ticks": "",
            "zerolinecolor": "white"
           }
          },
          "shapedefaults": {
           "line": {
            "color": "#2a3f5f"
           }
          },
          "ternary": {
           "aaxis": {
            "gridcolor": "white",
            "linecolor": "white",
            "ticks": ""
           },
           "baxis": {
            "gridcolor": "white",
            "linecolor": "white",
            "ticks": ""
           },
           "bgcolor": "#E5ECF6",
           "caxis": {
            "gridcolor": "white",
            "linecolor": "white",
            "ticks": ""
           }
          },
          "title": {
           "x": 0.05
          },
          "xaxis": {
           "automargin": true,
           "gridcolor": "white",
           "linecolor": "white",
           "ticks": "",
           "title": {
            "standoff": 15
           },
           "zerolinecolor": "white",
           "zerolinewidth": 2
          },
          "yaxis": {
           "automargin": true,
           "gridcolor": "white",
           "linecolor": "white",
           "ticks": "",
           "title": {
            "standoff": 15
           },
           "zerolinecolor": "white",
           "zerolinewidth": 2
          }
         }
        },
        "xaxis": {
         "anchor": "y",
         "domain": [
          0,
          1
         ],
         "title": {
          "text": "State"
         }
        },
        "yaxis": {
         "anchor": "x",
         "domain": [
          0,
          1
         ],
         "title": {
          "text": "totalAbortions"
         }
        }
       }
      },
      "text/html": [
       "<div>                            <div id=\"33bee46d-ee2d-41f1-952f-8b4e5a77f9b8\" class=\"plotly-graph-div\" style=\"height:525px; width:100%;\"></div>            <script type=\"text/javascript\">                require([\"plotly\"], function(Plotly) {                    window.PLOTLYENV=window.PLOTLYENV || {};                                    if (document.getElementById(\"33bee46d-ee2d-41f1-952f-8b4e5a77f9b8\")) {                    Plotly.newPlot(                        \"33bee46d-ee2d-41f1-952f-8b4e5a77f9b8\",                        [{\"alignmentgroup\":\"True\",\"hovertemplate\":\"State=%{x}<br>totalAbortions=%{y}<extra></extra>\",\"legendgroup\":\"\",\"marker\":{\"color\":\"#636efa\",\"pattern\":{\"shape\":\"\"}},\"name\":\"\",\"offsetgroup\":\"\",\"orientation\":\"v\",\"showlegend\":false,\"textposition\":\"auto\",\"x\":[\"Wyoming\",\"South Dakota\",\"Kentucky\",\"Idaho\",\"Missouri\",\"Mississippi\",\"West Virginia\",\"Utah\",\"South Carolina\",\"Nebraska\",\"Arkansas\",\"Wisconsin\",\"Indiana\",\"Oklahoma\",\"Iowa\",\"Alabama\",\"North Dakota\",\"Montana\",\"Alaska\",\"Maine\",\"Tennessee\",\"New Hampshire\",\"Arizona\",\"Texas\",\"Ohio\",\"Minnesota\",\"Virginia\",\"Delaware\",\"Louisiana\",\"Colorado\",\"Vermont\",\"New Mexico\",\"Oregon\",\"Hawaii\",\"Washington\",\"Kansas\",\"Pennsylvania\",\"Massachusetts\",\"Michigan\",\"North Carolina\",\"Nevada\",\"California\",\"Illinois\",\"Rhode Island\",\"Georgia\",\"Connecticut\",\"Florida\",\"Maryland\",\"New York\",\"New Jersey\"],\"xaxis\":\"x\",\"y\":[140,500,3200,1290,4710,2550,1430,2990,5120,2020,3200,6360,7710,4780,3760,6110,1160,1580,1260,2040,12140,2210,12400,55440,20630,10740,17210,1900,9920,12390,1300,4620,9640,3200,17740,6830,31260,18590,26630,29500,9690,132680,42080,3500,36330,11910,71050,29800,105380,48110],\"yaxis\":\"y\",\"type\":\"bar\"}],                        {\"template\":{\"data\":{\"histogram2dcontour\":[{\"type\":\"histogram2dcontour\",\"colorbar\":{\"outlinewidth\":0,\"ticks\":\"\"},\"colorscale\":[[0.0,\"#0d0887\"],[0.1111111111111111,\"#46039f\"],[0.2222222222222222,\"#7201a8\"],[0.3333333333333333,\"#9c179e\"],[0.4444444444444444,\"#bd3786\"],[0.5555555555555556,\"#d8576b\"],[0.6666666666666666,\"#ed7953\"],[0.7777777777777778,\"#fb9f3a\"],[0.8888888888888888,\"#fdca26\"],[1.0,\"#f0f921\"]]}],\"choropleth\":[{\"type\":\"choropleth\",\"colorbar\":{\"outlinewidth\":0,\"ticks\":\"\"}}],\"histogram2d\":[{\"type\":\"histogram2d\",\"colorbar\":{\"outlinewidth\":0,\"ticks\":\"\"},\"colorscale\":[[0.0,\"#0d0887\"],[0.1111111111111111,\"#46039f\"],[0.2222222222222222,\"#7201a8\"],[0.3333333333333333,\"#9c179e\"],[0.4444444444444444,\"#bd3786\"],[0.5555555555555556,\"#d8576b\"],[0.6666666666666666,\"#ed7953\"],[0.7777777777777778,\"#fb9f3a\"],[0.8888888888888888,\"#fdca26\"],[1.0,\"#f0f921\"]]}],\"heatmap\":[{\"type\":\"heatmap\",\"colorbar\":{\"outlinewidth\":0,\"ticks\":\"\"},\"colorscale\":[[0.0,\"#0d0887\"],[0.1111111111111111,\"#46039f\"],[0.2222222222222222,\"#7201a8\"],[0.3333333333333333,\"#9c179e\"],[0.4444444444444444,\"#bd3786\"],[0.5555555555555556,\"#d8576b\"],[0.6666666666666666,\"#ed7953\"],[0.7777777777777778,\"#fb9f3a\"],[0.8888888888888888,\"#fdca26\"],[1.0,\"#f0f921\"]]}],\"heatmapgl\":[{\"type\":\"heatmapgl\",\"colorbar\":{\"outlinewidth\":0,\"ticks\":\"\"},\"colorscale\":[[0.0,\"#0d0887\"],[0.1111111111111111,\"#46039f\"],[0.2222222222222222,\"#7201a8\"],[0.3333333333333333,\"#9c179e\"],[0.4444444444444444,\"#bd3786\"],[0.5555555555555556,\"#d8576b\"],[0.6666666666666666,\"#ed7953\"],[0.7777777777777778,\"#fb9f3a\"],[0.8888888888888888,\"#fdca26\"],[1.0,\"#f0f921\"]]}],\"contourcarpet\":[{\"type\":\"contourcarpet\",\"colorbar\":{\"outlinewidth\":0,\"ticks\":\"\"}}],\"contour\":[{\"type\":\"contour\",\"colorbar\":{\"outlinewidth\":0,\"ticks\":\"\"},\"colorscale\":[[0.0,\"#0d0887\"],[0.1111111111111111,\"#46039f\"],[0.2222222222222222,\"#7201a8\"],[0.3333333333333333,\"#9c179e\"],[0.4444444444444444,\"#bd3786\"],[0.5555555555555556,\"#d8576b\"],[0.6666666666666666,\"#ed7953\"],[0.7777777777777778,\"#fb9f3a\"],[0.8888888888888888,\"#fdca26\"],[1.0,\"#f0f921\"]]}],\"surface\":[{\"type\":\"surface\",\"colorbar\":{\"outlinewidth\":0,\"ticks\":\"\"},\"colorscale\":[[0.0,\"#0d0887\"],[0.1111111111111111,\"#46039f\"],[0.2222222222222222,\"#7201a8\"],[0.3333333333333333,\"#9c179e\"],[0.4444444444444444,\"#bd3786\"],[0.5555555555555556,\"#d8576b\"],[0.6666666666666666,\"#ed7953\"],[0.7777777777777778,\"#fb9f3a\"],[0.8888888888888888,\"#fdca26\"],[1.0,\"#f0f921\"]]}],\"mesh3d\":[{\"type\":\"mesh3d\",\"colorbar\":{\"outlinewidth\":0,\"ticks\":\"\"}}],\"scatter\":[{\"fillpattern\":{\"fillmode\":\"overlay\",\"size\":10,\"solidity\":0.2},\"type\":\"scatter\"}],\"parcoords\":[{\"type\":\"parcoords\",\"line\":{\"colorbar\":{\"outlinewidth\":0,\"ticks\":\"\"}}}],\"scatterpolargl\":[{\"type\":\"scatterpolargl\",\"marker\":{\"colorbar\":{\"outlinewidth\":0,\"ticks\":\"\"}}}],\"bar\":[{\"error_x\":{\"color\":\"#2a3f5f\"},\"error_y\":{\"color\":\"#2a3f5f\"},\"marker\":{\"line\":{\"color\":\"#E5ECF6\",\"width\":0.5},\"pattern\":{\"fillmode\":\"overlay\",\"size\":10,\"solidity\":0.2}},\"type\":\"bar\"}],\"scattergeo\":[{\"type\":\"scattergeo\",\"marker\":{\"colorbar\":{\"outlinewidth\":0,\"ticks\":\"\"}}}],\"scatterpolar\":[{\"type\":\"scatterpolar\",\"marker\":{\"colorbar\":{\"outlinewidth\":0,\"ticks\":\"\"}}}],\"histogram\":[{\"marker\":{\"pattern\":{\"fillmode\":\"overlay\",\"size\":10,\"solidity\":0.2}},\"type\":\"histogram\"}],\"scattergl\":[{\"type\":\"scattergl\",\"marker\":{\"colorbar\":{\"outlinewidth\":0,\"ticks\":\"\"}}}],\"scatter3d\":[{\"type\":\"scatter3d\",\"line\":{\"colorbar\":{\"outlinewidth\":0,\"ticks\":\"\"}},\"marker\":{\"colorbar\":{\"outlinewidth\":0,\"ticks\":\"\"}}}],\"scattermapbox\":[{\"type\":\"scattermapbox\",\"marker\":{\"colorbar\":{\"outlinewidth\":0,\"ticks\":\"\"}}}],\"scatterternary\":[{\"type\":\"scatterternary\",\"marker\":{\"colorbar\":{\"outlinewidth\":0,\"ticks\":\"\"}}}],\"scattercarpet\":[{\"type\":\"scattercarpet\",\"marker\":{\"colorbar\":{\"outlinewidth\":0,\"ticks\":\"\"}}}],\"carpet\":[{\"aaxis\":{\"endlinecolor\":\"#2a3f5f\",\"gridcolor\":\"white\",\"linecolor\":\"white\",\"minorgridcolor\":\"white\",\"startlinecolor\":\"#2a3f5f\"},\"baxis\":{\"endlinecolor\":\"#2a3f5f\",\"gridcolor\":\"white\",\"linecolor\":\"white\",\"minorgridcolor\":\"white\",\"startlinecolor\":\"#2a3f5f\"},\"type\":\"carpet\"}],\"table\":[{\"cells\":{\"fill\":{\"color\":\"#EBF0F8\"},\"line\":{\"color\":\"white\"}},\"header\":{\"fill\":{\"color\":\"#C8D4E3\"},\"line\":{\"color\":\"white\"}},\"type\":\"table\"}],\"barpolar\":[{\"marker\":{\"line\":{\"color\":\"#E5ECF6\",\"width\":0.5},\"pattern\":{\"fillmode\":\"overlay\",\"size\":10,\"solidity\":0.2}},\"type\":\"barpolar\"}],\"pie\":[{\"automargin\":true,\"type\":\"pie\"}]},\"layout\":{\"autotypenumbers\":\"strict\",\"colorway\":[\"#636efa\",\"#EF553B\",\"#00cc96\",\"#ab63fa\",\"#FFA15A\",\"#19d3f3\",\"#FF6692\",\"#B6E880\",\"#FF97FF\",\"#FECB52\"],\"font\":{\"color\":\"#2a3f5f\"},\"hovermode\":\"closest\",\"hoverlabel\":{\"align\":\"left\"},\"paper_bgcolor\":\"white\",\"plot_bgcolor\":\"#E5ECF6\",\"polar\":{\"bgcolor\":\"#E5ECF6\",\"angularaxis\":{\"gridcolor\":\"white\",\"linecolor\":\"white\",\"ticks\":\"\"},\"radialaxis\":{\"gridcolor\":\"white\",\"linecolor\":\"white\",\"ticks\":\"\"}},\"ternary\":{\"bgcolor\":\"#E5ECF6\",\"aaxis\":{\"gridcolor\":\"white\",\"linecolor\":\"white\",\"ticks\":\"\"},\"baxis\":{\"gridcolor\":\"white\",\"linecolor\":\"white\",\"ticks\":\"\"},\"caxis\":{\"gridcolor\":\"white\",\"linecolor\":\"white\",\"ticks\":\"\"}},\"coloraxis\":{\"colorbar\":{\"outlinewidth\":0,\"ticks\":\"\"}},\"colorscale\":{\"sequential\":[[0.0,\"#0d0887\"],[0.1111111111111111,\"#46039f\"],[0.2222222222222222,\"#7201a8\"],[0.3333333333333333,\"#9c179e\"],[0.4444444444444444,\"#bd3786\"],[0.5555555555555556,\"#d8576b\"],[0.6666666666666666,\"#ed7953\"],[0.7777777777777778,\"#fb9f3a\"],[0.8888888888888888,\"#fdca26\"],[1.0,\"#f0f921\"]],\"sequentialminus\":[[0.0,\"#0d0887\"],[0.1111111111111111,\"#46039f\"],[0.2222222222222222,\"#7201a8\"],[0.3333333333333333,\"#9c179e\"],[0.4444444444444444,\"#bd3786\"],[0.5555555555555556,\"#d8576b\"],[0.6666666666666666,\"#ed7953\"],[0.7777777777777778,\"#fb9f3a\"],[0.8888888888888888,\"#fdca26\"],[1.0,\"#f0f921\"]],\"diverging\":[[0,\"#8e0152\"],[0.1,\"#c51b7d\"],[0.2,\"#de77ae\"],[0.3,\"#f1b6da\"],[0.4,\"#fde0ef\"],[0.5,\"#f7f7f7\"],[0.6,\"#e6f5d0\"],[0.7,\"#b8e186\"],[0.8,\"#7fbc41\"],[0.9,\"#4d9221\"],[1,\"#276419\"]]},\"xaxis\":{\"gridcolor\":\"white\",\"linecolor\":\"white\",\"ticks\":\"\",\"title\":{\"standoff\":15},\"zerolinecolor\":\"white\",\"automargin\":true,\"zerolinewidth\":2},\"yaxis\":{\"gridcolor\":\"white\",\"linecolor\":\"white\",\"ticks\":\"\",\"title\":{\"standoff\":15},\"zerolinecolor\":\"white\",\"automargin\":true,\"zerolinewidth\":2},\"scene\":{\"xaxis\":{\"backgroundcolor\":\"#E5ECF6\",\"gridcolor\":\"white\",\"linecolor\":\"white\",\"showbackground\":true,\"ticks\":\"\",\"zerolinecolor\":\"white\",\"gridwidth\":2},\"yaxis\":{\"backgroundcolor\":\"#E5ECF6\",\"gridcolor\":\"white\",\"linecolor\":\"white\",\"showbackground\":true,\"ticks\":\"\",\"zerolinecolor\":\"white\",\"gridwidth\":2},\"zaxis\":{\"backgroundcolor\":\"#E5ECF6\",\"gridcolor\":\"white\",\"linecolor\":\"white\",\"showbackground\":true,\"ticks\":\"\",\"zerolinecolor\":\"white\",\"gridwidth\":2}},\"shapedefaults\":{\"line\":{\"color\":\"#2a3f5f\"}},\"annotationdefaults\":{\"arrowcolor\":\"#2a3f5f\",\"arrowhead\":0,\"arrowwidth\":1},\"geo\":{\"bgcolor\":\"white\",\"landcolor\":\"#E5ECF6\",\"subunitcolor\":\"white\",\"showland\":true,\"showlakes\":true,\"lakecolor\":\"white\"},\"title\":{\"x\":0.05},\"mapbox\":{\"style\":\"light\"}}},\"xaxis\":{\"anchor\":\"y\",\"domain\":[0.0,1.0],\"title\":{\"text\":\"State\"}},\"yaxis\":{\"anchor\":\"x\",\"domain\":[0.0,1.0],\"title\":{\"text\":\"totalAbortions\"}},\"legend\":{\"tracegroupgap\":0},\"margin\":{\"t\":60},\"barmode\":\"relative\"},                        {\"responsive\": true}                    ).then(function(){\n",
       "                            \n",
       "var gd = document.getElementById('33bee46d-ee2d-41f1-952f-8b4e5a77f9b8');\n",
       "var x = new MutationObserver(function (mutations, observer) {{\n",
       "        var display = window.getComputedStyle(gd).display;\n",
       "        if (!display || display === 'none') {{\n",
       "            console.log([gd, 'removed!']);\n",
       "            Plotly.purge(gd);\n",
       "            observer.disconnect();\n",
       "        }}\n",
       "}});\n",
       "\n",
       "// Listen for the removal of the full notebook cells\n",
       "var notebookContainer = gd.closest('#notebook-container');\n",
       "if (notebookContainer) {{\n",
       "    x.observe(notebookContainer, {childList: true});\n",
       "}}\n",
       "\n",
       "// Listen for the clearing of the current output cell\n",
       "var outputEl = gd.closest('.output');\n",
       "if (outputEl) {{\n",
       "    x.observe(outputEl, {childList: true});\n",
       "}}\n",
       "\n",
       "                        })                };                });            </script>        </div>"
      ]
     },
     "metadata": {},
     "output_type": "display_data"
    }
   ],
   "source": [
    "fig = px.bar(AbVolume_df, x = \"State\", y = \"totalAbortions\")\n",
    "# fig_bar.update_layout(\n",
    "#     xaxis = dict(\n",
    "#     tickmode = 'array',\n",
    "#     tick0 = 0.2,\n",
    "# #     dtick = 1   \n",
    "#  )\n",
    "# )\n",
    "\n",
    "import plotly.io as pio\n",
    "pio.write_image(fig, \"/Users/petergunn/Banning-The-Bortions/Resources/PlotlyBar.png\", format='png')\n",
    "fig.show()\n"
   ]
  },
  {
   "cell_type": "code",
   "execution_count": 85,
   "id": "69e7ba03",
   "metadata": {
    "scrolled": true
   },
   "outputs": [
    {
     "data": {
      "application/vnd.plotly.v1+json": {
       "config": {
        "plotlyServerURL": "https://plot.ly"
       },
       "data": [
        {
         "hovertemplate": "year=%{x}<br>abortionstotal=%{y}<extra></extra>",
         "legendgroup": "",
         "marker": {
          "color": "#636efa",
          "symbol": "circle"
         },
         "mode": "markers",
         "name": "",
         "orientation": "v",
         "showlegend": false,
         "type": "scatter",
         "x": [
          1988,
          1992,
          1996,
          2000,
          2005,
          2006,
          2007,
          2008,
          2009,
          2010,
          2011,
          2012,
          2013,
          2014,
          2015,
          2016,
          2017,
          1988,
          1992,
          1996,
          2000,
          2005,
          2006,
          2007,
          2008,
          2009,
          2010,
          2011,
          2012,
          2013,
          2014,
          2015,
          2016,
          2017,
          1988,
          1992,
          1996,
          2000,
          2005,
          2006,
          2007,
          2008,
          2009,
          2010,
          2011,
          2012,
          2013,
          2014,
          2015,
          2016,
          2017,
          1988,
          1992,
          1996,
          2000,
          2005,
          2006,
          2007,
          2008,
          2009,
          2010,
          2011,
          2012,
          2013,
          2014,
          2015,
          2016,
          2017,
          1988,
          1992,
          1996,
          2000,
          2005,
          2006,
          2007,
          2008,
          2009,
          2010,
          2011,
          2012,
          2013,
          2014,
          2015,
          2016,
          2017,
          1988,
          1992,
          1996,
          2000,
          2005,
          2006,
          2007,
          2008,
          2009,
          2010,
          2011,
          2012,
          2013,
          2014,
          2015,
          2016,
          2017,
          1988,
          1992,
          1996,
          2000,
          2005,
          2006,
          2007,
          2008,
          2009,
          2010,
          2011,
          2012,
          2013,
          2014,
          2015,
          2016,
          2017,
          1988,
          1992,
          1996,
          2000,
          2005,
          2006,
          2007,
          2008,
          2009,
          2010,
          2011,
          2012,
          2013,
          2014,
          2015,
          2016,
          2017,
          1988,
          1992,
          1996,
          2000,
          2005,
          2006,
          2007,
          2008,
          2009,
          2010,
          2011,
          2012,
          2013,
          2014,
          2015,
          2016,
          2017,
          1988,
          1992,
          1996,
          2000,
          2005,
          2006,
          2007,
          2008,
          2009,
          2010,
          2011,
          2012,
          2013,
          2014,
          2015,
          2016,
          2017,
          1988,
          1992,
          1996,
          2000,
          2005,
          2006,
          2007,
          2008,
          2009,
          2010,
          2011,
          2012,
          2013,
          2014,
          2015,
          2016,
          2017,
          1988,
          1992,
          1996,
          2000,
          2005,
          2006,
          2007,
          2008,
          2009,
          2010,
          2011,
          2012,
          2013,
          2014,
          2015,
          2016,
          2017,
          1988,
          1992,
          1996,
          2000,
          2005,
          2006,
          2007,
          2008,
          2009,
          2010,
          2011,
          2012,
          2013,
          2014,
          2015,
          2016,
          2017,
          1988,
          1992,
          1996,
          2000,
          2005,
          2006,
          2007,
          2008,
          2009,
          2010,
          2011,
          2012,
          2013,
          2014,
          2015,
          2016,
          2017,
          1988,
          1992,
          1996,
          2000,
          2005,
          2006,
          2007,
          2008,
          2009,
          2010,
          2011,
          2012,
          2013,
          2014,
          2015,
          2016,
          2017,
          1988,
          1992,
          1996,
          2000,
          2005,
          2006,
          2007,
          2008,
          2009,
          2010,
          2011,
          2012,
          2013,
          2014,
          2015,
          2016,
          2017,
          1988,
          1992,
          1996,
          2000,
          2005,
          2006,
          2007,
          2008,
          2009,
          2010,
          2011,
          2012,
          2013,
          2014,
          2015,
          2016,
          2017,
          1988,
          1992,
          1996,
          2000,
          2005,
          2006,
          2007,
          2008,
          2009,
          2010,
          2011,
          2012,
          2013,
          2014,
          2015,
          2016,
          2017,
          1988,
          1992,
          1996,
          2000,
          2005,
          2006,
          2007,
          2008,
          2009,
          2010,
          2011,
          2012,
          2013,
          2014,
          2015,
          2016,
          2017,
          1988,
          1992,
          1996,
          2000,
          2005,
          2006,
          2007,
          2008,
          2009,
          2010,
          2011,
          2012,
          2013,
          2014,
          2015,
          2016,
          2017,
          1988,
          1992,
          1996,
          2000,
          2005,
          2006,
          2007,
          2008,
          2009,
          2010,
          2011,
          2012,
          2013,
          2014,
          2015,
          2016,
          2017,
          1988,
          1992,
          1996,
          2000,
          2005,
          2006,
          2007,
          2008,
          2009,
          2010,
          2011,
          2012,
          2013,
          2014,
          2015,
          2016,
          2017,
          1988,
          1992,
          1996,
          2000,
          2005,
          2006,
          2007,
          2008,
          2009,
          2010,
          2011,
          2012,
          2013,
          2014,
          2015,
          2016,
          2017,
          1988,
          1992,
          1996,
          2000,
          2005,
          2006,
          2007,
          2008,
          2009,
          2010,
          2011,
          2012,
          2013,
          2014,
          2015,
          2016,
          2017,
          1988,
          1992,
          1996,
          2000,
          2005,
          2006,
          2007,
          2008,
          2009,
          2010,
          2011,
          2012,
          2013,
          2014,
          2015,
          2016,
          2017,
          1988,
          1992,
          1996,
          2000,
          2005,
          2006,
          2007,
          2008,
          2009,
          2010,
          2011,
          2012,
          2013,
          2014,
          2015,
          2016,
          2017,
          1988,
          1992,
          1996,
          2000,
          2005,
          2006,
          2007,
          2008,
          2009,
          2010,
          2011,
          2012,
          2013,
          2014,
          2015,
          2016,
          2017,
          1988,
          1992,
          1996,
          2000,
          2005,
          2006,
          2007,
          2008,
          2009,
          2010,
          2011,
          2012,
          2013,
          2014,
          2015,
          2016,
          2017,
          1988,
          1992,
          1996,
          2000,
          2005,
          2006,
          2007,
          2008,
          2009,
          2010,
          2011,
          2012,
          2013,
          2014,
          2015,
          2016,
          2017,
          1988,
          1992,
          1996,
          2000,
          2005,
          2006,
          2007,
          2008,
          2009,
          2010,
          2011,
          2012,
          2013,
          2014,
          2015,
          2016,
          2017,
          1988,
          1992,
          1996,
          2000,
          2005,
          2006,
          2007,
          2008,
          2009,
          2010,
          2011,
          2012,
          2013,
          2014,
          2015,
          2016,
          2017,
          1988,
          1992,
          1996,
          2000,
          2005,
          2006,
          2007,
          2008,
          2009,
          2010,
          2011,
          2012,
          2013,
          2014,
          2015,
          2016,
          2017,
          1988,
          1992,
          1996,
          2000,
          2005,
          2006,
          2007,
          2008,
          2009,
          2010,
          2011,
          2012,
          2013,
          2014,
          2015,
          2016,
          2017,
          1988,
          1992,
          1996,
          2000,
          2005,
          2006,
          2007,
          2008,
          2009,
          2010,
          2011,
          2012,
          2013,
          2014,
          2015,
          2016,
          2017,
          1988,
          1992,
          1996,
          2000,
          2005,
          2006,
          2007,
          2008,
          2009,
          2010,
          2011,
          2012,
          2013,
          2014,
          2015,
          2016,
          2017,
          1988,
          1992,
          1996,
          2000,
          2005,
          2006,
          2007,
          2008,
          2009,
          2010,
          2011,
          2012,
          2013,
          2014,
          2015,
          2016,
          2017,
          1988,
          1992,
          1996,
          2000,
          2005,
          2006,
          2007,
          2008,
          2009,
          2010,
          2011,
          2012,
          2013,
          2014,
          2015,
          2016,
          2017,
          1988,
          1992,
          1996,
          2000,
          2005,
          2006,
          2007,
          2008,
          2009,
          2010,
          2011,
          2012,
          2013,
          2014,
          2015,
          2016,
          2017,
          1988,
          1992,
          1996,
          2000,
          2005,
          2006,
          2007,
          2008,
          2009,
          2010,
          2011,
          2012,
          2013,
          2014,
          2015,
          2016,
          2017,
          1988,
          1992,
          1996,
          2000,
          2005,
          2006,
          2007,
          2008,
          2009,
          2010,
          2011,
          2012,
          2013,
          2014,
          2015,
          2016,
          2017,
          1988,
          1992,
          1996,
          2000,
          2005,
          2006,
          2007,
          2008,
          2009,
          2010,
          2011,
          2012,
          2013,
          2014,
          2015,
          2016,
          2017,
          1988,
          1992,
          1996,
          2000,
          2005,
          2006,
          2007,
          2008,
          2009,
          2010,
          2011,
          2012,
          2013,
          2014,
          2015,
          2016,
          2017,
          1988,
          1992,
          1996,
          2000,
          2005,
          2006,
          2007,
          2008,
          2009,
          2010,
          2011,
          2012,
          2013,
          2014,
          2015,
          2016,
          2017,
          1988,
          1992,
          1996,
          2000,
          2005,
          2006,
          2007,
          2008,
          2009,
          2010,
          2011,
          2012,
          2013,
          2014,
          2015,
          2016,
          2017,
          1973,
          1974,
          1975,
          1976,
          1977,
          1978,
          1979,
          1980,
          1981,
          1982,
          1983,
          1984,
          1985,
          1986,
          1987,
          1988,
          1989,
          1990,
          1991,
          1992,
          1993,
          1994,
          1995,
          1996,
          1997,
          1998,
          1999,
          2000,
          2001,
          2002,
          2003,
          2004,
          2005,
          2006,
          2007,
          2008,
          2009,
          2010,
          2011,
          2012,
          2013,
          2014,
          2015,
          2016,
          2017,
          1988,
          1992,
          1996,
          2000,
          2005,
          2006,
          2007,
          2008,
          2009,
          2010,
          2011,
          2012,
          2013,
          2014,
          2015,
          2016,
          2017,
          1988,
          1992,
          1996,
          2000,
          2005,
          2006,
          2007,
          2008,
          2009,
          2010,
          2011,
          2012,
          2013,
          2014,
          2015,
          2016,
          2017,
          1988,
          1992,
          1996,
          2000,
          2005,
          2006,
          2007,
          2008,
          2009,
          2010,
          2011,
          2012,
          2013,
          2014,
          2015,
          2016,
          2017,
          1988,
          1992,
          1996,
          2000,
          2005,
          2006,
          2007,
          2008,
          2009,
          2010,
          2011,
          2012,
          2013,
          2014,
          2015,
          2016,
          2017,
          1988,
          1992,
          1996,
          2000,
          2005,
          2006,
          2007,
          2008,
          2009,
          2010,
          2011,
          2012,
          2013,
          2014,
          2015,
          2016,
          2017,
          1988,
          1992,
          1996,
          2000,
          2005,
          2006,
          2007,
          2008,
          2009,
          2010,
          2011,
          2012,
          2013,
          2014,
          2015,
          2016,
          2017,
          1988,
          1992,
          1996,
          2000,
          2005,
          2006,
          2007,
          2008,
          2009,
          2010,
          2011,
          2012,
          2013,
          2014,
          2015,
          2016,
          2017
         ],
         "xaxis": "x",
         "y": [
          20100,
          17720,
          14940,
          13060,
          10840,
          10980,
          11130,
          11020,
          10530,
          10030,
          9600,
          8920,
          8230,
          8310,
          8150,
          7920,
          7660,
          2700,
          2800,
          2310,
          1900,
          2130,
          2060,
          2000,
          1960,
          2040,
          2120,
          2030,
          1890,
          1740,
          1640,
          1540,
          1450,
          1420,
          22200,
          21200,
          20120,
          18410,
          19710,
          18850,
          17990,
          19770,
          17480,
          15190,
          16270,
          15040,
          13820,
          13240,
          13640,
          14040,
          13270,
          7860,
          8690,
          6680,
          5880,
          5200,
          5450,
          5690,
          5710,
          5630,
          5490,
          5210,
          5010,
          4810,
          4350,
          3930,
          3590,
          3710,
          311440,
          303850,
          237870,
          235670,
          206260,
          213550,
          220840,
          211930,
          200720,
          189110,
          177360,
          170420,
          163550,
          156690,
          148000,
          139320,
          131380,
          17550,
          18410,
          16670,
          12950,
          14720,
          14990,
          15160,
          14920,
          14330,
          13730,
          13130,
          12400,
          11660,
          11760,
          11410,
          11050,
          11100,
          24470,
          20100,
          16510,
          15460,
          17340,
          17580,
          17730,
          17210,
          16350,
          15480,
          14630,
          13900,
          13360,
          13280,
          12770,
          12260,
          11950,
          4570,
          4620,
          2970,
          3920,
          4140,
          4990,
          5850,
          5650,
          5520,
          5380,
          4690,
          4010,
          3340,
          3200,
          3040,
          2880,
          2770,
          13830,
          11040,
          5620,
          5750,
          6390,
          5900,
          5400,
          5880,
          4970,
          4060,
          3400,
          3570,
          3740,
          3800,
          3330,
          2870,
          3930,
          75820,
          77320,
          90160,
          96000,
          85360,
          86980,
          88600,
          86310,
          84150,
          82020,
          79890,
          76730,
          73560,
          72630,
          69390,
          66150,
          68640,
          35320,
          39970,
          35230,
          32270,
          32040,
          32690,
          33680,
          39370,
          37260,
          35160,
          34460,
          33620,
          32550,
          31120,
          31750,
          32390,
          32520,
          11120,
          12180,
          6930,
          5630,
          5330,
          5490,
          5650,
          5650,
          5590,
          5530,
          5540,
          4900,
          4260,
          3750,
          3370,
          3130,
          3220,
          2760,
          2420,
          2450,
          2750,
          2540,
          2700,
          2860,
          2580,
          2490,
          2410,
          2340,
          2090,
          1850,
          1790,
          1780,
          1780,
          1790,
          72500,
          66500,
          66920,
          58370,
          48420,
          48560,
          48710,
          51670,
          47020,
          42370,
          42360,
          42020,
          41430,
          40120,
          38830,
          37590,
          37770,
          20930,
          21170,
          18340,
          15140,
          13180,
          12810,
          12440,
          12300,
          12020,
          11600,
          10710,
          10200,
          9910,
          10130,
          10190,
          10240,
          10270,
          10480,
          7480,
          6150,
          6280,
          6130,
          6390,
          6660,
          6160,
          6010,
          5860,
          5430,
          4790,
          4150,
          3930,
          3990,
          4050,
          3650,
          7210,
          7140,
          6940,
          6440,
          5620,
          5670,
          5720,
          5670,
          4830,
          3990,
          3870,
          3910,
          3940,
          3800,
          3660,
          3520,
          3520,
          10090,
          9850,
          7890,
          6720,
          6060,
          6080,
          6110,
          6380,
          6170,
          5960,
          5820,
          5500,
          5180,
          5180,
          4910,
          4640,
          4780,
          17030,
          11800,
          13110,
          11380,
          10330,
          11220,
          12520,
          14110,
          12930,
          11750,
          11310,
          10470,
          9630,
          9620,
          9830,
          10040,
          9280,
          4140,
          4260,
          3390,
          2910,
          2840,
          2940,
          3030,
          2970,
          2830,
          2640,
          2410,
          2390,
          2380,
          2400,
          2240,
          2080,
          2050,
          41090,
          39490,
          36940,
          38670,
          35250,
          31990,
          28720,
          28390,
          29630,
          30890,
          32140,
          29610,
          27080,
          26430,
          26010,
          25730,
          26940,
          44260,
          41610,
          40150,
          29870,
          27800,
          27130,
          26460,
          25800,
          25240,
          24790,
          24430,
          22840,
          21250,
          21280,
          20370,
          19470,
          18880,
          62770,
          54530,
          47430,
          45710,
          39930,
          37530,
          35780,
          36050,
          33410,
          30770,
          29270,
          28780,
          28420,
          28130,
          27290,
          26460,
          26130,
          17400,
          15090,
          13950,
          13940,
          13370,
          13420,
          13480,
          12580,
          11780,
          11120,
          10690,
          10130,
          9570,
          9230,
          9360,
          9590,
          10100,
          6480,
          8830,
          9020,
          9060,
          7930,
          7880,
          7850,
          8210,
          7640,
          7070,
          6700,
          6280,
          5860,
          5540,
          5300,
          5100,
          4930,
          23940,
          19870,
          16050,
          17410,
          14900,
          15070,
          15250,
          15160,
          13550,
          11930,
          11510,
          11080,
          10610,
          9180,
          9640,
          10100,
          9690,
          2350,
          2810,
          2430,
          2220,
          2020,
          2070,
          2110,
          2040,
          2000,
          1980,
          1990,
          1820,
          1660,
          1520,
          1530,
          1540,
          1510,
          5490,
          4950,
          3930,
          3920,
          2990,
          2690,
          2500,
          2850,
          2630,
          2410,
          2550,
          2510,
          2440,
          2360,
          2260,
          2170,
          2250,
          9450,
          12400,
          14080,
          12880,
          12990,
          13320,
          13630,
          13020,
          12790,
          12570,
          11960,
          10750,
          9550,
          10840,
          10150,
          9460,
          9620,
          5940,
          4490,
          4670,
          4020,
          3060,
          3030,
          2990,
          2860,
          2840,
          2830,
          2880,
          2610,
          2340,
          2530,
          2480,
          2410,
          2330,
          66300,
          58420,
          64230,
          66110,
          60330,
          58030,
          55740,
          54730,
          51930,
          49130,
          46670,
          44680,
          43340,
          43990,
          45680,
          47370,
          47010,
          8180,
          7780,
          6560,
          6890,
          6690,
          7020,
          7350,
          6730,
          6420,
          6110,
          5520,
          4860,
          4190,
          4030,
          4120,
          4210,
          3830,
          179830,
          191100,
          164080,
          161160,
          152340,
          148030,
          144390,
          149070,
          144390,
          139700,
          136280,
          126630,
          116970,
          117580,
          113350,
          108350,
          103060,
          38120,
          34000,
          31070,
          33620,
          29730,
          29970,
          30220,
          29000,
          28340,
          27670,
          25080,
          25960,
          26850,
          26410,
          24870,
          23320,
          25060,
          1510,
          1190,
          1050,
          940,
          890,
          900,
          910,
          1010,
          1000,
          980,
          940,
          920,
          900,
          1020,
          990,
          960,
          970,
          50780,
          46190,
          41320,
          38090,
          33140,
          32880,
          32620,
          32370,
          30760,
          29140,
          27930,
          26200,
          24470,
          23220,
          21980,
          20790,
          20560,
          12240,
          9080,
          8490,
          7780,
          7420,
          7450,
          7480,
          7500,
          7060,
          6510,
          5910,
          5830,
          5760,
          5210,
          4800,
          4550,
          4780,
          14850,
          14620,
          13540,
          15270,
          11900,
          12150,
          12410,
          11800,
          11020,
          10250,
          10020,
          9310,
          8600,
          8760,
          8950,
          9140,
          8950,
          53050,
          50720,
          42080,
          39670,
          38110,
          39770,
          42550,
          46670,
          44820,
          42250,
          39200,
          36560,
          34580,
          34230,
          34550,
          34870,
          33910,
          5800,
          5830,
          5290,
          4900,
          4680,
          4550,
          4420,
          4340,
          4100,
          3850,
          3690,
          3410,
          3130,
          3220,
          3290,
          3340,
          3280,
          16440,
          14410,
          12450,
          12120,
          13320,
          13590,
          13750,
          13200,
          13050,
          12900,
          11580,
          11440,
          11300,
          10940,
          10930,
          10920,
          11380,
          1420,
          1340,
          1200,
          1020,
          980,
          970,
          960,
          970,
          900,
          840,
          850,
          840,
          830,
          810,
          770,
          730,
          750,
          20060,
          19110,
          16690,
          17270,
          15520,
          15550,
          15590,
          16210,
          15290,
          14370,
          13670,
          13210,
          12760,
          12300,
          11770,
          11230,
          11060,
          97450,
          94590,
          88250,
          87110,
          84560,
          82540,
          80510,
          82690,
          81060,
          78130,
          72140,
          69520,
          66910,
          56400,
          55690,
          55100,
          56340,
          744610,
          898570,
          1034170,
          1179300,
          1316700,
          1409600,
          1497670,
          1553890,
          1577340,
          1573920,
          1575000,
          1577180,
          1588550,
          1574000,
          1559110,
          1590750,
          1566870,
          1608620,
          1556510,
          1528930,
          1495000,
          1423000,
          1359440,
          1360160,
          1335000,
          1319000,
          1314790,
          1312990,
          1291000,
          1269000,
          1250000,
          1222100,
          1206200,
          1242000,
          1209640,
          1212350,
          1151600,
          1102670,
          1058490,
          1011070,
          958700,
          926190,
          899270,
          874080,
          862320,
          4590,
          3800,
          3850,
          3500,
          3610,
          3780,
          3940,
          3880,
          3690,
          3470,
          3240,
          3210,
          3170,
          2960,
          3010,
          3050,
          3020,
          2920,
          2160,
          2050,
          1510,
          1810,
          1760,
          1720,
          1730,
          1670,
          1600,
          1610,
          1560,
          1490,
          1380,
          1320,
          1260,
          1140,
          40240,
          38130,
          32450,
          30690,
          30590,
          31670,
          32750,
          31360,
          30950,
          30550,
          29160,
          29510,
          29860,
          24590,
          23290,
          21990,
          20290,
          30890,
          33620,
          26960,
          26970,
          23680,
          24350,
          25030,
          24670,
          23530,
          22380,
          21830,
          20470,
          19100,
          19150,
          18340,
          17530,
          17760,
          4800,
          4460,
          3400,
          2930,
          2700,
          2880,
          3070,
          2680,
          3070,
          3460,
          3320,
          2800,
          2280,
          2280,
          2380,
          2490,
          2380,
          18580,
          16280,
          14980,
          12450,
          10920,
          10390,
          9870,
          9660,
          9420,
          9140,
          8660,
          8080,
          7510,
          7430,
          7360,
          7310,
          7540,
          1370,
          1390,
          1630,
          2090,
          1220,
          1200,
          1170,
          1060,
          1030,
          1010,
          1060,
          940,
          820,
          850,
          810,
          770,
          720
         ],
         "yaxis": "y"
        }
       ],
       "layout": {
        "legend": {
         "tracegroupgap": 0
        },
        "template": {
         "data": {
          "bar": [
           {
            "error_x": {
             "color": "#2a3f5f"
            },
            "error_y": {
             "color": "#2a3f5f"
            },
            "marker": {
             "line": {
              "color": "#E5ECF6",
              "width": 0.5
             },
             "pattern": {
              "fillmode": "overlay",
              "size": 10,
              "solidity": 0.2
             }
            },
            "type": "bar"
           }
          ],
          "barpolar": [
           {
            "marker": {
             "line": {
              "color": "#E5ECF6",
              "width": 0.5
             },
             "pattern": {
              "fillmode": "overlay",
              "size": 10,
              "solidity": 0.2
             }
            },
            "type": "barpolar"
           }
          ],
          "carpet": [
           {
            "aaxis": {
             "endlinecolor": "#2a3f5f",
             "gridcolor": "white",
             "linecolor": "white",
             "minorgridcolor": "white",
             "startlinecolor": "#2a3f5f"
            },
            "baxis": {
             "endlinecolor": "#2a3f5f",
             "gridcolor": "white",
             "linecolor": "white",
             "minorgridcolor": "white",
             "startlinecolor": "#2a3f5f"
            },
            "type": "carpet"
           }
          ],
          "choropleth": [
           {
            "colorbar": {
             "outlinewidth": 0,
             "ticks": ""
            },
            "type": "choropleth"
           }
          ],
          "contour": [
           {
            "colorbar": {
             "outlinewidth": 0,
             "ticks": ""
            },
            "colorscale": [
             [
              0,
              "#0d0887"
             ],
             [
              0.1111111111111111,
              "#46039f"
             ],
             [
              0.2222222222222222,
              "#7201a8"
             ],
             [
              0.3333333333333333,
              "#9c179e"
             ],
             [
              0.4444444444444444,
              "#bd3786"
             ],
             [
              0.5555555555555556,
              "#d8576b"
             ],
             [
              0.6666666666666666,
              "#ed7953"
             ],
             [
              0.7777777777777778,
              "#fb9f3a"
             ],
             [
              0.8888888888888888,
              "#fdca26"
             ],
             [
              1,
              "#f0f921"
             ]
            ],
            "type": "contour"
           }
          ],
          "contourcarpet": [
           {
            "colorbar": {
             "outlinewidth": 0,
             "ticks": ""
            },
            "type": "contourcarpet"
           }
          ],
          "heatmap": [
           {
            "colorbar": {
             "outlinewidth": 0,
             "ticks": ""
            },
            "colorscale": [
             [
              0,
              "#0d0887"
             ],
             [
              0.1111111111111111,
              "#46039f"
             ],
             [
              0.2222222222222222,
              "#7201a8"
             ],
             [
              0.3333333333333333,
              "#9c179e"
             ],
             [
              0.4444444444444444,
              "#bd3786"
             ],
             [
              0.5555555555555556,
              "#d8576b"
             ],
             [
              0.6666666666666666,
              "#ed7953"
             ],
             [
              0.7777777777777778,
              "#fb9f3a"
             ],
             [
              0.8888888888888888,
              "#fdca26"
             ],
             [
              1,
              "#f0f921"
             ]
            ],
            "type": "heatmap"
           }
          ],
          "heatmapgl": [
           {
            "colorbar": {
             "outlinewidth": 0,
             "ticks": ""
            },
            "colorscale": [
             [
              0,
              "#0d0887"
             ],
             [
              0.1111111111111111,
              "#46039f"
             ],
             [
              0.2222222222222222,
              "#7201a8"
             ],
             [
              0.3333333333333333,
              "#9c179e"
             ],
             [
              0.4444444444444444,
              "#bd3786"
             ],
             [
              0.5555555555555556,
              "#d8576b"
             ],
             [
              0.6666666666666666,
              "#ed7953"
             ],
             [
              0.7777777777777778,
              "#fb9f3a"
             ],
             [
              0.8888888888888888,
              "#fdca26"
             ],
             [
              1,
              "#f0f921"
             ]
            ],
            "type": "heatmapgl"
           }
          ],
          "histogram": [
           {
            "marker": {
             "pattern": {
              "fillmode": "overlay",
              "size": 10,
              "solidity": 0.2
             }
            },
            "type": "histogram"
           }
          ],
          "histogram2d": [
           {
            "colorbar": {
             "outlinewidth": 0,
             "ticks": ""
            },
            "colorscale": [
             [
              0,
              "#0d0887"
             ],
             [
              0.1111111111111111,
              "#46039f"
             ],
             [
              0.2222222222222222,
              "#7201a8"
             ],
             [
              0.3333333333333333,
              "#9c179e"
             ],
             [
              0.4444444444444444,
              "#bd3786"
             ],
             [
              0.5555555555555556,
              "#d8576b"
             ],
             [
              0.6666666666666666,
              "#ed7953"
             ],
             [
              0.7777777777777778,
              "#fb9f3a"
             ],
             [
              0.8888888888888888,
              "#fdca26"
             ],
             [
              1,
              "#f0f921"
             ]
            ],
            "type": "histogram2d"
           }
          ],
          "histogram2dcontour": [
           {
            "colorbar": {
             "outlinewidth": 0,
             "ticks": ""
            },
            "colorscale": [
             [
              0,
              "#0d0887"
             ],
             [
              0.1111111111111111,
              "#46039f"
             ],
             [
              0.2222222222222222,
              "#7201a8"
             ],
             [
              0.3333333333333333,
              "#9c179e"
             ],
             [
              0.4444444444444444,
              "#bd3786"
             ],
             [
              0.5555555555555556,
              "#d8576b"
             ],
             [
              0.6666666666666666,
              "#ed7953"
             ],
             [
              0.7777777777777778,
              "#fb9f3a"
             ],
             [
              0.8888888888888888,
              "#fdca26"
             ],
             [
              1,
              "#f0f921"
             ]
            ],
            "type": "histogram2dcontour"
           }
          ],
          "mesh3d": [
           {
            "colorbar": {
             "outlinewidth": 0,
             "ticks": ""
            },
            "type": "mesh3d"
           }
          ],
          "parcoords": [
           {
            "line": {
             "colorbar": {
              "outlinewidth": 0,
              "ticks": ""
             }
            },
            "type": "parcoords"
           }
          ],
          "pie": [
           {
            "automargin": true,
            "type": "pie"
           }
          ],
          "scatter": [
           {
            "fillpattern": {
             "fillmode": "overlay",
             "size": 10,
             "solidity": 0.2
            },
            "type": "scatter"
           }
          ],
          "scatter3d": [
           {
            "line": {
             "colorbar": {
              "outlinewidth": 0,
              "ticks": ""
             }
            },
            "marker": {
             "colorbar": {
              "outlinewidth": 0,
              "ticks": ""
             }
            },
            "type": "scatter3d"
           }
          ],
          "scattercarpet": [
           {
            "marker": {
             "colorbar": {
              "outlinewidth": 0,
              "ticks": ""
             }
            },
            "type": "scattercarpet"
           }
          ],
          "scattergeo": [
           {
            "marker": {
             "colorbar": {
              "outlinewidth": 0,
              "ticks": ""
             }
            },
            "type": "scattergeo"
           }
          ],
          "scattergl": [
           {
            "marker": {
             "colorbar": {
              "outlinewidth": 0,
              "ticks": ""
             }
            },
            "type": "scattergl"
           }
          ],
          "scattermapbox": [
           {
            "marker": {
             "colorbar": {
              "outlinewidth": 0,
              "ticks": ""
             }
            },
            "type": "scattermapbox"
           }
          ],
          "scatterpolar": [
           {
            "marker": {
             "colorbar": {
              "outlinewidth": 0,
              "ticks": ""
             }
            },
            "type": "scatterpolar"
           }
          ],
          "scatterpolargl": [
           {
            "marker": {
             "colorbar": {
              "outlinewidth": 0,
              "ticks": ""
             }
            },
            "type": "scatterpolargl"
           }
          ],
          "scatterternary": [
           {
            "marker": {
             "colorbar": {
              "outlinewidth": 0,
              "ticks": ""
             }
            },
            "type": "scatterternary"
           }
          ],
          "surface": [
           {
            "colorbar": {
             "outlinewidth": 0,
             "ticks": ""
            },
            "colorscale": [
             [
              0,
              "#0d0887"
             ],
             [
              0.1111111111111111,
              "#46039f"
             ],
             [
              0.2222222222222222,
              "#7201a8"
             ],
             [
              0.3333333333333333,
              "#9c179e"
             ],
             [
              0.4444444444444444,
              "#bd3786"
             ],
             [
              0.5555555555555556,
              "#d8576b"
             ],
             [
              0.6666666666666666,
              "#ed7953"
             ],
             [
              0.7777777777777778,
              "#fb9f3a"
             ],
             [
              0.8888888888888888,
              "#fdca26"
             ],
             [
              1,
              "#f0f921"
             ]
            ],
            "type": "surface"
           }
          ],
          "table": [
           {
            "cells": {
             "fill": {
              "color": "#EBF0F8"
             },
             "line": {
              "color": "white"
             }
            },
            "header": {
             "fill": {
              "color": "#C8D4E3"
             },
             "line": {
              "color": "white"
             }
            },
            "type": "table"
           }
          ]
         },
         "layout": {
          "annotationdefaults": {
           "arrowcolor": "#2a3f5f",
           "arrowhead": 0,
           "arrowwidth": 1
          },
          "autotypenumbers": "strict",
          "coloraxis": {
           "colorbar": {
            "outlinewidth": 0,
            "ticks": ""
           }
          },
          "colorscale": {
           "diverging": [
            [
             0,
             "#8e0152"
            ],
            [
             0.1,
             "#c51b7d"
            ],
            [
             0.2,
             "#de77ae"
            ],
            [
             0.3,
             "#f1b6da"
            ],
            [
             0.4,
             "#fde0ef"
            ],
            [
             0.5,
             "#f7f7f7"
            ],
            [
             0.6,
             "#e6f5d0"
            ],
            [
             0.7,
             "#b8e186"
            ],
            [
             0.8,
             "#7fbc41"
            ],
            [
             0.9,
             "#4d9221"
            ],
            [
             1,
             "#276419"
            ]
           ],
           "sequential": [
            [
             0,
             "#0d0887"
            ],
            [
             0.1111111111111111,
             "#46039f"
            ],
            [
             0.2222222222222222,
             "#7201a8"
            ],
            [
             0.3333333333333333,
             "#9c179e"
            ],
            [
             0.4444444444444444,
             "#bd3786"
            ],
            [
             0.5555555555555556,
             "#d8576b"
            ],
            [
             0.6666666666666666,
             "#ed7953"
            ],
            [
             0.7777777777777778,
             "#fb9f3a"
            ],
            [
             0.8888888888888888,
             "#fdca26"
            ],
            [
             1,
             "#f0f921"
            ]
           ],
           "sequentialminus": [
            [
             0,
             "#0d0887"
            ],
            [
             0.1111111111111111,
             "#46039f"
            ],
            [
             0.2222222222222222,
             "#7201a8"
            ],
            [
             0.3333333333333333,
             "#9c179e"
            ],
            [
             0.4444444444444444,
             "#bd3786"
            ],
            [
             0.5555555555555556,
             "#d8576b"
            ],
            [
             0.6666666666666666,
             "#ed7953"
            ],
            [
             0.7777777777777778,
             "#fb9f3a"
            ],
            [
             0.8888888888888888,
             "#fdca26"
            ],
            [
             1,
             "#f0f921"
            ]
           ]
          },
          "colorway": [
           "#636efa",
           "#EF553B",
           "#00cc96",
           "#ab63fa",
           "#FFA15A",
           "#19d3f3",
           "#FF6692",
           "#B6E880",
           "#FF97FF",
           "#FECB52"
          ],
          "font": {
           "color": "#2a3f5f"
          },
          "geo": {
           "bgcolor": "white",
           "lakecolor": "white",
           "landcolor": "#E5ECF6",
           "showlakes": true,
           "showland": true,
           "subunitcolor": "white"
          },
          "hoverlabel": {
           "align": "left"
          },
          "hovermode": "closest",
          "mapbox": {
           "style": "light"
          },
          "paper_bgcolor": "white",
          "plot_bgcolor": "#E5ECF6",
          "polar": {
           "angularaxis": {
            "gridcolor": "white",
            "linecolor": "white",
            "ticks": ""
           },
           "bgcolor": "#E5ECF6",
           "radialaxis": {
            "gridcolor": "white",
            "linecolor": "white",
            "ticks": ""
           }
          },
          "scene": {
           "xaxis": {
            "backgroundcolor": "#E5ECF6",
            "gridcolor": "white",
            "gridwidth": 2,
            "linecolor": "white",
            "showbackground": true,
            "ticks": "",
            "zerolinecolor": "white"
           },
           "yaxis": {
            "backgroundcolor": "#E5ECF6",
            "gridcolor": "white",
            "gridwidth": 2,
            "linecolor": "white",
            "showbackground": true,
            "ticks": "",
            "zerolinecolor": "white"
           },
           "zaxis": {
            "backgroundcolor": "#E5ECF6",
            "gridcolor": "white",
            "gridwidth": 2,
            "linecolor": "white",
            "showbackground": true,
            "ticks": "",
            "zerolinecolor": "white"
           }
          },
          "shapedefaults": {
           "line": {
            "color": "#2a3f5f"
           }
          },
          "ternary": {
           "aaxis": {
            "gridcolor": "white",
            "linecolor": "white",
            "ticks": ""
           },
           "baxis": {
            "gridcolor": "white",
            "linecolor": "white",
            "ticks": ""
           },
           "bgcolor": "#E5ECF6",
           "caxis": {
            "gridcolor": "white",
            "linecolor": "white",
            "ticks": ""
           }
          },
          "title": {
           "x": 0.05
          },
          "xaxis": {
           "automargin": true,
           "gridcolor": "white",
           "linecolor": "white",
           "ticks": "",
           "title": {
            "standoff": 15
           },
           "zerolinecolor": "white",
           "zerolinewidth": 2
          },
          "yaxis": {
           "automargin": true,
           "gridcolor": "white",
           "linecolor": "white",
           "ticks": "",
           "title": {
            "standoff": 15
           },
           "zerolinecolor": "white",
           "zerolinewidth": 2
          }
         }
        },
        "title": {
         "text": "Banning Abortions Volume"
        },
        "xaxis": {
         "anchor": "y",
         "domain": [
          0,
          1
         ],
         "dtick": 1,
         "tick0": 0.2,
         "tickmode": "array",
         "title": {
          "text": "year"
         }
        },
        "yaxis": {
         "anchor": "x",
         "domain": [
          0,
          1
         ],
         "title": {
          "text": "abortionstotal"
         }
        }
       }
      },
      "text/html": [
       "<div>                            <div id=\"0cdcbf7f-71ad-43bf-84fa-81ccbd61c852\" class=\"plotly-graph-div\" style=\"height:525px; width:100%;\"></div>            <script type=\"text/javascript\">                require([\"plotly\"], function(Plotly) {                    window.PLOTLYENV=window.PLOTLYENV || {};                                    if (document.getElementById(\"0cdcbf7f-71ad-43bf-84fa-81ccbd61c852\")) {                    Plotly.newPlot(                        \"0cdcbf7f-71ad-43bf-84fa-81ccbd61c852\",                        [{\"hovertemplate\":\"year=%{x}<br>abortionstotal=%{y}<extra></extra>\",\"legendgroup\":\"\",\"marker\":{\"color\":\"#636efa\",\"symbol\":\"circle\"},\"mode\":\"markers\",\"name\":\"\",\"orientation\":\"v\",\"showlegend\":false,\"x\":[1988,1992,1996,2000,2005,2006,2007,2008,2009,2010,2011,2012,2013,2014,2015,2016,2017,1988,1992,1996,2000,2005,2006,2007,2008,2009,2010,2011,2012,2013,2014,2015,2016,2017,1988,1992,1996,2000,2005,2006,2007,2008,2009,2010,2011,2012,2013,2014,2015,2016,2017,1988,1992,1996,2000,2005,2006,2007,2008,2009,2010,2011,2012,2013,2014,2015,2016,2017,1988,1992,1996,2000,2005,2006,2007,2008,2009,2010,2011,2012,2013,2014,2015,2016,2017,1988,1992,1996,2000,2005,2006,2007,2008,2009,2010,2011,2012,2013,2014,2015,2016,2017,1988,1992,1996,2000,2005,2006,2007,2008,2009,2010,2011,2012,2013,2014,2015,2016,2017,1988,1992,1996,2000,2005,2006,2007,2008,2009,2010,2011,2012,2013,2014,2015,2016,2017,1988,1992,1996,2000,2005,2006,2007,2008,2009,2010,2011,2012,2013,2014,2015,2016,2017,1988,1992,1996,2000,2005,2006,2007,2008,2009,2010,2011,2012,2013,2014,2015,2016,2017,1988,1992,1996,2000,2005,2006,2007,2008,2009,2010,2011,2012,2013,2014,2015,2016,2017,1988,1992,1996,2000,2005,2006,2007,2008,2009,2010,2011,2012,2013,2014,2015,2016,2017,1988,1992,1996,2000,2005,2006,2007,2008,2009,2010,2011,2012,2013,2014,2015,2016,2017,1988,1992,1996,2000,2005,2006,2007,2008,2009,2010,2011,2012,2013,2014,2015,2016,2017,1988,1992,1996,2000,2005,2006,2007,2008,2009,2010,2011,2012,2013,2014,2015,2016,2017,1988,1992,1996,2000,2005,2006,2007,2008,2009,2010,2011,2012,2013,2014,2015,2016,2017,1988,1992,1996,2000,2005,2006,2007,2008,2009,2010,2011,2012,2013,2014,2015,2016,2017,1988,1992,1996,2000,2005,2006,2007,2008,2009,2010,2011,2012,2013,2014,2015,2016,2017,1988,1992,1996,2000,2005,2006,2007,2008,2009,2010,2011,2012,2013,2014,2015,2016,2017,1988,1992,1996,2000,2005,2006,2007,2008,2009,2010,2011,2012,2013,2014,2015,2016,2017,1988,1992,1996,2000,2005,2006,2007,2008,2009,2010,2011,2012,2013,2014,2015,2016,2017,1988,1992,1996,2000,2005,2006,2007,2008,2009,2010,2011,2012,2013,2014,2015,2016,2017,1988,1992,1996,2000,2005,2006,2007,2008,2009,2010,2011,2012,2013,2014,2015,2016,2017,1988,1992,1996,2000,2005,2006,2007,2008,2009,2010,2011,2012,2013,2014,2015,2016,2017,1988,1992,1996,2000,2005,2006,2007,2008,2009,2010,2011,2012,2013,2014,2015,2016,2017,1988,1992,1996,2000,2005,2006,2007,2008,2009,2010,2011,2012,2013,2014,2015,2016,2017,1988,1992,1996,2000,2005,2006,2007,2008,2009,2010,2011,2012,2013,2014,2015,2016,2017,1988,1992,1996,2000,2005,2006,2007,2008,2009,2010,2011,2012,2013,2014,2015,2016,2017,1988,1992,1996,2000,2005,2006,2007,2008,2009,2010,2011,2012,2013,2014,2015,2016,2017,1988,1992,1996,2000,2005,2006,2007,2008,2009,2010,2011,2012,2013,2014,2015,2016,2017,1988,1992,1996,2000,2005,2006,2007,2008,2009,2010,2011,2012,2013,2014,2015,2016,2017,1988,1992,1996,2000,2005,2006,2007,2008,2009,2010,2011,2012,2013,2014,2015,2016,2017,1988,1992,1996,2000,2005,2006,2007,2008,2009,2010,2011,2012,2013,2014,2015,2016,2017,1988,1992,1996,2000,2005,2006,2007,2008,2009,2010,2011,2012,2013,2014,2015,2016,2017,1988,1992,1996,2000,2005,2006,2007,2008,2009,2010,2011,2012,2013,2014,2015,2016,2017,1988,1992,1996,2000,2005,2006,2007,2008,2009,2010,2011,2012,2013,2014,2015,2016,2017,1988,1992,1996,2000,2005,2006,2007,2008,2009,2010,2011,2012,2013,2014,2015,2016,2017,1988,1992,1996,2000,2005,2006,2007,2008,2009,2010,2011,2012,2013,2014,2015,2016,2017,1988,1992,1996,2000,2005,2006,2007,2008,2009,2010,2011,2012,2013,2014,2015,2016,2017,1988,1992,1996,2000,2005,2006,2007,2008,2009,2010,2011,2012,2013,2014,2015,2016,2017,1988,1992,1996,2000,2005,2006,2007,2008,2009,2010,2011,2012,2013,2014,2015,2016,2017,1988,1992,1996,2000,2005,2006,2007,2008,2009,2010,2011,2012,2013,2014,2015,2016,2017,1988,1992,1996,2000,2005,2006,2007,2008,2009,2010,2011,2012,2013,2014,2015,2016,2017,1988,1992,1996,2000,2005,2006,2007,2008,2009,2010,2011,2012,2013,2014,2015,2016,2017,1973,1974,1975,1976,1977,1978,1979,1980,1981,1982,1983,1984,1985,1986,1987,1988,1989,1990,1991,1992,1993,1994,1995,1996,1997,1998,1999,2000,2001,2002,2003,2004,2005,2006,2007,2008,2009,2010,2011,2012,2013,2014,2015,2016,2017,1988,1992,1996,2000,2005,2006,2007,2008,2009,2010,2011,2012,2013,2014,2015,2016,2017,1988,1992,1996,2000,2005,2006,2007,2008,2009,2010,2011,2012,2013,2014,2015,2016,2017,1988,1992,1996,2000,2005,2006,2007,2008,2009,2010,2011,2012,2013,2014,2015,2016,2017,1988,1992,1996,2000,2005,2006,2007,2008,2009,2010,2011,2012,2013,2014,2015,2016,2017,1988,1992,1996,2000,2005,2006,2007,2008,2009,2010,2011,2012,2013,2014,2015,2016,2017,1988,1992,1996,2000,2005,2006,2007,2008,2009,2010,2011,2012,2013,2014,2015,2016,2017,1988,1992,1996,2000,2005,2006,2007,2008,2009,2010,2011,2012,2013,2014,2015,2016,2017],\"xaxis\":\"x\",\"y\":[20100,17720,14940,13060,10840,10980,11130,11020,10530,10030,9600,8920,8230,8310,8150,7920,7660,2700,2800,2310,1900,2130,2060,2000,1960,2040,2120,2030,1890,1740,1640,1540,1450,1420,22200,21200,20120,18410,19710,18850,17990,19770,17480,15190,16270,15040,13820,13240,13640,14040,13270,7860,8690,6680,5880,5200,5450,5690,5710,5630,5490,5210,5010,4810,4350,3930,3590,3710,311440,303850,237870,235670,206260,213550,220840,211930,200720,189110,177360,170420,163550,156690,148000,139320,131380,17550,18410,16670,12950,14720,14990,15160,14920,14330,13730,13130,12400,11660,11760,11410,11050,11100,24470,20100,16510,15460,17340,17580,17730,17210,16350,15480,14630,13900,13360,13280,12770,12260,11950,4570,4620,2970,3920,4140,4990,5850,5650,5520,5380,4690,4010,3340,3200,3040,2880,2770,13830,11040,5620,5750,6390,5900,5400,5880,4970,4060,3400,3570,3740,3800,3330,2870,3930,75820,77320,90160,96000,85360,86980,88600,86310,84150,82020,79890,76730,73560,72630,69390,66150,68640,35320,39970,35230,32270,32040,32690,33680,39370,37260,35160,34460,33620,32550,31120,31750,32390,32520,11120,12180,6930,5630,5330,5490,5650,5650,5590,5530,5540,4900,4260,3750,3370,3130,3220,2760,2420,2450,2750,2540,2700,2860,2580,2490,2410,2340,2090,1850,1790,1780,1780,1790,72500,66500,66920,58370,48420,48560,48710,51670,47020,42370,42360,42020,41430,40120,38830,37590,37770,20930,21170,18340,15140,13180,12810,12440,12300,12020,11600,10710,10200,9910,10130,10190,10240,10270,10480,7480,6150,6280,6130,6390,6660,6160,6010,5860,5430,4790,4150,3930,3990,4050,3650,7210,7140,6940,6440,5620,5670,5720,5670,4830,3990,3870,3910,3940,3800,3660,3520,3520,10090,9850,7890,6720,6060,6080,6110,6380,6170,5960,5820,5500,5180,5180,4910,4640,4780,17030,11800,13110,11380,10330,11220,12520,14110,12930,11750,11310,10470,9630,9620,9830,10040,9280,4140,4260,3390,2910,2840,2940,3030,2970,2830,2640,2410,2390,2380,2400,2240,2080,2050,41090,39490,36940,38670,35250,31990,28720,28390,29630,30890,32140,29610,27080,26430,26010,25730,26940,44260,41610,40150,29870,27800,27130,26460,25800,25240,24790,24430,22840,21250,21280,20370,19470,18880,62770,54530,47430,45710,39930,37530,35780,36050,33410,30770,29270,28780,28420,28130,27290,26460,26130,17400,15090,13950,13940,13370,13420,13480,12580,11780,11120,10690,10130,9570,9230,9360,9590,10100,6480,8830,9020,9060,7930,7880,7850,8210,7640,7070,6700,6280,5860,5540,5300,5100,4930,23940,19870,16050,17410,14900,15070,15250,15160,13550,11930,11510,11080,10610,9180,9640,10100,9690,2350,2810,2430,2220,2020,2070,2110,2040,2000,1980,1990,1820,1660,1520,1530,1540,1510,5490,4950,3930,3920,2990,2690,2500,2850,2630,2410,2550,2510,2440,2360,2260,2170,2250,9450,12400,14080,12880,12990,13320,13630,13020,12790,12570,11960,10750,9550,10840,10150,9460,9620,5940,4490,4670,4020,3060,3030,2990,2860,2840,2830,2880,2610,2340,2530,2480,2410,2330,66300,58420,64230,66110,60330,58030,55740,54730,51930,49130,46670,44680,43340,43990,45680,47370,47010,8180,7780,6560,6890,6690,7020,7350,6730,6420,6110,5520,4860,4190,4030,4120,4210,3830,179830,191100,164080,161160,152340,148030,144390,149070,144390,139700,136280,126630,116970,117580,113350,108350,103060,38120,34000,31070,33620,29730,29970,30220,29000,28340,27670,25080,25960,26850,26410,24870,23320,25060,1510,1190,1050,940,890,900,910,1010,1000,980,940,920,900,1020,990,960,970,50780,46190,41320,38090,33140,32880,32620,32370,30760,29140,27930,26200,24470,23220,21980,20790,20560,12240,9080,8490,7780,7420,7450,7480,7500,7060,6510,5910,5830,5760,5210,4800,4550,4780,14850,14620,13540,15270,11900,12150,12410,11800,11020,10250,10020,9310,8600,8760,8950,9140,8950,53050,50720,42080,39670,38110,39770,42550,46670,44820,42250,39200,36560,34580,34230,34550,34870,33910,5800,5830,5290,4900,4680,4550,4420,4340,4100,3850,3690,3410,3130,3220,3290,3340,3280,16440,14410,12450,12120,13320,13590,13750,13200,13050,12900,11580,11440,11300,10940,10930,10920,11380,1420,1340,1200,1020,980,970,960,970,900,840,850,840,830,810,770,730,750,20060,19110,16690,17270,15520,15550,15590,16210,15290,14370,13670,13210,12760,12300,11770,11230,11060,97450,94590,88250,87110,84560,82540,80510,82690,81060,78130,72140,69520,66910,56400,55690,55100,56340,744610,898570,1034170,1179300,1316700,1409600,1497670,1553890,1577340,1573920,1575000,1577180,1588550,1574000,1559110,1590750,1566870,1608620,1556510,1528930,1495000,1423000,1359440,1360160,1335000,1319000,1314790,1312990,1291000,1269000,1250000,1222100,1206200,1242000,1209640,1212350,1151600,1102670,1058490,1011070,958700,926190,899270,874080,862320,4590,3800,3850,3500,3610,3780,3940,3880,3690,3470,3240,3210,3170,2960,3010,3050,3020,2920,2160,2050,1510,1810,1760,1720,1730,1670,1600,1610,1560,1490,1380,1320,1260,1140,40240,38130,32450,30690,30590,31670,32750,31360,30950,30550,29160,29510,29860,24590,23290,21990,20290,30890,33620,26960,26970,23680,24350,25030,24670,23530,22380,21830,20470,19100,19150,18340,17530,17760,4800,4460,3400,2930,2700,2880,3070,2680,3070,3460,3320,2800,2280,2280,2380,2490,2380,18580,16280,14980,12450,10920,10390,9870,9660,9420,9140,8660,8080,7510,7430,7360,7310,7540,1370,1390,1630,2090,1220,1200,1170,1060,1030,1010,1060,940,820,850,810,770,720],\"yaxis\":\"y\",\"type\":\"scatter\"}],                        {\"template\":{\"data\":{\"histogram2dcontour\":[{\"type\":\"histogram2dcontour\",\"colorbar\":{\"outlinewidth\":0,\"ticks\":\"\"},\"colorscale\":[[0.0,\"#0d0887\"],[0.1111111111111111,\"#46039f\"],[0.2222222222222222,\"#7201a8\"],[0.3333333333333333,\"#9c179e\"],[0.4444444444444444,\"#bd3786\"],[0.5555555555555556,\"#d8576b\"],[0.6666666666666666,\"#ed7953\"],[0.7777777777777778,\"#fb9f3a\"],[0.8888888888888888,\"#fdca26\"],[1.0,\"#f0f921\"]]}],\"choropleth\":[{\"type\":\"choropleth\",\"colorbar\":{\"outlinewidth\":0,\"ticks\":\"\"}}],\"histogram2d\":[{\"type\":\"histogram2d\",\"colorbar\":{\"outlinewidth\":0,\"ticks\":\"\"},\"colorscale\":[[0.0,\"#0d0887\"],[0.1111111111111111,\"#46039f\"],[0.2222222222222222,\"#7201a8\"],[0.3333333333333333,\"#9c179e\"],[0.4444444444444444,\"#bd3786\"],[0.5555555555555556,\"#d8576b\"],[0.6666666666666666,\"#ed7953\"],[0.7777777777777778,\"#fb9f3a\"],[0.8888888888888888,\"#fdca26\"],[1.0,\"#f0f921\"]]}],\"heatmap\":[{\"type\":\"heatmap\",\"colorbar\":{\"outlinewidth\":0,\"ticks\":\"\"},\"colorscale\":[[0.0,\"#0d0887\"],[0.1111111111111111,\"#46039f\"],[0.2222222222222222,\"#7201a8\"],[0.3333333333333333,\"#9c179e\"],[0.4444444444444444,\"#bd3786\"],[0.5555555555555556,\"#d8576b\"],[0.6666666666666666,\"#ed7953\"],[0.7777777777777778,\"#fb9f3a\"],[0.8888888888888888,\"#fdca26\"],[1.0,\"#f0f921\"]]}],\"heatmapgl\":[{\"type\":\"heatmapgl\",\"colorbar\":{\"outlinewidth\":0,\"ticks\":\"\"},\"colorscale\":[[0.0,\"#0d0887\"],[0.1111111111111111,\"#46039f\"],[0.2222222222222222,\"#7201a8\"],[0.3333333333333333,\"#9c179e\"],[0.4444444444444444,\"#bd3786\"],[0.5555555555555556,\"#d8576b\"],[0.6666666666666666,\"#ed7953\"],[0.7777777777777778,\"#fb9f3a\"],[0.8888888888888888,\"#fdca26\"],[1.0,\"#f0f921\"]]}],\"contourcarpet\":[{\"type\":\"contourcarpet\",\"colorbar\":{\"outlinewidth\":0,\"ticks\":\"\"}}],\"contour\":[{\"type\":\"contour\",\"colorbar\":{\"outlinewidth\":0,\"ticks\":\"\"},\"colorscale\":[[0.0,\"#0d0887\"],[0.1111111111111111,\"#46039f\"],[0.2222222222222222,\"#7201a8\"],[0.3333333333333333,\"#9c179e\"],[0.4444444444444444,\"#bd3786\"],[0.5555555555555556,\"#d8576b\"],[0.6666666666666666,\"#ed7953\"],[0.7777777777777778,\"#fb9f3a\"],[0.8888888888888888,\"#fdca26\"],[1.0,\"#f0f921\"]]}],\"surface\":[{\"type\":\"surface\",\"colorbar\":{\"outlinewidth\":0,\"ticks\":\"\"},\"colorscale\":[[0.0,\"#0d0887\"],[0.1111111111111111,\"#46039f\"],[0.2222222222222222,\"#7201a8\"],[0.3333333333333333,\"#9c179e\"],[0.4444444444444444,\"#bd3786\"],[0.5555555555555556,\"#d8576b\"],[0.6666666666666666,\"#ed7953\"],[0.7777777777777778,\"#fb9f3a\"],[0.8888888888888888,\"#fdca26\"],[1.0,\"#f0f921\"]]}],\"mesh3d\":[{\"type\":\"mesh3d\",\"colorbar\":{\"outlinewidth\":0,\"ticks\":\"\"}}],\"scatter\":[{\"fillpattern\":{\"fillmode\":\"overlay\",\"size\":10,\"solidity\":0.2},\"type\":\"scatter\"}],\"parcoords\":[{\"type\":\"parcoords\",\"line\":{\"colorbar\":{\"outlinewidth\":0,\"ticks\":\"\"}}}],\"scatterpolargl\":[{\"type\":\"scatterpolargl\",\"marker\":{\"colorbar\":{\"outlinewidth\":0,\"ticks\":\"\"}}}],\"bar\":[{\"error_x\":{\"color\":\"#2a3f5f\"},\"error_y\":{\"color\":\"#2a3f5f\"},\"marker\":{\"line\":{\"color\":\"#E5ECF6\",\"width\":0.5},\"pattern\":{\"fillmode\":\"overlay\",\"size\":10,\"solidity\":0.2}},\"type\":\"bar\"}],\"scattergeo\":[{\"type\":\"scattergeo\",\"marker\":{\"colorbar\":{\"outlinewidth\":0,\"ticks\":\"\"}}}],\"scatterpolar\":[{\"type\":\"scatterpolar\",\"marker\":{\"colorbar\":{\"outlinewidth\":0,\"ticks\":\"\"}}}],\"histogram\":[{\"marker\":{\"pattern\":{\"fillmode\":\"overlay\",\"size\":10,\"solidity\":0.2}},\"type\":\"histogram\"}],\"scattergl\":[{\"type\":\"scattergl\",\"marker\":{\"colorbar\":{\"outlinewidth\":0,\"ticks\":\"\"}}}],\"scatter3d\":[{\"type\":\"scatter3d\",\"line\":{\"colorbar\":{\"outlinewidth\":0,\"ticks\":\"\"}},\"marker\":{\"colorbar\":{\"outlinewidth\":0,\"ticks\":\"\"}}}],\"scattermapbox\":[{\"type\":\"scattermapbox\",\"marker\":{\"colorbar\":{\"outlinewidth\":0,\"ticks\":\"\"}}}],\"scatterternary\":[{\"type\":\"scatterternary\",\"marker\":{\"colorbar\":{\"outlinewidth\":0,\"ticks\":\"\"}}}],\"scattercarpet\":[{\"type\":\"scattercarpet\",\"marker\":{\"colorbar\":{\"outlinewidth\":0,\"ticks\":\"\"}}}],\"carpet\":[{\"aaxis\":{\"endlinecolor\":\"#2a3f5f\",\"gridcolor\":\"white\",\"linecolor\":\"white\",\"minorgridcolor\":\"white\",\"startlinecolor\":\"#2a3f5f\"},\"baxis\":{\"endlinecolor\":\"#2a3f5f\",\"gridcolor\":\"white\",\"linecolor\":\"white\",\"minorgridcolor\":\"white\",\"startlinecolor\":\"#2a3f5f\"},\"type\":\"carpet\"}],\"table\":[{\"cells\":{\"fill\":{\"color\":\"#EBF0F8\"},\"line\":{\"color\":\"white\"}},\"header\":{\"fill\":{\"color\":\"#C8D4E3\"},\"line\":{\"color\":\"white\"}},\"type\":\"table\"}],\"barpolar\":[{\"marker\":{\"line\":{\"color\":\"#E5ECF6\",\"width\":0.5},\"pattern\":{\"fillmode\":\"overlay\",\"size\":10,\"solidity\":0.2}},\"type\":\"barpolar\"}],\"pie\":[{\"automargin\":true,\"type\":\"pie\"}]},\"layout\":{\"autotypenumbers\":\"strict\",\"colorway\":[\"#636efa\",\"#EF553B\",\"#00cc96\",\"#ab63fa\",\"#FFA15A\",\"#19d3f3\",\"#FF6692\",\"#B6E880\",\"#FF97FF\",\"#FECB52\"],\"font\":{\"color\":\"#2a3f5f\"},\"hovermode\":\"closest\",\"hoverlabel\":{\"align\":\"left\"},\"paper_bgcolor\":\"white\",\"plot_bgcolor\":\"#E5ECF6\",\"polar\":{\"bgcolor\":\"#E5ECF6\",\"angularaxis\":{\"gridcolor\":\"white\",\"linecolor\":\"white\",\"ticks\":\"\"},\"radialaxis\":{\"gridcolor\":\"white\",\"linecolor\":\"white\",\"ticks\":\"\"}},\"ternary\":{\"bgcolor\":\"#E5ECF6\",\"aaxis\":{\"gridcolor\":\"white\",\"linecolor\":\"white\",\"ticks\":\"\"},\"baxis\":{\"gridcolor\":\"white\",\"linecolor\":\"white\",\"ticks\":\"\"},\"caxis\":{\"gridcolor\":\"white\",\"linecolor\":\"white\",\"ticks\":\"\"}},\"coloraxis\":{\"colorbar\":{\"outlinewidth\":0,\"ticks\":\"\"}},\"colorscale\":{\"sequential\":[[0.0,\"#0d0887\"],[0.1111111111111111,\"#46039f\"],[0.2222222222222222,\"#7201a8\"],[0.3333333333333333,\"#9c179e\"],[0.4444444444444444,\"#bd3786\"],[0.5555555555555556,\"#d8576b\"],[0.6666666666666666,\"#ed7953\"],[0.7777777777777778,\"#fb9f3a\"],[0.8888888888888888,\"#fdca26\"],[1.0,\"#f0f921\"]],\"sequentialminus\":[[0.0,\"#0d0887\"],[0.1111111111111111,\"#46039f\"],[0.2222222222222222,\"#7201a8\"],[0.3333333333333333,\"#9c179e\"],[0.4444444444444444,\"#bd3786\"],[0.5555555555555556,\"#d8576b\"],[0.6666666666666666,\"#ed7953\"],[0.7777777777777778,\"#fb9f3a\"],[0.8888888888888888,\"#fdca26\"],[1.0,\"#f0f921\"]],\"diverging\":[[0,\"#8e0152\"],[0.1,\"#c51b7d\"],[0.2,\"#de77ae\"],[0.3,\"#f1b6da\"],[0.4,\"#fde0ef\"],[0.5,\"#f7f7f7\"],[0.6,\"#e6f5d0\"],[0.7,\"#b8e186\"],[0.8,\"#7fbc41\"],[0.9,\"#4d9221\"],[1,\"#276419\"]]},\"xaxis\":{\"gridcolor\":\"white\",\"linecolor\":\"white\",\"ticks\":\"\",\"title\":{\"standoff\":15},\"zerolinecolor\":\"white\",\"automargin\":true,\"zerolinewidth\":2},\"yaxis\":{\"gridcolor\":\"white\",\"linecolor\":\"white\",\"ticks\":\"\",\"title\":{\"standoff\":15},\"zerolinecolor\":\"white\",\"automargin\":true,\"zerolinewidth\":2},\"scene\":{\"xaxis\":{\"backgroundcolor\":\"#E5ECF6\",\"gridcolor\":\"white\",\"linecolor\":\"white\",\"showbackground\":true,\"ticks\":\"\",\"zerolinecolor\":\"white\",\"gridwidth\":2},\"yaxis\":{\"backgroundcolor\":\"#E5ECF6\",\"gridcolor\":\"white\",\"linecolor\":\"white\",\"showbackground\":true,\"ticks\":\"\",\"zerolinecolor\":\"white\",\"gridwidth\":2},\"zaxis\":{\"backgroundcolor\":\"#E5ECF6\",\"gridcolor\":\"white\",\"linecolor\":\"white\",\"showbackground\":true,\"ticks\":\"\",\"zerolinecolor\":\"white\",\"gridwidth\":2}},\"shapedefaults\":{\"line\":{\"color\":\"#2a3f5f\"}},\"annotationdefaults\":{\"arrowcolor\":\"#2a3f5f\",\"arrowhead\":0,\"arrowwidth\":1},\"geo\":{\"bgcolor\":\"white\",\"landcolor\":\"#E5ECF6\",\"subunitcolor\":\"white\",\"showland\":true,\"showlakes\":true,\"lakecolor\":\"white\"},\"title\":{\"x\":0.05},\"mapbox\":{\"style\":\"light\"}}},\"xaxis\":{\"anchor\":\"y\",\"domain\":[0.0,1.0],\"title\":{\"text\":\"year\"},\"tickmode\":\"array\",\"tick0\":0.2,\"dtick\":1},\"yaxis\":{\"anchor\":\"x\",\"domain\":[0.0,1.0],\"title\":{\"text\":\"abortionstotal\"}},\"legend\":{\"tracegroupgap\":0},\"title\":{\"text\":\"Banning Abortions Volume\"}},                        {\"responsive\": true}                    ).then(function(){\n",
       "                            \n",
       "var gd = document.getElementById('0cdcbf7f-71ad-43bf-84fa-81ccbd61c852');\n",
       "var x = new MutationObserver(function (mutations, observer) {{\n",
       "        var display = window.getComputedStyle(gd).display;\n",
       "        if (!display || display === 'none') {{\n",
       "            console.log([gd, 'removed!']);\n",
       "            Plotly.purge(gd);\n",
       "            observer.disconnect();\n",
       "        }}\n",
       "}});\n",
       "\n",
       "// Listen for the removal of the full notebook cells\n",
       "var notebookContainer = gd.closest('#notebook-container');\n",
       "if (notebookContainer) {{\n",
       "    x.observe(notebookContainer, {childList: true});\n",
       "}}\n",
       "\n",
       "// Listen for the clearing of the current output cell\n",
       "var outputEl = gd.closest('.output');\n",
       "if (outputEl) {{\n",
       "    x.observe(outputEl, {childList: true});\n",
       "}}\n",
       "\n",
       "                        })                };                });            </script>        </div>"
      ]
     },
     "metadata": {},
     "output_type": "display_data"
    }
   ],
   "source": [
    "fig = px.scatter(AbTimeline_df, x = 'year', y = 'abortionstotal', title='Banning Abortions Volume')\n",
    "fig.update_layout(\n",
    "    xaxis = dict(\n",
    "    tickmode = 'array',\n",
    "    tick0 = 0.2,\n",
    "    dtick = 1   \n",
    " )\n",
    ")\n",
    "\n",
    "\n",
    "import plotly.io as pio\n",
    "pio.write_image(fig, \"/Users/petergunn/Banning-The-Bortions/Resources/PlotlyScatter.png\", format='png')\n",
    "fig.show()\n"
   ]
  },
  {
   "cell_type": "code",
   "execution_count": 86,
   "id": "5f0e399f",
   "metadata": {},
   "outputs": [
    {
     "data": {
      "application/vnd.plotly.v1+json": {
       "config": {
        "plotlyServerURL": "https://plot.ly"
       },
       "data": [
        {
         "hovertemplate": "year=%{x}<br>abortionratiototal=%{y}<extra></extra>",
         "legendgroup": "",
         "line": {
          "color": "#636efa",
          "dash": "solid"
         },
         "marker": {
          "symbol": "circle"
         },
         "mode": "lines",
         "name": "",
         "orientation": "v",
         "showlegend": false,
         "type": "scatter",
         "x": [
          1988,
          1992,
          1996,
          2000,
          2005,
          2006,
          2007,
          2008,
          2009,
          2010,
          2011,
          2012,
          2013,
          2014,
          2015,
          2016,
          2017,
          1988,
          1992,
          1996,
          2000,
          2005,
          2006,
          2007,
          2008,
          2009,
          2010,
          2011,
          2012,
          2013,
          2014,
          2015,
          2016,
          2017,
          1988,
          1992,
          1996,
          2000,
          2005,
          2006,
          2007,
          2008,
          2009,
          2010,
          2011,
          2012,
          2013,
          2014,
          2015,
          2016,
          2017,
          1988,
          1992,
          1996,
          2000,
          2005,
          2006,
          2007,
          2008,
          2009,
          2010,
          2011,
          2012,
          2013,
          2014,
          2015,
          2016,
          2017,
          1988,
          1992,
          1996,
          2000,
          2005,
          2006,
          2007,
          2008,
          2009,
          2010,
          2011,
          2012,
          2013,
          2014,
          2015,
          2016,
          2017,
          1988,
          1992,
          1996,
          2000,
          2005,
          2006,
          2007,
          2008,
          2009,
          2010,
          2011,
          2012,
          2013,
          2014,
          2015,
          2016,
          2017,
          1988,
          1992,
          1996,
          2000,
          2005,
          2006,
          2007,
          2008,
          2009,
          2010,
          2011,
          2012,
          2013,
          2014,
          2015,
          2016,
          2017,
          1988,
          1992,
          1996,
          2000,
          2005,
          2006,
          2007,
          2008,
          2009,
          2010,
          2011,
          2012,
          2013,
          2014,
          2015,
          2016,
          2017,
          1988,
          1992,
          1996,
          2000,
          2005,
          2006,
          2007,
          2008,
          2009,
          2010,
          2011,
          2012,
          2013,
          2014,
          2015,
          2016,
          2017,
          1988,
          1992,
          1996,
          2000,
          2005,
          2006,
          2007,
          2008,
          2009,
          2010,
          2011,
          2012,
          2013,
          2014,
          2015,
          2016,
          2017,
          1988,
          1992,
          1996,
          2000,
          2005,
          2006,
          2007,
          2008,
          2009,
          2010,
          2011,
          2012,
          2013,
          2014,
          2015,
          2016,
          2017,
          1988,
          1992,
          1996,
          2000,
          2005,
          2006,
          2007,
          2008,
          2009,
          2010,
          2011,
          2012,
          2013,
          2014,
          2015,
          2016,
          2017,
          1988,
          1992,
          1996,
          2000,
          2005,
          2006,
          2007,
          2008,
          2009,
          2010,
          2011,
          2012,
          2013,
          2014,
          2015,
          2016,
          2017,
          1988,
          1992,
          1996,
          2000,
          2005,
          2006,
          2007,
          2008,
          2009,
          2010,
          2011,
          2012,
          2013,
          2014,
          2015,
          2016,
          2017,
          1988,
          1992,
          1996,
          2000,
          2005,
          2006,
          2007,
          2008,
          2009,
          2010,
          2011,
          2012,
          2013,
          2014,
          2015,
          2016,
          2017,
          1988,
          1992,
          1996,
          2000,
          2005,
          2006,
          2007,
          2008,
          2009,
          2010,
          2011,
          2012,
          2013,
          2014,
          2015,
          2016,
          2017,
          1988,
          1992,
          1996,
          2000,
          2005,
          2006,
          2007,
          2008,
          2009,
          2010,
          2011,
          2012,
          2013,
          2014,
          2015,
          2016,
          2017,
          1988,
          1992,
          1996,
          2000,
          2005,
          2006,
          2007,
          2008,
          2009,
          2010,
          2011,
          2012,
          2013,
          2014,
          2015,
          2016,
          2017,
          1988,
          1992,
          1996,
          2000,
          2005,
          2006,
          2007,
          2008,
          2009,
          2010,
          2011,
          2012,
          2013,
          2014,
          2015,
          2016,
          2017,
          1988,
          1992,
          1996,
          2000,
          2005,
          2006,
          2007,
          2008,
          2009,
          2010,
          2011,
          2012,
          2013,
          2014,
          2015,
          2016,
          2017,
          1988,
          1992,
          1996,
          2000,
          2005,
          2006,
          2007,
          2008,
          2009,
          2010,
          2011,
          2012,
          2013,
          2014,
          2015,
          2016,
          2017,
          1988,
          1992,
          1996,
          2000,
          2005,
          2006,
          2007,
          2008,
          2009,
          2010,
          2011,
          2012,
          2013,
          2014,
          2015,
          2016,
          2017,
          1988,
          1992,
          1996,
          2000,
          2005,
          2006,
          2007,
          2008,
          2009,
          2010,
          2011,
          2012,
          2013,
          2014,
          2015,
          2016,
          2017,
          1988,
          1992,
          1996,
          2000,
          2005,
          2006,
          2007,
          2008,
          2009,
          2010,
          2011,
          2012,
          2013,
          2014,
          2015,
          2016,
          2017,
          1988,
          1992,
          1996,
          2000,
          2005,
          2006,
          2007,
          2008,
          2009,
          2010,
          2011,
          2012,
          2013,
          2014,
          2015,
          2016,
          2017,
          1988,
          1992,
          1996,
          2000,
          2005,
          2006,
          2007,
          2008,
          2009,
          2010,
          2011,
          2012,
          2013,
          2014,
          2015,
          2016,
          2017,
          1988,
          1992,
          1996,
          2000,
          2005,
          2006,
          2007,
          2008,
          2009,
          2010,
          2011,
          2012,
          2013,
          2014,
          2015,
          2016,
          2017,
          1988,
          1992,
          1996,
          2000,
          2005,
          2006,
          2007,
          2008,
          2009,
          2010,
          2011,
          2012,
          2013,
          2014,
          2015,
          2016,
          2017,
          1988,
          1992,
          1996,
          2000,
          2005,
          2006,
          2007,
          2008,
          2009,
          2010,
          2011,
          2012,
          2013,
          2014,
          2015,
          2016,
          2017,
          1988,
          1992,
          1996,
          2000,
          2005,
          2006,
          2007,
          2008,
          2009,
          2010,
          2011,
          2012,
          2013,
          2014,
          2015,
          2016,
          2017,
          1988,
          1992,
          1996,
          2000,
          2005,
          2006,
          2007,
          2008,
          2009,
          2010,
          2011,
          2012,
          2013,
          2014,
          2015,
          2016,
          2017,
          1988,
          1992,
          1996,
          2000,
          2005,
          2006,
          2007,
          2008,
          2009,
          2010,
          2011,
          2012,
          2013,
          2014,
          2015,
          2016,
          2017,
          1988,
          1992,
          1996,
          2000,
          2005,
          2006,
          2007,
          2008,
          2009,
          2010,
          2011,
          2012,
          2013,
          2014,
          2015,
          2016,
          2017,
          1988,
          1992,
          1996,
          2000,
          2005,
          2006,
          2007,
          2008,
          2009,
          2010,
          2011,
          2012,
          2013,
          2014,
          2015,
          2016,
          2017,
          1988,
          1992,
          1996,
          2000,
          2005,
          2006,
          2007,
          2008,
          2009,
          2010,
          2011,
          2012,
          2013,
          2014,
          2015,
          2016,
          2017,
          1988,
          1992,
          1996,
          2000,
          2005,
          2006,
          2007,
          2008,
          2009,
          2010,
          2011,
          2012,
          2013,
          2014,
          2015,
          2016,
          2017,
          1988,
          1992,
          1996,
          2000,
          2005,
          2006,
          2007,
          2008,
          2009,
          2010,
          2011,
          2012,
          2013,
          2014,
          2015,
          2016,
          2017,
          1988,
          1992,
          1996,
          2000,
          2005,
          2006,
          2007,
          2008,
          2009,
          2010,
          2011,
          2012,
          2013,
          2014,
          2015,
          2016,
          2017,
          1988,
          1992,
          1996,
          2000,
          2005,
          2006,
          2007,
          2008,
          2009,
          2010,
          2011,
          2012,
          2013,
          2014,
          2015,
          2016,
          2017,
          1988,
          1992,
          1996,
          2000,
          2005,
          2006,
          2007,
          2008,
          2009,
          2010,
          2011,
          2012,
          2013,
          2014,
          2015,
          2016,
          2017,
          1988,
          1992,
          1996,
          2000,
          2005,
          2006,
          2007,
          2008,
          2009,
          2010,
          2011,
          2012,
          2013,
          2014,
          2015,
          2016,
          2017,
          1988,
          1992,
          1996,
          2000,
          2005,
          2006,
          2007,
          2008,
          2009,
          2010,
          2011,
          2012,
          2013,
          2014,
          2015,
          2016,
          2017,
          1988,
          1992,
          1996,
          2000,
          2005,
          2006,
          2007,
          2008,
          2009,
          2010,
          2011,
          2012,
          2013,
          2014,
          2015,
          2016,
          2017,
          1988,
          1992,
          1996,
          2000,
          2005,
          2006,
          2007,
          2008,
          2009,
          2010,
          2011,
          2012,
          2013,
          2014,
          2015,
          2016,
          2017,
          1973,
          1974,
          1975,
          1976,
          1977,
          1978,
          1979,
          1980,
          1981,
          1982,
          1983,
          1984,
          1985,
          1986,
          1987,
          1988,
          1989,
          1990,
          1991,
          1992,
          1993,
          1994,
          1995,
          1996,
          1997,
          1998,
          1999,
          2000,
          2001,
          2002,
          2003,
          2004,
          2005,
          2006,
          2007,
          2008,
          2009,
          2010,
          2011,
          2012,
          2013,
          2014,
          2015,
          2016,
          2017,
          1988,
          1992,
          1996,
          2000,
          2005,
          2006,
          2007,
          2008,
          2009,
          2010,
          2011,
          2012,
          2013,
          2014,
          2015,
          2016,
          2017,
          1988,
          1992,
          1996,
          2000,
          2005,
          2006,
          2007,
          2008,
          2009,
          2010,
          2011,
          2012,
          2013,
          2014,
          2015,
          2016,
          2017,
          1988,
          1992,
          1996,
          2000,
          2005,
          2006,
          2007,
          2008,
          2009,
          2010,
          2011,
          2012,
          2013,
          2014,
          2015,
          2016,
          2017,
          1988,
          1992,
          1996,
          2000,
          2005,
          2006,
          2007,
          2008,
          2009,
          2010,
          2011,
          2012,
          2013,
          2014,
          2015,
          2016,
          2017,
          1988,
          1992,
          1996,
          2000,
          2005,
          2006,
          2007,
          2008,
          2009,
          2010,
          2011,
          2012,
          2013,
          2014,
          2015,
          2016,
          2017,
          1988,
          1992,
          1996,
          2000,
          2005,
          2006,
          2007,
          2008,
          2009,
          2010,
          2011,
          2012,
          2013,
          2014,
          2015,
          2016,
          2017,
          1988,
          1992,
          1996,
          2000,
          2005,
          2006,
          2007,
          2008,
          2009,
          2010,
          2011,
          2012,
          2013,
          2014,
          2015,
          2016,
          2017
         ],
         "xaxis": "x",
         "y": [
          330.9,
          284.6,
          247,
          206.3,
          179.3,
          173.7,
          171.7,
          170.7,
          168.5,
          167.1,
          161.8,
          152.6,
          141.5,
          139.9,
          136.5,
          133.9,
          129.9,
          240.4,
          238.8,
          230.1,
          190.5,
          203.7,
          187.8,
          181,
          171.6,
          180.1,
          184.6,
          177.3,
          168.8,
          152.4,
          143.8,
          136.2,
          129.4,
          135.8,
          338.3,
          308,
          267.1,
          215.9,
          204.9,
          184,
          174.7,
          198.8,
          188.4,
          173.7,
          190.2,
          174,
          161.4,
          152.3,
          159.8,
          166.1,
          162.1,
          224.3,
          249.6,
          183.7,
          155.6,
          132.6,
          132.9,
          137.5,
          140.5,
          141.5,
          142.4,
          134.5,
          130.6,
          127.1,
          113,
          101.2,
          93.9,
          98.9,
          584.2,
          505,
          441,
          443,
          375.8,
          379.7,
          389.9,
          384.1,
          380.9,
          370.7,
          353.2,
          338.3,
          330.6,
          311.6,
          301,
          285,
          278.6,
          328.9,
          337.6,
          298.7,
          197.9,
          213.5,
          211.9,
          214.1,
          213,
          208.7,
          206.9,
          201.8,
          190.2,
          179.4,
          178.7,
          171.3,
          165.9,
          172.5,
          509,
          422.5,
          371.3,
          359.3,
          415.6,
          420.4,
          425.6,
          426.1,
          420.3,
          410.6,
          392.3,
          380.4,
          370.3,
          365.9,
          357.2,
          340.5,
          339.2,
          439.2,
          433.6,
          292.5,
          354.7,
          355.6,
          416.6,
          480.7,
          467.4,
          477.2,
          473.6,
          416.8,
          363.6,
          308.6,
          291.6,
          272.2,
          261.9,
          254.8,
          1312.1,
          1007.3,
          669.8,
          750.1,
          801.7,
          691.7,
          609.2,
          643.6,
          549.8,
          443.5,
          365.4,
          379.4,
          402.2,
          399.2,
          347.7,
          290.6,
          411.4,
          411.8,
          403.3,
          476,
          470.3,
          377.3,
          367.3,
          370.5,
          372.9,
          380.1,
          382.2,
          374.3,
          360,
          341.5,
          330.1,
          309.4,
          294,
          306.9,
          333.4,
          359.7,
          308.9,
          243.3,
          225.3,
          220,
          222.8,
          268.5,
          263.6,
          262.5,
          260.3,
          258,
          252.8,
          237.6,
          241.6,
          249.1,
          251.6,
          583.9,
          613.2,
          376.6,
          320.8,
          297.4,
          289.2,
          295.3,
          289.8,
          295.8,
          291.1,
          292.3,
          258.2,
          224.5,
          202,
          182.8,
          173.2,
          183.6,
          175.3,
          139.4,
          131.5,
          135,
          110.1,
          111.6,
          114.3,
          102.4,
          104.7,
          103.8,
          104.9,
          91.2,
          82.7,
          78.5,
          78.2,
          79.1,
          80.6,
          392.2,
          347.4,
          365.3,
          315.5,
          270.5,
          268.9,
          269.4,
          292.2,
          274.7,
          256.5,
          262.6,
          264,
          264,
          253.1,
          245.6,
          243.4,
          252.8,
          256.4,
          251.6,
          219.6,
          172.6,
          151.2,
          144.5,
          138.4,
          138.5,
          138.7,
          138.2,
          128,
          122.6,
          119.3,
          120.4,
          121.3,
          123.3,
          125,
          274.9,
          194.4,
          165.6,
          164.1,
          155.9,
          157.5,
          162.9,
          153.2,
          151.4,
          151.3,
          142.1,
          123.8,
          106.2,
          99,
          101.1,
          102.8,
          95,
          185.9,
          187.8,
          189.4,
          162.4,
          140.9,
          138.4,
          136.2,
          135.5,
          116.7,
          98.1,
          97.7,
          96.8,
          101.4,
          96.9,
          93.5,
          92.6,
          96.5,
          197.6,
          182.9,
          149.7,
          119.9,
          107.4,
          104.4,
          102.9,
          109.3,
          107.2,
          106.8,
          105.1,
          98.6,
          93,
          92.2,
          87.7,
          83.7,
          87.2,
          230.4,
          166.9,
          201.1,
          167.6,
          169.5,
          177,
          188.8,
          216.2,
          199,
          188.4,
          182.7,
          167.1,
          152.4,
          149.1,
          151.9,
          158.9,
          152.1,
          241.1,
          265.3,
          246.1,
          213.9,
          201.2,
          207.4,
          214.6,
          218.3,
          210,
          203.3,
          189.4,
          186.7,
          186,
          188.7,
          177.6,
          163.9,
          166.4,
          542.3,
          507.5,
          516.4,
          520.3,
          470.1,
          412.7,
          367.8,
          367.3,
          394.8,
          418.5,
          439.7,
          406.2,
          376.3,
          357.5,
          353.3,
          351.8,
          376,
          501.8,
          477,
          500.1,
          366,
          361.7,
          349.3,
          339.4,
          335,
          336.5,
          340.1,
          334,
          315.3,
          296,
          296,
          285,
          272.9,
          267,
          449.3,
          378.4,
          355.6,
          335.7,
          312.7,
          294.4,
          285.6,
          297.7,
          284.8,
          268.6,
          256.7,
          254.5,
          250.4,
          245.9,
          240.9,
          233.5,
          234.5,
          260.7,
          230,
          219,
          206.2,
          188.5,
          182.6,
          182.8,
          173.7,
          166.8,
          162.1,
          156.2,
          147.3,
          138.4,
          132,
          134,
          137.5,
          147.3,
          154,
          206.9,
          220.1,
          205.6,
          187.1,
          171.2,
          168.8,
          182.6,
          178,
          176.6,
          168,
          162.4,
          151.6,
          143.1,
          138.1,
          134.5,
          131.9,
          313,
          260.4,
          217.4,
          227.7,
          189.5,
          185.2,
          186.1,
          187.3,
          171.7,
          155.4,
          151.2,
          146.8,
          140.9,
          121.9,
          128.4,
          135.1,
          132.7,
          201,
          244.9,
          223.8,
          202.6,
          174.4,
          165.1,
          169.6,
          162.3,
          163.3,
          163.9,
          165.1,
          150.6,
          133.9,
          121.9,
          121.2,
          125.1,
          128,
          229.6,
          211.6,
          168.8,
          159.1,
          114.4,
          100.7,
          92.8,
          105.5,
          97.5,
          92.9,
          99.2,
          96.7,
          93.7,
          87.9,
          84.7,
          81.5,
          87.2,
          524.8,
          554.2,
          538.9,
          417.8,
          348.6,
          332.7,
          331,
          329.6,
          340.2,
          349.7,
          338.9,
          308.1,
          272.6,
          302.2,
          279.6,
          260.9,
          269.1,
          342.1,
          280.8,
          321.6,
          275.2,
          212.2,
          210.4,
          211,
          208.8,
          212.7,
          220.2,
          223.7,
          211.2,
          189,
          205.8,
          199.1,
          196.3,
          192.7,
          563,
          487.2,
          561.9,
          571.7,
          530.3,
          504.6,
          480.3,
          485.6,
          470.7,
          459.5,
          440.8,
          428.7,
          422.5,
          425.8,
          443,
          461.5,
          464.3,
          302.8,
          278.6,
          240.9,
          253.1,
          232,
          234.5,
          240.1,
          223.1,
          221.4,
          219.4,
          202.4,
          179.4,
          158.9,
          154.6,
          159.5,
          170.3,
          161.1,
          640.8,
          663.8,
          621.6,
          622.9,
          618.4,
          591.9,
          569.7,
          595.4,
          581.9,
          571.7,
          564.8,
          525.6,
          493.6,
          492.4,
          477.7,
          462.5,
          448.6,
          390.7,
          327,
          297.4,
          279.4,
          241.5,
          234.4,
          230.6,
          221.7,
          223.4,
          226.2,
          208.3,
          216.7,
          225.6,
          218.3,
          205.8,
          193,
          208.6,
          149.5,
          135.1,
          125.8,
          122.5,
          106.1,
          104.2,
          102.9,
          112.9,
          110.8,
          107.8,
          98.3,
          90.6,
          85,
          89.4,
          87.5,
          84.7,
          90.6,
          316.3,
          284.7,
          272.4,
          245,
          223.3,
          218.3,
          216.2,
          217.5,
          212.3,
          209.4,
          202.5,
          189.2,
          176.1,
          166.5,
          157.8,
          150.5,
          150.3,
          258.2,
          190.9,
          183.8,
          156.3,
          143.2,
          138,
          135.8,
          136.9,
          129.5,
          122.3,
          113,
          110.6,
          108,
          97.7,
          90.4,
          86.5,
          95.2,
          370.8,
          347.8,
          310.1,
          333.4,
          259.1,
          249.6,
          251.3,
          240.3,
          233.8,
          225,
          222,
          206.6,
          190.5,
          192.2,
          196,
          200.8,
          205,
          320.3,
          308.1,
          283.7,
          271.2,
          262.1,
          266.8,
          282.3,
          312.7,
          306.1,
          294.8,
          273.8,
          256.5,
          245.4,
          240.6,
          245,
          250.2,
          246.2,
          407.8,
          402.1,
          418.1,
          391.8,
          368.6,
          367.8,
          357.1,
          360.4,
          358.1,
          344.7,
          337.1,
          312.2,
          289.4,
          297.4,
          299.2,
          308.9,
          308.5,
          298.3,
          256.4,
          243.6,
          216,
          230.8,
          218.6,
          218.7,
          209.3,
          215.3,
          221.2,
          201.7,
          200.1,
          198.9,
          189.9,
          188,
          190.4,
          199.6,
          126.9,
          121.6,
          114.6,
          98.6,
          85.5,
          81.4,
          78.3,
          80.6,
          75.7,
          70.7,
          71.3,
          69.2,
          67.4,
          65.8,
          62.4,
          59.5,
          61.6,
          283.7,
          259.6,
          226.3,
          216.9,
          189.9,
          184.4,
          179.8,
          189.5,
          186,
          180.8,
          171.7,
          164.4,
          159.5,
          150.8,
          144.1,
          139,
          136.5,
          321.2,
          294.8,
          267.1,
          239.7,
          219.1,
          206.5,
          197.5,
          203.9,
          201.7,
          202.3,
          191.1,
          181.7,
          172.7,
          141.1,
          138,
          138.4,
          147.5,
          237.4,
          284.4,
          328.9,
          372.3,
          395.8,
          422.9,
          428.6,
          430.2,
          434.6,
          427.6,
          432.8,
          429.8,
          422.4,
          419,
          409.3,
          406.9,
          387.7,
          386.9,
          378.6,
          376.1,
          373.7,
          360,
          348.6,
          349.5,
          344,
          334.6,
          332.1,
          323.5,
          320.7,
          315.5,
          305.6,
          297.2,
          291.5,
          291.2,
          280.3,
          285.4,
          278.8,
          275.7,
          267.7,
          255.8,
          243.8,
          232.2,
          226,
          221.5,
          223.7,
          127.3,
          102.2,
          91.5,
          73.9,
          70,
          70.6,
          71.5,
          69.7,
          68.5,
          66.4,
          63.3,
          62.3,
          62.3,
          57.9,
          59.2,
          60.5,
          62.2,
          360,
          279.2,
          302.9,
          232.3,
          287.5,
          271.1,
          264.1,
          273.1,
          273,
          257.9,
          264.4,
          259.9,
          249.2,
          225.4,
          224,
          219.3,
          201,
          432.1,
          392.3,
          351.4,
          310.2,
          292.6,
          293.7,
          300.8,
          293.9,
          294.6,
          296.5,
          284.1,
          286.5,
          292.3,
          238,
          225.4,
          214.6,
          202.1,
          426.1,
          423.2,
          345.9,
          332.8,
          286.3,
          280.3,
          281.3,
          273.2,
          263.4,
          258.6,
          251,
          234,
          220.7,
          216.2,
          206.1,
          193.7,
          202.8,
          219.7,
          201.2,
          163.9,
          140.4,
          129.6,
          137.8,
          139.6,
          124.8,
          144.4,
          169,
          160,
          134.4,
          109.6,
          112.3,
          120.4,
          130.3,
          127.3,
          262.4,
          230.4,
          223.2,
          179.6,
          153.8,
          143.7,
          135.6,
          133.6,
          133,
          133.5,
          127.7,
          120.1,
          112.7,
          110.6,
          109.8,
          109.7,
          116,
          191.3,
          206.8,
          259.3,
          334.2,
          168.5,
          156.4,
          148.2,
          132.4,
          130.5,
          133.4,
          143.4,
          124.3,
          107.5,
          110.5,
          104.1,
          103.7,
          104.9
         ],
         "yaxis": "y"
        }
       ],
       "layout": {
        "legend": {
         "tracegroupgap": 0
        },
        "template": {
         "data": {
          "bar": [
           {
            "error_x": {
             "color": "#2a3f5f"
            },
            "error_y": {
             "color": "#2a3f5f"
            },
            "marker": {
             "line": {
              "color": "#E5ECF6",
              "width": 0.5
             },
             "pattern": {
              "fillmode": "overlay",
              "size": 10,
              "solidity": 0.2
             }
            },
            "type": "bar"
           }
          ],
          "barpolar": [
           {
            "marker": {
             "line": {
              "color": "#E5ECF6",
              "width": 0.5
             },
             "pattern": {
              "fillmode": "overlay",
              "size": 10,
              "solidity": 0.2
             }
            },
            "type": "barpolar"
           }
          ],
          "carpet": [
           {
            "aaxis": {
             "endlinecolor": "#2a3f5f",
             "gridcolor": "white",
             "linecolor": "white",
             "minorgridcolor": "white",
             "startlinecolor": "#2a3f5f"
            },
            "baxis": {
             "endlinecolor": "#2a3f5f",
             "gridcolor": "white",
             "linecolor": "white",
             "minorgridcolor": "white",
             "startlinecolor": "#2a3f5f"
            },
            "type": "carpet"
           }
          ],
          "choropleth": [
           {
            "colorbar": {
             "outlinewidth": 0,
             "ticks": ""
            },
            "type": "choropleth"
           }
          ],
          "contour": [
           {
            "colorbar": {
             "outlinewidth": 0,
             "ticks": ""
            },
            "colorscale": [
             [
              0,
              "#0d0887"
             ],
             [
              0.1111111111111111,
              "#46039f"
             ],
             [
              0.2222222222222222,
              "#7201a8"
             ],
             [
              0.3333333333333333,
              "#9c179e"
             ],
             [
              0.4444444444444444,
              "#bd3786"
             ],
             [
              0.5555555555555556,
              "#d8576b"
             ],
             [
              0.6666666666666666,
              "#ed7953"
             ],
             [
              0.7777777777777778,
              "#fb9f3a"
             ],
             [
              0.8888888888888888,
              "#fdca26"
             ],
             [
              1,
              "#f0f921"
             ]
            ],
            "type": "contour"
           }
          ],
          "contourcarpet": [
           {
            "colorbar": {
             "outlinewidth": 0,
             "ticks": ""
            },
            "type": "contourcarpet"
           }
          ],
          "heatmap": [
           {
            "colorbar": {
             "outlinewidth": 0,
             "ticks": ""
            },
            "colorscale": [
             [
              0,
              "#0d0887"
             ],
             [
              0.1111111111111111,
              "#46039f"
             ],
             [
              0.2222222222222222,
              "#7201a8"
             ],
             [
              0.3333333333333333,
              "#9c179e"
             ],
             [
              0.4444444444444444,
              "#bd3786"
             ],
             [
              0.5555555555555556,
              "#d8576b"
             ],
             [
              0.6666666666666666,
              "#ed7953"
             ],
             [
              0.7777777777777778,
              "#fb9f3a"
             ],
             [
              0.8888888888888888,
              "#fdca26"
             ],
             [
              1,
              "#f0f921"
             ]
            ],
            "type": "heatmap"
           }
          ],
          "heatmapgl": [
           {
            "colorbar": {
             "outlinewidth": 0,
             "ticks": ""
            },
            "colorscale": [
             [
              0,
              "#0d0887"
             ],
             [
              0.1111111111111111,
              "#46039f"
             ],
             [
              0.2222222222222222,
              "#7201a8"
             ],
             [
              0.3333333333333333,
              "#9c179e"
             ],
             [
              0.4444444444444444,
              "#bd3786"
             ],
             [
              0.5555555555555556,
              "#d8576b"
             ],
             [
              0.6666666666666666,
              "#ed7953"
             ],
             [
              0.7777777777777778,
              "#fb9f3a"
             ],
             [
              0.8888888888888888,
              "#fdca26"
             ],
             [
              1,
              "#f0f921"
             ]
            ],
            "type": "heatmapgl"
           }
          ],
          "histogram": [
           {
            "marker": {
             "pattern": {
              "fillmode": "overlay",
              "size": 10,
              "solidity": 0.2
             }
            },
            "type": "histogram"
           }
          ],
          "histogram2d": [
           {
            "colorbar": {
             "outlinewidth": 0,
             "ticks": ""
            },
            "colorscale": [
             [
              0,
              "#0d0887"
             ],
             [
              0.1111111111111111,
              "#46039f"
             ],
             [
              0.2222222222222222,
              "#7201a8"
             ],
             [
              0.3333333333333333,
              "#9c179e"
             ],
             [
              0.4444444444444444,
              "#bd3786"
             ],
             [
              0.5555555555555556,
              "#d8576b"
             ],
             [
              0.6666666666666666,
              "#ed7953"
             ],
             [
              0.7777777777777778,
              "#fb9f3a"
             ],
             [
              0.8888888888888888,
              "#fdca26"
             ],
             [
              1,
              "#f0f921"
             ]
            ],
            "type": "histogram2d"
           }
          ],
          "histogram2dcontour": [
           {
            "colorbar": {
             "outlinewidth": 0,
             "ticks": ""
            },
            "colorscale": [
             [
              0,
              "#0d0887"
             ],
             [
              0.1111111111111111,
              "#46039f"
             ],
             [
              0.2222222222222222,
              "#7201a8"
             ],
             [
              0.3333333333333333,
              "#9c179e"
             ],
             [
              0.4444444444444444,
              "#bd3786"
             ],
             [
              0.5555555555555556,
              "#d8576b"
             ],
             [
              0.6666666666666666,
              "#ed7953"
             ],
             [
              0.7777777777777778,
              "#fb9f3a"
             ],
             [
              0.8888888888888888,
              "#fdca26"
             ],
             [
              1,
              "#f0f921"
             ]
            ],
            "type": "histogram2dcontour"
           }
          ],
          "mesh3d": [
           {
            "colorbar": {
             "outlinewidth": 0,
             "ticks": ""
            },
            "type": "mesh3d"
           }
          ],
          "parcoords": [
           {
            "line": {
             "colorbar": {
              "outlinewidth": 0,
              "ticks": ""
             }
            },
            "type": "parcoords"
           }
          ],
          "pie": [
           {
            "automargin": true,
            "type": "pie"
           }
          ],
          "scatter": [
           {
            "fillpattern": {
             "fillmode": "overlay",
             "size": 10,
             "solidity": 0.2
            },
            "type": "scatter"
           }
          ],
          "scatter3d": [
           {
            "line": {
             "colorbar": {
              "outlinewidth": 0,
              "ticks": ""
             }
            },
            "marker": {
             "colorbar": {
              "outlinewidth": 0,
              "ticks": ""
             }
            },
            "type": "scatter3d"
           }
          ],
          "scattercarpet": [
           {
            "marker": {
             "colorbar": {
              "outlinewidth": 0,
              "ticks": ""
             }
            },
            "type": "scattercarpet"
           }
          ],
          "scattergeo": [
           {
            "marker": {
             "colorbar": {
              "outlinewidth": 0,
              "ticks": ""
             }
            },
            "type": "scattergeo"
           }
          ],
          "scattergl": [
           {
            "marker": {
             "colorbar": {
              "outlinewidth": 0,
              "ticks": ""
             }
            },
            "type": "scattergl"
           }
          ],
          "scattermapbox": [
           {
            "marker": {
             "colorbar": {
              "outlinewidth": 0,
              "ticks": ""
             }
            },
            "type": "scattermapbox"
           }
          ],
          "scatterpolar": [
           {
            "marker": {
             "colorbar": {
              "outlinewidth": 0,
              "ticks": ""
             }
            },
            "type": "scatterpolar"
           }
          ],
          "scatterpolargl": [
           {
            "marker": {
             "colorbar": {
              "outlinewidth": 0,
              "ticks": ""
             }
            },
            "type": "scatterpolargl"
           }
          ],
          "scatterternary": [
           {
            "marker": {
             "colorbar": {
              "outlinewidth": 0,
              "ticks": ""
             }
            },
            "type": "scatterternary"
           }
          ],
          "surface": [
           {
            "colorbar": {
             "outlinewidth": 0,
             "ticks": ""
            },
            "colorscale": [
             [
              0,
              "#0d0887"
             ],
             [
              0.1111111111111111,
              "#46039f"
             ],
             [
              0.2222222222222222,
              "#7201a8"
             ],
             [
              0.3333333333333333,
              "#9c179e"
             ],
             [
              0.4444444444444444,
              "#bd3786"
             ],
             [
              0.5555555555555556,
              "#d8576b"
             ],
             [
              0.6666666666666666,
              "#ed7953"
             ],
             [
              0.7777777777777778,
              "#fb9f3a"
             ],
             [
              0.8888888888888888,
              "#fdca26"
             ],
             [
              1,
              "#f0f921"
             ]
            ],
            "type": "surface"
           }
          ],
          "table": [
           {
            "cells": {
             "fill": {
              "color": "#EBF0F8"
             },
             "line": {
              "color": "white"
             }
            },
            "header": {
             "fill": {
              "color": "#C8D4E3"
             },
             "line": {
              "color": "white"
             }
            },
            "type": "table"
           }
          ]
         },
         "layout": {
          "annotationdefaults": {
           "arrowcolor": "#2a3f5f",
           "arrowhead": 0,
           "arrowwidth": 1
          },
          "autotypenumbers": "strict",
          "coloraxis": {
           "colorbar": {
            "outlinewidth": 0,
            "ticks": ""
           }
          },
          "colorscale": {
           "diverging": [
            [
             0,
             "#8e0152"
            ],
            [
             0.1,
             "#c51b7d"
            ],
            [
             0.2,
             "#de77ae"
            ],
            [
             0.3,
             "#f1b6da"
            ],
            [
             0.4,
             "#fde0ef"
            ],
            [
             0.5,
             "#f7f7f7"
            ],
            [
             0.6,
             "#e6f5d0"
            ],
            [
             0.7,
             "#b8e186"
            ],
            [
             0.8,
             "#7fbc41"
            ],
            [
             0.9,
             "#4d9221"
            ],
            [
             1,
             "#276419"
            ]
           ],
           "sequential": [
            [
             0,
             "#0d0887"
            ],
            [
             0.1111111111111111,
             "#46039f"
            ],
            [
             0.2222222222222222,
             "#7201a8"
            ],
            [
             0.3333333333333333,
             "#9c179e"
            ],
            [
             0.4444444444444444,
             "#bd3786"
            ],
            [
             0.5555555555555556,
             "#d8576b"
            ],
            [
             0.6666666666666666,
             "#ed7953"
            ],
            [
             0.7777777777777778,
             "#fb9f3a"
            ],
            [
             0.8888888888888888,
             "#fdca26"
            ],
            [
             1,
             "#f0f921"
            ]
           ],
           "sequentialminus": [
            [
             0,
             "#0d0887"
            ],
            [
             0.1111111111111111,
             "#46039f"
            ],
            [
             0.2222222222222222,
             "#7201a8"
            ],
            [
             0.3333333333333333,
             "#9c179e"
            ],
            [
             0.4444444444444444,
             "#bd3786"
            ],
            [
             0.5555555555555556,
             "#d8576b"
            ],
            [
             0.6666666666666666,
             "#ed7953"
            ],
            [
             0.7777777777777778,
             "#fb9f3a"
            ],
            [
             0.8888888888888888,
             "#fdca26"
            ],
            [
             1,
             "#f0f921"
            ]
           ]
          },
          "colorway": [
           "#636efa",
           "#EF553B",
           "#00cc96",
           "#ab63fa",
           "#FFA15A",
           "#19d3f3",
           "#FF6692",
           "#B6E880",
           "#FF97FF",
           "#FECB52"
          ],
          "font": {
           "color": "#2a3f5f"
          },
          "geo": {
           "bgcolor": "white",
           "lakecolor": "white",
           "landcolor": "#E5ECF6",
           "showlakes": true,
           "showland": true,
           "subunitcolor": "white"
          },
          "hoverlabel": {
           "align": "left"
          },
          "hovermode": "closest",
          "mapbox": {
           "style": "light"
          },
          "paper_bgcolor": "white",
          "plot_bgcolor": "#E5ECF6",
          "polar": {
           "angularaxis": {
            "gridcolor": "white",
            "linecolor": "white",
            "ticks": ""
           },
           "bgcolor": "#E5ECF6",
           "radialaxis": {
            "gridcolor": "white",
            "linecolor": "white",
            "ticks": ""
           }
          },
          "scene": {
           "xaxis": {
            "backgroundcolor": "#E5ECF6",
            "gridcolor": "white",
            "gridwidth": 2,
            "linecolor": "white",
            "showbackground": true,
            "ticks": "",
            "zerolinecolor": "white"
           },
           "yaxis": {
            "backgroundcolor": "#E5ECF6",
            "gridcolor": "white",
            "gridwidth": 2,
            "linecolor": "white",
            "showbackground": true,
            "ticks": "",
            "zerolinecolor": "white"
           },
           "zaxis": {
            "backgroundcolor": "#E5ECF6",
            "gridcolor": "white",
            "gridwidth": 2,
            "linecolor": "white",
            "showbackground": true,
            "ticks": "",
            "zerolinecolor": "white"
           }
          },
          "shapedefaults": {
           "line": {
            "color": "#2a3f5f"
           }
          },
          "ternary": {
           "aaxis": {
            "gridcolor": "white",
            "linecolor": "white",
            "ticks": ""
           },
           "baxis": {
            "gridcolor": "white",
            "linecolor": "white",
            "ticks": ""
           },
           "bgcolor": "#E5ECF6",
           "caxis": {
            "gridcolor": "white",
            "linecolor": "white",
            "ticks": ""
           }
          },
          "title": {
           "x": 0.05
          },
          "xaxis": {
           "automargin": true,
           "gridcolor": "white",
           "linecolor": "white",
           "ticks": "",
           "title": {
            "standoff": 15
           },
           "zerolinecolor": "white",
           "zerolinewidth": 2
          },
          "yaxis": {
           "automargin": true,
           "gridcolor": "white",
           "linecolor": "white",
           "ticks": "",
           "title": {
            "standoff": 15
           },
           "zerolinecolor": "white",
           "zerolinewidth": 2
          }
         }
        },
        "title": {
         "text": "Abortion Timeline"
        },
        "xaxis": {
         "anchor": "y",
         "domain": [
          0,
          1
         ],
         "title": {
          "text": "year"
         }
        },
        "yaxis": {
         "anchor": "x",
         "domain": [
          0,
          1
         ],
         "title": {
          "text": "abortionratiototal"
         }
        }
       }
      },
      "text/html": [
       "<div>                            <div id=\"ac62f1c0-30ae-4c8f-abbc-9bbb3f194690\" class=\"plotly-graph-div\" style=\"height:525px; width:100%;\"></div>            <script type=\"text/javascript\">                require([\"plotly\"], function(Plotly) {                    window.PLOTLYENV=window.PLOTLYENV || {};                                    if (document.getElementById(\"ac62f1c0-30ae-4c8f-abbc-9bbb3f194690\")) {                    Plotly.newPlot(                        \"ac62f1c0-30ae-4c8f-abbc-9bbb3f194690\",                        [{\"hovertemplate\":\"year=%{x}<br>abortionratiototal=%{y}<extra></extra>\",\"legendgroup\":\"\",\"line\":{\"color\":\"#636efa\",\"dash\":\"solid\"},\"marker\":{\"symbol\":\"circle\"},\"mode\":\"lines\",\"name\":\"\",\"orientation\":\"v\",\"showlegend\":false,\"x\":[1988,1992,1996,2000,2005,2006,2007,2008,2009,2010,2011,2012,2013,2014,2015,2016,2017,1988,1992,1996,2000,2005,2006,2007,2008,2009,2010,2011,2012,2013,2014,2015,2016,2017,1988,1992,1996,2000,2005,2006,2007,2008,2009,2010,2011,2012,2013,2014,2015,2016,2017,1988,1992,1996,2000,2005,2006,2007,2008,2009,2010,2011,2012,2013,2014,2015,2016,2017,1988,1992,1996,2000,2005,2006,2007,2008,2009,2010,2011,2012,2013,2014,2015,2016,2017,1988,1992,1996,2000,2005,2006,2007,2008,2009,2010,2011,2012,2013,2014,2015,2016,2017,1988,1992,1996,2000,2005,2006,2007,2008,2009,2010,2011,2012,2013,2014,2015,2016,2017,1988,1992,1996,2000,2005,2006,2007,2008,2009,2010,2011,2012,2013,2014,2015,2016,2017,1988,1992,1996,2000,2005,2006,2007,2008,2009,2010,2011,2012,2013,2014,2015,2016,2017,1988,1992,1996,2000,2005,2006,2007,2008,2009,2010,2011,2012,2013,2014,2015,2016,2017,1988,1992,1996,2000,2005,2006,2007,2008,2009,2010,2011,2012,2013,2014,2015,2016,2017,1988,1992,1996,2000,2005,2006,2007,2008,2009,2010,2011,2012,2013,2014,2015,2016,2017,1988,1992,1996,2000,2005,2006,2007,2008,2009,2010,2011,2012,2013,2014,2015,2016,2017,1988,1992,1996,2000,2005,2006,2007,2008,2009,2010,2011,2012,2013,2014,2015,2016,2017,1988,1992,1996,2000,2005,2006,2007,2008,2009,2010,2011,2012,2013,2014,2015,2016,2017,1988,1992,1996,2000,2005,2006,2007,2008,2009,2010,2011,2012,2013,2014,2015,2016,2017,1988,1992,1996,2000,2005,2006,2007,2008,2009,2010,2011,2012,2013,2014,2015,2016,2017,1988,1992,1996,2000,2005,2006,2007,2008,2009,2010,2011,2012,2013,2014,2015,2016,2017,1988,1992,1996,2000,2005,2006,2007,2008,2009,2010,2011,2012,2013,2014,2015,2016,2017,1988,1992,1996,2000,2005,2006,2007,2008,2009,2010,2011,2012,2013,2014,2015,2016,2017,1988,1992,1996,2000,2005,2006,2007,2008,2009,2010,2011,2012,2013,2014,2015,2016,2017,1988,1992,1996,2000,2005,2006,2007,2008,2009,2010,2011,2012,2013,2014,2015,2016,2017,1988,1992,1996,2000,2005,2006,2007,2008,2009,2010,2011,2012,2013,2014,2015,2016,2017,1988,1992,1996,2000,2005,2006,2007,2008,2009,2010,2011,2012,2013,2014,2015,2016,2017,1988,1992,1996,2000,2005,2006,2007,2008,2009,2010,2011,2012,2013,2014,2015,2016,2017,1988,1992,1996,2000,2005,2006,2007,2008,2009,2010,2011,2012,2013,2014,2015,2016,2017,1988,1992,1996,2000,2005,2006,2007,2008,2009,2010,2011,2012,2013,2014,2015,2016,2017,1988,1992,1996,2000,2005,2006,2007,2008,2009,2010,2011,2012,2013,2014,2015,2016,2017,1988,1992,1996,2000,2005,2006,2007,2008,2009,2010,2011,2012,2013,2014,2015,2016,2017,1988,1992,1996,2000,2005,2006,2007,2008,2009,2010,2011,2012,2013,2014,2015,2016,2017,1988,1992,1996,2000,2005,2006,2007,2008,2009,2010,2011,2012,2013,2014,2015,2016,2017,1988,1992,1996,2000,2005,2006,2007,2008,2009,2010,2011,2012,2013,2014,2015,2016,2017,1988,1992,1996,2000,2005,2006,2007,2008,2009,2010,2011,2012,2013,2014,2015,2016,2017,1988,1992,1996,2000,2005,2006,2007,2008,2009,2010,2011,2012,2013,2014,2015,2016,2017,1988,1992,1996,2000,2005,2006,2007,2008,2009,2010,2011,2012,2013,2014,2015,2016,2017,1988,1992,1996,2000,2005,2006,2007,2008,2009,2010,2011,2012,2013,2014,2015,2016,2017,1988,1992,1996,2000,2005,2006,2007,2008,2009,2010,2011,2012,2013,2014,2015,2016,2017,1988,1992,1996,2000,2005,2006,2007,2008,2009,2010,2011,2012,2013,2014,2015,2016,2017,1988,1992,1996,2000,2005,2006,2007,2008,2009,2010,2011,2012,2013,2014,2015,2016,2017,1988,1992,1996,2000,2005,2006,2007,2008,2009,2010,2011,2012,2013,2014,2015,2016,2017,1988,1992,1996,2000,2005,2006,2007,2008,2009,2010,2011,2012,2013,2014,2015,2016,2017,1988,1992,1996,2000,2005,2006,2007,2008,2009,2010,2011,2012,2013,2014,2015,2016,2017,1988,1992,1996,2000,2005,2006,2007,2008,2009,2010,2011,2012,2013,2014,2015,2016,2017,1988,1992,1996,2000,2005,2006,2007,2008,2009,2010,2011,2012,2013,2014,2015,2016,2017,1973,1974,1975,1976,1977,1978,1979,1980,1981,1982,1983,1984,1985,1986,1987,1988,1989,1990,1991,1992,1993,1994,1995,1996,1997,1998,1999,2000,2001,2002,2003,2004,2005,2006,2007,2008,2009,2010,2011,2012,2013,2014,2015,2016,2017,1988,1992,1996,2000,2005,2006,2007,2008,2009,2010,2011,2012,2013,2014,2015,2016,2017,1988,1992,1996,2000,2005,2006,2007,2008,2009,2010,2011,2012,2013,2014,2015,2016,2017,1988,1992,1996,2000,2005,2006,2007,2008,2009,2010,2011,2012,2013,2014,2015,2016,2017,1988,1992,1996,2000,2005,2006,2007,2008,2009,2010,2011,2012,2013,2014,2015,2016,2017,1988,1992,1996,2000,2005,2006,2007,2008,2009,2010,2011,2012,2013,2014,2015,2016,2017,1988,1992,1996,2000,2005,2006,2007,2008,2009,2010,2011,2012,2013,2014,2015,2016,2017,1988,1992,1996,2000,2005,2006,2007,2008,2009,2010,2011,2012,2013,2014,2015,2016,2017],\"xaxis\":\"x\",\"y\":[330.9,284.6,247.0,206.3,179.3,173.7,171.7,170.7,168.5,167.1,161.8,152.6,141.5,139.9,136.5,133.9,129.9,240.4,238.8,230.1,190.5,203.7,187.8,181.0,171.6,180.1,184.6,177.3,168.8,152.4,143.8,136.2,129.4,135.8,338.3,308.0,267.1,215.9,204.9,184.0,174.7,198.8,188.4,173.7,190.2,174.0,161.4,152.3,159.8,166.1,162.1,224.3,249.6,183.7,155.6,132.6,132.9,137.5,140.5,141.5,142.4,134.5,130.6,127.1,113.0,101.2,93.9,98.9,584.2,505.0,441.0,443.0,375.8,379.7,389.9,384.1,380.9,370.7,353.2,338.3,330.6,311.6,301.0,285.0,278.6,328.9,337.6,298.7,197.9,213.5,211.9,214.1,213.0,208.7,206.9,201.8,190.2,179.4,178.7,171.3,165.9,172.5,509.0,422.5,371.3,359.3,415.6,420.4,425.6,426.1,420.3,410.6,392.3,380.4,370.3,365.9,357.2,340.5,339.2,439.2,433.6,292.5,354.7,355.6,416.6,480.7,467.4,477.2,473.6,416.8,363.6,308.6,291.6,272.2,261.9,254.8,1312.1,1007.3,669.8,750.1,801.7,691.7,609.2,643.6,549.8,443.5,365.4,379.4,402.2,399.2,347.7,290.6,411.4,411.8,403.3,476.0,470.3,377.3,367.3,370.5,372.9,380.1,382.2,374.3,360.0,341.5,330.1,309.4,294.0,306.9,333.4,359.7,308.9,243.3,225.3,220.0,222.8,268.5,263.6,262.5,260.3,258.0,252.8,237.6,241.6,249.1,251.6,583.9,613.2,376.6,320.8,297.4,289.2,295.3,289.8,295.8,291.1,292.3,258.2,224.5,202.0,182.8,173.2,183.6,175.3,139.4,131.5,135.0,110.1,111.6,114.3,102.4,104.7,103.8,104.9,91.2,82.7,78.5,78.2,79.1,80.6,392.2,347.4,365.3,315.5,270.5,268.9,269.4,292.2,274.7,256.5,262.6,264.0,264.0,253.1,245.6,243.4,252.8,256.4,251.6,219.6,172.6,151.2,144.5,138.4,138.5,138.7,138.2,128.0,122.6,119.3,120.4,121.3,123.3,125.0,274.9,194.4,165.6,164.1,155.9,157.5,162.9,153.2,151.4,151.3,142.1,123.8,106.2,99.0,101.1,102.8,95.0,185.9,187.8,189.4,162.4,140.9,138.4,136.2,135.5,116.7,98.1,97.7,96.8,101.4,96.9,93.5,92.6,96.5,197.6,182.9,149.7,119.9,107.4,104.4,102.9,109.3,107.2,106.8,105.1,98.6,93.0,92.2,87.7,83.7,87.2,230.4,166.9,201.1,167.6,169.5,177.0,188.8,216.2,199.0,188.4,182.7,167.1,152.4,149.1,151.9,158.9,152.1,241.1,265.3,246.1,213.9,201.2,207.4,214.6,218.3,210.0,203.3,189.4,186.7,186.0,188.7,177.6,163.9,166.4,542.3,507.5,516.4,520.3,470.1,412.7,367.8,367.3,394.8,418.5,439.7,406.2,376.3,357.5,353.3,351.8,376.0,501.8,477.0,500.1,366.0,361.7,349.3,339.4,335.0,336.5,340.1,334.0,315.3,296.0,296.0,285.0,272.9,267.0,449.3,378.4,355.6,335.7,312.7,294.4,285.6,297.7,284.8,268.6,256.7,254.5,250.4,245.9,240.9,233.5,234.5,260.7,230.0,219.0,206.2,188.5,182.6,182.8,173.7,166.8,162.1,156.2,147.3,138.4,132.0,134.0,137.5,147.3,154.0,206.9,220.1,205.6,187.1,171.2,168.8,182.6,178.0,176.6,168.0,162.4,151.6,143.1,138.1,134.5,131.9,313.0,260.4,217.4,227.7,189.5,185.2,186.1,187.3,171.7,155.4,151.2,146.8,140.9,121.9,128.4,135.1,132.7,201.0,244.9,223.8,202.6,174.4,165.1,169.6,162.3,163.3,163.9,165.1,150.6,133.9,121.9,121.2,125.1,128.0,229.6,211.6,168.8,159.1,114.4,100.7,92.8,105.5,97.5,92.9,99.2,96.7,93.7,87.9,84.7,81.5,87.2,524.8,554.2,538.9,417.8,348.6,332.7,331.0,329.6,340.2,349.7,338.9,308.1,272.6,302.2,279.6,260.9,269.1,342.1,280.8,321.6,275.2,212.2,210.4,211.0,208.8,212.7,220.2,223.7,211.2,189.0,205.8,199.1,196.3,192.7,563.0,487.2,561.9,571.7,530.3,504.6,480.3,485.6,470.7,459.5,440.8,428.7,422.5,425.8,443.0,461.5,464.3,302.8,278.6,240.9,253.1,232.0,234.5,240.1,223.1,221.4,219.4,202.4,179.4,158.9,154.6,159.5,170.3,161.1,640.8,663.8,621.6,622.9,618.4,591.9,569.7,595.4,581.9,571.7,564.8,525.6,493.6,492.4,477.7,462.5,448.6,390.7,327.0,297.4,279.4,241.5,234.4,230.6,221.7,223.4,226.2,208.3,216.7,225.6,218.3,205.8,193.0,208.6,149.5,135.1,125.8,122.5,106.1,104.2,102.9,112.9,110.8,107.8,98.3,90.6,85.0,89.4,87.5,84.7,90.6,316.3,284.7,272.4,245.0,223.3,218.3,216.2,217.5,212.3,209.4,202.5,189.2,176.1,166.5,157.8,150.5,150.3,258.2,190.9,183.8,156.3,143.2,138.0,135.8,136.9,129.5,122.3,113.0,110.6,108.0,97.7,90.4,86.5,95.2,370.8,347.8,310.1,333.4,259.1,249.6,251.3,240.3,233.8,225.0,222.0,206.6,190.5,192.2,196.0,200.8,205.0,320.3,308.1,283.7,271.2,262.1,266.8,282.3,312.7,306.1,294.8,273.8,256.5,245.4,240.6,245.0,250.2,246.2,407.8,402.1,418.1,391.8,368.6,367.8,357.1,360.4,358.1,344.7,337.1,312.2,289.4,297.4,299.2,308.9,308.5,298.3,256.4,243.6,216.0,230.8,218.6,218.7,209.3,215.3,221.2,201.7,200.1,198.9,189.9,188.0,190.4,199.6,126.9,121.6,114.6,98.6,85.5,81.4,78.3,80.6,75.7,70.7,71.3,69.2,67.4,65.8,62.4,59.5,61.6,283.7,259.6,226.3,216.9,189.9,184.4,179.8,189.5,186.0,180.8,171.7,164.4,159.5,150.8,144.1,139.0,136.5,321.2,294.8,267.1,239.7,219.1,206.5,197.5,203.9,201.7,202.3,191.1,181.7,172.7,141.1,138.0,138.4,147.5,237.4,284.4,328.9,372.3,395.8,422.9,428.6,430.2,434.6,427.6,432.8,429.8,422.4,419.0,409.3,406.9,387.7,386.9,378.6,376.1,373.7,360.0,348.6,349.5,344.0,334.6,332.1,323.5,320.7,315.5,305.6,297.2,291.5,291.2,280.3,285.4,278.8,275.7,267.7,255.8,243.8,232.2,226.0,221.5,223.7,127.3,102.2,91.5,73.9,70.0,70.6,71.5,69.7,68.5,66.4,63.3,62.3,62.3,57.9,59.2,60.5,62.2,360.0,279.2,302.9,232.3,287.5,271.1,264.1,273.1,273.0,257.9,264.4,259.9,249.2,225.4,224.0,219.3,201.0,432.1,392.3,351.4,310.2,292.6,293.7,300.8,293.9,294.6,296.5,284.1,286.5,292.3,238.0,225.4,214.6,202.1,426.1,423.2,345.9,332.8,286.3,280.3,281.3,273.2,263.4,258.6,251.0,234.0,220.7,216.2,206.1,193.7,202.8,219.7,201.2,163.9,140.4,129.6,137.8,139.6,124.8,144.4,169.0,160.0,134.4,109.6,112.3,120.4,130.3,127.3,262.4,230.4,223.2,179.6,153.8,143.7,135.6,133.6,133.0,133.5,127.7,120.1,112.7,110.6,109.8,109.7,116.0,191.3,206.8,259.3,334.2,168.5,156.4,148.2,132.4,130.5,133.4,143.4,124.3,107.5,110.5,104.1,103.7,104.9],\"yaxis\":\"y\",\"type\":\"scatter\"}],                        {\"template\":{\"data\":{\"histogram2dcontour\":[{\"type\":\"histogram2dcontour\",\"colorbar\":{\"outlinewidth\":0,\"ticks\":\"\"},\"colorscale\":[[0.0,\"#0d0887\"],[0.1111111111111111,\"#46039f\"],[0.2222222222222222,\"#7201a8\"],[0.3333333333333333,\"#9c179e\"],[0.4444444444444444,\"#bd3786\"],[0.5555555555555556,\"#d8576b\"],[0.6666666666666666,\"#ed7953\"],[0.7777777777777778,\"#fb9f3a\"],[0.8888888888888888,\"#fdca26\"],[1.0,\"#f0f921\"]]}],\"choropleth\":[{\"type\":\"choropleth\",\"colorbar\":{\"outlinewidth\":0,\"ticks\":\"\"}}],\"histogram2d\":[{\"type\":\"histogram2d\",\"colorbar\":{\"outlinewidth\":0,\"ticks\":\"\"},\"colorscale\":[[0.0,\"#0d0887\"],[0.1111111111111111,\"#46039f\"],[0.2222222222222222,\"#7201a8\"],[0.3333333333333333,\"#9c179e\"],[0.4444444444444444,\"#bd3786\"],[0.5555555555555556,\"#d8576b\"],[0.6666666666666666,\"#ed7953\"],[0.7777777777777778,\"#fb9f3a\"],[0.8888888888888888,\"#fdca26\"],[1.0,\"#f0f921\"]]}],\"heatmap\":[{\"type\":\"heatmap\",\"colorbar\":{\"outlinewidth\":0,\"ticks\":\"\"},\"colorscale\":[[0.0,\"#0d0887\"],[0.1111111111111111,\"#46039f\"],[0.2222222222222222,\"#7201a8\"],[0.3333333333333333,\"#9c179e\"],[0.4444444444444444,\"#bd3786\"],[0.5555555555555556,\"#d8576b\"],[0.6666666666666666,\"#ed7953\"],[0.7777777777777778,\"#fb9f3a\"],[0.8888888888888888,\"#fdca26\"],[1.0,\"#f0f921\"]]}],\"heatmapgl\":[{\"type\":\"heatmapgl\",\"colorbar\":{\"outlinewidth\":0,\"ticks\":\"\"},\"colorscale\":[[0.0,\"#0d0887\"],[0.1111111111111111,\"#46039f\"],[0.2222222222222222,\"#7201a8\"],[0.3333333333333333,\"#9c179e\"],[0.4444444444444444,\"#bd3786\"],[0.5555555555555556,\"#d8576b\"],[0.6666666666666666,\"#ed7953\"],[0.7777777777777778,\"#fb9f3a\"],[0.8888888888888888,\"#fdca26\"],[1.0,\"#f0f921\"]]}],\"contourcarpet\":[{\"type\":\"contourcarpet\",\"colorbar\":{\"outlinewidth\":0,\"ticks\":\"\"}}],\"contour\":[{\"type\":\"contour\",\"colorbar\":{\"outlinewidth\":0,\"ticks\":\"\"},\"colorscale\":[[0.0,\"#0d0887\"],[0.1111111111111111,\"#46039f\"],[0.2222222222222222,\"#7201a8\"],[0.3333333333333333,\"#9c179e\"],[0.4444444444444444,\"#bd3786\"],[0.5555555555555556,\"#d8576b\"],[0.6666666666666666,\"#ed7953\"],[0.7777777777777778,\"#fb9f3a\"],[0.8888888888888888,\"#fdca26\"],[1.0,\"#f0f921\"]]}],\"surface\":[{\"type\":\"surface\",\"colorbar\":{\"outlinewidth\":0,\"ticks\":\"\"},\"colorscale\":[[0.0,\"#0d0887\"],[0.1111111111111111,\"#46039f\"],[0.2222222222222222,\"#7201a8\"],[0.3333333333333333,\"#9c179e\"],[0.4444444444444444,\"#bd3786\"],[0.5555555555555556,\"#d8576b\"],[0.6666666666666666,\"#ed7953\"],[0.7777777777777778,\"#fb9f3a\"],[0.8888888888888888,\"#fdca26\"],[1.0,\"#f0f921\"]]}],\"mesh3d\":[{\"type\":\"mesh3d\",\"colorbar\":{\"outlinewidth\":0,\"ticks\":\"\"}}],\"scatter\":[{\"fillpattern\":{\"fillmode\":\"overlay\",\"size\":10,\"solidity\":0.2},\"type\":\"scatter\"}],\"parcoords\":[{\"type\":\"parcoords\",\"line\":{\"colorbar\":{\"outlinewidth\":0,\"ticks\":\"\"}}}],\"scatterpolargl\":[{\"type\":\"scatterpolargl\",\"marker\":{\"colorbar\":{\"outlinewidth\":0,\"ticks\":\"\"}}}],\"bar\":[{\"error_x\":{\"color\":\"#2a3f5f\"},\"error_y\":{\"color\":\"#2a3f5f\"},\"marker\":{\"line\":{\"color\":\"#E5ECF6\",\"width\":0.5},\"pattern\":{\"fillmode\":\"overlay\",\"size\":10,\"solidity\":0.2}},\"type\":\"bar\"}],\"scattergeo\":[{\"type\":\"scattergeo\",\"marker\":{\"colorbar\":{\"outlinewidth\":0,\"ticks\":\"\"}}}],\"scatterpolar\":[{\"type\":\"scatterpolar\",\"marker\":{\"colorbar\":{\"outlinewidth\":0,\"ticks\":\"\"}}}],\"histogram\":[{\"marker\":{\"pattern\":{\"fillmode\":\"overlay\",\"size\":10,\"solidity\":0.2}},\"type\":\"histogram\"}],\"scattergl\":[{\"type\":\"scattergl\",\"marker\":{\"colorbar\":{\"outlinewidth\":0,\"ticks\":\"\"}}}],\"scatter3d\":[{\"type\":\"scatter3d\",\"line\":{\"colorbar\":{\"outlinewidth\":0,\"ticks\":\"\"}},\"marker\":{\"colorbar\":{\"outlinewidth\":0,\"ticks\":\"\"}}}],\"scattermapbox\":[{\"type\":\"scattermapbox\",\"marker\":{\"colorbar\":{\"outlinewidth\":0,\"ticks\":\"\"}}}],\"scatterternary\":[{\"type\":\"scatterternary\",\"marker\":{\"colorbar\":{\"outlinewidth\":0,\"ticks\":\"\"}}}],\"scattercarpet\":[{\"type\":\"scattercarpet\",\"marker\":{\"colorbar\":{\"outlinewidth\":0,\"ticks\":\"\"}}}],\"carpet\":[{\"aaxis\":{\"endlinecolor\":\"#2a3f5f\",\"gridcolor\":\"white\",\"linecolor\":\"white\",\"minorgridcolor\":\"white\",\"startlinecolor\":\"#2a3f5f\"},\"baxis\":{\"endlinecolor\":\"#2a3f5f\",\"gridcolor\":\"white\",\"linecolor\":\"white\",\"minorgridcolor\":\"white\",\"startlinecolor\":\"#2a3f5f\"},\"type\":\"carpet\"}],\"table\":[{\"cells\":{\"fill\":{\"color\":\"#EBF0F8\"},\"line\":{\"color\":\"white\"}},\"header\":{\"fill\":{\"color\":\"#C8D4E3\"},\"line\":{\"color\":\"white\"}},\"type\":\"table\"}],\"barpolar\":[{\"marker\":{\"line\":{\"color\":\"#E5ECF6\",\"width\":0.5},\"pattern\":{\"fillmode\":\"overlay\",\"size\":10,\"solidity\":0.2}},\"type\":\"barpolar\"}],\"pie\":[{\"automargin\":true,\"type\":\"pie\"}]},\"layout\":{\"autotypenumbers\":\"strict\",\"colorway\":[\"#636efa\",\"#EF553B\",\"#00cc96\",\"#ab63fa\",\"#FFA15A\",\"#19d3f3\",\"#FF6692\",\"#B6E880\",\"#FF97FF\",\"#FECB52\"],\"font\":{\"color\":\"#2a3f5f\"},\"hovermode\":\"closest\",\"hoverlabel\":{\"align\":\"left\"},\"paper_bgcolor\":\"white\",\"plot_bgcolor\":\"#E5ECF6\",\"polar\":{\"bgcolor\":\"#E5ECF6\",\"angularaxis\":{\"gridcolor\":\"white\",\"linecolor\":\"white\",\"ticks\":\"\"},\"radialaxis\":{\"gridcolor\":\"white\",\"linecolor\":\"white\",\"ticks\":\"\"}},\"ternary\":{\"bgcolor\":\"#E5ECF6\",\"aaxis\":{\"gridcolor\":\"white\",\"linecolor\":\"white\",\"ticks\":\"\"},\"baxis\":{\"gridcolor\":\"white\",\"linecolor\":\"white\",\"ticks\":\"\"},\"caxis\":{\"gridcolor\":\"white\",\"linecolor\":\"white\",\"ticks\":\"\"}},\"coloraxis\":{\"colorbar\":{\"outlinewidth\":0,\"ticks\":\"\"}},\"colorscale\":{\"sequential\":[[0.0,\"#0d0887\"],[0.1111111111111111,\"#46039f\"],[0.2222222222222222,\"#7201a8\"],[0.3333333333333333,\"#9c179e\"],[0.4444444444444444,\"#bd3786\"],[0.5555555555555556,\"#d8576b\"],[0.6666666666666666,\"#ed7953\"],[0.7777777777777778,\"#fb9f3a\"],[0.8888888888888888,\"#fdca26\"],[1.0,\"#f0f921\"]],\"sequentialminus\":[[0.0,\"#0d0887\"],[0.1111111111111111,\"#46039f\"],[0.2222222222222222,\"#7201a8\"],[0.3333333333333333,\"#9c179e\"],[0.4444444444444444,\"#bd3786\"],[0.5555555555555556,\"#d8576b\"],[0.6666666666666666,\"#ed7953\"],[0.7777777777777778,\"#fb9f3a\"],[0.8888888888888888,\"#fdca26\"],[1.0,\"#f0f921\"]],\"diverging\":[[0,\"#8e0152\"],[0.1,\"#c51b7d\"],[0.2,\"#de77ae\"],[0.3,\"#f1b6da\"],[0.4,\"#fde0ef\"],[0.5,\"#f7f7f7\"],[0.6,\"#e6f5d0\"],[0.7,\"#b8e186\"],[0.8,\"#7fbc41\"],[0.9,\"#4d9221\"],[1,\"#276419\"]]},\"xaxis\":{\"gridcolor\":\"white\",\"linecolor\":\"white\",\"ticks\":\"\",\"title\":{\"standoff\":15},\"zerolinecolor\":\"white\",\"automargin\":true,\"zerolinewidth\":2},\"yaxis\":{\"gridcolor\":\"white\",\"linecolor\":\"white\",\"ticks\":\"\",\"title\":{\"standoff\":15},\"zerolinecolor\":\"white\",\"automargin\":true,\"zerolinewidth\":2},\"scene\":{\"xaxis\":{\"backgroundcolor\":\"#E5ECF6\",\"gridcolor\":\"white\",\"linecolor\":\"white\",\"showbackground\":true,\"ticks\":\"\",\"zerolinecolor\":\"white\",\"gridwidth\":2},\"yaxis\":{\"backgroundcolor\":\"#E5ECF6\",\"gridcolor\":\"white\",\"linecolor\":\"white\",\"showbackground\":true,\"ticks\":\"\",\"zerolinecolor\":\"white\",\"gridwidth\":2},\"zaxis\":{\"backgroundcolor\":\"#E5ECF6\",\"gridcolor\":\"white\",\"linecolor\":\"white\",\"showbackground\":true,\"ticks\":\"\",\"zerolinecolor\":\"white\",\"gridwidth\":2}},\"shapedefaults\":{\"line\":{\"color\":\"#2a3f5f\"}},\"annotationdefaults\":{\"arrowcolor\":\"#2a3f5f\",\"arrowhead\":0,\"arrowwidth\":1},\"geo\":{\"bgcolor\":\"white\",\"landcolor\":\"#E5ECF6\",\"subunitcolor\":\"white\",\"showland\":true,\"showlakes\":true,\"lakecolor\":\"white\"},\"title\":{\"x\":0.05},\"mapbox\":{\"style\":\"light\"}}},\"xaxis\":{\"anchor\":\"y\",\"domain\":[0.0,1.0],\"title\":{\"text\":\"year\"}},\"yaxis\":{\"anchor\":\"x\",\"domain\":[0.0,1.0],\"title\":{\"text\":\"abortionratiototal\"}},\"legend\":{\"tracegroupgap\":0},\"title\":{\"text\":\"Abortion Timeline\"}},                        {\"responsive\": true}                    ).then(function(){\n",
       "                            \n",
       "var gd = document.getElementById('ac62f1c0-30ae-4c8f-abbc-9bbb3f194690');\n",
       "var x = new MutationObserver(function (mutations, observer) {{\n",
       "        var display = window.getComputedStyle(gd).display;\n",
       "        if (!display || display === 'none') {{\n",
       "            console.log([gd, 'removed!']);\n",
       "            Plotly.purge(gd);\n",
       "            observer.disconnect();\n",
       "        }}\n",
       "}});\n",
       "\n",
       "// Listen for the removal of the full notebook cells\n",
       "var notebookContainer = gd.closest('#notebook-container');\n",
       "if (notebookContainer) {{\n",
       "    x.observe(notebookContainer, {childList: true});\n",
       "}}\n",
       "\n",
       "// Listen for the clearing of the current output cell\n",
       "var outputEl = gd.closest('.output');\n",
       "if (outputEl) {{\n",
       "    x.observe(outputEl, {childList: true});\n",
       "}}\n",
       "\n",
       "                        })                };                });            </script>        </div>"
      ]
     },
     "metadata": {},
     "output_type": "display_data"
    }
   ],
   "source": [
    "fig = px.line(AbTimeline_df, x = 'year', y = 'abortionratiototal', title='Abortion Timeline')\n",
    "fig.show()"
   ]
  },
  {
   "cell_type": "code",
   "execution_count": 87,
   "id": "90ea483e",
   "metadata": {},
   "outputs": [],
   "source": [
    "\n",
    "# !jupyter nbconvert --to html --no-input --no-prompt AXA.ipynb"
   ]
  },
  {
   "cell_type": "code",
   "execution_count": 88,
   "id": "080a301d",
   "metadata": {},
   "outputs": [],
   "source": [
    "import plotly.graph_objects as go\n",
    "fig = go.Figure()"
   ]
  },
  {
   "cell_type": "code",
   "execution_count": 89,
   "id": "c7f2ace8",
   "metadata": {},
   "outputs": [],
   "source": [
    "import plotly.graph_objects as go\n",
    "from plotly.subplots import make_subplots"
   ]
  },
  {
   "cell_type": "code",
   "execution_count": 90,
   "id": "364358b7",
   "metadata": {},
   "outputs": [
    {
     "ename": "SyntaxError",
     "evalue": "invalid syntax (1688822112.py, line 3)",
     "output_type": "error",
     "traceback": [
      "\u001b[0;36m  Input \u001b[0;32mIn [90]\u001b[0;36m\u001b[0m\n\u001b[0;31m    var trace1 = {\u001b[0m\n\u001b[0m        ^\u001b[0m\n\u001b[0;31mSyntaxError\u001b[0m\u001b[0;31m:\u001b[0m invalid syntax\n"
     ]
    }
   ],
   "source": [
    "fig = px.scatter(AbTimeline_df, x = 'year', y = 'abortionstotal', title='Banning Abortions Volume')\n",
    "\n",
    "var trace1 = {\n",
    "      x: 'year', \n",
    "      y: 'abortionratiototal', \n",
    "      name: 'Timeline', \n",
    "      type: 'scatter'\n",
    "};\n",
    "var trace2 = {\n",
    "      x: 'State', \n",
    "      y: 'abortionratiototal', \n",
    "      name: 'State_xaxs', \n",
    "      xaxis: 'x2', \n",
    "      type: 'scatter'\n",
    "};\n",
    "\n",
    "var data = [trace1, trace2];\n",
    "\n",
    "var layout = {\n",
    "      yaxis: {title: 'yaxis title'}, \n",
    "      xaxis2: {\n",
    "            title: 'xaxis2 title', \n",
    "            titlefont: {color: 'rgb(148, 103, 189)'}, \n",
    "            tickfont: {color: 'rgb(148, 103, 189)'}, \n",
    "            overlaying: 'x', \n",
    "            side: 'top'\n",
    "      }\n",
    "};\n",
    "Plotly.newPlot('myDiv', data, layout);"
   ]
  },
  {
   "cell_type": "code",
   "execution_count": 96,
   "id": "8c5b1e5e",
   "metadata": {},
   "outputs": [
    {
     "data": {
      "application/vnd.plotly.v1+json": {
       "config": {
        "plotlyServerURL": "https://plot.ly"
       },
       "data": [
        {
         "alignmentgroup": "True",
         "bingroup": "x",
         "histfunc": "sum",
         "hovertemplate": "state=%{x}<br>sum of abortionstotal=%{y}<extra></extra>",
         "legendgroup": "AL",
         "marker": {
          "color": "#636efa",
          "pattern": {
           "shape": ""
          }
         },
         "name": "AL",
         "offsetgroup": "AL",
         "orientation": "v",
         "showlegend": true,
         "type": "histogram",
         "x": [
          "AL",
          "AL",
          "AL",
          "AL",
          "AL",
          "AL",
          "AL",
          "AL",
          "AL",
          "AL",
          "AL",
          "AL",
          "AL",
          "AL",
          "AL",
          "AL",
          "AL"
         ],
         "xaxis": "x",
         "y": [
          20100,
          17720,
          14940,
          13060,
          10840,
          10980,
          11130,
          11020,
          10530,
          10030,
          9600,
          8920,
          8230,
          8310,
          8150,
          7920,
          7660
         ],
         "yaxis": "y"
        },
        {
         "alignmentgroup": "True",
         "bingroup": "x",
         "histfunc": "sum",
         "hovertemplate": "state=%{x}<br>sum of abortionstotal=%{y}<extra></extra>",
         "legendgroup": "AK",
         "marker": {
          "color": "#EF553B",
          "pattern": {
           "shape": ""
          }
         },
         "name": "AK",
         "offsetgroup": "AK",
         "orientation": "v",
         "showlegend": true,
         "type": "histogram",
         "x": [
          "AK",
          "AK",
          "AK",
          "AK",
          "AK",
          "AK",
          "AK",
          "AK",
          "AK",
          "AK",
          "AK",
          "AK",
          "AK",
          "AK",
          "AK",
          "AK",
          "AK"
         ],
         "xaxis": "x",
         "y": [
          2700,
          2800,
          2310,
          1900,
          2130,
          2060,
          2000,
          1960,
          2040,
          2120,
          2030,
          1890,
          1740,
          1640,
          1540,
          1450,
          1420
         ],
         "yaxis": "y"
        },
        {
         "alignmentgroup": "True",
         "bingroup": "x",
         "histfunc": "sum",
         "hovertemplate": "state=%{x}<br>sum of abortionstotal=%{y}<extra></extra>",
         "legendgroup": "AZ",
         "marker": {
          "color": "#00cc96",
          "pattern": {
           "shape": ""
          }
         },
         "name": "AZ",
         "offsetgroup": "AZ",
         "orientation": "v",
         "showlegend": true,
         "type": "histogram",
         "x": [
          "AZ",
          "AZ",
          "AZ",
          "AZ",
          "AZ",
          "AZ",
          "AZ",
          "AZ",
          "AZ",
          "AZ",
          "AZ",
          "AZ",
          "AZ",
          "AZ",
          "AZ",
          "AZ",
          "AZ"
         ],
         "xaxis": "x",
         "y": [
          22200,
          21200,
          20120,
          18410,
          19710,
          18850,
          17990,
          19770,
          17480,
          15190,
          16270,
          15040,
          13820,
          13240,
          13640,
          14040,
          13270
         ],
         "yaxis": "y"
        },
        {
         "alignmentgroup": "True",
         "bingroup": "x",
         "histfunc": "sum",
         "hovertemplate": "state=%{x}<br>sum of abortionstotal=%{y}<extra></extra>",
         "legendgroup": "AR",
         "marker": {
          "color": "#ab63fa",
          "pattern": {
           "shape": ""
          }
         },
         "name": "AR",
         "offsetgroup": "AR",
         "orientation": "v",
         "showlegend": true,
         "type": "histogram",
         "x": [
          "AR",
          "AR",
          "AR",
          "AR",
          "AR",
          "AR",
          "AR",
          "AR",
          "AR",
          "AR",
          "AR",
          "AR",
          "AR",
          "AR",
          "AR",
          "AR",
          "AR"
         ],
         "xaxis": "x",
         "y": [
          7860,
          8690,
          6680,
          5880,
          5200,
          5450,
          5690,
          5710,
          5630,
          5490,
          5210,
          5010,
          4810,
          4350,
          3930,
          3590,
          3710
         ],
         "yaxis": "y"
        },
        {
         "alignmentgroup": "True",
         "bingroup": "x",
         "histfunc": "sum",
         "hovertemplate": "state=%{x}<br>sum of abortionstotal=%{y}<extra></extra>",
         "legendgroup": "CA",
         "marker": {
          "color": "#FFA15A",
          "pattern": {
           "shape": ""
          }
         },
         "name": "CA",
         "offsetgroup": "CA",
         "orientation": "v",
         "showlegend": true,
         "type": "histogram",
         "x": [
          "CA",
          "CA",
          "CA",
          "CA",
          "CA",
          "CA",
          "CA",
          "CA",
          "CA",
          "CA",
          "CA",
          "CA",
          "CA",
          "CA",
          "CA",
          "CA",
          "CA"
         ],
         "xaxis": "x",
         "y": [
          311440,
          303850,
          237870,
          235670,
          206260,
          213550,
          220840,
          211930,
          200720,
          189110,
          177360,
          170420,
          163550,
          156690,
          148000,
          139320,
          131380
         ],
         "yaxis": "y"
        },
        {
         "alignmentgroup": "True",
         "bingroup": "x",
         "histfunc": "sum",
         "hovertemplate": "state=%{x}<br>sum of abortionstotal=%{y}<extra></extra>",
         "legendgroup": "CO",
         "marker": {
          "color": "#19d3f3",
          "pattern": {
           "shape": ""
          }
         },
         "name": "CO",
         "offsetgroup": "CO",
         "orientation": "v",
         "showlegend": true,
         "type": "histogram",
         "x": [
          "CO",
          "CO",
          "CO",
          "CO",
          "CO",
          "CO",
          "CO",
          "CO",
          "CO",
          "CO",
          "CO",
          "CO",
          "CO",
          "CO",
          "CO",
          "CO",
          "CO"
         ],
         "xaxis": "x",
         "y": [
          17550,
          18410,
          16670,
          12950,
          14720,
          14990,
          15160,
          14920,
          14330,
          13730,
          13130,
          12400,
          11660,
          11760,
          11410,
          11050,
          11100
         ],
         "yaxis": "y"
        },
        {
         "alignmentgroup": "True",
         "bingroup": "x",
         "histfunc": "sum",
         "hovertemplate": "state=%{x}<br>sum of abortionstotal=%{y}<extra></extra>",
         "legendgroup": "CT",
         "marker": {
          "color": "#FF6692",
          "pattern": {
           "shape": ""
          }
         },
         "name": "CT",
         "offsetgroup": "CT",
         "orientation": "v",
         "showlegend": true,
         "type": "histogram",
         "x": [
          "CT",
          "CT",
          "CT",
          "CT",
          "CT",
          "CT",
          "CT",
          "CT",
          "CT",
          "CT",
          "CT",
          "CT",
          "CT",
          "CT",
          "CT",
          "CT",
          "CT"
         ],
         "xaxis": "x",
         "y": [
          24470,
          20100,
          16510,
          15460,
          17340,
          17580,
          17730,
          17210,
          16350,
          15480,
          14630,
          13900,
          13360,
          13280,
          12770,
          12260,
          11950
         ],
         "yaxis": "y"
        },
        {
         "alignmentgroup": "True",
         "bingroup": "x",
         "histfunc": "sum",
         "hovertemplate": "state=%{x}<br>sum of abortionstotal=%{y}<extra></extra>",
         "legendgroup": "DE",
         "marker": {
          "color": "#B6E880",
          "pattern": {
           "shape": ""
          }
         },
         "name": "DE",
         "offsetgroup": "DE",
         "orientation": "v",
         "showlegend": true,
         "type": "histogram",
         "x": [
          "DE",
          "DE",
          "DE",
          "DE",
          "DE",
          "DE",
          "DE",
          "DE",
          "DE",
          "DE",
          "DE",
          "DE",
          "DE",
          "DE",
          "DE",
          "DE",
          "DE"
         ],
         "xaxis": "x",
         "y": [
          4570,
          4620,
          2970,
          3920,
          4140,
          4990,
          5850,
          5650,
          5520,
          5380,
          4690,
          4010,
          3340,
          3200,
          3040,
          2880,
          2770
         ],
         "yaxis": "y"
        },
        {
         "alignmentgroup": "True",
         "bingroup": "x",
         "histfunc": "sum",
         "hovertemplate": "state=%{x}<br>sum of abortionstotal=%{y}<extra></extra>",
         "legendgroup": "DC",
         "marker": {
          "color": "#FF97FF",
          "pattern": {
           "shape": ""
          }
         },
         "name": "DC",
         "offsetgroup": "DC",
         "orientation": "v",
         "showlegend": true,
         "type": "histogram",
         "x": [
          "DC",
          "DC",
          "DC",
          "DC",
          "DC",
          "DC",
          "DC",
          "DC",
          "DC",
          "DC",
          "DC",
          "DC",
          "DC",
          "DC",
          "DC",
          "DC",
          "DC"
         ],
         "xaxis": "x",
         "y": [
          13830,
          11040,
          5620,
          5750,
          6390,
          5900,
          5400,
          5880,
          4970,
          4060,
          3400,
          3570,
          3740,
          3800,
          3330,
          2870,
          3930
         ],
         "yaxis": "y"
        },
        {
         "alignmentgroup": "True",
         "bingroup": "x",
         "histfunc": "sum",
         "hovertemplate": "state=%{x}<br>sum of abortionstotal=%{y}<extra></extra>",
         "legendgroup": "FL",
         "marker": {
          "color": "#FECB52",
          "pattern": {
           "shape": ""
          }
         },
         "name": "FL",
         "offsetgroup": "FL",
         "orientation": "v",
         "showlegend": true,
         "type": "histogram",
         "x": [
          "FL",
          "FL",
          "FL",
          "FL",
          "FL",
          "FL",
          "FL",
          "FL",
          "FL",
          "FL",
          "FL",
          "FL",
          "FL",
          "FL",
          "FL",
          "FL",
          "FL"
         ],
         "xaxis": "x",
         "y": [
          75820,
          77320,
          90160,
          96000,
          85360,
          86980,
          88600,
          86310,
          84150,
          82020,
          79890,
          76730,
          73560,
          72630,
          69390,
          66150,
          68640
         ],
         "yaxis": "y"
        },
        {
         "alignmentgroup": "True",
         "bingroup": "x",
         "histfunc": "sum",
         "hovertemplate": "state=%{x}<br>sum of abortionstotal=%{y}<extra></extra>",
         "legendgroup": "GA",
         "marker": {
          "color": "#636efa",
          "pattern": {
           "shape": ""
          }
         },
         "name": "GA",
         "offsetgroup": "GA",
         "orientation": "v",
         "showlegend": true,
         "type": "histogram",
         "x": [
          "GA",
          "GA",
          "GA",
          "GA",
          "GA",
          "GA",
          "GA",
          "GA",
          "GA",
          "GA",
          "GA",
          "GA",
          "GA",
          "GA",
          "GA",
          "GA",
          "GA"
         ],
         "xaxis": "x",
         "y": [
          35320,
          39970,
          35230,
          32270,
          32040,
          32690,
          33680,
          39370,
          37260,
          35160,
          34460,
          33620,
          32550,
          31120,
          31750,
          32390,
          32520
         ],
         "yaxis": "y"
        },
        {
         "alignmentgroup": "True",
         "bingroup": "x",
         "histfunc": "sum",
         "hovertemplate": "state=%{x}<br>sum of abortionstotal=%{y}<extra></extra>",
         "legendgroup": "HI",
         "marker": {
          "color": "#EF553B",
          "pattern": {
           "shape": ""
          }
         },
         "name": "HI",
         "offsetgroup": "HI",
         "orientation": "v",
         "showlegend": true,
         "type": "histogram",
         "x": [
          "HI",
          "HI",
          "HI",
          "HI",
          "HI",
          "HI",
          "HI",
          "HI",
          "HI",
          "HI",
          "HI",
          "HI",
          "HI",
          "HI",
          "HI",
          "HI",
          "HI"
         ],
         "xaxis": "x",
         "y": [
          11120,
          12180,
          6930,
          5630,
          5330,
          5490,
          5650,
          5650,
          5590,
          5530,
          5540,
          4900,
          4260,
          3750,
          3370,
          3130,
          3220
         ],
         "yaxis": "y"
        },
        {
         "alignmentgroup": "True",
         "bingroup": "x",
         "histfunc": "sum",
         "hovertemplate": "state=%{x}<br>sum of abortionstotal=%{y}<extra></extra>",
         "legendgroup": "ID",
         "marker": {
          "color": "#00cc96",
          "pattern": {
           "shape": ""
          }
         },
         "name": "ID",
         "offsetgroup": "ID",
         "orientation": "v",
         "showlegend": true,
         "type": "histogram",
         "x": [
          "ID",
          "ID",
          "ID",
          "ID",
          "ID",
          "ID",
          "ID",
          "ID",
          "ID",
          "ID",
          "ID",
          "ID",
          "ID",
          "ID",
          "ID",
          "ID",
          "ID"
         ],
         "xaxis": "x",
         "y": [
          2760,
          2420,
          2450,
          2750,
          2540,
          2700,
          2860,
          2580,
          2490,
          2410,
          2340,
          2090,
          1850,
          1790,
          1780,
          1780,
          1790
         ],
         "yaxis": "y"
        },
        {
         "alignmentgroup": "True",
         "bingroup": "x",
         "histfunc": "sum",
         "hovertemplate": "state=%{x}<br>sum of abortionstotal=%{y}<extra></extra>",
         "legendgroup": "IL",
         "marker": {
          "color": "#ab63fa",
          "pattern": {
           "shape": ""
          }
         },
         "name": "IL",
         "offsetgroup": "IL",
         "orientation": "v",
         "showlegend": true,
         "type": "histogram",
         "x": [
          "IL",
          "IL",
          "IL",
          "IL",
          "IL",
          "IL",
          "IL",
          "IL",
          "IL",
          "IL",
          "IL",
          "IL",
          "IL",
          "IL",
          "IL",
          "IL",
          "IL"
         ],
         "xaxis": "x",
         "y": [
          72500,
          66500,
          66920,
          58370,
          48420,
          48560,
          48710,
          51670,
          47020,
          42370,
          42360,
          42020,
          41430,
          40120,
          38830,
          37590,
          37770
         ],
         "yaxis": "y"
        },
        {
         "alignmentgroup": "True",
         "bingroup": "x",
         "histfunc": "sum",
         "hovertemplate": "state=%{x}<br>sum of abortionstotal=%{y}<extra></extra>",
         "legendgroup": "IN",
         "marker": {
          "color": "#FFA15A",
          "pattern": {
           "shape": ""
          }
         },
         "name": "IN",
         "offsetgroup": "IN",
         "orientation": "v",
         "showlegend": true,
         "type": "histogram",
         "x": [
          "IN",
          "IN",
          "IN",
          "IN",
          "IN",
          "IN",
          "IN",
          "IN",
          "IN",
          "IN",
          "IN",
          "IN",
          "IN",
          "IN",
          "IN",
          "IN",
          "IN"
         ],
         "xaxis": "x",
         "y": [
          20930,
          21170,
          18340,
          15140,
          13180,
          12810,
          12440,
          12300,
          12020,
          11600,
          10710,
          10200,
          9910,
          10130,
          10190,
          10240,
          10270
         ],
         "yaxis": "y"
        },
        {
         "alignmentgroup": "True",
         "bingroup": "x",
         "histfunc": "sum",
         "hovertemplate": "state=%{x}<br>sum of abortionstotal=%{y}<extra></extra>",
         "legendgroup": "IA",
         "marker": {
          "color": "#19d3f3",
          "pattern": {
           "shape": ""
          }
         },
         "name": "IA",
         "offsetgroup": "IA",
         "orientation": "v",
         "showlegend": true,
         "type": "histogram",
         "x": [
          "IA",
          "IA",
          "IA",
          "IA",
          "IA",
          "IA",
          "IA",
          "IA",
          "IA",
          "IA",
          "IA",
          "IA",
          "IA",
          "IA",
          "IA",
          "IA",
          "IA"
         ],
         "xaxis": "x",
         "y": [
          10480,
          7480,
          6150,
          6280,
          6130,
          6390,
          6660,
          6160,
          6010,
          5860,
          5430,
          4790,
          4150,
          3930,
          3990,
          4050,
          3650
         ],
         "yaxis": "y"
        },
        {
         "alignmentgroup": "True",
         "bingroup": "x",
         "histfunc": "sum",
         "hovertemplate": "state=%{x}<br>sum of abortionstotal=%{y}<extra></extra>",
         "legendgroup": "KS",
         "marker": {
          "color": "#FF6692",
          "pattern": {
           "shape": ""
          }
         },
         "name": "KS",
         "offsetgroup": "KS",
         "orientation": "v",
         "showlegend": true,
         "type": "histogram",
         "x": [
          "KS",
          "KS",
          "KS",
          "KS",
          "KS",
          "KS",
          "KS",
          "KS",
          "KS",
          "KS",
          "KS",
          "KS",
          "KS",
          "KS",
          "KS",
          "KS",
          "KS"
         ],
         "xaxis": "x",
         "y": [
          7210,
          7140,
          6940,
          6440,
          5620,
          5670,
          5720,
          5670,
          4830,
          3990,
          3870,
          3910,
          3940,
          3800,
          3660,
          3520,
          3520
         ],
         "yaxis": "y"
        },
        {
         "alignmentgroup": "True",
         "bingroup": "x",
         "histfunc": "sum",
         "hovertemplate": "state=%{x}<br>sum of abortionstotal=%{y}<extra></extra>",
         "legendgroup": "KY",
         "marker": {
          "color": "#B6E880",
          "pattern": {
           "shape": ""
          }
         },
         "name": "KY",
         "offsetgroup": "KY",
         "orientation": "v",
         "showlegend": true,
         "type": "histogram",
         "x": [
          "KY",
          "KY",
          "KY",
          "KY",
          "KY",
          "KY",
          "KY",
          "KY",
          "KY",
          "KY",
          "KY",
          "KY",
          "KY",
          "KY",
          "KY",
          "KY",
          "KY"
         ],
         "xaxis": "x",
         "y": [
          10090,
          9850,
          7890,
          6720,
          6060,
          6080,
          6110,
          6380,
          6170,
          5960,
          5820,
          5500,
          5180,
          5180,
          4910,
          4640,
          4780
         ],
         "yaxis": "y"
        },
        {
         "alignmentgroup": "True",
         "bingroup": "x",
         "histfunc": "sum",
         "hovertemplate": "state=%{x}<br>sum of abortionstotal=%{y}<extra></extra>",
         "legendgroup": "LA",
         "marker": {
          "color": "#FF97FF",
          "pattern": {
           "shape": ""
          }
         },
         "name": "LA",
         "offsetgroup": "LA",
         "orientation": "v",
         "showlegend": true,
         "type": "histogram",
         "x": [
          "LA",
          "LA",
          "LA",
          "LA",
          "LA",
          "LA",
          "LA",
          "LA",
          "LA",
          "LA",
          "LA",
          "LA",
          "LA",
          "LA",
          "LA",
          "LA",
          "LA"
         ],
         "xaxis": "x",
         "y": [
          17030,
          11800,
          13110,
          11380,
          10330,
          11220,
          12520,
          14110,
          12930,
          11750,
          11310,
          10470,
          9630,
          9620,
          9830,
          10040,
          9280
         ],
         "yaxis": "y"
        },
        {
         "alignmentgroup": "True",
         "bingroup": "x",
         "histfunc": "sum",
         "hovertemplate": "state=%{x}<br>sum of abortionstotal=%{y}<extra></extra>",
         "legendgroup": "ME",
         "marker": {
          "color": "#FECB52",
          "pattern": {
           "shape": ""
          }
         },
         "name": "ME",
         "offsetgroup": "ME",
         "orientation": "v",
         "showlegend": true,
         "type": "histogram",
         "x": [
          "ME",
          "ME",
          "ME",
          "ME",
          "ME",
          "ME",
          "ME",
          "ME",
          "ME",
          "ME",
          "ME",
          "ME",
          "ME",
          "ME",
          "ME",
          "ME",
          "ME"
         ],
         "xaxis": "x",
         "y": [
          4140,
          4260,
          3390,
          2910,
          2840,
          2940,
          3030,
          2970,
          2830,
          2640,
          2410,
          2390,
          2380,
          2400,
          2240,
          2080,
          2050
         ],
         "yaxis": "y"
        },
        {
         "alignmentgroup": "True",
         "bingroup": "x",
         "histfunc": "sum",
         "hovertemplate": "state=%{x}<br>sum of abortionstotal=%{y}<extra></extra>",
         "legendgroup": "MD",
         "marker": {
          "color": "#636efa",
          "pattern": {
           "shape": ""
          }
         },
         "name": "MD",
         "offsetgroup": "MD",
         "orientation": "v",
         "showlegend": true,
         "type": "histogram",
         "x": [
          "MD",
          "MD",
          "MD",
          "MD",
          "MD",
          "MD",
          "MD",
          "MD",
          "MD",
          "MD",
          "MD",
          "MD",
          "MD",
          "MD",
          "MD",
          "MD",
          "MD"
         ],
         "xaxis": "x",
         "y": [
          41090,
          39490,
          36940,
          38670,
          35250,
          31990,
          28720,
          28390,
          29630,
          30890,
          32140,
          29610,
          27080,
          26430,
          26010,
          25730,
          26940
         ],
         "yaxis": "y"
        },
        {
         "alignmentgroup": "True",
         "bingroup": "x",
         "histfunc": "sum",
         "hovertemplate": "state=%{x}<br>sum of abortionstotal=%{y}<extra></extra>",
         "legendgroup": "MA",
         "marker": {
          "color": "#EF553B",
          "pattern": {
           "shape": ""
          }
         },
         "name": "MA",
         "offsetgroup": "MA",
         "orientation": "v",
         "showlegend": true,
         "type": "histogram",
         "x": [
          "MA",
          "MA",
          "MA",
          "MA",
          "MA",
          "MA",
          "MA",
          "MA",
          "MA",
          "MA",
          "MA",
          "MA",
          "MA",
          "MA",
          "MA",
          "MA",
          "MA"
         ],
         "xaxis": "x",
         "y": [
          44260,
          41610,
          40150,
          29870,
          27800,
          27130,
          26460,
          25800,
          25240,
          24790,
          24430,
          22840,
          21250,
          21280,
          20370,
          19470,
          18880
         ],
         "yaxis": "y"
        },
        {
         "alignmentgroup": "True",
         "bingroup": "x",
         "histfunc": "sum",
         "hovertemplate": "state=%{x}<br>sum of abortionstotal=%{y}<extra></extra>",
         "legendgroup": "MI",
         "marker": {
          "color": "#00cc96",
          "pattern": {
           "shape": ""
          }
         },
         "name": "MI",
         "offsetgroup": "MI",
         "orientation": "v",
         "showlegend": true,
         "type": "histogram",
         "x": [
          "MI",
          "MI",
          "MI",
          "MI",
          "MI",
          "MI",
          "MI",
          "MI",
          "MI",
          "MI",
          "MI",
          "MI",
          "MI",
          "MI",
          "MI",
          "MI",
          "MI"
         ],
         "xaxis": "x",
         "y": [
          62770,
          54530,
          47430,
          45710,
          39930,
          37530,
          35780,
          36050,
          33410,
          30770,
          29270,
          28780,
          28420,
          28130,
          27290,
          26460,
          26130
         ],
         "yaxis": "y"
        },
        {
         "alignmentgroup": "True",
         "bingroup": "x",
         "histfunc": "sum",
         "hovertemplate": "state=%{x}<br>sum of abortionstotal=%{y}<extra></extra>",
         "legendgroup": "MN",
         "marker": {
          "color": "#ab63fa",
          "pattern": {
           "shape": ""
          }
         },
         "name": "MN",
         "offsetgroup": "MN",
         "orientation": "v",
         "showlegend": true,
         "type": "histogram",
         "x": [
          "MN",
          "MN",
          "MN",
          "MN",
          "MN",
          "MN",
          "MN",
          "MN",
          "MN",
          "MN",
          "MN",
          "MN",
          "MN",
          "MN",
          "MN",
          "MN",
          "MN"
         ],
         "xaxis": "x",
         "y": [
          17400,
          15090,
          13950,
          13940,
          13370,
          13420,
          13480,
          12580,
          11780,
          11120,
          10690,
          10130,
          9570,
          9230,
          9360,
          9590,
          10100
         ],
         "yaxis": "y"
        },
        {
         "alignmentgroup": "True",
         "bingroup": "x",
         "histfunc": "sum",
         "hovertemplate": "state=%{x}<br>sum of abortionstotal=%{y}<extra></extra>",
         "legendgroup": "MS",
         "marker": {
          "color": "#FFA15A",
          "pattern": {
           "shape": ""
          }
         },
         "name": "MS",
         "offsetgroup": "MS",
         "orientation": "v",
         "showlegend": true,
         "type": "histogram",
         "x": [
          "MS",
          "MS",
          "MS",
          "MS",
          "MS",
          "MS",
          "MS",
          "MS",
          "MS",
          "MS",
          "MS",
          "MS",
          "MS",
          "MS",
          "MS",
          "MS",
          "MS"
         ],
         "xaxis": "x",
         "y": [
          6480,
          8830,
          9020,
          9060,
          7930,
          7880,
          7850,
          8210,
          7640,
          7070,
          6700,
          6280,
          5860,
          5540,
          5300,
          5100,
          4930
         ],
         "yaxis": "y"
        },
        {
         "alignmentgroup": "True",
         "bingroup": "x",
         "histfunc": "sum",
         "hovertemplate": "state=%{x}<br>sum of abortionstotal=%{y}<extra></extra>",
         "legendgroup": "MO",
         "marker": {
          "color": "#19d3f3",
          "pattern": {
           "shape": ""
          }
         },
         "name": "MO",
         "offsetgroup": "MO",
         "orientation": "v",
         "showlegend": true,
         "type": "histogram",
         "x": [
          "MO",
          "MO",
          "MO",
          "MO",
          "MO",
          "MO",
          "MO",
          "MO",
          "MO",
          "MO",
          "MO",
          "MO",
          "MO",
          "MO",
          "MO",
          "MO",
          "MO"
         ],
         "xaxis": "x",
         "y": [
          23940,
          19870,
          16050,
          17410,
          14900,
          15070,
          15250,
          15160,
          13550,
          11930,
          11510,
          11080,
          10610,
          9180,
          9640,
          10100,
          9690
         ],
         "yaxis": "y"
        },
        {
         "alignmentgroup": "True",
         "bingroup": "x",
         "histfunc": "sum",
         "hovertemplate": "state=%{x}<br>sum of abortionstotal=%{y}<extra></extra>",
         "legendgroup": "MT",
         "marker": {
          "color": "#FF6692",
          "pattern": {
           "shape": ""
          }
         },
         "name": "MT",
         "offsetgroup": "MT",
         "orientation": "v",
         "showlegend": true,
         "type": "histogram",
         "x": [
          "MT",
          "MT",
          "MT",
          "MT",
          "MT",
          "MT",
          "MT",
          "MT",
          "MT",
          "MT",
          "MT",
          "MT",
          "MT",
          "MT",
          "MT",
          "MT",
          "MT"
         ],
         "xaxis": "x",
         "y": [
          2350,
          2810,
          2430,
          2220,
          2020,
          2070,
          2110,
          2040,
          2000,
          1980,
          1990,
          1820,
          1660,
          1520,
          1530,
          1540,
          1510
         ],
         "yaxis": "y"
        },
        {
         "alignmentgroup": "True",
         "bingroup": "x",
         "histfunc": "sum",
         "hovertemplate": "state=%{x}<br>sum of abortionstotal=%{y}<extra></extra>",
         "legendgroup": "NE",
         "marker": {
          "color": "#B6E880",
          "pattern": {
           "shape": ""
          }
         },
         "name": "NE",
         "offsetgroup": "NE",
         "orientation": "v",
         "showlegend": true,
         "type": "histogram",
         "x": [
          "NE",
          "NE",
          "NE",
          "NE",
          "NE",
          "NE",
          "NE",
          "NE",
          "NE",
          "NE",
          "NE",
          "NE",
          "NE",
          "NE",
          "NE",
          "NE",
          "NE"
         ],
         "xaxis": "x",
         "y": [
          5490,
          4950,
          3930,
          3920,
          2990,
          2690,
          2500,
          2850,
          2630,
          2410,
          2550,
          2510,
          2440,
          2360,
          2260,
          2170,
          2250
         ],
         "yaxis": "y"
        },
        {
         "alignmentgroup": "True",
         "bingroup": "x",
         "histfunc": "sum",
         "hovertemplate": "state=%{x}<br>sum of abortionstotal=%{y}<extra></extra>",
         "legendgroup": "NV",
         "marker": {
          "color": "#FF97FF",
          "pattern": {
           "shape": ""
          }
         },
         "name": "NV",
         "offsetgroup": "NV",
         "orientation": "v",
         "showlegend": true,
         "type": "histogram",
         "x": [
          "NV",
          "NV",
          "NV",
          "NV",
          "NV",
          "NV",
          "NV",
          "NV",
          "NV",
          "NV",
          "NV",
          "NV",
          "NV",
          "NV",
          "NV",
          "NV",
          "NV"
         ],
         "xaxis": "x",
         "y": [
          9450,
          12400,
          14080,
          12880,
          12990,
          13320,
          13630,
          13020,
          12790,
          12570,
          11960,
          10750,
          9550,
          10840,
          10150,
          9460,
          9620
         ],
         "yaxis": "y"
        },
        {
         "alignmentgroup": "True",
         "bingroup": "x",
         "histfunc": "sum",
         "hovertemplate": "state=%{x}<br>sum of abortionstotal=%{y}<extra></extra>",
         "legendgroup": "NH",
         "marker": {
          "color": "#FECB52",
          "pattern": {
           "shape": ""
          }
         },
         "name": "NH",
         "offsetgroup": "NH",
         "orientation": "v",
         "showlegend": true,
         "type": "histogram",
         "x": [
          "NH",
          "NH",
          "NH",
          "NH",
          "NH",
          "NH",
          "NH",
          "NH",
          "NH",
          "NH",
          "NH",
          "NH",
          "NH",
          "NH",
          "NH",
          "NH",
          "NH"
         ],
         "xaxis": "x",
         "y": [
          5940,
          4490,
          4670,
          4020,
          3060,
          3030,
          2990,
          2860,
          2840,
          2830,
          2880,
          2610,
          2340,
          2530,
          2480,
          2410,
          2330
         ],
         "yaxis": "y"
        },
        {
         "alignmentgroup": "True",
         "bingroup": "x",
         "histfunc": "sum",
         "hovertemplate": "state=%{x}<br>sum of abortionstotal=%{y}<extra></extra>",
         "legendgroup": "NJ",
         "marker": {
          "color": "#636efa",
          "pattern": {
           "shape": ""
          }
         },
         "name": "NJ",
         "offsetgroup": "NJ",
         "orientation": "v",
         "showlegend": true,
         "type": "histogram",
         "x": [
          "NJ",
          "NJ",
          "NJ",
          "NJ",
          "NJ",
          "NJ",
          "NJ",
          "NJ",
          "NJ",
          "NJ",
          "NJ",
          "NJ",
          "NJ",
          "NJ",
          "NJ",
          "NJ",
          "NJ"
         ],
         "xaxis": "x",
         "y": [
          66300,
          58420,
          64230,
          66110,
          60330,
          58030,
          55740,
          54730,
          51930,
          49130,
          46670,
          44680,
          43340,
          43990,
          45680,
          47370,
          47010
         ],
         "yaxis": "y"
        },
        {
         "alignmentgroup": "True",
         "bingroup": "x",
         "histfunc": "sum",
         "hovertemplate": "state=%{x}<br>sum of abortionstotal=%{y}<extra></extra>",
         "legendgroup": "NM",
         "marker": {
          "color": "#EF553B",
          "pattern": {
           "shape": ""
          }
         },
         "name": "NM",
         "offsetgroup": "NM",
         "orientation": "v",
         "showlegend": true,
         "type": "histogram",
         "x": [
          "NM",
          "NM",
          "NM",
          "NM",
          "NM",
          "NM",
          "NM",
          "NM",
          "NM",
          "NM",
          "NM",
          "NM",
          "NM",
          "NM",
          "NM",
          "NM",
          "NM"
         ],
         "xaxis": "x",
         "y": [
          8180,
          7780,
          6560,
          6890,
          6690,
          7020,
          7350,
          6730,
          6420,
          6110,
          5520,
          4860,
          4190,
          4030,
          4120,
          4210,
          3830
         ],
         "yaxis": "y"
        },
        {
         "alignmentgroup": "True",
         "bingroup": "x",
         "histfunc": "sum",
         "hovertemplate": "state=%{x}<br>sum of abortionstotal=%{y}<extra></extra>",
         "legendgroup": "NY",
         "marker": {
          "color": "#00cc96",
          "pattern": {
           "shape": ""
          }
         },
         "name": "NY",
         "offsetgroup": "NY",
         "orientation": "v",
         "showlegend": true,
         "type": "histogram",
         "x": [
          "NY",
          "NY",
          "NY",
          "NY",
          "NY",
          "NY",
          "NY",
          "NY",
          "NY",
          "NY",
          "NY",
          "NY",
          "NY",
          "NY",
          "NY",
          "NY",
          "NY"
         ],
         "xaxis": "x",
         "y": [
          179830,
          191100,
          164080,
          161160,
          152340,
          148030,
          144390,
          149070,
          144390,
          139700,
          136280,
          126630,
          116970,
          117580,
          113350,
          108350,
          103060
         ],
         "yaxis": "y"
        },
        {
         "alignmentgroup": "True",
         "bingroup": "x",
         "histfunc": "sum",
         "hovertemplate": "state=%{x}<br>sum of abortionstotal=%{y}<extra></extra>",
         "legendgroup": "NC",
         "marker": {
          "color": "#ab63fa",
          "pattern": {
           "shape": ""
          }
         },
         "name": "NC",
         "offsetgroup": "NC",
         "orientation": "v",
         "showlegend": true,
         "type": "histogram",
         "x": [
          "NC",
          "NC",
          "NC",
          "NC",
          "NC",
          "NC",
          "NC",
          "NC",
          "NC",
          "NC",
          "NC",
          "NC",
          "NC",
          "NC",
          "NC",
          "NC",
          "NC"
         ],
         "xaxis": "x",
         "y": [
          38120,
          34000,
          31070,
          33620,
          29730,
          29970,
          30220,
          29000,
          28340,
          27670,
          25080,
          25960,
          26850,
          26410,
          24870,
          23320,
          25060
         ],
         "yaxis": "y"
        },
        {
         "alignmentgroup": "True",
         "bingroup": "x",
         "histfunc": "sum",
         "hovertemplate": "state=%{x}<br>sum of abortionstotal=%{y}<extra></extra>",
         "legendgroup": "ND",
         "marker": {
          "color": "#FFA15A",
          "pattern": {
           "shape": ""
          }
         },
         "name": "ND",
         "offsetgroup": "ND",
         "orientation": "v",
         "showlegend": true,
         "type": "histogram",
         "x": [
          "ND",
          "ND",
          "ND",
          "ND",
          "ND",
          "ND",
          "ND",
          "ND",
          "ND",
          "ND",
          "ND",
          "ND",
          "ND",
          "ND",
          "ND",
          "ND",
          "ND"
         ],
         "xaxis": "x",
         "y": [
          1510,
          1190,
          1050,
          940,
          890,
          900,
          910,
          1010,
          1000,
          980,
          940,
          920,
          900,
          1020,
          990,
          960,
          970
         ],
         "yaxis": "y"
        },
        {
         "alignmentgroup": "True",
         "bingroup": "x",
         "histfunc": "sum",
         "hovertemplate": "state=%{x}<br>sum of abortionstotal=%{y}<extra></extra>",
         "legendgroup": "OH",
         "marker": {
          "color": "#19d3f3",
          "pattern": {
           "shape": ""
          }
         },
         "name": "OH",
         "offsetgroup": "OH",
         "orientation": "v",
         "showlegend": true,
         "type": "histogram",
         "x": [
          "OH",
          "OH",
          "OH",
          "OH",
          "OH",
          "OH",
          "OH",
          "OH",
          "OH",
          "OH",
          "OH",
          "OH",
          "OH",
          "OH",
          "OH",
          "OH",
          "OH"
         ],
         "xaxis": "x",
         "y": [
          50780,
          46190,
          41320,
          38090,
          33140,
          32880,
          32620,
          32370,
          30760,
          29140,
          27930,
          26200,
          24470,
          23220,
          21980,
          20790,
          20560
         ],
         "yaxis": "y"
        },
        {
         "alignmentgroup": "True",
         "bingroup": "x",
         "histfunc": "sum",
         "hovertemplate": "state=%{x}<br>sum of abortionstotal=%{y}<extra></extra>",
         "legendgroup": "OK",
         "marker": {
          "color": "#FF6692",
          "pattern": {
           "shape": ""
          }
         },
         "name": "OK",
         "offsetgroup": "OK",
         "orientation": "v",
         "showlegend": true,
         "type": "histogram",
         "x": [
          "OK",
          "OK",
          "OK",
          "OK",
          "OK",
          "OK",
          "OK",
          "OK",
          "OK",
          "OK",
          "OK",
          "OK",
          "OK",
          "OK",
          "OK",
          "OK",
          "OK"
         ],
         "xaxis": "x",
         "y": [
          12240,
          9080,
          8490,
          7780,
          7420,
          7450,
          7480,
          7500,
          7060,
          6510,
          5910,
          5830,
          5760,
          5210,
          4800,
          4550,
          4780
         ],
         "yaxis": "y"
        },
        {
         "alignmentgroup": "True",
         "bingroup": "x",
         "histfunc": "sum",
         "hovertemplate": "state=%{x}<br>sum of abortionstotal=%{y}<extra></extra>",
         "legendgroup": "OR",
         "marker": {
          "color": "#B6E880",
          "pattern": {
           "shape": ""
          }
         },
         "name": "OR",
         "offsetgroup": "OR",
         "orientation": "v",
         "showlegend": true,
         "type": "histogram",
         "x": [
          "OR",
          "OR",
          "OR",
          "OR",
          "OR",
          "OR",
          "OR",
          "OR",
          "OR",
          "OR",
          "OR",
          "OR",
          "OR",
          "OR",
          "OR",
          "OR",
          "OR"
         ],
         "xaxis": "x",
         "y": [
          14850,
          14620,
          13540,
          15270,
          11900,
          12150,
          12410,
          11800,
          11020,
          10250,
          10020,
          9310,
          8600,
          8760,
          8950,
          9140,
          8950
         ],
         "yaxis": "y"
        },
        {
         "alignmentgroup": "True",
         "bingroup": "x",
         "histfunc": "sum",
         "hovertemplate": "state=%{x}<br>sum of abortionstotal=%{y}<extra></extra>",
         "legendgroup": "PA",
         "marker": {
          "color": "#FF97FF",
          "pattern": {
           "shape": ""
          }
         },
         "name": "PA",
         "offsetgroup": "PA",
         "orientation": "v",
         "showlegend": true,
         "type": "histogram",
         "x": [
          "PA",
          "PA",
          "PA",
          "PA",
          "PA",
          "PA",
          "PA",
          "PA",
          "PA",
          "PA",
          "PA",
          "PA",
          "PA",
          "PA",
          "PA",
          "PA",
          "PA"
         ],
         "xaxis": "x",
         "y": [
          53050,
          50720,
          42080,
          39670,
          38110,
          39770,
          42550,
          46670,
          44820,
          42250,
          39200,
          36560,
          34580,
          34230,
          34550,
          34870,
          33910
         ],
         "yaxis": "y"
        },
        {
         "alignmentgroup": "True",
         "bingroup": "x",
         "histfunc": "sum",
         "hovertemplate": "state=%{x}<br>sum of abortionstotal=%{y}<extra></extra>",
         "legendgroup": "RI",
         "marker": {
          "color": "#FECB52",
          "pattern": {
           "shape": ""
          }
         },
         "name": "RI",
         "offsetgroup": "RI",
         "orientation": "v",
         "showlegend": true,
         "type": "histogram",
         "x": [
          "RI",
          "RI",
          "RI",
          "RI",
          "RI",
          "RI",
          "RI",
          "RI",
          "RI",
          "RI",
          "RI",
          "RI",
          "RI",
          "RI",
          "RI",
          "RI",
          "RI"
         ],
         "xaxis": "x",
         "y": [
          5800,
          5830,
          5290,
          4900,
          4680,
          4550,
          4420,
          4340,
          4100,
          3850,
          3690,
          3410,
          3130,
          3220,
          3290,
          3340,
          3280
         ],
         "yaxis": "y"
        },
        {
         "alignmentgroup": "True",
         "bingroup": "x",
         "histfunc": "sum",
         "hovertemplate": "state=%{x}<br>sum of abortionstotal=%{y}<extra></extra>",
         "legendgroup": "SC",
         "marker": {
          "color": "#636efa",
          "pattern": {
           "shape": ""
          }
         },
         "name": "SC",
         "offsetgroup": "SC",
         "orientation": "v",
         "showlegend": true,
         "type": "histogram",
         "x": [
          "SC",
          "SC",
          "SC",
          "SC",
          "SC",
          "SC",
          "SC",
          "SC",
          "SC",
          "SC",
          "SC",
          "SC",
          "SC",
          "SC",
          "SC",
          "SC",
          "SC"
         ],
         "xaxis": "x",
         "y": [
          16440,
          14410,
          12450,
          12120,
          13320,
          13590,
          13750,
          13200,
          13050,
          12900,
          11580,
          11440,
          11300,
          10940,
          10930,
          10920,
          11380
         ],
         "yaxis": "y"
        },
        {
         "alignmentgroup": "True",
         "bingroup": "x",
         "histfunc": "sum",
         "hovertemplate": "state=%{x}<br>sum of abortionstotal=%{y}<extra></extra>",
         "legendgroup": "SD",
         "marker": {
          "color": "#EF553B",
          "pattern": {
           "shape": ""
          }
         },
         "name": "SD",
         "offsetgroup": "SD",
         "orientation": "v",
         "showlegend": true,
         "type": "histogram",
         "x": [
          "SD",
          "SD",
          "SD",
          "SD",
          "SD",
          "SD",
          "SD",
          "SD",
          "SD",
          "SD",
          "SD",
          "SD",
          "SD",
          "SD",
          "SD",
          "SD",
          "SD"
         ],
         "xaxis": "x",
         "y": [
          1420,
          1340,
          1200,
          1020,
          980,
          970,
          960,
          970,
          900,
          840,
          850,
          840,
          830,
          810,
          770,
          730,
          750
         ],
         "yaxis": "y"
        },
        {
         "alignmentgroup": "True",
         "bingroup": "x",
         "histfunc": "sum",
         "hovertemplate": "state=%{x}<br>sum of abortionstotal=%{y}<extra></extra>",
         "legendgroup": "TN",
         "marker": {
          "color": "#00cc96",
          "pattern": {
           "shape": ""
          }
         },
         "name": "TN",
         "offsetgroup": "TN",
         "orientation": "v",
         "showlegend": true,
         "type": "histogram",
         "x": [
          "TN",
          "TN",
          "TN",
          "TN",
          "TN",
          "TN",
          "TN",
          "TN",
          "TN",
          "TN",
          "TN",
          "TN",
          "TN",
          "TN",
          "TN",
          "TN",
          "TN"
         ],
         "xaxis": "x",
         "y": [
          20060,
          19110,
          16690,
          17270,
          15520,
          15550,
          15590,
          16210,
          15290,
          14370,
          13670,
          13210,
          12760,
          12300,
          11770,
          11230,
          11060
         ],
         "yaxis": "y"
        },
        {
         "alignmentgroup": "True",
         "bingroup": "x",
         "histfunc": "sum",
         "hovertemplate": "state=%{x}<br>sum of abortionstotal=%{y}<extra></extra>",
         "legendgroup": "TX",
         "marker": {
          "color": "#ab63fa",
          "pattern": {
           "shape": ""
          }
         },
         "name": "TX",
         "offsetgroup": "TX",
         "orientation": "v",
         "showlegend": true,
         "type": "histogram",
         "x": [
          "TX",
          "TX",
          "TX",
          "TX",
          "TX",
          "TX",
          "TX",
          "TX",
          "TX",
          "TX",
          "TX",
          "TX",
          "TX",
          "TX",
          "TX",
          "TX",
          "TX"
         ],
         "xaxis": "x",
         "y": [
          97450,
          94590,
          88250,
          87110,
          84560,
          82540,
          80510,
          82690,
          81060,
          78130,
          72140,
          69520,
          66910,
          56400,
          55690,
          55100,
          56340
         ],
         "yaxis": "y"
        },
        {
         "alignmentgroup": "True",
         "bingroup": "x",
         "histfunc": "sum",
         "hovertemplate": "state=%{x}<br>sum of abortionstotal=%{y}<extra></extra>",
         "legendgroup": "US",
         "marker": {
          "color": "#FFA15A",
          "pattern": {
           "shape": ""
          }
         },
         "name": "US",
         "offsetgroup": "US",
         "orientation": "v",
         "showlegend": true,
         "type": "histogram",
         "x": [
          "US",
          "US",
          "US",
          "US",
          "US",
          "US",
          "US",
          "US",
          "US",
          "US",
          "US",
          "US",
          "US",
          "US",
          "US",
          "US",
          "US",
          "US",
          "US",
          "US",
          "US",
          "US",
          "US",
          "US",
          "US",
          "US",
          "US",
          "US",
          "US",
          "US",
          "US",
          "US",
          "US",
          "US",
          "US",
          "US",
          "US",
          "US",
          "US",
          "US",
          "US",
          "US",
          "US",
          "US",
          "US"
         ],
         "xaxis": "x",
         "y": [
          744610,
          898570,
          1034170,
          1179300,
          1316700,
          1409600,
          1497670,
          1553890,
          1577340,
          1573920,
          1575000,
          1577180,
          1588550,
          1574000,
          1559110,
          1590750,
          1566870,
          1608620,
          1556510,
          1528930,
          1495000,
          1423000,
          1359440,
          1360160,
          1335000,
          1319000,
          1314790,
          1312990,
          1291000,
          1269000,
          1250000,
          1222100,
          1206200,
          1242000,
          1209640,
          1212350,
          1151600,
          1102670,
          1058490,
          1011070,
          958700,
          926190,
          899270,
          874080,
          862320
         ],
         "yaxis": "y"
        },
        {
         "alignmentgroup": "True",
         "bingroup": "x",
         "histfunc": "sum",
         "hovertemplate": "state=%{x}<br>sum of abortionstotal=%{y}<extra></extra>",
         "legendgroup": "UT",
         "marker": {
          "color": "#19d3f3",
          "pattern": {
           "shape": ""
          }
         },
         "name": "UT",
         "offsetgroup": "UT",
         "orientation": "v",
         "showlegend": true,
         "type": "histogram",
         "x": [
          "UT",
          "UT",
          "UT",
          "UT",
          "UT",
          "UT",
          "UT",
          "UT",
          "UT",
          "UT",
          "UT",
          "UT",
          "UT",
          "UT",
          "UT",
          "UT",
          "UT"
         ],
         "xaxis": "x",
         "y": [
          4590,
          3800,
          3850,
          3500,
          3610,
          3780,
          3940,
          3880,
          3690,
          3470,
          3240,
          3210,
          3170,
          2960,
          3010,
          3050,
          3020
         ],
         "yaxis": "y"
        },
        {
         "alignmentgroup": "True",
         "bingroup": "x",
         "histfunc": "sum",
         "hovertemplate": "state=%{x}<br>sum of abortionstotal=%{y}<extra></extra>",
         "legendgroup": "VT",
         "marker": {
          "color": "#FF6692",
          "pattern": {
           "shape": ""
          }
         },
         "name": "VT",
         "offsetgroup": "VT",
         "orientation": "v",
         "showlegend": true,
         "type": "histogram",
         "x": [
          "VT",
          "VT",
          "VT",
          "VT",
          "VT",
          "VT",
          "VT",
          "VT",
          "VT",
          "VT",
          "VT",
          "VT",
          "VT",
          "VT",
          "VT",
          "VT",
          "VT"
         ],
         "xaxis": "x",
         "y": [
          2920,
          2160,
          2050,
          1510,
          1810,
          1760,
          1720,
          1730,
          1670,
          1600,
          1610,
          1560,
          1490,
          1380,
          1320,
          1260,
          1140
         ],
         "yaxis": "y"
        },
        {
         "alignmentgroup": "True",
         "bingroup": "x",
         "histfunc": "sum",
         "hovertemplate": "state=%{x}<br>sum of abortionstotal=%{y}<extra></extra>",
         "legendgroup": "VA",
         "marker": {
          "color": "#B6E880",
          "pattern": {
           "shape": ""
          }
         },
         "name": "VA",
         "offsetgroup": "VA",
         "orientation": "v",
         "showlegend": true,
         "type": "histogram",
         "x": [
          "VA",
          "VA",
          "VA",
          "VA",
          "VA",
          "VA",
          "VA",
          "VA",
          "VA",
          "VA",
          "VA",
          "VA",
          "VA",
          "VA",
          "VA",
          "VA",
          "VA"
         ],
         "xaxis": "x",
         "y": [
          40240,
          38130,
          32450,
          30690,
          30590,
          31670,
          32750,
          31360,
          30950,
          30550,
          29160,
          29510,
          29860,
          24590,
          23290,
          21990,
          20290
         ],
         "yaxis": "y"
        },
        {
         "alignmentgroup": "True",
         "bingroup": "x",
         "histfunc": "sum",
         "hovertemplate": "state=%{x}<br>sum of abortionstotal=%{y}<extra></extra>",
         "legendgroup": "WA",
         "marker": {
          "color": "#FF97FF",
          "pattern": {
           "shape": ""
          }
         },
         "name": "WA",
         "offsetgroup": "WA",
         "orientation": "v",
         "showlegend": true,
         "type": "histogram",
         "x": [
          "WA",
          "WA",
          "WA",
          "WA",
          "WA",
          "WA",
          "WA",
          "WA",
          "WA",
          "WA",
          "WA",
          "WA",
          "WA",
          "WA",
          "WA",
          "WA",
          "WA"
         ],
         "xaxis": "x",
         "y": [
          30890,
          33620,
          26960,
          26970,
          23680,
          24350,
          25030,
          24670,
          23530,
          22380,
          21830,
          20470,
          19100,
          19150,
          18340,
          17530,
          17760
         ],
         "yaxis": "y"
        },
        {
         "alignmentgroup": "True",
         "bingroup": "x",
         "histfunc": "sum",
         "hovertemplate": "state=%{x}<br>sum of abortionstotal=%{y}<extra></extra>",
         "legendgroup": "WV",
         "marker": {
          "color": "#FECB52",
          "pattern": {
           "shape": ""
          }
         },
         "name": "WV",
         "offsetgroup": "WV",
         "orientation": "v",
         "showlegend": true,
         "type": "histogram",
         "x": [
          "WV",
          "WV",
          "WV",
          "WV",
          "WV",
          "WV",
          "WV",
          "WV",
          "WV",
          "WV",
          "WV",
          "WV",
          "WV",
          "WV",
          "WV",
          "WV",
          "WV"
         ],
         "xaxis": "x",
         "y": [
          4800,
          4460,
          3400,
          2930,
          2700,
          2880,
          3070,
          2680,
          3070,
          3460,
          3320,
          2800,
          2280,
          2280,
          2380,
          2490,
          2380
         ],
         "yaxis": "y"
        },
        {
         "alignmentgroup": "True",
         "bingroup": "x",
         "histfunc": "sum",
         "hovertemplate": "state=%{x}<br>sum of abortionstotal=%{y}<extra></extra>",
         "legendgroup": "WI",
         "marker": {
          "color": "#636efa",
          "pattern": {
           "shape": ""
          }
         },
         "name": "WI",
         "offsetgroup": "WI",
         "orientation": "v",
         "showlegend": true,
         "type": "histogram",
         "x": [
          "WI",
          "WI",
          "WI",
          "WI",
          "WI",
          "WI",
          "WI",
          "WI",
          "WI",
          "WI",
          "WI",
          "WI",
          "WI",
          "WI",
          "WI",
          "WI",
          "WI"
         ],
         "xaxis": "x",
         "y": [
          18580,
          16280,
          14980,
          12450,
          10920,
          10390,
          9870,
          9660,
          9420,
          9140,
          8660,
          8080,
          7510,
          7430,
          7360,
          7310,
          7540
         ],
         "yaxis": "y"
        },
        {
         "alignmentgroup": "True",
         "bingroup": "x",
         "histfunc": "sum",
         "hovertemplate": "state=%{x}<br>sum of abortionstotal=%{y}<extra></extra>",
         "legendgroup": "WY",
         "marker": {
          "color": "#EF553B",
          "pattern": {
           "shape": ""
          }
         },
         "name": "WY",
         "offsetgroup": "WY",
         "orientation": "v",
         "showlegend": true,
         "type": "histogram",
         "x": [
          "WY",
          "WY",
          "WY",
          "WY",
          "WY",
          "WY",
          "WY",
          "WY",
          "WY",
          "WY",
          "WY",
          "WY",
          "WY",
          "WY",
          "WY",
          "WY",
          "WY"
         ],
         "xaxis": "x",
         "y": [
          1370,
          1390,
          1630,
          2090,
          1220,
          1200,
          1170,
          1060,
          1030,
          1010,
          1060,
          940,
          820,
          850,
          810,
          770,
          720
         ],
         "yaxis": "y"
        }
       ],
       "layout": {
        "barmode": "relative",
        "legend": {
         "title": {
          "text": "state"
         },
         "tracegroupgap": 0
        },
        "margin": {
         "t": 60
        },
        "template": {
         "data": {
          "bar": [
           {
            "error_x": {
             "color": "#2a3f5f"
            },
            "error_y": {
             "color": "#2a3f5f"
            },
            "marker": {
             "line": {
              "color": "#E5ECF6",
              "width": 0.5
             },
             "pattern": {
              "fillmode": "overlay",
              "size": 10,
              "solidity": 0.2
             }
            },
            "type": "bar"
           }
          ],
          "barpolar": [
           {
            "marker": {
             "line": {
              "color": "#E5ECF6",
              "width": 0.5
             },
             "pattern": {
              "fillmode": "overlay",
              "size": 10,
              "solidity": 0.2
             }
            },
            "type": "barpolar"
           }
          ],
          "carpet": [
           {
            "aaxis": {
             "endlinecolor": "#2a3f5f",
             "gridcolor": "white",
             "linecolor": "white",
             "minorgridcolor": "white",
             "startlinecolor": "#2a3f5f"
            },
            "baxis": {
             "endlinecolor": "#2a3f5f",
             "gridcolor": "white",
             "linecolor": "white",
             "minorgridcolor": "white",
             "startlinecolor": "#2a3f5f"
            },
            "type": "carpet"
           }
          ],
          "choropleth": [
           {
            "colorbar": {
             "outlinewidth": 0,
             "ticks": ""
            },
            "type": "choropleth"
           }
          ],
          "contour": [
           {
            "colorbar": {
             "outlinewidth": 0,
             "ticks": ""
            },
            "colorscale": [
             [
              0,
              "#0d0887"
             ],
             [
              0.1111111111111111,
              "#46039f"
             ],
             [
              0.2222222222222222,
              "#7201a8"
             ],
             [
              0.3333333333333333,
              "#9c179e"
             ],
             [
              0.4444444444444444,
              "#bd3786"
             ],
             [
              0.5555555555555556,
              "#d8576b"
             ],
             [
              0.6666666666666666,
              "#ed7953"
             ],
             [
              0.7777777777777778,
              "#fb9f3a"
             ],
             [
              0.8888888888888888,
              "#fdca26"
             ],
             [
              1,
              "#f0f921"
             ]
            ],
            "type": "contour"
           }
          ],
          "contourcarpet": [
           {
            "colorbar": {
             "outlinewidth": 0,
             "ticks": ""
            },
            "type": "contourcarpet"
           }
          ],
          "heatmap": [
           {
            "colorbar": {
             "outlinewidth": 0,
             "ticks": ""
            },
            "colorscale": [
             [
              0,
              "#0d0887"
             ],
             [
              0.1111111111111111,
              "#46039f"
             ],
             [
              0.2222222222222222,
              "#7201a8"
             ],
             [
              0.3333333333333333,
              "#9c179e"
             ],
             [
              0.4444444444444444,
              "#bd3786"
             ],
             [
              0.5555555555555556,
              "#d8576b"
             ],
             [
              0.6666666666666666,
              "#ed7953"
             ],
             [
              0.7777777777777778,
              "#fb9f3a"
             ],
             [
              0.8888888888888888,
              "#fdca26"
             ],
             [
              1,
              "#f0f921"
             ]
            ],
            "type": "heatmap"
           }
          ],
          "heatmapgl": [
           {
            "colorbar": {
             "outlinewidth": 0,
             "ticks": ""
            },
            "colorscale": [
             [
              0,
              "#0d0887"
             ],
             [
              0.1111111111111111,
              "#46039f"
             ],
             [
              0.2222222222222222,
              "#7201a8"
             ],
             [
              0.3333333333333333,
              "#9c179e"
             ],
             [
              0.4444444444444444,
              "#bd3786"
             ],
             [
              0.5555555555555556,
              "#d8576b"
             ],
             [
              0.6666666666666666,
              "#ed7953"
             ],
             [
              0.7777777777777778,
              "#fb9f3a"
             ],
             [
              0.8888888888888888,
              "#fdca26"
             ],
             [
              1,
              "#f0f921"
             ]
            ],
            "type": "heatmapgl"
           }
          ],
          "histogram": [
           {
            "marker": {
             "pattern": {
              "fillmode": "overlay",
              "size": 10,
              "solidity": 0.2
             }
            },
            "type": "histogram"
           }
          ],
          "histogram2d": [
           {
            "colorbar": {
             "outlinewidth": 0,
             "ticks": ""
            },
            "colorscale": [
             [
              0,
              "#0d0887"
             ],
             [
              0.1111111111111111,
              "#46039f"
             ],
             [
              0.2222222222222222,
              "#7201a8"
             ],
             [
              0.3333333333333333,
              "#9c179e"
             ],
             [
              0.4444444444444444,
              "#bd3786"
             ],
             [
              0.5555555555555556,
              "#d8576b"
             ],
             [
              0.6666666666666666,
              "#ed7953"
             ],
             [
              0.7777777777777778,
              "#fb9f3a"
             ],
             [
              0.8888888888888888,
              "#fdca26"
             ],
             [
              1,
              "#f0f921"
             ]
            ],
            "type": "histogram2d"
           }
          ],
          "histogram2dcontour": [
           {
            "colorbar": {
             "outlinewidth": 0,
             "ticks": ""
            },
            "colorscale": [
             [
              0,
              "#0d0887"
             ],
             [
              0.1111111111111111,
              "#46039f"
             ],
             [
              0.2222222222222222,
              "#7201a8"
             ],
             [
              0.3333333333333333,
              "#9c179e"
             ],
             [
              0.4444444444444444,
              "#bd3786"
             ],
             [
              0.5555555555555556,
              "#d8576b"
             ],
             [
              0.6666666666666666,
              "#ed7953"
             ],
             [
              0.7777777777777778,
              "#fb9f3a"
             ],
             [
              0.8888888888888888,
              "#fdca26"
             ],
             [
              1,
              "#f0f921"
             ]
            ],
            "type": "histogram2dcontour"
           }
          ],
          "mesh3d": [
           {
            "colorbar": {
             "outlinewidth": 0,
             "ticks": ""
            },
            "type": "mesh3d"
           }
          ],
          "parcoords": [
           {
            "line": {
             "colorbar": {
              "outlinewidth": 0,
              "ticks": ""
             }
            },
            "type": "parcoords"
           }
          ],
          "pie": [
           {
            "automargin": true,
            "type": "pie"
           }
          ],
          "scatter": [
           {
            "fillpattern": {
             "fillmode": "overlay",
             "size": 10,
             "solidity": 0.2
            },
            "type": "scatter"
           }
          ],
          "scatter3d": [
           {
            "line": {
             "colorbar": {
              "outlinewidth": 0,
              "ticks": ""
             }
            },
            "marker": {
             "colorbar": {
              "outlinewidth": 0,
              "ticks": ""
             }
            },
            "type": "scatter3d"
           }
          ],
          "scattercarpet": [
           {
            "marker": {
             "colorbar": {
              "outlinewidth": 0,
              "ticks": ""
             }
            },
            "type": "scattercarpet"
           }
          ],
          "scattergeo": [
           {
            "marker": {
             "colorbar": {
              "outlinewidth": 0,
              "ticks": ""
             }
            },
            "type": "scattergeo"
           }
          ],
          "scattergl": [
           {
            "marker": {
             "colorbar": {
              "outlinewidth": 0,
              "ticks": ""
             }
            },
            "type": "scattergl"
           }
          ],
          "scattermapbox": [
           {
            "marker": {
             "colorbar": {
              "outlinewidth": 0,
              "ticks": ""
             }
            },
            "type": "scattermapbox"
           }
          ],
          "scatterpolar": [
           {
            "marker": {
             "colorbar": {
              "outlinewidth": 0,
              "ticks": ""
             }
            },
            "type": "scatterpolar"
           }
          ],
          "scatterpolargl": [
           {
            "marker": {
             "colorbar": {
              "outlinewidth": 0,
              "ticks": ""
             }
            },
            "type": "scatterpolargl"
           }
          ],
          "scatterternary": [
           {
            "marker": {
             "colorbar": {
              "outlinewidth": 0,
              "ticks": ""
             }
            },
            "type": "scatterternary"
           }
          ],
          "surface": [
           {
            "colorbar": {
             "outlinewidth": 0,
             "ticks": ""
            },
            "colorscale": [
             [
              0,
              "#0d0887"
             ],
             [
              0.1111111111111111,
              "#46039f"
             ],
             [
              0.2222222222222222,
              "#7201a8"
             ],
             [
              0.3333333333333333,
              "#9c179e"
             ],
             [
              0.4444444444444444,
              "#bd3786"
             ],
             [
              0.5555555555555556,
              "#d8576b"
             ],
             [
              0.6666666666666666,
              "#ed7953"
             ],
             [
              0.7777777777777778,
              "#fb9f3a"
             ],
             [
              0.8888888888888888,
              "#fdca26"
             ],
             [
              1,
              "#f0f921"
             ]
            ],
            "type": "surface"
           }
          ],
          "table": [
           {
            "cells": {
             "fill": {
              "color": "#EBF0F8"
             },
             "line": {
              "color": "white"
             }
            },
            "header": {
             "fill": {
              "color": "#C8D4E3"
             },
             "line": {
              "color": "white"
             }
            },
            "type": "table"
           }
          ]
         },
         "layout": {
          "annotationdefaults": {
           "arrowcolor": "#2a3f5f",
           "arrowhead": 0,
           "arrowwidth": 1
          },
          "autotypenumbers": "strict",
          "coloraxis": {
           "colorbar": {
            "outlinewidth": 0,
            "ticks": ""
           }
          },
          "colorscale": {
           "diverging": [
            [
             0,
             "#8e0152"
            ],
            [
             0.1,
             "#c51b7d"
            ],
            [
             0.2,
             "#de77ae"
            ],
            [
             0.3,
             "#f1b6da"
            ],
            [
             0.4,
             "#fde0ef"
            ],
            [
             0.5,
             "#f7f7f7"
            ],
            [
             0.6,
             "#e6f5d0"
            ],
            [
             0.7,
             "#b8e186"
            ],
            [
             0.8,
             "#7fbc41"
            ],
            [
             0.9,
             "#4d9221"
            ],
            [
             1,
             "#276419"
            ]
           ],
           "sequential": [
            [
             0,
             "#0d0887"
            ],
            [
             0.1111111111111111,
             "#46039f"
            ],
            [
             0.2222222222222222,
             "#7201a8"
            ],
            [
             0.3333333333333333,
             "#9c179e"
            ],
            [
             0.4444444444444444,
             "#bd3786"
            ],
            [
             0.5555555555555556,
             "#d8576b"
            ],
            [
             0.6666666666666666,
             "#ed7953"
            ],
            [
             0.7777777777777778,
             "#fb9f3a"
            ],
            [
             0.8888888888888888,
             "#fdca26"
            ],
            [
             1,
             "#f0f921"
            ]
           ],
           "sequentialminus": [
            [
             0,
             "#0d0887"
            ],
            [
             0.1111111111111111,
             "#46039f"
            ],
            [
             0.2222222222222222,
             "#7201a8"
            ],
            [
             0.3333333333333333,
             "#9c179e"
            ],
            [
             0.4444444444444444,
             "#bd3786"
            ],
            [
             0.5555555555555556,
             "#d8576b"
            ],
            [
             0.6666666666666666,
             "#ed7953"
            ],
            [
             0.7777777777777778,
             "#fb9f3a"
            ],
            [
             0.8888888888888888,
             "#fdca26"
            ],
            [
             1,
             "#f0f921"
            ]
           ]
          },
          "colorway": [
           "#636efa",
           "#EF553B",
           "#00cc96",
           "#ab63fa",
           "#FFA15A",
           "#19d3f3",
           "#FF6692",
           "#B6E880",
           "#FF97FF",
           "#FECB52"
          ],
          "font": {
           "color": "#2a3f5f"
          },
          "geo": {
           "bgcolor": "white",
           "lakecolor": "white",
           "landcolor": "#E5ECF6",
           "showlakes": true,
           "showland": true,
           "subunitcolor": "white"
          },
          "hoverlabel": {
           "align": "left"
          },
          "hovermode": "closest",
          "mapbox": {
           "style": "light"
          },
          "paper_bgcolor": "white",
          "plot_bgcolor": "#E5ECF6",
          "polar": {
           "angularaxis": {
            "gridcolor": "white",
            "linecolor": "white",
            "ticks": ""
           },
           "bgcolor": "#E5ECF6",
           "radialaxis": {
            "gridcolor": "white",
            "linecolor": "white",
            "ticks": ""
           }
          },
          "scene": {
           "xaxis": {
            "backgroundcolor": "#E5ECF6",
            "gridcolor": "white",
            "gridwidth": 2,
            "linecolor": "white",
            "showbackground": true,
            "ticks": "",
            "zerolinecolor": "white"
           },
           "yaxis": {
            "backgroundcolor": "#E5ECF6",
            "gridcolor": "white",
            "gridwidth": 2,
            "linecolor": "white",
            "showbackground": true,
            "ticks": "",
            "zerolinecolor": "white"
           },
           "zaxis": {
            "backgroundcolor": "#E5ECF6",
            "gridcolor": "white",
            "gridwidth": 2,
            "linecolor": "white",
            "showbackground": true,
            "ticks": "",
            "zerolinecolor": "white"
           }
          },
          "shapedefaults": {
           "line": {
            "color": "#2a3f5f"
           }
          },
          "ternary": {
           "aaxis": {
            "gridcolor": "white",
            "linecolor": "white",
            "ticks": ""
           },
           "baxis": {
            "gridcolor": "white",
            "linecolor": "white",
            "ticks": ""
           },
           "bgcolor": "#E5ECF6",
           "caxis": {
            "gridcolor": "white",
            "linecolor": "white",
            "ticks": ""
           }
          },
          "title": {
           "x": 0.05
          },
          "xaxis": {
           "automargin": true,
           "gridcolor": "white",
           "linecolor": "white",
           "ticks": "",
           "title": {
            "standoff": 15
           },
           "zerolinecolor": "white",
           "zerolinewidth": 2
          },
          "yaxis": {
           "automargin": true,
           "gridcolor": "white",
           "linecolor": "white",
           "ticks": "",
           "title": {
            "standoff": 15
           },
           "zerolinecolor": "white",
           "zerolinewidth": 2
          }
         }
        },
        "xaxis": {
         "anchor": "y",
         "categoryarray": [
          "AL",
          "AK",
          "AZ",
          "AR",
          "CA",
          "CO",
          "CT",
          "DE",
          "DC",
          "FL",
          "GA",
          "HI",
          "ID",
          "IL",
          "IN",
          "IA",
          "KS",
          "KY",
          "LA",
          "ME",
          "MD",
          "MA",
          "MI",
          "MN",
          "MS",
          "MO",
          "MT",
          "NE",
          "NV",
          "NH",
          "NJ",
          "NM",
          "NY",
          "NC",
          "ND",
          "OH",
          "OK",
          "OR",
          "PA",
          "RI",
          "SC",
          "SD",
          "TN",
          "TX",
          "US",
          "UT",
          "VT",
          "VA",
          "WA",
          "WV",
          "WI",
          "WY"
         ],
         "categoryorder": "array",
         "domain": [
          0,
          1
         ],
         "dtick": 1,
         "tick0": 0.2,
         "tickmode": "array",
         "title": {
          "text": "state"
         }
        },
        "yaxis": {
         "anchor": "x",
         "domain": [
          0,
          1
         ],
         "title": {
          "text": "sum of abortionstotal"
         }
        }
       }
      },
      "text/html": [
       "<div>                            <div id=\"f6919652-99ed-474e-a98e-feedc66e1889\" class=\"plotly-graph-div\" style=\"height:525px; width:100%;\"></div>            <script type=\"text/javascript\">                require([\"plotly\"], function(Plotly) {                    window.PLOTLYENV=window.PLOTLYENV || {};                                    if (document.getElementById(\"f6919652-99ed-474e-a98e-feedc66e1889\")) {                    Plotly.newPlot(                        \"f6919652-99ed-474e-a98e-feedc66e1889\",                        [{\"alignmentgroup\":\"True\",\"bingroup\":\"x\",\"histfunc\":\"sum\",\"hovertemplate\":\"state=%{x}<br>sum of abortionstotal=%{y}<extra></extra>\",\"legendgroup\":\"AL\",\"marker\":{\"color\":\"#636efa\",\"pattern\":{\"shape\":\"\"}},\"name\":\"AL\",\"offsetgroup\":\"AL\",\"orientation\":\"v\",\"showlegend\":true,\"x\":[\"AL\",\"AL\",\"AL\",\"AL\",\"AL\",\"AL\",\"AL\",\"AL\",\"AL\",\"AL\",\"AL\",\"AL\",\"AL\",\"AL\",\"AL\",\"AL\",\"AL\"],\"xaxis\":\"x\",\"y\":[20100,17720,14940,13060,10840,10980,11130,11020,10530,10030,9600,8920,8230,8310,8150,7920,7660],\"yaxis\":\"y\",\"type\":\"histogram\"},{\"alignmentgroup\":\"True\",\"bingroup\":\"x\",\"histfunc\":\"sum\",\"hovertemplate\":\"state=%{x}<br>sum of abortionstotal=%{y}<extra></extra>\",\"legendgroup\":\"AK\",\"marker\":{\"color\":\"#EF553B\",\"pattern\":{\"shape\":\"\"}},\"name\":\"AK\",\"offsetgroup\":\"AK\",\"orientation\":\"v\",\"showlegend\":true,\"x\":[\"AK\",\"AK\",\"AK\",\"AK\",\"AK\",\"AK\",\"AK\",\"AK\",\"AK\",\"AK\",\"AK\",\"AK\",\"AK\",\"AK\",\"AK\",\"AK\",\"AK\"],\"xaxis\":\"x\",\"y\":[2700,2800,2310,1900,2130,2060,2000,1960,2040,2120,2030,1890,1740,1640,1540,1450,1420],\"yaxis\":\"y\",\"type\":\"histogram\"},{\"alignmentgroup\":\"True\",\"bingroup\":\"x\",\"histfunc\":\"sum\",\"hovertemplate\":\"state=%{x}<br>sum of abortionstotal=%{y}<extra></extra>\",\"legendgroup\":\"AZ\",\"marker\":{\"color\":\"#00cc96\",\"pattern\":{\"shape\":\"\"}},\"name\":\"AZ\",\"offsetgroup\":\"AZ\",\"orientation\":\"v\",\"showlegend\":true,\"x\":[\"AZ\",\"AZ\",\"AZ\",\"AZ\",\"AZ\",\"AZ\",\"AZ\",\"AZ\",\"AZ\",\"AZ\",\"AZ\",\"AZ\",\"AZ\",\"AZ\",\"AZ\",\"AZ\",\"AZ\"],\"xaxis\":\"x\",\"y\":[22200,21200,20120,18410,19710,18850,17990,19770,17480,15190,16270,15040,13820,13240,13640,14040,13270],\"yaxis\":\"y\",\"type\":\"histogram\"},{\"alignmentgroup\":\"True\",\"bingroup\":\"x\",\"histfunc\":\"sum\",\"hovertemplate\":\"state=%{x}<br>sum of abortionstotal=%{y}<extra></extra>\",\"legendgroup\":\"AR\",\"marker\":{\"color\":\"#ab63fa\",\"pattern\":{\"shape\":\"\"}},\"name\":\"AR\",\"offsetgroup\":\"AR\",\"orientation\":\"v\",\"showlegend\":true,\"x\":[\"AR\",\"AR\",\"AR\",\"AR\",\"AR\",\"AR\",\"AR\",\"AR\",\"AR\",\"AR\",\"AR\",\"AR\",\"AR\",\"AR\",\"AR\",\"AR\",\"AR\"],\"xaxis\":\"x\",\"y\":[7860,8690,6680,5880,5200,5450,5690,5710,5630,5490,5210,5010,4810,4350,3930,3590,3710],\"yaxis\":\"y\",\"type\":\"histogram\"},{\"alignmentgroup\":\"True\",\"bingroup\":\"x\",\"histfunc\":\"sum\",\"hovertemplate\":\"state=%{x}<br>sum of abortionstotal=%{y}<extra></extra>\",\"legendgroup\":\"CA\",\"marker\":{\"color\":\"#FFA15A\",\"pattern\":{\"shape\":\"\"}},\"name\":\"CA\",\"offsetgroup\":\"CA\",\"orientation\":\"v\",\"showlegend\":true,\"x\":[\"CA\",\"CA\",\"CA\",\"CA\",\"CA\",\"CA\",\"CA\",\"CA\",\"CA\",\"CA\",\"CA\",\"CA\",\"CA\",\"CA\",\"CA\",\"CA\",\"CA\"],\"xaxis\":\"x\",\"y\":[311440,303850,237870,235670,206260,213550,220840,211930,200720,189110,177360,170420,163550,156690,148000,139320,131380],\"yaxis\":\"y\",\"type\":\"histogram\"},{\"alignmentgroup\":\"True\",\"bingroup\":\"x\",\"histfunc\":\"sum\",\"hovertemplate\":\"state=%{x}<br>sum of abortionstotal=%{y}<extra></extra>\",\"legendgroup\":\"CO\",\"marker\":{\"color\":\"#19d3f3\",\"pattern\":{\"shape\":\"\"}},\"name\":\"CO\",\"offsetgroup\":\"CO\",\"orientation\":\"v\",\"showlegend\":true,\"x\":[\"CO\",\"CO\",\"CO\",\"CO\",\"CO\",\"CO\",\"CO\",\"CO\",\"CO\",\"CO\",\"CO\",\"CO\",\"CO\",\"CO\",\"CO\",\"CO\",\"CO\"],\"xaxis\":\"x\",\"y\":[17550,18410,16670,12950,14720,14990,15160,14920,14330,13730,13130,12400,11660,11760,11410,11050,11100],\"yaxis\":\"y\",\"type\":\"histogram\"},{\"alignmentgroup\":\"True\",\"bingroup\":\"x\",\"histfunc\":\"sum\",\"hovertemplate\":\"state=%{x}<br>sum of abortionstotal=%{y}<extra></extra>\",\"legendgroup\":\"CT\",\"marker\":{\"color\":\"#FF6692\",\"pattern\":{\"shape\":\"\"}},\"name\":\"CT\",\"offsetgroup\":\"CT\",\"orientation\":\"v\",\"showlegend\":true,\"x\":[\"CT\",\"CT\",\"CT\",\"CT\",\"CT\",\"CT\",\"CT\",\"CT\",\"CT\",\"CT\",\"CT\",\"CT\",\"CT\",\"CT\",\"CT\",\"CT\",\"CT\"],\"xaxis\":\"x\",\"y\":[24470,20100,16510,15460,17340,17580,17730,17210,16350,15480,14630,13900,13360,13280,12770,12260,11950],\"yaxis\":\"y\",\"type\":\"histogram\"},{\"alignmentgroup\":\"True\",\"bingroup\":\"x\",\"histfunc\":\"sum\",\"hovertemplate\":\"state=%{x}<br>sum of abortionstotal=%{y}<extra></extra>\",\"legendgroup\":\"DE\",\"marker\":{\"color\":\"#B6E880\",\"pattern\":{\"shape\":\"\"}},\"name\":\"DE\",\"offsetgroup\":\"DE\",\"orientation\":\"v\",\"showlegend\":true,\"x\":[\"DE\",\"DE\",\"DE\",\"DE\",\"DE\",\"DE\",\"DE\",\"DE\",\"DE\",\"DE\",\"DE\",\"DE\",\"DE\",\"DE\",\"DE\",\"DE\",\"DE\"],\"xaxis\":\"x\",\"y\":[4570,4620,2970,3920,4140,4990,5850,5650,5520,5380,4690,4010,3340,3200,3040,2880,2770],\"yaxis\":\"y\",\"type\":\"histogram\"},{\"alignmentgroup\":\"True\",\"bingroup\":\"x\",\"histfunc\":\"sum\",\"hovertemplate\":\"state=%{x}<br>sum of abortionstotal=%{y}<extra></extra>\",\"legendgroup\":\"DC\",\"marker\":{\"color\":\"#FF97FF\",\"pattern\":{\"shape\":\"\"}},\"name\":\"DC\",\"offsetgroup\":\"DC\",\"orientation\":\"v\",\"showlegend\":true,\"x\":[\"DC\",\"DC\",\"DC\",\"DC\",\"DC\",\"DC\",\"DC\",\"DC\",\"DC\",\"DC\",\"DC\",\"DC\",\"DC\",\"DC\",\"DC\",\"DC\",\"DC\"],\"xaxis\":\"x\",\"y\":[13830,11040,5620,5750,6390,5900,5400,5880,4970,4060,3400,3570,3740,3800,3330,2870,3930],\"yaxis\":\"y\",\"type\":\"histogram\"},{\"alignmentgroup\":\"True\",\"bingroup\":\"x\",\"histfunc\":\"sum\",\"hovertemplate\":\"state=%{x}<br>sum of abortionstotal=%{y}<extra></extra>\",\"legendgroup\":\"FL\",\"marker\":{\"color\":\"#FECB52\",\"pattern\":{\"shape\":\"\"}},\"name\":\"FL\",\"offsetgroup\":\"FL\",\"orientation\":\"v\",\"showlegend\":true,\"x\":[\"FL\",\"FL\",\"FL\",\"FL\",\"FL\",\"FL\",\"FL\",\"FL\",\"FL\",\"FL\",\"FL\",\"FL\",\"FL\",\"FL\",\"FL\",\"FL\",\"FL\"],\"xaxis\":\"x\",\"y\":[75820,77320,90160,96000,85360,86980,88600,86310,84150,82020,79890,76730,73560,72630,69390,66150,68640],\"yaxis\":\"y\",\"type\":\"histogram\"},{\"alignmentgroup\":\"True\",\"bingroup\":\"x\",\"histfunc\":\"sum\",\"hovertemplate\":\"state=%{x}<br>sum of abortionstotal=%{y}<extra></extra>\",\"legendgroup\":\"GA\",\"marker\":{\"color\":\"#636efa\",\"pattern\":{\"shape\":\"\"}},\"name\":\"GA\",\"offsetgroup\":\"GA\",\"orientation\":\"v\",\"showlegend\":true,\"x\":[\"GA\",\"GA\",\"GA\",\"GA\",\"GA\",\"GA\",\"GA\",\"GA\",\"GA\",\"GA\",\"GA\",\"GA\",\"GA\",\"GA\",\"GA\",\"GA\",\"GA\"],\"xaxis\":\"x\",\"y\":[35320,39970,35230,32270,32040,32690,33680,39370,37260,35160,34460,33620,32550,31120,31750,32390,32520],\"yaxis\":\"y\",\"type\":\"histogram\"},{\"alignmentgroup\":\"True\",\"bingroup\":\"x\",\"histfunc\":\"sum\",\"hovertemplate\":\"state=%{x}<br>sum of abortionstotal=%{y}<extra></extra>\",\"legendgroup\":\"HI\",\"marker\":{\"color\":\"#EF553B\",\"pattern\":{\"shape\":\"\"}},\"name\":\"HI\",\"offsetgroup\":\"HI\",\"orientation\":\"v\",\"showlegend\":true,\"x\":[\"HI\",\"HI\",\"HI\",\"HI\",\"HI\",\"HI\",\"HI\",\"HI\",\"HI\",\"HI\",\"HI\",\"HI\",\"HI\",\"HI\",\"HI\",\"HI\",\"HI\"],\"xaxis\":\"x\",\"y\":[11120,12180,6930,5630,5330,5490,5650,5650,5590,5530,5540,4900,4260,3750,3370,3130,3220],\"yaxis\":\"y\",\"type\":\"histogram\"},{\"alignmentgroup\":\"True\",\"bingroup\":\"x\",\"histfunc\":\"sum\",\"hovertemplate\":\"state=%{x}<br>sum of abortionstotal=%{y}<extra></extra>\",\"legendgroup\":\"ID\",\"marker\":{\"color\":\"#00cc96\",\"pattern\":{\"shape\":\"\"}},\"name\":\"ID\",\"offsetgroup\":\"ID\",\"orientation\":\"v\",\"showlegend\":true,\"x\":[\"ID\",\"ID\",\"ID\",\"ID\",\"ID\",\"ID\",\"ID\",\"ID\",\"ID\",\"ID\",\"ID\",\"ID\",\"ID\",\"ID\",\"ID\",\"ID\",\"ID\"],\"xaxis\":\"x\",\"y\":[2760,2420,2450,2750,2540,2700,2860,2580,2490,2410,2340,2090,1850,1790,1780,1780,1790],\"yaxis\":\"y\",\"type\":\"histogram\"},{\"alignmentgroup\":\"True\",\"bingroup\":\"x\",\"histfunc\":\"sum\",\"hovertemplate\":\"state=%{x}<br>sum of abortionstotal=%{y}<extra></extra>\",\"legendgroup\":\"IL\",\"marker\":{\"color\":\"#ab63fa\",\"pattern\":{\"shape\":\"\"}},\"name\":\"IL\",\"offsetgroup\":\"IL\",\"orientation\":\"v\",\"showlegend\":true,\"x\":[\"IL\",\"IL\",\"IL\",\"IL\",\"IL\",\"IL\",\"IL\",\"IL\",\"IL\",\"IL\",\"IL\",\"IL\",\"IL\",\"IL\",\"IL\",\"IL\",\"IL\"],\"xaxis\":\"x\",\"y\":[72500,66500,66920,58370,48420,48560,48710,51670,47020,42370,42360,42020,41430,40120,38830,37590,37770],\"yaxis\":\"y\",\"type\":\"histogram\"},{\"alignmentgroup\":\"True\",\"bingroup\":\"x\",\"histfunc\":\"sum\",\"hovertemplate\":\"state=%{x}<br>sum of abortionstotal=%{y}<extra></extra>\",\"legendgroup\":\"IN\",\"marker\":{\"color\":\"#FFA15A\",\"pattern\":{\"shape\":\"\"}},\"name\":\"IN\",\"offsetgroup\":\"IN\",\"orientation\":\"v\",\"showlegend\":true,\"x\":[\"IN\",\"IN\",\"IN\",\"IN\",\"IN\",\"IN\",\"IN\",\"IN\",\"IN\",\"IN\",\"IN\",\"IN\",\"IN\",\"IN\",\"IN\",\"IN\",\"IN\"],\"xaxis\":\"x\",\"y\":[20930,21170,18340,15140,13180,12810,12440,12300,12020,11600,10710,10200,9910,10130,10190,10240,10270],\"yaxis\":\"y\",\"type\":\"histogram\"},{\"alignmentgroup\":\"True\",\"bingroup\":\"x\",\"histfunc\":\"sum\",\"hovertemplate\":\"state=%{x}<br>sum of abortionstotal=%{y}<extra></extra>\",\"legendgroup\":\"IA\",\"marker\":{\"color\":\"#19d3f3\",\"pattern\":{\"shape\":\"\"}},\"name\":\"IA\",\"offsetgroup\":\"IA\",\"orientation\":\"v\",\"showlegend\":true,\"x\":[\"IA\",\"IA\",\"IA\",\"IA\",\"IA\",\"IA\",\"IA\",\"IA\",\"IA\",\"IA\",\"IA\",\"IA\",\"IA\",\"IA\",\"IA\",\"IA\",\"IA\"],\"xaxis\":\"x\",\"y\":[10480,7480,6150,6280,6130,6390,6660,6160,6010,5860,5430,4790,4150,3930,3990,4050,3650],\"yaxis\":\"y\",\"type\":\"histogram\"},{\"alignmentgroup\":\"True\",\"bingroup\":\"x\",\"histfunc\":\"sum\",\"hovertemplate\":\"state=%{x}<br>sum of abortionstotal=%{y}<extra></extra>\",\"legendgroup\":\"KS\",\"marker\":{\"color\":\"#FF6692\",\"pattern\":{\"shape\":\"\"}},\"name\":\"KS\",\"offsetgroup\":\"KS\",\"orientation\":\"v\",\"showlegend\":true,\"x\":[\"KS\",\"KS\",\"KS\",\"KS\",\"KS\",\"KS\",\"KS\",\"KS\",\"KS\",\"KS\",\"KS\",\"KS\",\"KS\",\"KS\",\"KS\",\"KS\",\"KS\"],\"xaxis\":\"x\",\"y\":[7210,7140,6940,6440,5620,5670,5720,5670,4830,3990,3870,3910,3940,3800,3660,3520,3520],\"yaxis\":\"y\",\"type\":\"histogram\"},{\"alignmentgroup\":\"True\",\"bingroup\":\"x\",\"histfunc\":\"sum\",\"hovertemplate\":\"state=%{x}<br>sum of abortionstotal=%{y}<extra></extra>\",\"legendgroup\":\"KY\",\"marker\":{\"color\":\"#B6E880\",\"pattern\":{\"shape\":\"\"}},\"name\":\"KY\",\"offsetgroup\":\"KY\",\"orientation\":\"v\",\"showlegend\":true,\"x\":[\"KY\",\"KY\",\"KY\",\"KY\",\"KY\",\"KY\",\"KY\",\"KY\",\"KY\",\"KY\",\"KY\",\"KY\",\"KY\",\"KY\",\"KY\",\"KY\",\"KY\"],\"xaxis\":\"x\",\"y\":[10090,9850,7890,6720,6060,6080,6110,6380,6170,5960,5820,5500,5180,5180,4910,4640,4780],\"yaxis\":\"y\",\"type\":\"histogram\"},{\"alignmentgroup\":\"True\",\"bingroup\":\"x\",\"histfunc\":\"sum\",\"hovertemplate\":\"state=%{x}<br>sum of abortionstotal=%{y}<extra></extra>\",\"legendgroup\":\"LA\",\"marker\":{\"color\":\"#FF97FF\",\"pattern\":{\"shape\":\"\"}},\"name\":\"LA\",\"offsetgroup\":\"LA\",\"orientation\":\"v\",\"showlegend\":true,\"x\":[\"LA\",\"LA\",\"LA\",\"LA\",\"LA\",\"LA\",\"LA\",\"LA\",\"LA\",\"LA\",\"LA\",\"LA\",\"LA\",\"LA\",\"LA\",\"LA\",\"LA\"],\"xaxis\":\"x\",\"y\":[17030,11800,13110,11380,10330,11220,12520,14110,12930,11750,11310,10470,9630,9620,9830,10040,9280],\"yaxis\":\"y\",\"type\":\"histogram\"},{\"alignmentgroup\":\"True\",\"bingroup\":\"x\",\"histfunc\":\"sum\",\"hovertemplate\":\"state=%{x}<br>sum of abortionstotal=%{y}<extra></extra>\",\"legendgroup\":\"ME\",\"marker\":{\"color\":\"#FECB52\",\"pattern\":{\"shape\":\"\"}},\"name\":\"ME\",\"offsetgroup\":\"ME\",\"orientation\":\"v\",\"showlegend\":true,\"x\":[\"ME\",\"ME\",\"ME\",\"ME\",\"ME\",\"ME\",\"ME\",\"ME\",\"ME\",\"ME\",\"ME\",\"ME\",\"ME\",\"ME\",\"ME\",\"ME\",\"ME\"],\"xaxis\":\"x\",\"y\":[4140,4260,3390,2910,2840,2940,3030,2970,2830,2640,2410,2390,2380,2400,2240,2080,2050],\"yaxis\":\"y\",\"type\":\"histogram\"},{\"alignmentgroup\":\"True\",\"bingroup\":\"x\",\"histfunc\":\"sum\",\"hovertemplate\":\"state=%{x}<br>sum of abortionstotal=%{y}<extra></extra>\",\"legendgroup\":\"MD\",\"marker\":{\"color\":\"#636efa\",\"pattern\":{\"shape\":\"\"}},\"name\":\"MD\",\"offsetgroup\":\"MD\",\"orientation\":\"v\",\"showlegend\":true,\"x\":[\"MD\",\"MD\",\"MD\",\"MD\",\"MD\",\"MD\",\"MD\",\"MD\",\"MD\",\"MD\",\"MD\",\"MD\",\"MD\",\"MD\",\"MD\",\"MD\",\"MD\"],\"xaxis\":\"x\",\"y\":[41090,39490,36940,38670,35250,31990,28720,28390,29630,30890,32140,29610,27080,26430,26010,25730,26940],\"yaxis\":\"y\",\"type\":\"histogram\"},{\"alignmentgroup\":\"True\",\"bingroup\":\"x\",\"histfunc\":\"sum\",\"hovertemplate\":\"state=%{x}<br>sum of abortionstotal=%{y}<extra></extra>\",\"legendgroup\":\"MA\",\"marker\":{\"color\":\"#EF553B\",\"pattern\":{\"shape\":\"\"}},\"name\":\"MA\",\"offsetgroup\":\"MA\",\"orientation\":\"v\",\"showlegend\":true,\"x\":[\"MA\",\"MA\",\"MA\",\"MA\",\"MA\",\"MA\",\"MA\",\"MA\",\"MA\",\"MA\",\"MA\",\"MA\",\"MA\",\"MA\",\"MA\",\"MA\",\"MA\"],\"xaxis\":\"x\",\"y\":[44260,41610,40150,29870,27800,27130,26460,25800,25240,24790,24430,22840,21250,21280,20370,19470,18880],\"yaxis\":\"y\",\"type\":\"histogram\"},{\"alignmentgroup\":\"True\",\"bingroup\":\"x\",\"histfunc\":\"sum\",\"hovertemplate\":\"state=%{x}<br>sum of abortionstotal=%{y}<extra></extra>\",\"legendgroup\":\"MI\",\"marker\":{\"color\":\"#00cc96\",\"pattern\":{\"shape\":\"\"}},\"name\":\"MI\",\"offsetgroup\":\"MI\",\"orientation\":\"v\",\"showlegend\":true,\"x\":[\"MI\",\"MI\",\"MI\",\"MI\",\"MI\",\"MI\",\"MI\",\"MI\",\"MI\",\"MI\",\"MI\",\"MI\",\"MI\",\"MI\",\"MI\",\"MI\",\"MI\"],\"xaxis\":\"x\",\"y\":[62770,54530,47430,45710,39930,37530,35780,36050,33410,30770,29270,28780,28420,28130,27290,26460,26130],\"yaxis\":\"y\",\"type\":\"histogram\"},{\"alignmentgroup\":\"True\",\"bingroup\":\"x\",\"histfunc\":\"sum\",\"hovertemplate\":\"state=%{x}<br>sum of abortionstotal=%{y}<extra></extra>\",\"legendgroup\":\"MN\",\"marker\":{\"color\":\"#ab63fa\",\"pattern\":{\"shape\":\"\"}},\"name\":\"MN\",\"offsetgroup\":\"MN\",\"orientation\":\"v\",\"showlegend\":true,\"x\":[\"MN\",\"MN\",\"MN\",\"MN\",\"MN\",\"MN\",\"MN\",\"MN\",\"MN\",\"MN\",\"MN\",\"MN\",\"MN\",\"MN\",\"MN\",\"MN\",\"MN\"],\"xaxis\":\"x\",\"y\":[17400,15090,13950,13940,13370,13420,13480,12580,11780,11120,10690,10130,9570,9230,9360,9590,10100],\"yaxis\":\"y\",\"type\":\"histogram\"},{\"alignmentgroup\":\"True\",\"bingroup\":\"x\",\"histfunc\":\"sum\",\"hovertemplate\":\"state=%{x}<br>sum of abortionstotal=%{y}<extra></extra>\",\"legendgroup\":\"MS\",\"marker\":{\"color\":\"#FFA15A\",\"pattern\":{\"shape\":\"\"}},\"name\":\"MS\",\"offsetgroup\":\"MS\",\"orientation\":\"v\",\"showlegend\":true,\"x\":[\"MS\",\"MS\",\"MS\",\"MS\",\"MS\",\"MS\",\"MS\",\"MS\",\"MS\",\"MS\",\"MS\",\"MS\",\"MS\",\"MS\",\"MS\",\"MS\",\"MS\"],\"xaxis\":\"x\",\"y\":[6480,8830,9020,9060,7930,7880,7850,8210,7640,7070,6700,6280,5860,5540,5300,5100,4930],\"yaxis\":\"y\",\"type\":\"histogram\"},{\"alignmentgroup\":\"True\",\"bingroup\":\"x\",\"histfunc\":\"sum\",\"hovertemplate\":\"state=%{x}<br>sum of abortionstotal=%{y}<extra></extra>\",\"legendgroup\":\"MO\",\"marker\":{\"color\":\"#19d3f3\",\"pattern\":{\"shape\":\"\"}},\"name\":\"MO\",\"offsetgroup\":\"MO\",\"orientation\":\"v\",\"showlegend\":true,\"x\":[\"MO\",\"MO\",\"MO\",\"MO\",\"MO\",\"MO\",\"MO\",\"MO\",\"MO\",\"MO\",\"MO\",\"MO\",\"MO\",\"MO\",\"MO\",\"MO\",\"MO\"],\"xaxis\":\"x\",\"y\":[23940,19870,16050,17410,14900,15070,15250,15160,13550,11930,11510,11080,10610,9180,9640,10100,9690],\"yaxis\":\"y\",\"type\":\"histogram\"},{\"alignmentgroup\":\"True\",\"bingroup\":\"x\",\"histfunc\":\"sum\",\"hovertemplate\":\"state=%{x}<br>sum of abortionstotal=%{y}<extra></extra>\",\"legendgroup\":\"MT\",\"marker\":{\"color\":\"#FF6692\",\"pattern\":{\"shape\":\"\"}},\"name\":\"MT\",\"offsetgroup\":\"MT\",\"orientation\":\"v\",\"showlegend\":true,\"x\":[\"MT\",\"MT\",\"MT\",\"MT\",\"MT\",\"MT\",\"MT\",\"MT\",\"MT\",\"MT\",\"MT\",\"MT\",\"MT\",\"MT\",\"MT\",\"MT\",\"MT\"],\"xaxis\":\"x\",\"y\":[2350,2810,2430,2220,2020,2070,2110,2040,2000,1980,1990,1820,1660,1520,1530,1540,1510],\"yaxis\":\"y\",\"type\":\"histogram\"},{\"alignmentgroup\":\"True\",\"bingroup\":\"x\",\"histfunc\":\"sum\",\"hovertemplate\":\"state=%{x}<br>sum of abortionstotal=%{y}<extra></extra>\",\"legendgroup\":\"NE\",\"marker\":{\"color\":\"#B6E880\",\"pattern\":{\"shape\":\"\"}},\"name\":\"NE\",\"offsetgroup\":\"NE\",\"orientation\":\"v\",\"showlegend\":true,\"x\":[\"NE\",\"NE\",\"NE\",\"NE\",\"NE\",\"NE\",\"NE\",\"NE\",\"NE\",\"NE\",\"NE\",\"NE\",\"NE\",\"NE\",\"NE\",\"NE\",\"NE\"],\"xaxis\":\"x\",\"y\":[5490,4950,3930,3920,2990,2690,2500,2850,2630,2410,2550,2510,2440,2360,2260,2170,2250],\"yaxis\":\"y\",\"type\":\"histogram\"},{\"alignmentgroup\":\"True\",\"bingroup\":\"x\",\"histfunc\":\"sum\",\"hovertemplate\":\"state=%{x}<br>sum of abortionstotal=%{y}<extra></extra>\",\"legendgroup\":\"NV\",\"marker\":{\"color\":\"#FF97FF\",\"pattern\":{\"shape\":\"\"}},\"name\":\"NV\",\"offsetgroup\":\"NV\",\"orientation\":\"v\",\"showlegend\":true,\"x\":[\"NV\",\"NV\",\"NV\",\"NV\",\"NV\",\"NV\",\"NV\",\"NV\",\"NV\",\"NV\",\"NV\",\"NV\",\"NV\",\"NV\",\"NV\",\"NV\",\"NV\"],\"xaxis\":\"x\",\"y\":[9450,12400,14080,12880,12990,13320,13630,13020,12790,12570,11960,10750,9550,10840,10150,9460,9620],\"yaxis\":\"y\",\"type\":\"histogram\"},{\"alignmentgroup\":\"True\",\"bingroup\":\"x\",\"histfunc\":\"sum\",\"hovertemplate\":\"state=%{x}<br>sum of abortionstotal=%{y}<extra></extra>\",\"legendgroup\":\"NH\",\"marker\":{\"color\":\"#FECB52\",\"pattern\":{\"shape\":\"\"}},\"name\":\"NH\",\"offsetgroup\":\"NH\",\"orientation\":\"v\",\"showlegend\":true,\"x\":[\"NH\",\"NH\",\"NH\",\"NH\",\"NH\",\"NH\",\"NH\",\"NH\",\"NH\",\"NH\",\"NH\",\"NH\",\"NH\",\"NH\",\"NH\",\"NH\",\"NH\"],\"xaxis\":\"x\",\"y\":[5940,4490,4670,4020,3060,3030,2990,2860,2840,2830,2880,2610,2340,2530,2480,2410,2330],\"yaxis\":\"y\",\"type\":\"histogram\"},{\"alignmentgroup\":\"True\",\"bingroup\":\"x\",\"histfunc\":\"sum\",\"hovertemplate\":\"state=%{x}<br>sum of abortionstotal=%{y}<extra></extra>\",\"legendgroup\":\"NJ\",\"marker\":{\"color\":\"#636efa\",\"pattern\":{\"shape\":\"\"}},\"name\":\"NJ\",\"offsetgroup\":\"NJ\",\"orientation\":\"v\",\"showlegend\":true,\"x\":[\"NJ\",\"NJ\",\"NJ\",\"NJ\",\"NJ\",\"NJ\",\"NJ\",\"NJ\",\"NJ\",\"NJ\",\"NJ\",\"NJ\",\"NJ\",\"NJ\",\"NJ\",\"NJ\",\"NJ\"],\"xaxis\":\"x\",\"y\":[66300,58420,64230,66110,60330,58030,55740,54730,51930,49130,46670,44680,43340,43990,45680,47370,47010],\"yaxis\":\"y\",\"type\":\"histogram\"},{\"alignmentgroup\":\"True\",\"bingroup\":\"x\",\"histfunc\":\"sum\",\"hovertemplate\":\"state=%{x}<br>sum of abortionstotal=%{y}<extra></extra>\",\"legendgroup\":\"NM\",\"marker\":{\"color\":\"#EF553B\",\"pattern\":{\"shape\":\"\"}},\"name\":\"NM\",\"offsetgroup\":\"NM\",\"orientation\":\"v\",\"showlegend\":true,\"x\":[\"NM\",\"NM\",\"NM\",\"NM\",\"NM\",\"NM\",\"NM\",\"NM\",\"NM\",\"NM\",\"NM\",\"NM\",\"NM\",\"NM\",\"NM\",\"NM\",\"NM\"],\"xaxis\":\"x\",\"y\":[8180,7780,6560,6890,6690,7020,7350,6730,6420,6110,5520,4860,4190,4030,4120,4210,3830],\"yaxis\":\"y\",\"type\":\"histogram\"},{\"alignmentgroup\":\"True\",\"bingroup\":\"x\",\"histfunc\":\"sum\",\"hovertemplate\":\"state=%{x}<br>sum of abortionstotal=%{y}<extra></extra>\",\"legendgroup\":\"NY\",\"marker\":{\"color\":\"#00cc96\",\"pattern\":{\"shape\":\"\"}},\"name\":\"NY\",\"offsetgroup\":\"NY\",\"orientation\":\"v\",\"showlegend\":true,\"x\":[\"NY\",\"NY\",\"NY\",\"NY\",\"NY\",\"NY\",\"NY\",\"NY\",\"NY\",\"NY\",\"NY\",\"NY\",\"NY\",\"NY\",\"NY\",\"NY\",\"NY\"],\"xaxis\":\"x\",\"y\":[179830,191100,164080,161160,152340,148030,144390,149070,144390,139700,136280,126630,116970,117580,113350,108350,103060],\"yaxis\":\"y\",\"type\":\"histogram\"},{\"alignmentgroup\":\"True\",\"bingroup\":\"x\",\"histfunc\":\"sum\",\"hovertemplate\":\"state=%{x}<br>sum of abortionstotal=%{y}<extra></extra>\",\"legendgroup\":\"NC\",\"marker\":{\"color\":\"#ab63fa\",\"pattern\":{\"shape\":\"\"}},\"name\":\"NC\",\"offsetgroup\":\"NC\",\"orientation\":\"v\",\"showlegend\":true,\"x\":[\"NC\",\"NC\",\"NC\",\"NC\",\"NC\",\"NC\",\"NC\",\"NC\",\"NC\",\"NC\",\"NC\",\"NC\",\"NC\",\"NC\",\"NC\",\"NC\",\"NC\"],\"xaxis\":\"x\",\"y\":[38120,34000,31070,33620,29730,29970,30220,29000,28340,27670,25080,25960,26850,26410,24870,23320,25060],\"yaxis\":\"y\",\"type\":\"histogram\"},{\"alignmentgroup\":\"True\",\"bingroup\":\"x\",\"histfunc\":\"sum\",\"hovertemplate\":\"state=%{x}<br>sum of abortionstotal=%{y}<extra></extra>\",\"legendgroup\":\"ND\",\"marker\":{\"color\":\"#FFA15A\",\"pattern\":{\"shape\":\"\"}},\"name\":\"ND\",\"offsetgroup\":\"ND\",\"orientation\":\"v\",\"showlegend\":true,\"x\":[\"ND\",\"ND\",\"ND\",\"ND\",\"ND\",\"ND\",\"ND\",\"ND\",\"ND\",\"ND\",\"ND\",\"ND\",\"ND\",\"ND\",\"ND\",\"ND\",\"ND\"],\"xaxis\":\"x\",\"y\":[1510,1190,1050,940,890,900,910,1010,1000,980,940,920,900,1020,990,960,970],\"yaxis\":\"y\",\"type\":\"histogram\"},{\"alignmentgroup\":\"True\",\"bingroup\":\"x\",\"histfunc\":\"sum\",\"hovertemplate\":\"state=%{x}<br>sum of abortionstotal=%{y}<extra></extra>\",\"legendgroup\":\"OH\",\"marker\":{\"color\":\"#19d3f3\",\"pattern\":{\"shape\":\"\"}},\"name\":\"OH\",\"offsetgroup\":\"OH\",\"orientation\":\"v\",\"showlegend\":true,\"x\":[\"OH\",\"OH\",\"OH\",\"OH\",\"OH\",\"OH\",\"OH\",\"OH\",\"OH\",\"OH\",\"OH\",\"OH\",\"OH\",\"OH\",\"OH\",\"OH\",\"OH\"],\"xaxis\":\"x\",\"y\":[50780,46190,41320,38090,33140,32880,32620,32370,30760,29140,27930,26200,24470,23220,21980,20790,20560],\"yaxis\":\"y\",\"type\":\"histogram\"},{\"alignmentgroup\":\"True\",\"bingroup\":\"x\",\"histfunc\":\"sum\",\"hovertemplate\":\"state=%{x}<br>sum of abortionstotal=%{y}<extra></extra>\",\"legendgroup\":\"OK\",\"marker\":{\"color\":\"#FF6692\",\"pattern\":{\"shape\":\"\"}},\"name\":\"OK\",\"offsetgroup\":\"OK\",\"orientation\":\"v\",\"showlegend\":true,\"x\":[\"OK\",\"OK\",\"OK\",\"OK\",\"OK\",\"OK\",\"OK\",\"OK\",\"OK\",\"OK\",\"OK\",\"OK\",\"OK\",\"OK\",\"OK\",\"OK\",\"OK\"],\"xaxis\":\"x\",\"y\":[12240,9080,8490,7780,7420,7450,7480,7500,7060,6510,5910,5830,5760,5210,4800,4550,4780],\"yaxis\":\"y\",\"type\":\"histogram\"},{\"alignmentgroup\":\"True\",\"bingroup\":\"x\",\"histfunc\":\"sum\",\"hovertemplate\":\"state=%{x}<br>sum of abortionstotal=%{y}<extra></extra>\",\"legendgroup\":\"OR\",\"marker\":{\"color\":\"#B6E880\",\"pattern\":{\"shape\":\"\"}},\"name\":\"OR\",\"offsetgroup\":\"OR\",\"orientation\":\"v\",\"showlegend\":true,\"x\":[\"OR\",\"OR\",\"OR\",\"OR\",\"OR\",\"OR\",\"OR\",\"OR\",\"OR\",\"OR\",\"OR\",\"OR\",\"OR\",\"OR\",\"OR\",\"OR\",\"OR\"],\"xaxis\":\"x\",\"y\":[14850,14620,13540,15270,11900,12150,12410,11800,11020,10250,10020,9310,8600,8760,8950,9140,8950],\"yaxis\":\"y\",\"type\":\"histogram\"},{\"alignmentgroup\":\"True\",\"bingroup\":\"x\",\"histfunc\":\"sum\",\"hovertemplate\":\"state=%{x}<br>sum of abortionstotal=%{y}<extra></extra>\",\"legendgroup\":\"PA\",\"marker\":{\"color\":\"#FF97FF\",\"pattern\":{\"shape\":\"\"}},\"name\":\"PA\",\"offsetgroup\":\"PA\",\"orientation\":\"v\",\"showlegend\":true,\"x\":[\"PA\",\"PA\",\"PA\",\"PA\",\"PA\",\"PA\",\"PA\",\"PA\",\"PA\",\"PA\",\"PA\",\"PA\",\"PA\",\"PA\",\"PA\",\"PA\",\"PA\"],\"xaxis\":\"x\",\"y\":[53050,50720,42080,39670,38110,39770,42550,46670,44820,42250,39200,36560,34580,34230,34550,34870,33910],\"yaxis\":\"y\",\"type\":\"histogram\"},{\"alignmentgroup\":\"True\",\"bingroup\":\"x\",\"histfunc\":\"sum\",\"hovertemplate\":\"state=%{x}<br>sum of abortionstotal=%{y}<extra></extra>\",\"legendgroup\":\"RI\",\"marker\":{\"color\":\"#FECB52\",\"pattern\":{\"shape\":\"\"}},\"name\":\"RI\",\"offsetgroup\":\"RI\",\"orientation\":\"v\",\"showlegend\":true,\"x\":[\"RI\",\"RI\",\"RI\",\"RI\",\"RI\",\"RI\",\"RI\",\"RI\",\"RI\",\"RI\",\"RI\",\"RI\",\"RI\",\"RI\",\"RI\",\"RI\",\"RI\"],\"xaxis\":\"x\",\"y\":[5800,5830,5290,4900,4680,4550,4420,4340,4100,3850,3690,3410,3130,3220,3290,3340,3280],\"yaxis\":\"y\",\"type\":\"histogram\"},{\"alignmentgroup\":\"True\",\"bingroup\":\"x\",\"histfunc\":\"sum\",\"hovertemplate\":\"state=%{x}<br>sum of abortionstotal=%{y}<extra></extra>\",\"legendgroup\":\"SC\",\"marker\":{\"color\":\"#636efa\",\"pattern\":{\"shape\":\"\"}},\"name\":\"SC\",\"offsetgroup\":\"SC\",\"orientation\":\"v\",\"showlegend\":true,\"x\":[\"SC\",\"SC\",\"SC\",\"SC\",\"SC\",\"SC\",\"SC\",\"SC\",\"SC\",\"SC\",\"SC\",\"SC\",\"SC\",\"SC\",\"SC\",\"SC\",\"SC\"],\"xaxis\":\"x\",\"y\":[16440,14410,12450,12120,13320,13590,13750,13200,13050,12900,11580,11440,11300,10940,10930,10920,11380],\"yaxis\":\"y\",\"type\":\"histogram\"},{\"alignmentgroup\":\"True\",\"bingroup\":\"x\",\"histfunc\":\"sum\",\"hovertemplate\":\"state=%{x}<br>sum of abortionstotal=%{y}<extra></extra>\",\"legendgroup\":\"SD\",\"marker\":{\"color\":\"#EF553B\",\"pattern\":{\"shape\":\"\"}},\"name\":\"SD\",\"offsetgroup\":\"SD\",\"orientation\":\"v\",\"showlegend\":true,\"x\":[\"SD\",\"SD\",\"SD\",\"SD\",\"SD\",\"SD\",\"SD\",\"SD\",\"SD\",\"SD\",\"SD\",\"SD\",\"SD\",\"SD\",\"SD\",\"SD\",\"SD\"],\"xaxis\":\"x\",\"y\":[1420,1340,1200,1020,980,970,960,970,900,840,850,840,830,810,770,730,750],\"yaxis\":\"y\",\"type\":\"histogram\"},{\"alignmentgroup\":\"True\",\"bingroup\":\"x\",\"histfunc\":\"sum\",\"hovertemplate\":\"state=%{x}<br>sum of abortionstotal=%{y}<extra></extra>\",\"legendgroup\":\"TN\",\"marker\":{\"color\":\"#00cc96\",\"pattern\":{\"shape\":\"\"}},\"name\":\"TN\",\"offsetgroup\":\"TN\",\"orientation\":\"v\",\"showlegend\":true,\"x\":[\"TN\",\"TN\",\"TN\",\"TN\",\"TN\",\"TN\",\"TN\",\"TN\",\"TN\",\"TN\",\"TN\",\"TN\",\"TN\",\"TN\",\"TN\",\"TN\",\"TN\"],\"xaxis\":\"x\",\"y\":[20060,19110,16690,17270,15520,15550,15590,16210,15290,14370,13670,13210,12760,12300,11770,11230,11060],\"yaxis\":\"y\",\"type\":\"histogram\"},{\"alignmentgroup\":\"True\",\"bingroup\":\"x\",\"histfunc\":\"sum\",\"hovertemplate\":\"state=%{x}<br>sum of abortionstotal=%{y}<extra></extra>\",\"legendgroup\":\"TX\",\"marker\":{\"color\":\"#ab63fa\",\"pattern\":{\"shape\":\"\"}},\"name\":\"TX\",\"offsetgroup\":\"TX\",\"orientation\":\"v\",\"showlegend\":true,\"x\":[\"TX\",\"TX\",\"TX\",\"TX\",\"TX\",\"TX\",\"TX\",\"TX\",\"TX\",\"TX\",\"TX\",\"TX\",\"TX\",\"TX\",\"TX\",\"TX\",\"TX\"],\"xaxis\":\"x\",\"y\":[97450,94590,88250,87110,84560,82540,80510,82690,81060,78130,72140,69520,66910,56400,55690,55100,56340],\"yaxis\":\"y\",\"type\":\"histogram\"},{\"alignmentgroup\":\"True\",\"bingroup\":\"x\",\"histfunc\":\"sum\",\"hovertemplate\":\"state=%{x}<br>sum of abortionstotal=%{y}<extra></extra>\",\"legendgroup\":\"US\",\"marker\":{\"color\":\"#FFA15A\",\"pattern\":{\"shape\":\"\"}},\"name\":\"US\",\"offsetgroup\":\"US\",\"orientation\":\"v\",\"showlegend\":true,\"x\":[\"US\",\"US\",\"US\",\"US\",\"US\",\"US\",\"US\",\"US\",\"US\",\"US\",\"US\",\"US\",\"US\",\"US\",\"US\",\"US\",\"US\",\"US\",\"US\",\"US\",\"US\",\"US\",\"US\",\"US\",\"US\",\"US\",\"US\",\"US\",\"US\",\"US\",\"US\",\"US\",\"US\",\"US\",\"US\",\"US\",\"US\",\"US\",\"US\",\"US\",\"US\",\"US\",\"US\",\"US\",\"US\"],\"xaxis\":\"x\",\"y\":[744610,898570,1034170,1179300,1316700,1409600,1497670,1553890,1577340,1573920,1575000,1577180,1588550,1574000,1559110,1590750,1566870,1608620,1556510,1528930,1495000,1423000,1359440,1360160,1335000,1319000,1314790,1312990,1291000,1269000,1250000,1222100,1206200,1242000,1209640,1212350,1151600,1102670,1058490,1011070,958700,926190,899270,874080,862320],\"yaxis\":\"y\",\"type\":\"histogram\"},{\"alignmentgroup\":\"True\",\"bingroup\":\"x\",\"histfunc\":\"sum\",\"hovertemplate\":\"state=%{x}<br>sum of abortionstotal=%{y}<extra></extra>\",\"legendgroup\":\"UT\",\"marker\":{\"color\":\"#19d3f3\",\"pattern\":{\"shape\":\"\"}},\"name\":\"UT\",\"offsetgroup\":\"UT\",\"orientation\":\"v\",\"showlegend\":true,\"x\":[\"UT\",\"UT\",\"UT\",\"UT\",\"UT\",\"UT\",\"UT\",\"UT\",\"UT\",\"UT\",\"UT\",\"UT\",\"UT\",\"UT\",\"UT\",\"UT\",\"UT\"],\"xaxis\":\"x\",\"y\":[4590,3800,3850,3500,3610,3780,3940,3880,3690,3470,3240,3210,3170,2960,3010,3050,3020],\"yaxis\":\"y\",\"type\":\"histogram\"},{\"alignmentgroup\":\"True\",\"bingroup\":\"x\",\"histfunc\":\"sum\",\"hovertemplate\":\"state=%{x}<br>sum of abortionstotal=%{y}<extra></extra>\",\"legendgroup\":\"VT\",\"marker\":{\"color\":\"#FF6692\",\"pattern\":{\"shape\":\"\"}},\"name\":\"VT\",\"offsetgroup\":\"VT\",\"orientation\":\"v\",\"showlegend\":true,\"x\":[\"VT\",\"VT\",\"VT\",\"VT\",\"VT\",\"VT\",\"VT\",\"VT\",\"VT\",\"VT\",\"VT\",\"VT\",\"VT\",\"VT\",\"VT\",\"VT\",\"VT\"],\"xaxis\":\"x\",\"y\":[2920,2160,2050,1510,1810,1760,1720,1730,1670,1600,1610,1560,1490,1380,1320,1260,1140],\"yaxis\":\"y\",\"type\":\"histogram\"},{\"alignmentgroup\":\"True\",\"bingroup\":\"x\",\"histfunc\":\"sum\",\"hovertemplate\":\"state=%{x}<br>sum of abortionstotal=%{y}<extra></extra>\",\"legendgroup\":\"VA\",\"marker\":{\"color\":\"#B6E880\",\"pattern\":{\"shape\":\"\"}},\"name\":\"VA\",\"offsetgroup\":\"VA\",\"orientation\":\"v\",\"showlegend\":true,\"x\":[\"VA\",\"VA\",\"VA\",\"VA\",\"VA\",\"VA\",\"VA\",\"VA\",\"VA\",\"VA\",\"VA\",\"VA\",\"VA\",\"VA\",\"VA\",\"VA\",\"VA\"],\"xaxis\":\"x\",\"y\":[40240,38130,32450,30690,30590,31670,32750,31360,30950,30550,29160,29510,29860,24590,23290,21990,20290],\"yaxis\":\"y\",\"type\":\"histogram\"},{\"alignmentgroup\":\"True\",\"bingroup\":\"x\",\"histfunc\":\"sum\",\"hovertemplate\":\"state=%{x}<br>sum of abortionstotal=%{y}<extra></extra>\",\"legendgroup\":\"WA\",\"marker\":{\"color\":\"#FF97FF\",\"pattern\":{\"shape\":\"\"}},\"name\":\"WA\",\"offsetgroup\":\"WA\",\"orientation\":\"v\",\"showlegend\":true,\"x\":[\"WA\",\"WA\",\"WA\",\"WA\",\"WA\",\"WA\",\"WA\",\"WA\",\"WA\",\"WA\",\"WA\",\"WA\",\"WA\",\"WA\",\"WA\",\"WA\",\"WA\"],\"xaxis\":\"x\",\"y\":[30890,33620,26960,26970,23680,24350,25030,24670,23530,22380,21830,20470,19100,19150,18340,17530,17760],\"yaxis\":\"y\",\"type\":\"histogram\"},{\"alignmentgroup\":\"True\",\"bingroup\":\"x\",\"histfunc\":\"sum\",\"hovertemplate\":\"state=%{x}<br>sum of abortionstotal=%{y}<extra></extra>\",\"legendgroup\":\"WV\",\"marker\":{\"color\":\"#FECB52\",\"pattern\":{\"shape\":\"\"}},\"name\":\"WV\",\"offsetgroup\":\"WV\",\"orientation\":\"v\",\"showlegend\":true,\"x\":[\"WV\",\"WV\",\"WV\",\"WV\",\"WV\",\"WV\",\"WV\",\"WV\",\"WV\",\"WV\",\"WV\",\"WV\",\"WV\",\"WV\",\"WV\",\"WV\",\"WV\"],\"xaxis\":\"x\",\"y\":[4800,4460,3400,2930,2700,2880,3070,2680,3070,3460,3320,2800,2280,2280,2380,2490,2380],\"yaxis\":\"y\",\"type\":\"histogram\"},{\"alignmentgroup\":\"True\",\"bingroup\":\"x\",\"histfunc\":\"sum\",\"hovertemplate\":\"state=%{x}<br>sum of abortionstotal=%{y}<extra></extra>\",\"legendgroup\":\"WI\",\"marker\":{\"color\":\"#636efa\",\"pattern\":{\"shape\":\"\"}},\"name\":\"WI\",\"offsetgroup\":\"WI\",\"orientation\":\"v\",\"showlegend\":true,\"x\":[\"WI\",\"WI\",\"WI\",\"WI\",\"WI\",\"WI\",\"WI\",\"WI\",\"WI\",\"WI\",\"WI\",\"WI\",\"WI\",\"WI\",\"WI\",\"WI\",\"WI\"],\"xaxis\":\"x\",\"y\":[18580,16280,14980,12450,10920,10390,9870,9660,9420,9140,8660,8080,7510,7430,7360,7310,7540],\"yaxis\":\"y\",\"type\":\"histogram\"},{\"alignmentgroup\":\"True\",\"bingroup\":\"x\",\"histfunc\":\"sum\",\"hovertemplate\":\"state=%{x}<br>sum of abortionstotal=%{y}<extra></extra>\",\"legendgroup\":\"WY\",\"marker\":{\"color\":\"#EF553B\",\"pattern\":{\"shape\":\"\"}},\"name\":\"WY\",\"offsetgroup\":\"WY\",\"orientation\":\"v\",\"showlegend\":true,\"x\":[\"WY\",\"WY\",\"WY\",\"WY\",\"WY\",\"WY\",\"WY\",\"WY\",\"WY\",\"WY\",\"WY\",\"WY\",\"WY\",\"WY\",\"WY\",\"WY\",\"WY\"],\"xaxis\":\"x\",\"y\":[1370,1390,1630,2090,1220,1200,1170,1060,1030,1010,1060,940,820,850,810,770,720],\"yaxis\":\"y\",\"type\":\"histogram\"}],                        {\"template\":{\"data\":{\"histogram2dcontour\":[{\"type\":\"histogram2dcontour\",\"colorbar\":{\"outlinewidth\":0,\"ticks\":\"\"},\"colorscale\":[[0.0,\"#0d0887\"],[0.1111111111111111,\"#46039f\"],[0.2222222222222222,\"#7201a8\"],[0.3333333333333333,\"#9c179e\"],[0.4444444444444444,\"#bd3786\"],[0.5555555555555556,\"#d8576b\"],[0.6666666666666666,\"#ed7953\"],[0.7777777777777778,\"#fb9f3a\"],[0.8888888888888888,\"#fdca26\"],[1.0,\"#f0f921\"]]}],\"choropleth\":[{\"type\":\"choropleth\",\"colorbar\":{\"outlinewidth\":0,\"ticks\":\"\"}}],\"histogram2d\":[{\"type\":\"histogram2d\",\"colorbar\":{\"outlinewidth\":0,\"ticks\":\"\"},\"colorscale\":[[0.0,\"#0d0887\"],[0.1111111111111111,\"#46039f\"],[0.2222222222222222,\"#7201a8\"],[0.3333333333333333,\"#9c179e\"],[0.4444444444444444,\"#bd3786\"],[0.5555555555555556,\"#d8576b\"],[0.6666666666666666,\"#ed7953\"],[0.7777777777777778,\"#fb9f3a\"],[0.8888888888888888,\"#fdca26\"],[1.0,\"#f0f921\"]]}],\"heatmap\":[{\"type\":\"heatmap\",\"colorbar\":{\"outlinewidth\":0,\"ticks\":\"\"},\"colorscale\":[[0.0,\"#0d0887\"],[0.1111111111111111,\"#46039f\"],[0.2222222222222222,\"#7201a8\"],[0.3333333333333333,\"#9c179e\"],[0.4444444444444444,\"#bd3786\"],[0.5555555555555556,\"#d8576b\"],[0.6666666666666666,\"#ed7953\"],[0.7777777777777778,\"#fb9f3a\"],[0.8888888888888888,\"#fdca26\"],[1.0,\"#f0f921\"]]}],\"heatmapgl\":[{\"type\":\"heatmapgl\",\"colorbar\":{\"outlinewidth\":0,\"ticks\":\"\"},\"colorscale\":[[0.0,\"#0d0887\"],[0.1111111111111111,\"#46039f\"],[0.2222222222222222,\"#7201a8\"],[0.3333333333333333,\"#9c179e\"],[0.4444444444444444,\"#bd3786\"],[0.5555555555555556,\"#d8576b\"],[0.6666666666666666,\"#ed7953\"],[0.7777777777777778,\"#fb9f3a\"],[0.8888888888888888,\"#fdca26\"],[1.0,\"#f0f921\"]]}],\"contourcarpet\":[{\"type\":\"contourcarpet\",\"colorbar\":{\"outlinewidth\":0,\"ticks\":\"\"}}],\"contour\":[{\"type\":\"contour\",\"colorbar\":{\"outlinewidth\":0,\"ticks\":\"\"},\"colorscale\":[[0.0,\"#0d0887\"],[0.1111111111111111,\"#46039f\"],[0.2222222222222222,\"#7201a8\"],[0.3333333333333333,\"#9c179e\"],[0.4444444444444444,\"#bd3786\"],[0.5555555555555556,\"#d8576b\"],[0.6666666666666666,\"#ed7953\"],[0.7777777777777778,\"#fb9f3a\"],[0.8888888888888888,\"#fdca26\"],[1.0,\"#f0f921\"]]}],\"surface\":[{\"type\":\"surface\",\"colorbar\":{\"outlinewidth\":0,\"ticks\":\"\"},\"colorscale\":[[0.0,\"#0d0887\"],[0.1111111111111111,\"#46039f\"],[0.2222222222222222,\"#7201a8\"],[0.3333333333333333,\"#9c179e\"],[0.4444444444444444,\"#bd3786\"],[0.5555555555555556,\"#d8576b\"],[0.6666666666666666,\"#ed7953\"],[0.7777777777777778,\"#fb9f3a\"],[0.8888888888888888,\"#fdca26\"],[1.0,\"#f0f921\"]]}],\"mesh3d\":[{\"type\":\"mesh3d\",\"colorbar\":{\"outlinewidth\":0,\"ticks\":\"\"}}],\"scatter\":[{\"fillpattern\":{\"fillmode\":\"overlay\",\"size\":10,\"solidity\":0.2},\"type\":\"scatter\"}],\"parcoords\":[{\"type\":\"parcoords\",\"line\":{\"colorbar\":{\"outlinewidth\":0,\"ticks\":\"\"}}}],\"scatterpolargl\":[{\"type\":\"scatterpolargl\",\"marker\":{\"colorbar\":{\"outlinewidth\":0,\"ticks\":\"\"}}}],\"bar\":[{\"error_x\":{\"color\":\"#2a3f5f\"},\"error_y\":{\"color\":\"#2a3f5f\"},\"marker\":{\"line\":{\"color\":\"#E5ECF6\",\"width\":0.5},\"pattern\":{\"fillmode\":\"overlay\",\"size\":10,\"solidity\":0.2}},\"type\":\"bar\"}],\"scattergeo\":[{\"type\":\"scattergeo\",\"marker\":{\"colorbar\":{\"outlinewidth\":0,\"ticks\":\"\"}}}],\"scatterpolar\":[{\"type\":\"scatterpolar\",\"marker\":{\"colorbar\":{\"outlinewidth\":0,\"ticks\":\"\"}}}],\"histogram\":[{\"marker\":{\"pattern\":{\"fillmode\":\"overlay\",\"size\":10,\"solidity\":0.2}},\"type\":\"histogram\"}],\"scattergl\":[{\"type\":\"scattergl\",\"marker\":{\"colorbar\":{\"outlinewidth\":0,\"ticks\":\"\"}}}],\"scatter3d\":[{\"type\":\"scatter3d\",\"line\":{\"colorbar\":{\"outlinewidth\":0,\"ticks\":\"\"}},\"marker\":{\"colorbar\":{\"outlinewidth\":0,\"ticks\":\"\"}}}],\"scattermapbox\":[{\"type\":\"scattermapbox\",\"marker\":{\"colorbar\":{\"outlinewidth\":0,\"ticks\":\"\"}}}],\"scatterternary\":[{\"type\":\"scatterternary\",\"marker\":{\"colorbar\":{\"outlinewidth\":0,\"ticks\":\"\"}}}],\"scattercarpet\":[{\"type\":\"scattercarpet\",\"marker\":{\"colorbar\":{\"outlinewidth\":0,\"ticks\":\"\"}}}],\"carpet\":[{\"aaxis\":{\"endlinecolor\":\"#2a3f5f\",\"gridcolor\":\"white\",\"linecolor\":\"white\",\"minorgridcolor\":\"white\",\"startlinecolor\":\"#2a3f5f\"},\"baxis\":{\"endlinecolor\":\"#2a3f5f\",\"gridcolor\":\"white\",\"linecolor\":\"white\",\"minorgridcolor\":\"white\",\"startlinecolor\":\"#2a3f5f\"},\"type\":\"carpet\"}],\"table\":[{\"cells\":{\"fill\":{\"color\":\"#EBF0F8\"},\"line\":{\"color\":\"white\"}},\"header\":{\"fill\":{\"color\":\"#C8D4E3\"},\"line\":{\"color\":\"white\"}},\"type\":\"table\"}],\"barpolar\":[{\"marker\":{\"line\":{\"color\":\"#E5ECF6\",\"width\":0.5},\"pattern\":{\"fillmode\":\"overlay\",\"size\":10,\"solidity\":0.2}},\"type\":\"barpolar\"}],\"pie\":[{\"automargin\":true,\"type\":\"pie\"}]},\"layout\":{\"autotypenumbers\":\"strict\",\"colorway\":[\"#636efa\",\"#EF553B\",\"#00cc96\",\"#ab63fa\",\"#FFA15A\",\"#19d3f3\",\"#FF6692\",\"#B6E880\",\"#FF97FF\",\"#FECB52\"],\"font\":{\"color\":\"#2a3f5f\"},\"hovermode\":\"closest\",\"hoverlabel\":{\"align\":\"left\"},\"paper_bgcolor\":\"white\",\"plot_bgcolor\":\"#E5ECF6\",\"polar\":{\"bgcolor\":\"#E5ECF6\",\"angularaxis\":{\"gridcolor\":\"white\",\"linecolor\":\"white\",\"ticks\":\"\"},\"radialaxis\":{\"gridcolor\":\"white\",\"linecolor\":\"white\",\"ticks\":\"\"}},\"ternary\":{\"bgcolor\":\"#E5ECF6\",\"aaxis\":{\"gridcolor\":\"white\",\"linecolor\":\"white\",\"ticks\":\"\"},\"baxis\":{\"gridcolor\":\"white\",\"linecolor\":\"white\",\"ticks\":\"\"},\"caxis\":{\"gridcolor\":\"white\",\"linecolor\":\"white\",\"ticks\":\"\"}},\"coloraxis\":{\"colorbar\":{\"outlinewidth\":0,\"ticks\":\"\"}},\"colorscale\":{\"sequential\":[[0.0,\"#0d0887\"],[0.1111111111111111,\"#46039f\"],[0.2222222222222222,\"#7201a8\"],[0.3333333333333333,\"#9c179e\"],[0.4444444444444444,\"#bd3786\"],[0.5555555555555556,\"#d8576b\"],[0.6666666666666666,\"#ed7953\"],[0.7777777777777778,\"#fb9f3a\"],[0.8888888888888888,\"#fdca26\"],[1.0,\"#f0f921\"]],\"sequentialminus\":[[0.0,\"#0d0887\"],[0.1111111111111111,\"#46039f\"],[0.2222222222222222,\"#7201a8\"],[0.3333333333333333,\"#9c179e\"],[0.4444444444444444,\"#bd3786\"],[0.5555555555555556,\"#d8576b\"],[0.6666666666666666,\"#ed7953\"],[0.7777777777777778,\"#fb9f3a\"],[0.8888888888888888,\"#fdca26\"],[1.0,\"#f0f921\"]],\"diverging\":[[0,\"#8e0152\"],[0.1,\"#c51b7d\"],[0.2,\"#de77ae\"],[0.3,\"#f1b6da\"],[0.4,\"#fde0ef\"],[0.5,\"#f7f7f7\"],[0.6,\"#e6f5d0\"],[0.7,\"#b8e186\"],[0.8,\"#7fbc41\"],[0.9,\"#4d9221\"],[1,\"#276419\"]]},\"xaxis\":{\"gridcolor\":\"white\",\"linecolor\":\"white\",\"ticks\":\"\",\"title\":{\"standoff\":15},\"zerolinecolor\":\"white\",\"automargin\":true,\"zerolinewidth\":2},\"yaxis\":{\"gridcolor\":\"white\",\"linecolor\":\"white\",\"ticks\":\"\",\"title\":{\"standoff\":15},\"zerolinecolor\":\"white\",\"automargin\":true,\"zerolinewidth\":2},\"scene\":{\"xaxis\":{\"backgroundcolor\":\"#E5ECF6\",\"gridcolor\":\"white\",\"linecolor\":\"white\",\"showbackground\":true,\"ticks\":\"\",\"zerolinecolor\":\"white\",\"gridwidth\":2},\"yaxis\":{\"backgroundcolor\":\"#E5ECF6\",\"gridcolor\":\"white\",\"linecolor\":\"white\",\"showbackground\":true,\"ticks\":\"\",\"zerolinecolor\":\"white\",\"gridwidth\":2},\"zaxis\":{\"backgroundcolor\":\"#E5ECF6\",\"gridcolor\":\"white\",\"linecolor\":\"white\",\"showbackground\":true,\"ticks\":\"\",\"zerolinecolor\":\"white\",\"gridwidth\":2}},\"shapedefaults\":{\"line\":{\"color\":\"#2a3f5f\"}},\"annotationdefaults\":{\"arrowcolor\":\"#2a3f5f\",\"arrowhead\":0,\"arrowwidth\":1},\"geo\":{\"bgcolor\":\"white\",\"landcolor\":\"#E5ECF6\",\"subunitcolor\":\"white\",\"showland\":true,\"showlakes\":true,\"lakecolor\":\"white\"},\"title\":{\"x\":0.05},\"mapbox\":{\"style\":\"light\"}}},\"xaxis\":{\"anchor\":\"y\",\"domain\":[0.0,1.0],\"title\":{\"text\":\"state\"},\"categoryorder\":\"array\",\"categoryarray\":[\"AL\",\"AK\",\"AZ\",\"AR\",\"CA\",\"CO\",\"CT\",\"DE\",\"DC\",\"FL\",\"GA\",\"HI\",\"ID\",\"IL\",\"IN\",\"IA\",\"KS\",\"KY\",\"LA\",\"ME\",\"MD\",\"MA\",\"MI\",\"MN\",\"MS\",\"MO\",\"MT\",\"NE\",\"NV\",\"NH\",\"NJ\",\"NM\",\"NY\",\"NC\",\"ND\",\"OH\",\"OK\",\"OR\",\"PA\",\"RI\",\"SC\",\"SD\",\"TN\",\"TX\",\"US\",\"UT\",\"VT\",\"VA\",\"WA\",\"WV\",\"WI\",\"WY\"],\"tickmode\":\"array\",\"tick0\":0.2,\"dtick\":1},\"yaxis\":{\"anchor\":\"x\",\"domain\":[0.0,1.0],\"title\":{\"text\":\"sum of abortionstotal\"}},\"legend\":{\"title\":{\"text\":\"state\"},\"tracegroupgap\":0},\"margin\":{\"t\":60},\"barmode\":\"relative\"},                        {\"responsive\": true}                    ).then(function(){\n",
       "                            \n",
       "var gd = document.getElementById('f6919652-99ed-474e-a98e-feedc66e1889');\n",
       "var x = new MutationObserver(function (mutations, observer) {{\n",
       "        var display = window.getComputedStyle(gd).display;\n",
       "        if (!display || display === 'none') {{\n",
       "            console.log([gd, 'removed!']);\n",
       "            Plotly.purge(gd);\n",
       "            observer.disconnect();\n",
       "        }}\n",
       "}});\n",
       "\n",
       "// Listen for the removal of the full notebook cells\n",
       "var notebookContainer = gd.closest('#notebook-container');\n",
       "if (notebookContainer) {{\n",
       "    x.observe(notebookContainer, {childList: true});\n",
       "}}\n",
       "\n",
       "// Listen for the clearing of the current output cell\n",
       "var outputEl = gd.closest('.output');\n",
       "if (outputEl) {{\n",
       "    x.observe(outputEl, {childList: true});\n",
       "}}\n",
       "\n",
       "                        })                };                });            </script>        </div>"
      ]
     },
     "metadata": {},
     "output_type": "display_data"
    }
   ],
   "source": [
    "import plotly.express as px\n",
    "fig = px.histogram(AbTimeline_df, x=\"state\", y=\"abortionstotal\", color=\"state\")\n",
    "fig.update_layout(\n",
    "    xaxis = dict(\n",
    "    tickmode = 'array',\n",
    "    tick0 = 0.2,\n",
    "    dtick = 1   \n",
    " )\n",
    ")\n",
    "fig.show()"
   ]
  },
  {
   "cell_type": "code",
   "execution_count": 97,
   "id": "596f7895",
   "metadata": {},
   "outputs": [
    {
     "data": {
      "application/vnd.plotly.v1+json": {
       "config": {
        "plotlyServerURL": "https://plot.ly"
       },
       "data": [
        {
         "hovertemplate": "year=%{x}<br>abortionstotal=%{y}<extra></extra>",
         "legendgroup": "1988",
         "marker": {
          "color": "#636efa",
          "symbol": "circle"
         },
         "mode": "markers",
         "name": "1988",
         "orientation": "v",
         "showlegend": true,
         "type": "scatter",
         "x": [
          "1988",
          "1988",
          "1988",
          "1988",
          "1988",
          "1988",
          "1988",
          "1988",
          "1988",
          "1988",
          "1988",
          "1988",
          "1988",
          "1988",
          "1988",
          "1988",
          "1988",
          "1988",
          "1988",
          "1988",
          "1988",
          "1988",
          "1988",
          "1988",
          "1988",
          "1988",
          "1988",
          "1988",
          "1988",
          "1988",
          "1988",
          "1988",
          "1988",
          "1988",
          "1988",
          "1988",
          "1988",
          "1988",
          "1988",
          "1988",
          "1988",
          "1988",
          "1988",
          "1988",
          "1988",
          "1988",
          "1988",
          "1988",
          "1988",
          "1988",
          "1988",
          "1988"
         ],
         "xaxis": "x",
         "y": [
          20100,
          2700,
          22200,
          7860,
          311440,
          17550,
          24470,
          4570,
          13830,
          75820,
          35320,
          11120,
          2760,
          72500,
          20930,
          10480,
          7210,
          10090,
          17030,
          4140,
          41090,
          44260,
          62770,
          17400,
          6480,
          23940,
          2350,
          5490,
          9450,
          5940,
          66300,
          8180,
          179830,
          38120,
          1510,
          50780,
          12240,
          14850,
          53050,
          5800,
          16440,
          1420,
          20060,
          97450,
          1590750,
          4590,
          2920,
          40240,
          30890,
          4800,
          18580,
          1370
         ],
         "yaxis": "y"
        },
        {
         "hovertemplate": "year=%{x}<br>abortionstotal=%{y}<extra></extra>",
         "legendgroup": "1992",
         "marker": {
          "color": "#EF553B",
          "symbol": "circle"
         },
         "mode": "markers",
         "name": "1992",
         "orientation": "v",
         "showlegend": true,
         "type": "scatter",
         "x": [
          "1992",
          "1992",
          "1992",
          "1992",
          "1992",
          "1992",
          "1992",
          "1992",
          "1992",
          "1992",
          "1992",
          "1992",
          "1992",
          "1992",
          "1992",
          "1992",
          "1992",
          "1992",
          "1992",
          "1992",
          "1992",
          "1992",
          "1992",
          "1992",
          "1992",
          "1992",
          "1992",
          "1992",
          "1992",
          "1992",
          "1992",
          "1992",
          "1992",
          "1992",
          "1992",
          "1992",
          "1992",
          "1992",
          "1992",
          "1992",
          "1992",
          "1992",
          "1992",
          "1992",
          "1992",
          "1992",
          "1992",
          "1992",
          "1992",
          "1992",
          "1992",
          "1992"
         ],
         "xaxis": "x",
         "y": [
          17720,
          2800,
          21200,
          8690,
          303850,
          18410,
          20100,
          4620,
          11040,
          77320,
          39970,
          12180,
          2420,
          66500,
          21170,
          7480,
          7140,
          9850,
          11800,
          4260,
          39490,
          41610,
          54530,
          15090,
          8830,
          19870,
          2810,
          4950,
          12400,
          4490,
          58420,
          7780,
          191100,
          34000,
          1190,
          46190,
          9080,
          14620,
          50720,
          5830,
          14410,
          1340,
          19110,
          94590,
          1528930,
          3800,
          2160,
          38130,
          33620,
          4460,
          16280,
          1390
         ],
         "yaxis": "y"
        },
        {
         "hovertemplate": "year=%{x}<br>abortionstotal=%{y}<extra></extra>",
         "legendgroup": "1996",
         "marker": {
          "color": "#00cc96",
          "symbol": "circle"
         },
         "mode": "markers",
         "name": "1996",
         "orientation": "v",
         "showlegend": true,
         "type": "scatter",
         "x": [
          "1996",
          "1996",
          "1996",
          "1996",
          "1996",
          "1996",
          "1996",
          "1996",
          "1996",
          "1996",
          "1996",
          "1996",
          "1996",
          "1996",
          "1996",
          "1996",
          "1996",
          "1996",
          "1996",
          "1996",
          "1996",
          "1996",
          "1996",
          "1996",
          "1996",
          "1996",
          "1996",
          "1996",
          "1996",
          "1996",
          "1996",
          "1996",
          "1996",
          "1996",
          "1996",
          "1996",
          "1996",
          "1996",
          "1996",
          "1996",
          "1996",
          "1996",
          "1996",
          "1996",
          "1996",
          "1996",
          "1996",
          "1996",
          "1996",
          "1996",
          "1996",
          "1996"
         ],
         "xaxis": "x",
         "y": [
          14940,
          2310,
          20120,
          6680,
          237870,
          16670,
          16510,
          2970,
          5620,
          90160,
          35230,
          6930,
          2450,
          66920,
          18340,
          6150,
          6940,
          7890,
          13110,
          3390,
          36940,
          40150,
          47430,
          13950,
          9020,
          16050,
          2430,
          3930,
          14080,
          4670,
          64230,
          6560,
          164080,
          31070,
          1050,
          41320,
          8490,
          13540,
          42080,
          5290,
          12450,
          1200,
          16690,
          88250,
          1360160,
          3850,
          2050,
          32450,
          26960,
          3400,
          14980,
          1630
         ],
         "yaxis": "y"
        },
        {
         "hovertemplate": "year=%{x}<br>abortionstotal=%{y}<extra></extra>",
         "legendgroup": "2000",
         "marker": {
          "color": "#ab63fa",
          "symbol": "circle"
         },
         "mode": "markers",
         "name": "2000",
         "orientation": "v",
         "showlegend": true,
         "type": "scatter",
         "x": [
          "2000",
          "2000",
          "2000",
          "2000",
          "2000",
          "2000",
          "2000",
          "2000",
          "2000",
          "2000",
          "2000",
          "2000",
          "2000",
          "2000",
          "2000",
          "2000",
          "2000",
          "2000",
          "2000",
          "2000",
          "2000",
          "2000",
          "2000",
          "2000",
          "2000",
          "2000",
          "2000",
          "2000",
          "2000",
          "2000",
          "2000",
          "2000",
          "2000",
          "2000",
          "2000",
          "2000",
          "2000",
          "2000",
          "2000",
          "2000",
          "2000",
          "2000",
          "2000",
          "2000",
          "2000",
          "2000",
          "2000",
          "2000",
          "2000",
          "2000",
          "2000",
          "2000"
         ],
         "xaxis": "x",
         "y": [
          13060,
          1900,
          18410,
          5880,
          235670,
          12950,
          15460,
          3920,
          5750,
          96000,
          32270,
          5630,
          2750,
          58370,
          15140,
          6280,
          6440,
          6720,
          11380,
          2910,
          38670,
          29870,
          45710,
          13940,
          9060,
          17410,
          2220,
          3920,
          12880,
          4020,
          66110,
          6890,
          161160,
          33620,
          940,
          38090,
          7780,
          15270,
          39670,
          4900,
          12120,
          1020,
          17270,
          87110,
          1312990,
          3500,
          1510,
          30690,
          26970,
          2930,
          12450,
          2090
         ],
         "yaxis": "y"
        },
        {
         "hovertemplate": "year=%{x}<br>abortionstotal=%{y}<extra></extra>",
         "legendgroup": "2005",
         "marker": {
          "color": "#FFA15A",
          "symbol": "circle"
         },
         "mode": "markers",
         "name": "2005",
         "orientation": "v",
         "showlegend": true,
         "type": "scatter",
         "x": [
          "2005",
          "2005",
          "2005",
          "2005",
          "2005",
          "2005",
          "2005",
          "2005",
          "2005",
          "2005",
          "2005",
          "2005",
          "2005",
          "2005",
          "2005",
          "2005",
          "2005",
          "2005",
          "2005",
          "2005",
          "2005",
          "2005",
          "2005",
          "2005",
          "2005",
          "2005",
          "2005",
          "2005",
          "2005",
          "2005",
          "2005",
          "2005",
          "2005",
          "2005",
          "2005",
          "2005",
          "2005",
          "2005",
          "2005",
          "2005",
          "2005",
          "2005",
          "2005",
          "2005",
          "2005",
          "2005",
          "2005",
          "2005",
          "2005",
          "2005",
          "2005",
          "2005"
         ],
         "xaxis": "x",
         "y": [
          10840,
          2130,
          19710,
          5200,
          206260,
          14720,
          17340,
          4140,
          6390,
          85360,
          32040,
          5330,
          2540,
          48420,
          13180,
          6130,
          5620,
          6060,
          10330,
          2840,
          35250,
          27800,
          39930,
          13370,
          7930,
          14900,
          2020,
          2990,
          12990,
          3060,
          60330,
          6690,
          152340,
          29730,
          890,
          33140,
          7420,
          11900,
          38110,
          4680,
          13320,
          980,
          15520,
          84560,
          1206200,
          3610,
          1810,
          30590,
          23680,
          2700,
          10920,
          1220
         ],
         "yaxis": "y"
        },
        {
         "hovertemplate": "year=%{x}<br>abortionstotal=%{y}<extra></extra>",
         "legendgroup": "2006",
         "marker": {
          "color": "#19d3f3",
          "symbol": "circle"
         },
         "mode": "markers",
         "name": "2006",
         "orientation": "v",
         "showlegend": true,
         "type": "scatter",
         "x": [
          "2006",
          "2006",
          "2006",
          "2006",
          "2006",
          "2006",
          "2006",
          "2006",
          "2006",
          "2006",
          "2006",
          "2006",
          "2006",
          "2006",
          "2006",
          "2006",
          "2006",
          "2006",
          "2006",
          "2006",
          "2006",
          "2006",
          "2006",
          "2006",
          "2006",
          "2006",
          "2006",
          "2006",
          "2006",
          "2006",
          "2006",
          "2006",
          "2006",
          "2006",
          "2006",
          "2006",
          "2006",
          "2006",
          "2006",
          "2006",
          "2006",
          "2006",
          "2006",
          "2006",
          "2006",
          "2006",
          "2006",
          "2006",
          "2006",
          "2006",
          "2006",
          "2006"
         ],
         "xaxis": "x",
         "y": [
          10980,
          2060,
          18850,
          5450,
          213550,
          14990,
          17580,
          4990,
          5900,
          86980,
          32690,
          5490,
          2700,
          48560,
          12810,
          6390,
          5670,
          6080,
          11220,
          2940,
          31990,
          27130,
          37530,
          13420,
          7880,
          15070,
          2070,
          2690,
          13320,
          3030,
          58030,
          7020,
          148030,
          29970,
          900,
          32880,
          7450,
          12150,
          39770,
          4550,
          13590,
          970,
          15550,
          82540,
          1242000,
          3780,
          1760,
          31670,
          24350,
          2880,
          10390,
          1200
         ],
         "yaxis": "y"
        },
        {
         "hovertemplate": "year=%{x}<br>abortionstotal=%{y}<extra></extra>",
         "legendgroup": "2007",
         "marker": {
          "color": "#FF6692",
          "symbol": "circle"
         },
         "mode": "markers",
         "name": "2007",
         "orientation": "v",
         "showlegend": true,
         "type": "scatter",
         "x": [
          "2007",
          "2007",
          "2007",
          "2007",
          "2007",
          "2007",
          "2007",
          "2007",
          "2007",
          "2007",
          "2007",
          "2007",
          "2007",
          "2007",
          "2007",
          "2007",
          "2007",
          "2007",
          "2007",
          "2007",
          "2007",
          "2007",
          "2007",
          "2007",
          "2007",
          "2007",
          "2007",
          "2007",
          "2007",
          "2007",
          "2007",
          "2007",
          "2007",
          "2007",
          "2007",
          "2007",
          "2007",
          "2007",
          "2007",
          "2007",
          "2007",
          "2007",
          "2007",
          "2007",
          "2007",
          "2007",
          "2007",
          "2007",
          "2007",
          "2007",
          "2007",
          "2007"
         ],
         "xaxis": "x",
         "y": [
          11130,
          2000,
          17990,
          5690,
          220840,
          15160,
          17730,
          5850,
          5400,
          88600,
          33680,
          5650,
          2860,
          48710,
          12440,
          6660,
          5720,
          6110,
          12520,
          3030,
          28720,
          26460,
          35780,
          13480,
          7850,
          15250,
          2110,
          2500,
          13630,
          2990,
          55740,
          7350,
          144390,
          30220,
          910,
          32620,
          7480,
          12410,
          42550,
          4420,
          13750,
          960,
          15590,
          80510,
          1209640,
          3940,
          1720,
          32750,
          25030,
          3070,
          9870,
          1170
         ],
         "yaxis": "y"
        },
        {
         "hovertemplate": "year=%{x}<br>abortionstotal=%{y}<extra></extra>",
         "legendgroup": "2008",
         "marker": {
          "color": "#B6E880",
          "symbol": "circle"
         },
         "mode": "markers",
         "name": "2008",
         "orientation": "v",
         "showlegend": true,
         "type": "scatter",
         "x": [
          "2008",
          "2008",
          "2008",
          "2008",
          "2008",
          "2008",
          "2008",
          "2008",
          "2008",
          "2008",
          "2008",
          "2008",
          "2008",
          "2008",
          "2008",
          "2008",
          "2008",
          "2008",
          "2008",
          "2008",
          "2008",
          "2008",
          "2008",
          "2008",
          "2008",
          "2008",
          "2008",
          "2008",
          "2008",
          "2008",
          "2008",
          "2008",
          "2008",
          "2008",
          "2008",
          "2008",
          "2008",
          "2008",
          "2008",
          "2008",
          "2008",
          "2008",
          "2008",
          "2008",
          "2008",
          "2008",
          "2008",
          "2008",
          "2008",
          "2008",
          "2008",
          "2008"
         ],
         "xaxis": "x",
         "y": [
          11020,
          1960,
          19770,
          5710,
          211930,
          14920,
          17210,
          5650,
          5880,
          86310,
          39370,
          5650,
          2580,
          51670,
          12300,
          6160,
          5670,
          6380,
          14110,
          2970,
          28390,
          25800,
          36050,
          12580,
          8210,
          15160,
          2040,
          2850,
          13020,
          2860,
          54730,
          6730,
          149070,
          29000,
          1010,
          32370,
          7500,
          11800,
          46670,
          4340,
          13200,
          970,
          16210,
          82690,
          1212350,
          3880,
          1730,
          31360,
          24670,
          2680,
          9660,
          1060
         ],
         "yaxis": "y"
        },
        {
         "hovertemplate": "year=%{x}<br>abortionstotal=%{y}<extra></extra>",
         "legendgroup": "2009",
         "marker": {
          "color": "#FF97FF",
          "symbol": "circle"
         },
         "mode": "markers",
         "name": "2009",
         "orientation": "v",
         "showlegend": true,
         "type": "scatter",
         "x": [
          "2009",
          "2009",
          "2009",
          "2009",
          "2009",
          "2009",
          "2009",
          "2009",
          "2009",
          "2009",
          "2009",
          "2009",
          "2009",
          "2009",
          "2009",
          "2009",
          "2009",
          "2009",
          "2009",
          "2009",
          "2009",
          "2009",
          "2009",
          "2009",
          "2009",
          "2009",
          "2009",
          "2009",
          "2009",
          "2009",
          "2009",
          "2009",
          "2009",
          "2009",
          "2009",
          "2009",
          "2009",
          "2009",
          "2009",
          "2009",
          "2009",
          "2009",
          "2009",
          "2009",
          "2009",
          "2009",
          "2009",
          "2009",
          "2009",
          "2009",
          "2009",
          "2009"
         ],
         "xaxis": "x",
         "y": [
          10530,
          2040,
          17480,
          5630,
          200720,
          14330,
          16350,
          5520,
          4970,
          84150,
          37260,
          5590,
          2490,
          47020,
          12020,
          6010,
          4830,
          6170,
          12930,
          2830,
          29630,
          25240,
          33410,
          11780,
          7640,
          13550,
          2000,
          2630,
          12790,
          2840,
          51930,
          6420,
          144390,
          28340,
          1000,
          30760,
          7060,
          11020,
          44820,
          4100,
          13050,
          900,
          15290,
          81060,
          1151600,
          3690,
          1670,
          30950,
          23530,
          3070,
          9420,
          1030
         ],
         "yaxis": "y"
        },
        {
         "hovertemplate": "year=%{x}<br>abortionstotal=%{y}<extra></extra>",
         "legendgroup": "2010",
         "marker": {
          "color": "#FECB52",
          "symbol": "circle"
         },
         "mode": "markers",
         "name": "2010",
         "orientation": "v",
         "showlegend": true,
         "type": "scatter",
         "x": [
          "2010",
          "2010",
          "2010",
          "2010",
          "2010",
          "2010",
          "2010",
          "2010",
          "2010",
          "2010",
          "2010",
          "2010",
          "2010",
          "2010",
          "2010",
          "2010",
          "2010",
          "2010",
          "2010",
          "2010",
          "2010",
          "2010",
          "2010",
          "2010",
          "2010",
          "2010",
          "2010",
          "2010",
          "2010",
          "2010",
          "2010",
          "2010",
          "2010",
          "2010",
          "2010",
          "2010",
          "2010",
          "2010",
          "2010",
          "2010",
          "2010",
          "2010",
          "2010",
          "2010",
          "2010",
          "2010",
          "2010",
          "2010",
          "2010",
          "2010",
          "2010",
          "2010"
         ],
         "xaxis": "x",
         "y": [
          10030,
          2120,
          15190,
          5490,
          189110,
          13730,
          15480,
          5380,
          4060,
          82020,
          35160,
          5530,
          2410,
          42370,
          11600,
          5860,
          3990,
          5960,
          11750,
          2640,
          30890,
          24790,
          30770,
          11120,
          7070,
          11930,
          1980,
          2410,
          12570,
          2830,
          49130,
          6110,
          139700,
          27670,
          980,
          29140,
          6510,
          10250,
          42250,
          3850,
          12900,
          840,
          14370,
          78130,
          1102670,
          3470,
          1600,
          30550,
          22380,
          3460,
          9140,
          1010
         ],
         "yaxis": "y"
        },
        {
         "hovertemplate": "year=%{x}<br>abortionstotal=%{y}<extra></extra>",
         "legendgroup": "2011",
         "marker": {
          "color": "#636efa",
          "symbol": "circle"
         },
         "mode": "markers",
         "name": "2011",
         "orientation": "v",
         "showlegend": true,
         "type": "scatter",
         "x": [
          "2011",
          "2011",
          "2011",
          "2011",
          "2011",
          "2011",
          "2011",
          "2011",
          "2011",
          "2011",
          "2011",
          "2011",
          "2011",
          "2011",
          "2011",
          "2011",
          "2011",
          "2011",
          "2011",
          "2011",
          "2011",
          "2011",
          "2011",
          "2011",
          "2011",
          "2011",
          "2011",
          "2011",
          "2011",
          "2011",
          "2011",
          "2011",
          "2011",
          "2011",
          "2011",
          "2011",
          "2011",
          "2011",
          "2011",
          "2011",
          "2011",
          "2011",
          "2011",
          "2011",
          "2011",
          "2011",
          "2011",
          "2011",
          "2011",
          "2011",
          "2011",
          "2011"
         ],
         "xaxis": "x",
         "y": [
          9600,
          2030,
          16270,
          5210,
          177360,
          13130,
          14630,
          4690,
          3400,
          79890,
          34460,
          5540,
          2340,
          42360,
          10710,
          5430,
          3870,
          5820,
          11310,
          2410,
          32140,
          24430,
          29270,
          10690,
          6700,
          11510,
          1990,
          2550,
          11960,
          2880,
          46670,
          5520,
          136280,
          25080,
          940,
          27930,
          5910,
          10020,
          39200,
          3690,
          11580,
          850,
          13670,
          72140,
          1058490,
          3240,
          1610,
          29160,
          21830,
          3320,
          8660,
          1060
         ],
         "yaxis": "y"
        },
        {
         "hovertemplate": "year=%{x}<br>abortionstotal=%{y}<extra></extra>",
         "legendgroup": "2012",
         "marker": {
          "color": "#EF553B",
          "symbol": "circle"
         },
         "mode": "markers",
         "name": "2012",
         "orientation": "v",
         "showlegend": true,
         "type": "scatter",
         "x": [
          "2012",
          "2012",
          "2012",
          "2012",
          "2012",
          "2012",
          "2012",
          "2012",
          "2012",
          "2012",
          "2012",
          "2012",
          "2012",
          "2012",
          "2012",
          "2012",
          "2012",
          "2012",
          "2012",
          "2012",
          "2012",
          "2012",
          "2012",
          "2012",
          "2012",
          "2012",
          "2012",
          "2012",
          "2012",
          "2012",
          "2012",
          "2012",
          "2012",
          "2012",
          "2012",
          "2012",
          "2012",
          "2012",
          "2012",
          "2012",
          "2012",
          "2012",
          "2012",
          "2012",
          "2012",
          "2012",
          "2012",
          "2012",
          "2012",
          "2012",
          "2012",
          "2012"
         ],
         "xaxis": "x",
         "y": [
          8920,
          1890,
          15040,
          5010,
          170420,
          12400,
          13900,
          4010,
          3570,
          76730,
          33620,
          4900,
          2090,
          42020,
          10200,
          4790,
          3910,
          5500,
          10470,
          2390,
          29610,
          22840,
          28780,
          10130,
          6280,
          11080,
          1820,
          2510,
          10750,
          2610,
          44680,
          4860,
          126630,
          25960,
          920,
          26200,
          5830,
          9310,
          36560,
          3410,
          11440,
          840,
          13210,
          69520,
          1011070,
          3210,
          1560,
          29510,
          20470,
          2800,
          8080,
          940
         ],
         "yaxis": "y"
        },
        {
         "hovertemplate": "year=%{x}<br>abortionstotal=%{y}<extra></extra>",
         "legendgroup": "2013",
         "marker": {
          "color": "#00cc96",
          "symbol": "circle"
         },
         "mode": "markers",
         "name": "2013",
         "orientation": "v",
         "showlegend": true,
         "type": "scatter",
         "x": [
          "2013",
          "2013",
          "2013",
          "2013",
          "2013",
          "2013",
          "2013",
          "2013",
          "2013",
          "2013",
          "2013",
          "2013",
          "2013",
          "2013",
          "2013",
          "2013",
          "2013",
          "2013",
          "2013",
          "2013",
          "2013",
          "2013",
          "2013",
          "2013",
          "2013",
          "2013",
          "2013",
          "2013",
          "2013",
          "2013",
          "2013",
          "2013",
          "2013",
          "2013",
          "2013",
          "2013",
          "2013",
          "2013",
          "2013",
          "2013",
          "2013",
          "2013",
          "2013",
          "2013",
          "2013",
          "2013",
          "2013",
          "2013",
          "2013",
          "2013",
          "2013",
          "2013"
         ],
         "xaxis": "x",
         "y": [
          8230,
          1740,
          13820,
          4810,
          163550,
          11660,
          13360,
          3340,
          3740,
          73560,
          32550,
          4260,
          1850,
          41430,
          9910,
          4150,
          3940,
          5180,
          9630,
          2380,
          27080,
          21250,
          28420,
          9570,
          5860,
          10610,
          1660,
          2440,
          9550,
          2340,
          43340,
          4190,
          116970,
          26850,
          900,
          24470,
          5760,
          8600,
          34580,
          3130,
          11300,
          830,
          12760,
          66910,
          958700,
          3170,
          1490,
          29860,
          19100,
          2280,
          7510,
          820
         ],
         "yaxis": "y"
        },
        {
         "hovertemplate": "year=%{x}<br>abortionstotal=%{y}<extra></extra>",
         "legendgroup": "2014",
         "marker": {
          "color": "#ab63fa",
          "symbol": "circle"
         },
         "mode": "markers",
         "name": "2014",
         "orientation": "v",
         "showlegend": true,
         "type": "scatter",
         "x": [
          "2014",
          "2014",
          "2014",
          "2014",
          "2014",
          "2014",
          "2014",
          "2014",
          "2014",
          "2014",
          "2014",
          "2014",
          "2014",
          "2014",
          "2014",
          "2014",
          "2014",
          "2014",
          "2014",
          "2014",
          "2014",
          "2014",
          "2014",
          "2014",
          "2014",
          "2014",
          "2014",
          "2014",
          "2014",
          "2014",
          "2014",
          "2014",
          "2014",
          "2014",
          "2014",
          "2014",
          "2014",
          "2014",
          "2014",
          "2014",
          "2014",
          "2014",
          "2014",
          "2014",
          "2014",
          "2014",
          "2014",
          "2014",
          "2014",
          "2014",
          "2014",
          "2014"
         ],
         "xaxis": "x",
         "y": [
          8310,
          1640,
          13240,
          4350,
          156690,
          11760,
          13280,
          3200,
          3800,
          72630,
          31120,
          3750,
          1790,
          40120,
          10130,
          3930,
          3800,
          5180,
          9620,
          2400,
          26430,
          21280,
          28130,
          9230,
          5540,
          9180,
          1520,
          2360,
          10840,
          2530,
          43990,
          4030,
          117580,
          26410,
          1020,
          23220,
          5210,
          8760,
          34230,
          3220,
          10940,
          810,
          12300,
          56400,
          926190,
          2960,
          1380,
          24590,
          19150,
          2280,
          7430,
          850
         ],
         "yaxis": "y"
        },
        {
         "hovertemplate": "year=%{x}<br>abortionstotal=%{y}<extra></extra>",
         "legendgroup": "2015",
         "marker": {
          "color": "#FFA15A",
          "symbol": "circle"
         },
         "mode": "markers",
         "name": "2015",
         "orientation": "v",
         "showlegend": true,
         "type": "scatter",
         "x": [
          "2015",
          "2015",
          "2015",
          "2015",
          "2015",
          "2015",
          "2015",
          "2015",
          "2015",
          "2015",
          "2015",
          "2015",
          "2015",
          "2015",
          "2015",
          "2015",
          "2015",
          "2015",
          "2015",
          "2015",
          "2015",
          "2015",
          "2015",
          "2015",
          "2015",
          "2015",
          "2015",
          "2015",
          "2015",
          "2015",
          "2015",
          "2015",
          "2015",
          "2015",
          "2015",
          "2015",
          "2015",
          "2015",
          "2015",
          "2015",
          "2015",
          "2015",
          "2015",
          "2015",
          "2015",
          "2015",
          "2015",
          "2015",
          "2015",
          "2015",
          "2015",
          "2015"
         ],
         "xaxis": "x",
         "y": [
          8150,
          1540,
          13640,
          3930,
          148000,
          11410,
          12770,
          3040,
          3330,
          69390,
          31750,
          3370,
          1780,
          38830,
          10190,
          3990,
          3660,
          4910,
          9830,
          2240,
          26010,
          20370,
          27290,
          9360,
          5300,
          9640,
          1530,
          2260,
          10150,
          2480,
          45680,
          4120,
          113350,
          24870,
          990,
          21980,
          4800,
          8950,
          34550,
          3290,
          10930,
          770,
          11770,
          55690,
          899270,
          3010,
          1320,
          23290,
          18340,
          2380,
          7360,
          810
         ],
         "yaxis": "y"
        },
        {
         "hovertemplate": "year=%{x}<br>abortionstotal=%{y}<extra></extra>",
         "legendgroup": "2016",
         "marker": {
          "color": "#19d3f3",
          "symbol": "circle"
         },
         "mode": "markers",
         "name": "2016",
         "orientation": "v",
         "showlegend": true,
         "type": "scatter",
         "x": [
          "2016",
          "2016",
          "2016",
          "2016",
          "2016",
          "2016",
          "2016",
          "2016",
          "2016",
          "2016",
          "2016",
          "2016",
          "2016",
          "2016",
          "2016",
          "2016",
          "2016",
          "2016",
          "2016",
          "2016",
          "2016",
          "2016",
          "2016",
          "2016",
          "2016",
          "2016",
          "2016",
          "2016",
          "2016",
          "2016",
          "2016",
          "2016",
          "2016",
          "2016",
          "2016",
          "2016",
          "2016",
          "2016",
          "2016",
          "2016",
          "2016",
          "2016",
          "2016",
          "2016",
          "2016",
          "2016",
          "2016",
          "2016",
          "2016",
          "2016",
          "2016",
          "2016"
         ],
         "xaxis": "x",
         "y": [
          7920,
          1450,
          14040,
          3590,
          139320,
          11050,
          12260,
          2880,
          2870,
          66150,
          32390,
          3130,
          1780,
          37590,
          10240,
          4050,
          3520,
          4640,
          10040,
          2080,
          25730,
          19470,
          26460,
          9590,
          5100,
          10100,
          1540,
          2170,
          9460,
          2410,
          47370,
          4210,
          108350,
          23320,
          960,
          20790,
          4550,
          9140,
          34870,
          3340,
          10920,
          730,
          11230,
          55100,
          874080,
          3050,
          1260,
          21990,
          17530,
          2490,
          7310,
          770
         ],
         "yaxis": "y"
        },
        {
         "hovertemplate": "year=%{x}<br>abortionstotal=%{y}<extra></extra>",
         "legendgroup": "2017",
         "marker": {
          "color": "#FF6692",
          "symbol": "circle"
         },
         "mode": "markers",
         "name": "2017",
         "orientation": "v",
         "showlegend": true,
         "type": "scatter",
         "x": [
          "2017",
          "2017",
          "2017",
          "2017",
          "2017",
          "2017",
          "2017",
          "2017",
          "2017",
          "2017",
          "2017",
          "2017",
          "2017",
          "2017",
          "2017",
          "2017",
          "2017",
          "2017",
          "2017",
          "2017",
          "2017",
          "2017",
          "2017",
          "2017",
          "2017",
          "2017",
          "2017",
          "2017",
          "2017",
          "2017",
          "2017",
          "2017",
          "2017",
          "2017",
          "2017",
          "2017",
          "2017",
          "2017",
          "2017",
          "2017",
          "2017",
          "2017",
          "2017",
          "2017",
          "2017",
          "2017",
          "2017",
          "2017",
          "2017",
          "2017",
          "2017",
          "2017"
         ],
         "xaxis": "x",
         "y": [
          7660,
          1420,
          13270,
          3710,
          131380,
          11100,
          11950,
          2770,
          3930,
          68640,
          32520,
          3220,
          1790,
          37770,
          10270,
          3650,
          3520,
          4780,
          9280,
          2050,
          26940,
          18880,
          26130,
          10100,
          4930,
          9690,
          1510,
          2250,
          9620,
          2330,
          47010,
          3830,
          103060,
          25060,
          970,
          20560,
          4780,
          8950,
          33910,
          3280,
          11380,
          750,
          11060,
          56340,
          862320,
          3020,
          1140,
          20290,
          17760,
          2380,
          7540,
          720
         ],
         "yaxis": "y"
        },
        {
         "hovertemplate": "year=%{x}<br>abortionstotal=%{y}<extra></extra>",
         "legendgroup": "1973",
         "marker": {
          "color": "#B6E880",
          "symbol": "circle"
         },
         "mode": "markers",
         "name": "1973",
         "orientation": "v",
         "showlegend": true,
         "type": "scatter",
         "x": [
          "1973"
         ],
         "xaxis": "x",
         "y": [
          744610
         ],
         "yaxis": "y"
        },
        {
         "hovertemplate": "year=%{x}<br>abortionstotal=%{y}<extra></extra>",
         "legendgroup": "1974",
         "marker": {
          "color": "#FF97FF",
          "symbol": "circle"
         },
         "mode": "markers",
         "name": "1974",
         "orientation": "v",
         "showlegend": true,
         "type": "scatter",
         "x": [
          "1974"
         ],
         "xaxis": "x",
         "y": [
          898570
         ],
         "yaxis": "y"
        },
        {
         "hovertemplate": "year=%{x}<br>abortionstotal=%{y}<extra></extra>",
         "legendgroup": "1975",
         "marker": {
          "color": "#FECB52",
          "symbol": "circle"
         },
         "mode": "markers",
         "name": "1975",
         "orientation": "v",
         "showlegend": true,
         "type": "scatter",
         "x": [
          "1975"
         ],
         "xaxis": "x",
         "y": [
          1034170
         ],
         "yaxis": "y"
        },
        {
         "hovertemplate": "year=%{x}<br>abortionstotal=%{y}<extra></extra>",
         "legendgroup": "1976",
         "marker": {
          "color": "#636efa",
          "symbol": "circle"
         },
         "mode": "markers",
         "name": "1976",
         "orientation": "v",
         "showlegend": true,
         "type": "scatter",
         "x": [
          "1976"
         ],
         "xaxis": "x",
         "y": [
          1179300
         ],
         "yaxis": "y"
        },
        {
         "hovertemplate": "year=%{x}<br>abortionstotal=%{y}<extra></extra>",
         "legendgroup": "1977",
         "marker": {
          "color": "#EF553B",
          "symbol": "circle"
         },
         "mode": "markers",
         "name": "1977",
         "orientation": "v",
         "showlegend": true,
         "type": "scatter",
         "x": [
          "1977"
         ],
         "xaxis": "x",
         "y": [
          1316700
         ],
         "yaxis": "y"
        },
        {
         "hovertemplate": "year=%{x}<br>abortionstotal=%{y}<extra></extra>",
         "legendgroup": "1978",
         "marker": {
          "color": "#00cc96",
          "symbol": "circle"
         },
         "mode": "markers",
         "name": "1978",
         "orientation": "v",
         "showlegend": true,
         "type": "scatter",
         "x": [
          "1978"
         ],
         "xaxis": "x",
         "y": [
          1409600
         ],
         "yaxis": "y"
        },
        {
         "hovertemplate": "year=%{x}<br>abortionstotal=%{y}<extra></extra>",
         "legendgroup": "1979",
         "marker": {
          "color": "#ab63fa",
          "symbol": "circle"
         },
         "mode": "markers",
         "name": "1979",
         "orientation": "v",
         "showlegend": true,
         "type": "scatter",
         "x": [
          "1979"
         ],
         "xaxis": "x",
         "y": [
          1497670
         ],
         "yaxis": "y"
        },
        {
         "hovertemplate": "year=%{x}<br>abortionstotal=%{y}<extra></extra>",
         "legendgroup": "1980",
         "marker": {
          "color": "#FFA15A",
          "symbol": "circle"
         },
         "mode": "markers",
         "name": "1980",
         "orientation": "v",
         "showlegend": true,
         "type": "scatter",
         "x": [
          "1980"
         ],
         "xaxis": "x",
         "y": [
          1553890
         ],
         "yaxis": "y"
        },
        {
         "hovertemplate": "year=%{x}<br>abortionstotal=%{y}<extra></extra>",
         "legendgroup": "1981",
         "marker": {
          "color": "#19d3f3",
          "symbol": "circle"
         },
         "mode": "markers",
         "name": "1981",
         "orientation": "v",
         "showlegend": true,
         "type": "scatter",
         "x": [
          "1981"
         ],
         "xaxis": "x",
         "y": [
          1577340
         ],
         "yaxis": "y"
        },
        {
         "hovertemplate": "year=%{x}<br>abortionstotal=%{y}<extra></extra>",
         "legendgroup": "1982",
         "marker": {
          "color": "#FF6692",
          "symbol": "circle"
         },
         "mode": "markers",
         "name": "1982",
         "orientation": "v",
         "showlegend": true,
         "type": "scatter",
         "x": [
          "1982"
         ],
         "xaxis": "x",
         "y": [
          1573920
         ],
         "yaxis": "y"
        },
        {
         "hovertemplate": "year=%{x}<br>abortionstotal=%{y}<extra></extra>",
         "legendgroup": "1983",
         "marker": {
          "color": "#B6E880",
          "symbol": "circle"
         },
         "mode": "markers",
         "name": "1983",
         "orientation": "v",
         "showlegend": true,
         "type": "scatter",
         "x": [
          "1983"
         ],
         "xaxis": "x",
         "y": [
          1575000
         ],
         "yaxis": "y"
        },
        {
         "hovertemplate": "year=%{x}<br>abortionstotal=%{y}<extra></extra>",
         "legendgroup": "1984",
         "marker": {
          "color": "#FF97FF",
          "symbol": "circle"
         },
         "mode": "markers",
         "name": "1984",
         "orientation": "v",
         "showlegend": true,
         "type": "scatter",
         "x": [
          "1984"
         ],
         "xaxis": "x",
         "y": [
          1577180
         ],
         "yaxis": "y"
        },
        {
         "hovertemplate": "year=%{x}<br>abortionstotal=%{y}<extra></extra>",
         "legendgroup": "1985",
         "marker": {
          "color": "#FECB52",
          "symbol": "circle"
         },
         "mode": "markers",
         "name": "1985",
         "orientation": "v",
         "showlegend": true,
         "type": "scatter",
         "x": [
          "1985"
         ],
         "xaxis": "x",
         "y": [
          1588550
         ],
         "yaxis": "y"
        },
        {
         "hovertemplate": "year=%{x}<br>abortionstotal=%{y}<extra></extra>",
         "legendgroup": "1986",
         "marker": {
          "color": "#636efa",
          "symbol": "circle"
         },
         "mode": "markers",
         "name": "1986",
         "orientation": "v",
         "showlegend": true,
         "type": "scatter",
         "x": [
          "1986"
         ],
         "xaxis": "x",
         "y": [
          1574000
         ],
         "yaxis": "y"
        },
        {
         "hovertemplate": "year=%{x}<br>abortionstotal=%{y}<extra></extra>",
         "legendgroup": "1987",
         "marker": {
          "color": "#EF553B",
          "symbol": "circle"
         },
         "mode": "markers",
         "name": "1987",
         "orientation": "v",
         "showlegend": true,
         "type": "scatter",
         "x": [
          "1987"
         ],
         "xaxis": "x",
         "y": [
          1559110
         ],
         "yaxis": "y"
        },
        {
         "hovertemplate": "year=%{x}<br>abortionstotal=%{y}<extra></extra>",
         "legendgroup": "1989",
         "marker": {
          "color": "#00cc96",
          "symbol": "circle"
         },
         "mode": "markers",
         "name": "1989",
         "orientation": "v",
         "showlegend": true,
         "type": "scatter",
         "x": [
          "1989"
         ],
         "xaxis": "x",
         "y": [
          1566870
         ],
         "yaxis": "y"
        },
        {
         "hovertemplate": "year=%{x}<br>abortionstotal=%{y}<extra></extra>",
         "legendgroup": "1990",
         "marker": {
          "color": "#ab63fa",
          "symbol": "circle"
         },
         "mode": "markers",
         "name": "1990",
         "orientation": "v",
         "showlegend": true,
         "type": "scatter",
         "x": [
          "1990"
         ],
         "xaxis": "x",
         "y": [
          1608620
         ],
         "yaxis": "y"
        },
        {
         "hovertemplate": "year=%{x}<br>abortionstotal=%{y}<extra></extra>",
         "legendgroup": "1991",
         "marker": {
          "color": "#FFA15A",
          "symbol": "circle"
         },
         "mode": "markers",
         "name": "1991",
         "orientation": "v",
         "showlegend": true,
         "type": "scatter",
         "x": [
          "1991"
         ],
         "xaxis": "x",
         "y": [
          1556510
         ],
         "yaxis": "y"
        },
        {
         "hovertemplate": "year=%{x}<br>abortionstotal=%{y}<extra></extra>",
         "legendgroup": "1993",
         "marker": {
          "color": "#19d3f3",
          "symbol": "circle"
         },
         "mode": "markers",
         "name": "1993",
         "orientation": "v",
         "showlegend": true,
         "type": "scatter",
         "x": [
          "1993"
         ],
         "xaxis": "x",
         "y": [
          1495000
         ],
         "yaxis": "y"
        },
        {
         "hovertemplate": "year=%{x}<br>abortionstotal=%{y}<extra></extra>",
         "legendgroup": "1994",
         "marker": {
          "color": "#FF6692",
          "symbol": "circle"
         },
         "mode": "markers",
         "name": "1994",
         "orientation": "v",
         "showlegend": true,
         "type": "scatter",
         "x": [
          "1994"
         ],
         "xaxis": "x",
         "y": [
          1423000
         ],
         "yaxis": "y"
        },
        {
         "hovertemplate": "year=%{x}<br>abortionstotal=%{y}<extra></extra>",
         "legendgroup": "1995",
         "marker": {
          "color": "#B6E880",
          "symbol": "circle"
         },
         "mode": "markers",
         "name": "1995",
         "orientation": "v",
         "showlegend": true,
         "type": "scatter",
         "x": [
          "1995"
         ],
         "xaxis": "x",
         "y": [
          1359440
         ],
         "yaxis": "y"
        },
        {
         "hovertemplate": "year=%{x}<br>abortionstotal=%{y}<extra></extra>",
         "legendgroup": "1997",
         "marker": {
          "color": "#FF97FF",
          "symbol": "circle"
         },
         "mode": "markers",
         "name": "1997",
         "orientation": "v",
         "showlegend": true,
         "type": "scatter",
         "x": [
          "1997"
         ],
         "xaxis": "x",
         "y": [
          1335000
         ],
         "yaxis": "y"
        },
        {
         "hovertemplate": "year=%{x}<br>abortionstotal=%{y}<extra></extra>",
         "legendgroup": "1998",
         "marker": {
          "color": "#FECB52",
          "symbol": "circle"
         },
         "mode": "markers",
         "name": "1998",
         "orientation": "v",
         "showlegend": true,
         "type": "scatter",
         "x": [
          "1998"
         ],
         "xaxis": "x",
         "y": [
          1319000
         ],
         "yaxis": "y"
        },
        {
         "hovertemplate": "year=%{x}<br>abortionstotal=%{y}<extra></extra>",
         "legendgroup": "1999",
         "marker": {
          "color": "#636efa",
          "symbol": "circle"
         },
         "mode": "markers",
         "name": "1999",
         "orientation": "v",
         "showlegend": true,
         "type": "scatter",
         "x": [
          "1999"
         ],
         "xaxis": "x",
         "y": [
          1314790
         ],
         "yaxis": "y"
        },
        {
         "hovertemplate": "year=%{x}<br>abortionstotal=%{y}<extra></extra>",
         "legendgroup": "2001",
         "marker": {
          "color": "#EF553B",
          "symbol": "circle"
         },
         "mode": "markers",
         "name": "2001",
         "orientation": "v",
         "showlegend": true,
         "type": "scatter",
         "x": [
          "2001"
         ],
         "xaxis": "x",
         "y": [
          1291000
         ],
         "yaxis": "y"
        },
        {
         "hovertemplate": "year=%{x}<br>abortionstotal=%{y}<extra></extra>",
         "legendgroup": "2002",
         "marker": {
          "color": "#00cc96",
          "symbol": "circle"
         },
         "mode": "markers",
         "name": "2002",
         "orientation": "v",
         "showlegend": true,
         "type": "scatter",
         "x": [
          "2002"
         ],
         "xaxis": "x",
         "y": [
          1269000
         ],
         "yaxis": "y"
        },
        {
         "hovertemplate": "year=%{x}<br>abortionstotal=%{y}<extra></extra>",
         "legendgroup": "2003",
         "marker": {
          "color": "#ab63fa",
          "symbol": "circle"
         },
         "mode": "markers",
         "name": "2003",
         "orientation": "v",
         "showlegend": true,
         "type": "scatter",
         "x": [
          "2003"
         ],
         "xaxis": "x",
         "y": [
          1250000
         ],
         "yaxis": "y"
        },
        {
         "hovertemplate": "year=%{x}<br>abortionstotal=%{y}<extra></extra>",
         "legendgroup": "2004",
         "marker": {
          "color": "#FFA15A",
          "symbol": "circle"
         },
         "mode": "markers",
         "name": "2004",
         "orientation": "v",
         "showlegend": true,
         "type": "scatter",
         "x": [
          "2004"
         ],
         "xaxis": "x",
         "y": [
          1222100
         ],
         "yaxis": "y"
        }
       ],
       "layout": {
        "legend": {
         "title": {
          "text": "year"
         },
         "tracegroupgap": 0
        },
        "template": {
         "data": {
          "bar": [
           {
            "error_x": {
             "color": "#2a3f5f"
            },
            "error_y": {
             "color": "#2a3f5f"
            },
            "marker": {
             "line": {
              "color": "#E5ECF6",
              "width": 0.5
             },
             "pattern": {
              "fillmode": "overlay",
              "size": 10,
              "solidity": 0.2
             }
            },
            "type": "bar"
           }
          ],
          "barpolar": [
           {
            "marker": {
             "line": {
              "color": "#E5ECF6",
              "width": 0.5
             },
             "pattern": {
              "fillmode": "overlay",
              "size": 10,
              "solidity": 0.2
             }
            },
            "type": "barpolar"
           }
          ],
          "carpet": [
           {
            "aaxis": {
             "endlinecolor": "#2a3f5f",
             "gridcolor": "white",
             "linecolor": "white",
             "minorgridcolor": "white",
             "startlinecolor": "#2a3f5f"
            },
            "baxis": {
             "endlinecolor": "#2a3f5f",
             "gridcolor": "white",
             "linecolor": "white",
             "minorgridcolor": "white",
             "startlinecolor": "#2a3f5f"
            },
            "type": "carpet"
           }
          ],
          "choropleth": [
           {
            "colorbar": {
             "outlinewidth": 0,
             "ticks": ""
            },
            "type": "choropleth"
           }
          ],
          "contour": [
           {
            "colorbar": {
             "outlinewidth": 0,
             "ticks": ""
            },
            "colorscale": [
             [
              0,
              "#0d0887"
             ],
             [
              0.1111111111111111,
              "#46039f"
             ],
             [
              0.2222222222222222,
              "#7201a8"
             ],
             [
              0.3333333333333333,
              "#9c179e"
             ],
             [
              0.4444444444444444,
              "#bd3786"
             ],
             [
              0.5555555555555556,
              "#d8576b"
             ],
             [
              0.6666666666666666,
              "#ed7953"
             ],
             [
              0.7777777777777778,
              "#fb9f3a"
             ],
             [
              0.8888888888888888,
              "#fdca26"
             ],
             [
              1,
              "#f0f921"
             ]
            ],
            "type": "contour"
           }
          ],
          "contourcarpet": [
           {
            "colorbar": {
             "outlinewidth": 0,
             "ticks": ""
            },
            "type": "contourcarpet"
           }
          ],
          "heatmap": [
           {
            "colorbar": {
             "outlinewidth": 0,
             "ticks": ""
            },
            "colorscale": [
             [
              0,
              "#0d0887"
             ],
             [
              0.1111111111111111,
              "#46039f"
             ],
             [
              0.2222222222222222,
              "#7201a8"
             ],
             [
              0.3333333333333333,
              "#9c179e"
             ],
             [
              0.4444444444444444,
              "#bd3786"
             ],
             [
              0.5555555555555556,
              "#d8576b"
             ],
             [
              0.6666666666666666,
              "#ed7953"
             ],
             [
              0.7777777777777778,
              "#fb9f3a"
             ],
             [
              0.8888888888888888,
              "#fdca26"
             ],
             [
              1,
              "#f0f921"
             ]
            ],
            "type": "heatmap"
           }
          ],
          "heatmapgl": [
           {
            "colorbar": {
             "outlinewidth": 0,
             "ticks": ""
            },
            "colorscale": [
             [
              0,
              "#0d0887"
             ],
             [
              0.1111111111111111,
              "#46039f"
             ],
             [
              0.2222222222222222,
              "#7201a8"
             ],
             [
              0.3333333333333333,
              "#9c179e"
             ],
             [
              0.4444444444444444,
              "#bd3786"
             ],
             [
              0.5555555555555556,
              "#d8576b"
             ],
             [
              0.6666666666666666,
              "#ed7953"
             ],
             [
              0.7777777777777778,
              "#fb9f3a"
             ],
             [
              0.8888888888888888,
              "#fdca26"
             ],
             [
              1,
              "#f0f921"
             ]
            ],
            "type": "heatmapgl"
           }
          ],
          "histogram": [
           {
            "marker": {
             "pattern": {
              "fillmode": "overlay",
              "size": 10,
              "solidity": 0.2
             }
            },
            "type": "histogram"
           }
          ],
          "histogram2d": [
           {
            "colorbar": {
             "outlinewidth": 0,
             "ticks": ""
            },
            "colorscale": [
             [
              0,
              "#0d0887"
             ],
             [
              0.1111111111111111,
              "#46039f"
             ],
             [
              0.2222222222222222,
              "#7201a8"
             ],
             [
              0.3333333333333333,
              "#9c179e"
             ],
             [
              0.4444444444444444,
              "#bd3786"
             ],
             [
              0.5555555555555556,
              "#d8576b"
             ],
             [
              0.6666666666666666,
              "#ed7953"
             ],
             [
              0.7777777777777778,
              "#fb9f3a"
             ],
             [
              0.8888888888888888,
              "#fdca26"
             ],
             [
              1,
              "#f0f921"
             ]
            ],
            "type": "histogram2d"
           }
          ],
          "histogram2dcontour": [
           {
            "colorbar": {
             "outlinewidth": 0,
             "ticks": ""
            },
            "colorscale": [
             [
              0,
              "#0d0887"
             ],
             [
              0.1111111111111111,
              "#46039f"
             ],
             [
              0.2222222222222222,
              "#7201a8"
             ],
             [
              0.3333333333333333,
              "#9c179e"
             ],
             [
              0.4444444444444444,
              "#bd3786"
             ],
             [
              0.5555555555555556,
              "#d8576b"
             ],
             [
              0.6666666666666666,
              "#ed7953"
             ],
             [
              0.7777777777777778,
              "#fb9f3a"
             ],
             [
              0.8888888888888888,
              "#fdca26"
             ],
             [
              1,
              "#f0f921"
             ]
            ],
            "type": "histogram2dcontour"
           }
          ],
          "mesh3d": [
           {
            "colorbar": {
             "outlinewidth": 0,
             "ticks": ""
            },
            "type": "mesh3d"
           }
          ],
          "parcoords": [
           {
            "line": {
             "colorbar": {
              "outlinewidth": 0,
              "ticks": ""
             }
            },
            "type": "parcoords"
           }
          ],
          "pie": [
           {
            "automargin": true,
            "type": "pie"
           }
          ],
          "scatter": [
           {
            "fillpattern": {
             "fillmode": "overlay",
             "size": 10,
             "solidity": 0.2
            },
            "type": "scatter"
           }
          ],
          "scatter3d": [
           {
            "line": {
             "colorbar": {
              "outlinewidth": 0,
              "ticks": ""
             }
            },
            "marker": {
             "colorbar": {
              "outlinewidth": 0,
              "ticks": ""
             }
            },
            "type": "scatter3d"
           }
          ],
          "scattercarpet": [
           {
            "marker": {
             "colorbar": {
              "outlinewidth": 0,
              "ticks": ""
             }
            },
            "type": "scattercarpet"
           }
          ],
          "scattergeo": [
           {
            "marker": {
             "colorbar": {
              "outlinewidth": 0,
              "ticks": ""
             }
            },
            "type": "scattergeo"
           }
          ],
          "scattergl": [
           {
            "marker": {
             "colorbar": {
              "outlinewidth": 0,
              "ticks": ""
             }
            },
            "type": "scattergl"
           }
          ],
          "scattermapbox": [
           {
            "marker": {
             "colorbar": {
              "outlinewidth": 0,
              "ticks": ""
             }
            },
            "type": "scattermapbox"
           }
          ],
          "scatterpolar": [
           {
            "marker": {
             "colorbar": {
              "outlinewidth": 0,
              "ticks": ""
             }
            },
            "type": "scatterpolar"
           }
          ],
          "scatterpolargl": [
           {
            "marker": {
             "colorbar": {
              "outlinewidth": 0,
              "ticks": ""
             }
            },
            "type": "scatterpolargl"
           }
          ],
          "scatterternary": [
           {
            "marker": {
             "colorbar": {
              "outlinewidth": 0,
              "ticks": ""
             }
            },
            "type": "scatterternary"
           }
          ],
          "surface": [
           {
            "colorbar": {
             "outlinewidth": 0,
             "ticks": ""
            },
            "colorscale": [
             [
              0,
              "#0d0887"
             ],
             [
              0.1111111111111111,
              "#46039f"
             ],
             [
              0.2222222222222222,
              "#7201a8"
             ],
             [
              0.3333333333333333,
              "#9c179e"
             ],
             [
              0.4444444444444444,
              "#bd3786"
             ],
             [
              0.5555555555555556,
              "#d8576b"
             ],
             [
              0.6666666666666666,
              "#ed7953"
             ],
             [
              0.7777777777777778,
              "#fb9f3a"
             ],
             [
              0.8888888888888888,
              "#fdca26"
             ],
             [
              1,
              "#f0f921"
             ]
            ],
            "type": "surface"
           }
          ],
          "table": [
           {
            "cells": {
             "fill": {
              "color": "#EBF0F8"
             },
             "line": {
              "color": "white"
             }
            },
            "header": {
             "fill": {
              "color": "#C8D4E3"
             },
             "line": {
              "color": "white"
             }
            },
            "type": "table"
           }
          ]
         },
         "layout": {
          "annotationdefaults": {
           "arrowcolor": "#2a3f5f",
           "arrowhead": 0,
           "arrowwidth": 1
          },
          "autotypenumbers": "strict",
          "coloraxis": {
           "colorbar": {
            "outlinewidth": 0,
            "ticks": ""
           }
          },
          "colorscale": {
           "diverging": [
            [
             0,
             "#8e0152"
            ],
            [
             0.1,
             "#c51b7d"
            ],
            [
             0.2,
             "#de77ae"
            ],
            [
             0.3,
             "#f1b6da"
            ],
            [
             0.4,
             "#fde0ef"
            ],
            [
             0.5,
             "#f7f7f7"
            ],
            [
             0.6,
             "#e6f5d0"
            ],
            [
             0.7,
             "#b8e186"
            ],
            [
             0.8,
             "#7fbc41"
            ],
            [
             0.9,
             "#4d9221"
            ],
            [
             1,
             "#276419"
            ]
           ],
           "sequential": [
            [
             0,
             "#0d0887"
            ],
            [
             0.1111111111111111,
             "#46039f"
            ],
            [
             0.2222222222222222,
             "#7201a8"
            ],
            [
             0.3333333333333333,
             "#9c179e"
            ],
            [
             0.4444444444444444,
             "#bd3786"
            ],
            [
             0.5555555555555556,
             "#d8576b"
            ],
            [
             0.6666666666666666,
             "#ed7953"
            ],
            [
             0.7777777777777778,
             "#fb9f3a"
            ],
            [
             0.8888888888888888,
             "#fdca26"
            ],
            [
             1,
             "#f0f921"
            ]
           ],
           "sequentialminus": [
            [
             0,
             "#0d0887"
            ],
            [
             0.1111111111111111,
             "#46039f"
            ],
            [
             0.2222222222222222,
             "#7201a8"
            ],
            [
             0.3333333333333333,
             "#9c179e"
            ],
            [
             0.4444444444444444,
             "#bd3786"
            ],
            [
             0.5555555555555556,
             "#d8576b"
            ],
            [
             0.6666666666666666,
             "#ed7953"
            ],
            [
             0.7777777777777778,
             "#fb9f3a"
            ],
            [
             0.8888888888888888,
             "#fdca26"
            ],
            [
             1,
             "#f0f921"
            ]
           ]
          },
          "colorway": [
           "#636efa",
           "#EF553B",
           "#00cc96",
           "#ab63fa",
           "#FFA15A",
           "#19d3f3",
           "#FF6692",
           "#B6E880",
           "#FF97FF",
           "#FECB52"
          ],
          "font": {
           "color": "#2a3f5f"
          },
          "geo": {
           "bgcolor": "white",
           "lakecolor": "white",
           "landcolor": "#E5ECF6",
           "showlakes": true,
           "showland": true,
           "subunitcolor": "white"
          },
          "hoverlabel": {
           "align": "left"
          },
          "hovermode": "closest",
          "mapbox": {
           "style": "light"
          },
          "paper_bgcolor": "white",
          "plot_bgcolor": "#E5ECF6",
          "polar": {
           "angularaxis": {
            "gridcolor": "white",
            "linecolor": "white",
            "ticks": ""
           },
           "bgcolor": "#E5ECF6",
           "radialaxis": {
            "gridcolor": "white",
            "linecolor": "white",
            "ticks": ""
           }
          },
          "scene": {
           "xaxis": {
            "backgroundcolor": "#E5ECF6",
            "gridcolor": "white",
            "gridwidth": 2,
            "linecolor": "white",
            "showbackground": true,
            "ticks": "",
            "zerolinecolor": "white"
           },
           "yaxis": {
            "backgroundcolor": "#E5ECF6",
            "gridcolor": "white",
            "gridwidth": 2,
            "linecolor": "white",
            "showbackground": true,
            "ticks": "",
            "zerolinecolor": "white"
           },
           "zaxis": {
            "backgroundcolor": "#E5ECF6",
            "gridcolor": "white",
            "gridwidth": 2,
            "linecolor": "white",
            "showbackground": true,
            "ticks": "",
            "zerolinecolor": "white"
           }
          },
          "shapedefaults": {
           "line": {
            "color": "#2a3f5f"
           }
          },
          "ternary": {
           "aaxis": {
            "gridcolor": "white",
            "linecolor": "white",
            "ticks": ""
           },
           "baxis": {
            "gridcolor": "white",
            "linecolor": "white",
            "ticks": ""
           },
           "bgcolor": "#E5ECF6",
           "caxis": {
            "gridcolor": "white",
            "linecolor": "white",
            "ticks": ""
           }
          },
          "title": {
           "x": 0.05
          },
          "xaxis": {
           "automargin": true,
           "gridcolor": "white",
           "linecolor": "white",
           "ticks": "",
           "title": {
            "standoff": 15
           },
           "zerolinecolor": "white",
           "zerolinewidth": 2
          },
          "yaxis": {
           "automargin": true,
           "gridcolor": "white",
           "linecolor": "white",
           "ticks": "",
           "title": {
            "standoff": 15
           },
           "zerolinecolor": "white",
           "zerolinewidth": 2
          }
         }
        },
        "title": {
         "text": "Banning Abortions Volume"
        },
        "xaxis": {
         "anchor": "y",
         "categoryarray": [
          "1988",
          "1992",
          "1996",
          "2000",
          "2005",
          "2006",
          "2007",
          "2008",
          "2009",
          "2010",
          "2011",
          "2012",
          "2013",
          "2014",
          "2015",
          "2016",
          "2017",
          "1973",
          "1974",
          "1975",
          "1976",
          "1977",
          "1978",
          "1979",
          "1980",
          "1981",
          "1982",
          "1983",
          "1984",
          "1985",
          "1986",
          "1987",
          "1989",
          "1990",
          "1991",
          "1993",
          "1994",
          "1995",
          "1997",
          "1998",
          "1999",
          "2001",
          "2002",
          "2003",
          "2004"
         ],
         "categoryorder": "array",
         "domain": [
          0,
          1
         ],
         "title": {
          "text": "year"
         }
        },
        "yaxis": {
         "anchor": "x",
         "domain": [
          0,
          1
         ],
         "title": {
          "text": "abortionstotal"
         }
        }
       }
      },
      "text/html": [
       "<div>                            <div id=\"b7c4c4a1-4bf5-4ba2-a419-04ee34fde033\" class=\"plotly-graph-div\" style=\"height:525px; width:100%;\"></div>            <script type=\"text/javascript\">                require([\"plotly\"], function(Plotly) {                    window.PLOTLYENV=window.PLOTLYENV || {};                                    if (document.getElementById(\"b7c4c4a1-4bf5-4ba2-a419-04ee34fde033\")) {                    Plotly.newPlot(                        \"b7c4c4a1-4bf5-4ba2-a419-04ee34fde033\",                        [{\"hovertemplate\":\"year=%{x}<br>abortionstotal=%{y}<extra></extra>\",\"legendgroup\":\"1988\",\"marker\":{\"color\":\"#636efa\",\"symbol\":\"circle\"},\"mode\":\"markers\",\"name\":\"1988\",\"orientation\":\"v\",\"showlegend\":true,\"x\":[\"1988\",\"1988\",\"1988\",\"1988\",\"1988\",\"1988\",\"1988\",\"1988\",\"1988\",\"1988\",\"1988\",\"1988\",\"1988\",\"1988\",\"1988\",\"1988\",\"1988\",\"1988\",\"1988\",\"1988\",\"1988\",\"1988\",\"1988\",\"1988\",\"1988\",\"1988\",\"1988\",\"1988\",\"1988\",\"1988\",\"1988\",\"1988\",\"1988\",\"1988\",\"1988\",\"1988\",\"1988\",\"1988\",\"1988\",\"1988\",\"1988\",\"1988\",\"1988\",\"1988\",\"1988\",\"1988\",\"1988\",\"1988\",\"1988\",\"1988\",\"1988\",\"1988\"],\"xaxis\":\"x\",\"y\":[20100,2700,22200,7860,311440,17550,24470,4570,13830,75820,35320,11120,2760,72500,20930,10480,7210,10090,17030,4140,41090,44260,62770,17400,6480,23940,2350,5490,9450,5940,66300,8180,179830,38120,1510,50780,12240,14850,53050,5800,16440,1420,20060,97450,1590750,4590,2920,40240,30890,4800,18580,1370],\"yaxis\":\"y\",\"type\":\"scatter\"},{\"hovertemplate\":\"year=%{x}<br>abortionstotal=%{y}<extra></extra>\",\"legendgroup\":\"1992\",\"marker\":{\"color\":\"#EF553B\",\"symbol\":\"circle\"},\"mode\":\"markers\",\"name\":\"1992\",\"orientation\":\"v\",\"showlegend\":true,\"x\":[\"1992\",\"1992\",\"1992\",\"1992\",\"1992\",\"1992\",\"1992\",\"1992\",\"1992\",\"1992\",\"1992\",\"1992\",\"1992\",\"1992\",\"1992\",\"1992\",\"1992\",\"1992\",\"1992\",\"1992\",\"1992\",\"1992\",\"1992\",\"1992\",\"1992\",\"1992\",\"1992\",\"1992\",\"1992\",\"1992\",\"1992\",\"1992\",\"1992\",\"1992\",\"1992\",\"1992\",\"1992\",\"1992\",\"1992\",\"1992\",\"1992\",\"1992\",\"1992\",\"1992\",\"1992\",\"1992\",\"1992\",\"1992\",\"1992\",\"1992\",\"1992\",\"1992\"],\"xaxis\":\"x\",\"y\":[17720,2800,21200,8690,303850,18410,20100,4620,11040,77320,39970,12180,2420,66500,21170,7480,7140,9850,11800,4260,39490,41610,54530,15090,8830,19870,2810,4950,12400,4490,58420,7780,191100,34000,1190,46190,9080,14620,50720,5830,14410,1340,19110,94590,1528930,3800,2160,38130,33620,4460,16280,1390],\"yaxis\":\"y\",\"type\":\"scatter\"},{\"hovertemplate\":\"year=%{x}<br>abortionstotal=%{y}<extra></extra>\",\"legendgroup\":\"1996\",\"marker\":{\"color\":\"#00cc96\",\"symbol\":\"circle\"},\"mode\":\"markers\",\"name\":\"1996\",\"orientation\":\"v\",\"showlegend\":true,\"x\":[\"1996\",\"1996\",\"1996\",\"1996\",\"1996\",\"1996\",\"1996\",\"1996\",\"1996\",\"1996\",\"1996\",\"1996\",\"1996\",\"1996\",\"1996\",\"1996\",\"1996\",\"1996\",\"1996\",\"1996\",\"1996\",\"1996\",\"1996\",\"1996\",\"1996\",\"1996\",\"1996\",\"1996\",\"1996\",\"1996\",\"1996\",\"1996\",\"1996\",\"1996\",\"1996\",\"1996\",\"1996\",\"1996\",\"1996\",\"1996\",\"1996\",\"1996\",\"1996\",\"1996\",\"1996\",\"1996\",\"1996\",\"1996\",\"1996\",\"1996\",\"1996\",\"1996\"],\"xaxis\":\"x\",\"y\":[14940,2310,20120,6680,237870,16670,16510,2970,5620,90160,35230,6930,2450,66920,18340,6150,6940,7890,13110,3390,36940,40150,47430,13950,9020,16050,2430,3930,14080,4670,64230,6560,164080,31070,1050,41320,8490,13540,42080,5290,12450,1200,16690,88250,1360160,3850,2050,32450,26960,3400,14980,1630],\"yaxis\":\"y\",\"type\":\"scatter\"},{\"hovertemplate\":\"year=%{x}<br>abortionstotal=%{y}<extra></extra>\",\"legendgroup\":\"2000\",\"marker\":{\"color\":\"#ab63fa\",\"symbol\":\"circle\"},\"mode\":\"markers\",\"name\":\"2000\",\"orientation\":\"v\",\"showlegend\":true,\"x\":[\"2000\",\"2000\",\"2000\",\"2000\",\"2000\",\"2000\",\"2000\",\"2000\",\"2000\",\"2000\",\"2000\",\"2000\",\"2000\",\"2000\",\"2000\",\"2000\",\"2000\",\"2000\",\"2000\",\"2000\",\"2000\",\"2000\",\"2000\",\"2000\",\"2000\",\"2000\",\"2000\",\"2000\",\"2000\",\"2000\",\"2000\",\"2000\",\"2000\",\"2000\",\"2000\",\"2000\",\"2000\",\"2000\",\"2000\",\"2000\",\"2000\",\"2000\",\"2000\",\"2000\",\"2000\",\"2000\",\"2000\",\"2000\",\"2000\",\"2000\",\"2000\",\"2000\"],\"xaxis\":\"x\",\"y\":[13060,1900,18410,5880,235670,12950,15460,3920,5750,96000,32270,5630,2750,58370,15140,6280,6440,6720,11380,2910,38670,29870,45710,13940,9060,17410,2220,3920,12880,4020,66110,6890,161160,33620,940,38090,7780,15270,39670,4900,12120,1020,17270,87110,1312990,3500,1510,30690,26970,2930,12450,2090],\"yaxis\":\"y\",\"type\":\"scatter\"},{\"hovertemplate\":\"year=%{x}<br>abortionstotal=%{y}<extra></extra>\",\"legendgroup\":\"2005\",\"marker\":{\"color\":\"#FFA15A\",\"symbol\":\"circle\"},\"mode\":\"markers\",\"name\":\"2005\",\"orientation\":\"v\",\"showlegend\":true,\"x\":[\"2005\",\"2005\",\"2005\",\"2005\",\"2005\",\"2005\",\"2005\",\"2005\",\"2005\",\"2005\",\"2005\",\"2005\",\"2005\",\"2005\",\"2005\",\"2005\",\"2005\",\"2005\",\"2005\",\"2005\",\"2005\",\"2005\",\"2005\",\"2005\",\"2005\",\"2005\",\"2005\",\"2005\",\"2005\",\"2005\",\"2005\",\"2005\",\"2005\",\"2005\",\"2005\",\"2005\",\"2005\",\"2005\",\"2005\",\"2005\",\"2005\",\"2005\",\"2005\",\"2005\",\"2005\",\"2005\",\"2005\",\"2005\",\"2005\",\"2005\",\"2005\",\"2005\"],\"xaxis\":\"x\",\"y\":[10840,2130,19710,5200,206260,14720,17340,4140,6390,85360,32040,5330,2540,48420,13180,6130,5620,6060,10330,2840,35250,27800,39930,13370,7930,14900,2020,2990,12990,3060,60330,6690,152340,29730,890,33140,7420,11900,38110,4680,13320,980,15520,84560,1206200,3610,1810,30590,23680,2700,10920,1220],\"yaxis\":\"y\",\"type\":\"scatter\"},{\"hovertemplate\":\"year=%{x}<br>abortionstotal=%{y}<extra></extra>\",\"legendgroup\":\"2006\",\"marker\":{\"color\":\"#19d3f3\",\"symbol\":\"circle\"},\"mode\":\"markers\",\"name\":\"2006\",\"orientation\":\"v\",\"showlegend\":true,\"x\":[\"2006\",\"2006\",\"2006\",\"2006\",\"2006\",\"2006\",\"2006\",\"2006\",\"2006\",\"2006\",\"2006\",\"2006\",\"2006\",\"2006\",\"2006\",\"2006\",\"2006\",\"2006\",\"2006\",\"2006\",\"2006\",\"2006\",\"2006\",\"2006\",\"2006\",\"2006\",\"2006\",\"2006\",\"2006\",\"2006\",\"2006\",\"2006\",\"2006\",\"2006\",\"2006\",\"2006\",\"2006\",\"2006\",\"2006\",\"2006\",\"2006\",\"2006\",\"2006\",\"2006\",\"2006\",\"2006\",\"2006\",\"2006\",\"2006\",\"2006\",\"2006\",\"2006\"],\"xaxis\":\"x\",\"y\":[10980,2060,18850,5450,213550,14990,17580,4990,5900,86980,32690,5490,2700,48560,12810,6390,5670,6080,11220,2940,31990,27130,37530,13420,7880,15070,2070,2690,13320,3030,58030,7020,148030,29970,900,32880,7450,12150,39770,4550,13590,970,15550,82540,1242000,3780,1760,31670,24350,2880,10390,1200],\"yaxis\":\"y\",\"type\":\"scatter\"},{\"hovertemplate\":\"year=%{x}<br>abortionstotal=%{y}<extra></extra>\",\"legendgroup\":\"2007\",\"marker\":{\"color\":\"#FF6692\",\"symbol\":\"circle\"},\"mode\":\"markers\",\"name\":\"2007\",\"orientation\":\"v\",\"showlegend\":true,\"x\":[\"2007\",\"2007\",\"2007\",\"2007\",\"2007\",\"2007\",\"2007\",\"2007\",\"2007\",\"2007\",\"2007\",\"2007\",\"2007\",\"2007\",\"2007\",\"2007\",\"2007\",\"2007\",\"2007\",\"2007\",\"2007\",\"2007\",\"2007\",\"2007\",\"2007\",\"2007\",\"2007\",\"2007\",\"2007\",\"2007\",\"2007\",\"2007\",\"2007\",\"2007\",\"2007\",\"2007\",\"2007\",\"2007\",\"2007\",\"2007\",\"2007\",\"2007\",\"2007\",\"2007\",\"2007\",\"2007\",\"2007\",\"2007\",\"2007\",\"2007\",\"2007\",\"2007\"],\"xaxis\":\"x\",\"y\":[11130,2000,17990,5690,220840,15160,17730,5850,5400,88600,33680,5650,2860,48710,12440,6660,5720,6110,12520,3030,28720,26460,35780,13480,7850,15250,2110,2500,13630,2990,55740,7350,144390,30220,910,32620,7480,12410,42550,4420,13750,960,15590,80510,1209640,3940,1720,32750,25030,3070,9870,1170],\"yaxis\":\"y\",\"type\":\"scatter\"},{\"hovertemplate\":\"year=%{x}<br>abortionstotal=%{y}<extra></extra>\",\"legendgroup\":\"2008\",\"marker\":{\"color\":\"#B6E880\",\"symbol\":\"circle\"},\"mode\":\"markers\",\"name\":\"2008\",\"orientation\":\"v\",\"showlegend\":true,\"x\":[\"2008\",\"2008\",\"2008\",\"2008\",\"2008\",\"2008\",\"2008\",\"2008\",\"2008\",\"2008\",\"2008\",\"2008\",\"2008\",\"2008\",\"2008\",\"2008\",\"2008\",\"2008\",\"2008\",\"2008\",\"2008\",\"2008\",\"2008\",\"2008\",\"2008\",\"2008\",\"2008\",\"2008\",\"2008\",\"2008\",\"2008\",\"2008\",\"2008\",\"2008\",\"2008\",\"2008\",\"2008\",\"2008\",\"2008\",\"2008\",\"2008\",\"2008\",\"2008\",\"2008\",\"2008\",\"2008\",\"2008\",\"2008\",\"2008\",\"2008\",\"2008\",\"2008\"],\"xaxis\":\"x\",\"y\":[11020,1960,19770,5710,211930,14920,17210,5650,5880,86310,39370,5650,2580,51670,12300,6160,5670,6380,14110,2970,28390,25800,36050,12580,8210,15160,2040,2850,13020,2860,54730,6730,149070,29000,1010,32370,7500,11800,46670,4340,13200,970,16210,82690,1212350,3880,1730,31360,24670,2680,9660,1060],\"yaxis\":\"y\",\"type\":\"scatter\"},{\"hovertemplate\":\"year=%{x}<br>abortionstotal=%{y}<extra></extra>\",\"legendgroup\":\"2009\",\"marker\":{\"color\":\"#FF97FF\",\"symbol\":\"circle\"},\"mode\":\"markers\",\"name\":\"2009\",\"orientation\":\"v\",\"showlegend\":true,\"x\":[\"2009\",\"2009\",\"2009\",\"2009\",\"2009\",\"2009\",\"2009\",\"2009\",\"2009\",\"2009\",\"2009\",\"2009\",\"2009\",\"2009\",\"2009\",\"2009\",\"2009\",\"2009\",\"2009\",\"2009\",\"2009\",\"2009\",\"2009\",\"2009\",\"2009\",\"2009\",\"2009\",\"2009\",\"2009\",\"2009\",\"2009\",\"2009\",\"2009\",\"2009\",\"2009\",\"2009\",\"2009\",\"2009\",\"2009\",\"2009\",\"2009\",\"2009\",\"2009\",\"2009\",\"2009\",\"2009\",\"2009\",\"2009\",\"2009\",\"2009\",\"2009\",\"2009\"],\"xaxis\":\"x\",\"y\":[10530,2040,17480,5630,200720,14330,16350,5520,4970,84150,37260,5590,2490,47020,12020,6010,4830,6170,12930,2830,29630,25240,33410,11780,7640,13550,2000,2630,12790,2840,51930,6420,144390,28340,1000,30760,7060,11020,44820,4100,13050,900,15290,81060,1151600,3690,1670,30950,23530,3070,9420,1030],\"yaxis\":\"y\",\"type\":\"scatter\"},{\"hovertemplate\":\"year=%{x}<br>abortionstotal=%{y}<extra></extra>\",\"legendgroup\":\"2010\",\"marker\":{\"color\":\"#FECB52\",\"symbol\":\"circle\"},\"mode\":\"markers\",\"name\":\"2010\",\"orientation\":\"v\",\"showlegend\":true,\"x\":[\"2010\",\"2010\",\"2010\",\"2010\",\"2010\",\"2010\",\"2010\",\"2010\",\"2010\",\"2010\",\"2010\",\"2010\",\"2010\",\"2010\",\"2010\",\"2010\",\"2010\",\"2010\",\"2010\",\"2010\",\"2010\",\"2010\",\"2010\",\"2010\",\"2010\",\"2010\",\"2010\",\"2010\",\"2010\",\"2010\",\"2010\",\"2010\",\"2010\",\"2010\",\"2010\",\"2010\",\"2010\",\"2010\",\"2010\",\"2010\",\"2010\",\"2010\",\"2010\",\"2010\",\"2010\",\"2010\",\"2010\",\"2010\",\"2010\",\"2010\",\"2010\",\"2010\"],\"xaxis\":\"x\",\"y\":[10030,2120,15190,5490,189110,13730,15480,5380,4060,82020,35160,5530,2410,42370,11600,5860,3990,5960,11750,2640,30890,24790,30770,11120,7070,11930,1980,2410,12570,2830,49130,6110,139700,27670,980,29140,6510,10250,42250,3850,12900,840,14370,78130,1102670,3470,1600,30550,22380,3460,9140,1010],\"yaxis\":\"y\",\"type\":\"scatter\"},{\"hovertemplate\":\"year=%{x}<br>abortionstotal=%{y}<extra></extra>\",\"legendgroup\":\"2011\",\"marker\":{\"color\":\"#636efa\",\"symbol\":\"circle\"},\"mode\":\"markers\",\"name\":\"2011\",\"orientation\":\"v\",\"showlegend\":true,\"x\":[\"2011\",\"2011\",\"2011\",\"2011\",\"2011\",\"2011\",\"2011\",\"2011\",\"2011\",\"2011\",\"2011\",\"2011\",\"2011\",\"2011\",\"2011\",\"2011\",\"2011\",\"2011\",\"2011\",\"2011\",\"2011\",\"2011\",\"2011\",\"2011\",\"2011\",\"2011\",\"2011\",\"2011\",\"2011\",\"2011\",\"2011\",\"2011\",\"2011\",\"2011\",\"2011\",\"2011\",\"2011\",\"2011\",\"2011\",\"2011\",\"2011\",\"2011\",\"2011\",\"2011\",\"2011\",\"2011\",\"2011\",\"2011\",\"2011\",\"2011\",\"2011\",\"2011\"],\"xaxis\":\"x\",\"y\":[9600,2030,16270,5210,177360,13130,14630,4690,3400,79890,34460,5540,2340,42360,10710,5430,3870,5820,11310,2410,32140,24430,29270,10690,6700,11510,1990,2550,11960,2880,46670,5520,136280,25080,940,27930,5910,10020,39200,3690,11580,850,13670,72140,1058490,3240,1610,29160,21830,3320,8660,1060],\"yaxis\":\"y\",\"type\":\"scatter\"},{\"hovertemplate\":\"year=%{x}<br>abortionstotal=%{y}<extra></extra>\",\"legendgroup\":\"2012\",\"marker\":{\"color\":\"#EF553B\",\"symbol\":\"circle\"},\"mode\":\"markers\",\"name\":\"2012\",\"orientation\":\"v\",\"showlegend\":true,\"x\":[\"2012\",\"2012\",\"2012\",\"2012\",\"2012\",\"2012\",\"2012\",\"2012\",\"2012\",\"2012\",\"2012\",\"2012\",\"2012\",\"2012\",\"2012\",\"2012\",\"2012\",\"2012\",\"2012\",\"2012\",\"2012\",\"2012\",\"2012\",\"2012\",\"2012\",\"2012\",\"2012\",\"2012\",\"2012\",\"2012\",\"2012\",\"2012\",\"2012\",\"2012\",\"2012\",\"2012\",\"2012\",\"2012\",\"2012\",\"2012\",\"2012\",\"2012\",\"2012\",\"2012\",\"2012\",\"2012\",\"2012\",\"2012\",\"2012\",\"2012\",\"2012\",\"2012\"],\"xaxis\":\"x\",\"y\":[8920,1890,15040,5010,170420,12400,13900,4010,3570,76730,33620,4900,2090,42020,10200,4790,3910,5500,10470,2390,29610,22840,28780,10130,6280,11080,1820,2510,10750,2610,44680,4860,126630,25960,920,26200,5830,9310,36560,3410,11440,840,13210,69520,1011070,3210,1560,29510,20470,2800,8080,940],\"yaxis\":\"y\",\"type\":\"scatter\"},{\"hovertemplate\":\"year=%{x}<br>abortionstotal=%{y}<extra></extra>\",\"legendgroup\":\"2013\",\"marker\":{\"color\":\"#00cc96\",\"symbol\":\"circle\"},\"mode\":\"markers\",\"name\":\"2013\",\"orientation\":\"v\",\"showlegend\":true,\"x\":[\"2013\",\"2013\",\"2013\",\"2013\",\"2013\",\"2013\",\"2013\",\"2013\",\"2013\",\"2013\",\"2013\",\"2013\",\"2013\",\"2013\",\"2013\",\"2013\",\"2013\",\"2013\",\"2013\",\"2013\",\"2013\",\"2013\",\"2013\",\"2013\",\"2013\",\"2013\",\"2013\",\"2013\",\"2013\",\"2013\",\"2013\",\"2013\",\"2013\",\"2013\",\"2013\",\"2013\",\"2013\",\"2013\",\"2013\",\"2013\",\"2013\",\"2013\",\"2013\",\"2013\",\"2013\",\"2013\",\"2013\",\"2013\",\"2013\",\"2013\",\"2013\",\"2013\"],\"xaxis\":\"x\",\"y\":[8230,1740,13820,4810,163550,11660,13360,3340,3740,73560,32550,4260,1850,41430,9910,4150,3940,5180,9630,2380,27080,21250,28420,9570,5860,10610,1660,2440,9550,2340,43340,4190,116970,26850,900,24470,5760,8600,34580,3130,11300,830,12760,66910,958700,3170,1490,29860,19100,2280,7510,820],\"yaxis\":\"y\",\"type\":\"scatter\"},{\"hovertemplate\":\"year=%{x}<br>abortionstotal=%{y}<extra></extra>\",\"legendgroup\":\"2014\",\"marker\":{\"color\":\"#ab63fa\",\"symbol\":\"circle\"},\"mode\":\"markers\",\"name\":\"2014\",\"orientation\":\"v\",\"showlegend\":true,\"x\":[\"2014\",\"2014\",\"2014\",\"2014\",\"2014\",\"2014\",\"2014\",\"2014\",\"2014\",\"2014\",\"2014\",\"2014\",\"2014\",\"2014\",\"2014\",\"2014\",\"2014\",\"2014\",\"2014\",\"2014\",\"2014\",\"2014\",\"2014\",\"2014\",\"2014\",\"2014\",\"2014\",\"2014\",\"2014\",\"2014\",\"2014\",\"2014\",\"2014\",\"2014\",\"2014\",\"2014\",\"2014\",\"2014\",\"2014\",\"2014\",\"2014\",\"2014\",\"2014\",\"2014\",\"2014\",\"2014\",\"2014\",\"2014\",\"2014\",\"2014\",\"2014\",\"2014\"],\"xaxis\":\"x\",\"y\":[8310,1640,13240,4350,156690,11760,13280,3200,3800,72630,31120,3750,1790,40120,10130,3930,3800,5180,9620,2400,26430,21280,28130,9230,5540,9180,1520,2360,10840,2530,43990,4030,117580,26410,1020,23220,5210,8760,34230,3220,10940,810,12300,56400,926190,2960,1380,24590,19150,2280,7430,850],\"yaxis\":\"y\",\"type\":\"scatter\"},{\"hovertemplate\":\"year=%{x}<br>abortionstotal=%{y}<extra></extra>\",\"legendgroup\":\"2015\",\"marker\":{\"color\":\"#FFA15A\",\"symbol\":\"circle\"},\"mode\":\"markers\",\"name\":\"2015\",\"orientation\":\"v\",\"showlegend\":true,\"x\":[\"2015\",\"2015\",\"2015\",\"2015\",\"2015\",\"2015\",\"2015\",\"2015\",\"2015\",\"2015\",\"2015\",\"2015\",\"2015\",\"2015\",\"2015\",\"2015\",\"2015\",\"2015\",\"2015\",\"2015\",\"2015\",\"2015\",\"2015\",\"2015\",\"2015\",\"2015\",\"2015\",\"2015\",\"2015\",\"2015\",\"2015\",\"2015\",\"2015\",\"2015\",\"2015\",\"2015\",\"2015\",\"2015\",\"2015\",\"2015\",\"2015\",\"2015\",\"2015\",\"2015\",\"2015\",\"2015\",\"2015\",\"2015\",\"2015\",\"2015\",\"2015\",\"2015\"],\"xaxis\":\"x\",\"y\":[8150,1540,13640,3930,148000,11410,12770,3040,3330,69390,31750,3370,1780,38830,10190,3990,3660,4910,9830,2240,26010,20370,27290,9360,5300,9640,1530,2260,10150,2480,45680,4120,113350,24870,990,21980,4800,8950,34550,3290,10930,770,11770,55690,899270,3010,1320,23290,18340,2380,7360,810],\"yaxis\":\"y\",\"type\":\"scatter\"},{\"hovertemplate\":\"year=%{x}<br>abortionstotal=%{y}<extra></extra>\",\"legendgroup\":\"2016\",\"marker\":{\"color\":\"#19d3f3\",\"symbol\":\"circle\"},\"mode\":\"markers\",\"name\":\"2016\",\"orientation\":\"v\",\"showlegend\":true,\"x\":[\"2016\",\"2016\",\"2016\",\"2016\",\"2016\",\"2016\",\"2016\",\"2016\",\"2016\",\"2016\",\"2016\",\"2016\",\"2016\",\"2016\",\"2016\",\"2016\",\"2016\",\"2016\",\"2016\",\"2016\",\"2016\",\"2016\",\"2016\",\"2016\",\"2016\",\"2016\",\"2016\",\"2016\",\"2016\",\"2016\",\"2016\",\"2016\",\"2016\",\"2016\",\"2016\",\"2016\",\"2016\",\"2016\",\"2016\",\"2016\",\"2016\",\"2016\",\"2016\",\"2016\",\"2016\",\"2016\",\"2016\",\"2016\",\"2016\",\"2016\",\"2016\",\"2016\"],\"xaxis\":\"x\",\"y\":[7920,1450,14040,3590,139320,11050,12260,2880,2870,66150,32390,3130,1780,37590,10240,4050,3520,4640,10040,2080,25730,19470,26460,9590,5100,10100,1540,2170,9460,2410,47370,4210,108350,23320,960,20790,4550,9140,34870,3340,10920,730,11230,55100,874080,3050,1260,21990,17530,2490,7310,770],\"yaxis\":\"y\",\"type\":\"scatter\"},{\"hovertemplate\":\"year=%{x}<br>abortionstotal=%{y}<extra></extra>\",\"legendgroup\":\"2017\",\"marker\":{\"color\":\"#FF6692\",\"symbol\":\"circle\"},\"mode\":\"markers\",\"name\":\"2017\",\"orientation\":\"v\",\"showlegend\":true,\"x\":[\"2017\",\"2017\",\"2017\",\"2017\",\"2017\",\"2017\",\"2017\",\"2017\",\"2017\",\"2017\",\"2017\",\"2017\",\"2017\",\"2017\",\"2017\",\"2017\",\"2017\",\"2017\",\"2017\",\"2017\",\"2017\",\"2017\",\"2017\",\"2017\",\"2017\",\"2017\",\"2017\",\"2017\",\"2017\",\"2017\",\"2017\",\"2017\",\"2017\",\"2017\",\"2017\",\"2017\",\"2017\",\"2017\",\"2017\",\"2017\",\"2017\",\"2017\",\"2017\",\"2017\",\"2017\",\"2017\",\"2017\",\"2017\",\"2017\",\"2017\",\"2017\",\"2017\"],\"xaxis\":\"x\",\"y\":[7660,1420,13270,3710,131380,11100,11950,2770,3930,68640,32520,3220,1790,37770,10270,3650,3520,4780,9280,2050,26940,18880,26130,10100,4930,9690,1510,2250,9620,2330,47010,3830,103060,25060,970,20560,4780,8950,33910,3280,11380,750,11060,56340,862320,3020,1140,20290,17760,2380,7540,720],\"yaxis\":\"y\",\"type\":\"scatter\"},{\"hovertemplate\":\"year=%{x}<br>abortionstotal=%{y}<extra></extra>\",\"legendgroup\":\"1973\",\"marker\":{\"color\":\"#B6E880\",\"symbol\":\"circle\"},\"mode\":\"markers\",\"name\":\"1973\",\"orientation\":\"v\",\"showlegend\":true,\"x\":[\"1973\"],\"xaxis\":\"x\",\"y\":[744610],\"yaxis\":\"y\",\"type\":\"scatter\"},{\"hovertemplate\":\"year=%{x}<br>abortionstotal=%{y}<extra></extra>\",\"legendgroup\":\"1974\",\"marker\":{\"color\":\"#FF97FF\",\"symbol\":\"circle\"},\"mode\":\"markers\",\"name\":\"1974\",\"orientation\":\"v\",\"showlegend\":true,\"x\":[\"1974\"],\"xaxis\":\"x\",\"y\":[898570],\"yaxis\":\"y\",\"type\":\"scatter\"},{\"hovertemplate\":\"year=%{x}<br>abortionstotal=%{y}<extra></extra>\",\"legendgroup\":\"1975\",\"marker\":{\"color\":\"#FECB52\",\"symbol\":\"circle\"},\"mode\":\"markers\",\"name\":\"1975\",\"orientation\":\"v\",\"showlegend\":true,\"x\":[\"1975\"],\"xaxis\":\"x\",\"y\":[1034170],\"yaxis\":\"y\",\"type\":\"scatter\"},{\"hovertemplate\":\"year=%{x}<br>abortionstotal=%{y}<extra></extra>\",\"legendgroup\":\"1976\",\"marker\":{\"color\":\"#636efa\",\"symbol\":\"circle\"},\"mode\":\"markers\",\"name\":\"1976\",\"orientation\":\"v\",\"showlegend\":true,\"x\":[\"1976\"],\"xaxis\":\"x\",\"y\":[1179300],\"yaxis\":\"y\",\"type\":\"scatter\"},{\"hovertemplate\":\"year=%{x}<br>abortionstotal=%{y}<extra></extra>\",\"legendgroup\":\"1977\",\"marker\":{\"color\":\"#EF553B\",\"symbol\":\"circle\"},\"mode\":\"markers\",\"name\":\"1977\",\"orientation\":\"v\",\"showlegend\":true,\"x\":[\"1977\"],\"xaxis\":\"x\",\"y\":[1316700],\"yaxis\":\"y\",\"type\":\"scatter\"},{\"hovertemplate\":\"year=%{x}<br>abortionstotal=%{y}<extra></extra>\",\"legendgroup\":\"1978\",\"marker\":{\"color\":\"#00cc96\",\"symbol\":\"circle\"},\"mode\":\"markers\",\"name\":\"1978\",\"orientation\":\"v\",\"showlegend\":true,\"x\":[\"1978\"],\"xaxis\":\"x\",\"y\":[1409600],\"yaxis\":\"y\",\"type\":\"scatter\"},{\"hovertemplate\":\"year=%{x}<br>abortionstotal=%{y}<extra></extra>\",\"legendgroup\":\"1979\",\"marker\":{\"color\":\"#ab63fa\",\"symbol\":\"circle\"},\"mode\":\"markers\",\"name\":\"1979\",\"orientation\":\"v\",\"showlegend\":true,\"x\":[\"1979\"],\"xaxis\":\"x\",\"y\":[1497670],\"yaxis\":\"y\",\"type\":\"scatter\"},{\"hovertemplate\":\"year=%{x}<br>abortionstotal=%{y}<extra></extra>\",\"legendgroup\":\"1980\",\"marker\":{\"color\":\"#FFA15A\",\"symbol\":\"circle\"},\"mode\":\"markers\",\"name\":\"1980\",\"orientation\":\"v\",\"showlegend\":true,\"x\":[\"1980\"],\"xaxis\":\"x\",\"y\":[1553890],\"yaxis\":\"y\",\"type\":\"scatter\"},{\"hovertemplate\":\"year=%{x}<br>abortionstotal=%{y}<extra></extra>\",\"legendgroup\":\"1981\",\"marker\":{\"color\":\"#19d3f3\",\"symbol\":\"circle\"},\"mode\":\"markers\",\"name\":\"1981\",\"orientation\":\"v\",\"showlegend\":true,\"x\":[\"1981\"],\"xaxis\":\"x\",\"y\":[1577340],\"yaxis\":\"y\",\"type\":\"scatter\"},{\"hovertemplate\":\"year=%{x}<br>abortionstotal=%{y}<extra></extra>\",\"legendgroup\":\"1982\",\"marker\":{\"color\":\"#FF6692\",\"symbol\":\"circle\"},\"mode\":\"markers\",\"name\":\"1982\",\"orientation\":\"v\",\"showlegend\":true,\"x\":[\"1982\"],\"xaxis\":\"x\",\"y\":[1573920],\"yaxis\":\"y\",\"type\":\"scatter\"},{\"hovertemplate\":\"year=%{x}<br>abortionstotal=%{y}<extra></extra>\",\"legendgroup\":\"1983\",\"marker\":{\"color\":\"#B6E880\",\"symbol\":\"circle\"},\"mode\":\"markers\",\"name\":\"1983\",\"orientation\":\"v\",\"showlegend\":true,\"x\":[\"1983\"],\"xaxis\":\"x\",\"y\":[1575000],\"yaxis\":\"y\",\"type\":\"scatter\"},{\"hovertemplate\":\"year=%{x}<br>abortionstotal=%{y}<extra></extra>\",\"legendgroup\":\"1984\",\"marker\":{\"color\":\"#FF97FF\",\"symbol\":\"circle\"},\"mode\":\"markers\",\"name\":\"1984\",\"orientation\":\"v\",\"showlegend\":true,\"x\":[\"1984\"],\"xaxis\":\"x\",\"y\":[1577180],\"yaxis\":\"y\",\"type\":\"scatter\"},{\"hovertemplate\":\"year=%{x}<br>abortionstotal=%{y}<extra></extra>\",\"legendgroup\":\"1985\",\"marker\":{\"color\":\"#FECB52\",\"symbol\":\"circle\"},\"mode\":\"markers\",\"name\":\"1985\",\"orientation\":\"v\",\"showlegend\":true,\"x\":[\"1985\"],\"xaxis\":\"x\",\"y\":[1588550],\"yaxis\":\"y\",\"type\":\"scatter\"},{\"hovertemplate\":\"year=%{x}<br>abortionstotal=%{y}<extra></extra>\",\"legendgroup\":\"1986\",\"marker\":{\"color\":\"#636efa\",\"symbol\":\"circle\"},\"mode\":\"markers\",\"name\":\"1986\",\"orientation\":\"v\",\"showlegend\":true,\"x\":[\"1986\"],\"xaxis\":\"x\",\"y\":[1574000],\"yaxis\":\"y\",\"type\":\"scatter\"},{\"hovertemplate\":\"year=%{x}<br>abortionstotal=%{y}<extra></extra>\",\"legendgroup\":\"1987\",\"marker\":{\"color\":\"#EF553B\",\"symbol\":\"circle\"},\"mode\":\"markers\",\"name\":\"1987\",\"orientation\":\"v\",\"showlegend\":true,\"x\":[\"1987\"],\"xaxis\":\"x\",\"y\":[1559110],\"yaxis\":\"y\",\"type\":\"scatter\"},{\"hovertemplate\":\"year=%{x}<br>abortionstotal=%{y}<extra></extra>\",\"legendgroup\":\"1989\",\"marker\":{\"color\":\"#00cc96\",\"symbol\":\"circle\"},\"mode\":\"markers\",\"name\":\"1989\",\"orientation\":\"v\",\"showlegend\":true,\"x\":[\"1989\"],\"xaxis\":\"x\",\"y\":[1566870],\"yaxis\":\"y\",\"type\":\"scatter\"},{\"hovertemplate\":\"year=%{x}<br>abortionstotal=%{y}<extra></extra>\",\"legendgroup\":\"1990\",\"marker\":{\"color\":\"#ab63fa\",\"symbol\":\"circle\"},\"mode\":\"markers\",\"name\":\"1990\",\"orientation\":\"v\",\"showlegend\":true,\"x\":[\"1990\"],\"xaxis\":\"x\",\"y\":[1608620],\"yaxis\":\"y\",\"type\":\"scatter\"},{\"hovertemplate\":\"year=%{x}<br>abortionstotal=%{y}<extra></extra>\",\"legendgroup\":\"1991\",\"marker\":{\"color\":\"#FFA15A\",\"symbol\":\"circle\"},\"mode\":\"markers\",\"name\":\"1991\",\"orientation\":\"v\",\"showlegend\":true,\"x\":[\"1991\"],\"xaxis\":\"x\",\"y\":[1556510],\"yaxis\":\"y\",\"type\":\"scatter\"},{\"hovertemplate\":\"year=%{x}<br>abortionstotal=%{y}<extra></extra>\",\"legendgroup\":\"1993\",\"marker\":{\"color\":\"#19d3f3\",\"symbol\":\"circle\"},\"mode\":\"markers\",\"name\":\"1993\",\"orientation\":\"v\",\"showlegend\":true,\"x\":[\"1993\"],\"xaxis\":\"x\",\"y\":[1495000],\"yaxis\":\"y\",\"type\":\"scatter\"},{\"hovertemplate\":\"year=%{x}<br>abortionstotal=%{y}<extra></extra>\",\"legendgroup\":\"1994\",\"marker\":{\"color\":\"#FF6692\",\"symbol\":\"circle\"},\"mode\":\"markers\",\"name\":\"1994\",\"orientation\":\"v\",\"showlegend\":true,\"x\":[\"1994\"],\"xaxis\":\"x\",\"y\":[1423000],\"yaxis\":\"y\",\"type\":\"scatter\"},{\"hovertemplate\":\"year=%{x}<br>abortionstotal=%{y}<extra></extra>\",\"legendgroup\":\"1995\",\"marker\":{\"color\":\"#B6E880\",\"symbol\":\"circle\"},\"mode\":\"markers\",\"name\":\"1995\",\"orientation\":\"v\",\"showlegend\":true,\"x\":[\"1995\"],\"xaxis\":\"x\",\"y\":[1359440],\"yaxis\":\"y\",\"type\":\"scatter\"},{\"hovertemplate\":\"year=%{x}<br>abortionstotal=%{y}<extra></extra>\",\"legendgroup\":\"1997\",\"marker\":{\"color\":\"#FF97FF\",\"symbol\":\"circle\"},\"mode\":\"markers\",\"name\":\"1997\",\"orientation\":\"v\",\"showlegend\":true,\"x\":[\"1997\"],\"xaxis\":\"x\",\"y\":[1335000],\"yaxis\":\"y\",\"type\":\"scatter\"},{\"hovertemplate\":\"year=%{x}<br>abortionstotal=%{y}<extra></extra>\",\"legendgroup\":\"1998\",\"marker\":{\"color\":\"#FECB52\",\"symbol\":\"circle\"},\"mode\":\"markers\",\"name\":\"1998\",\"orientation\":\"v\",\"showlegend\":true,\"x\":[\"1998\"],\"xaxis\":\"x\",\"y\":[1319000],\"yaxis\":\"y\",\"type\":\"scatter\"},{\"hovertemplate\":\"year=%{x}<br>abortionstotal=%{y}<extra></extra>\",\"legendgroup\":\"1999\",\"marker\":{\"color\":\"#636efa\",\"symbol\":\"circle\"},\"mode\":\"markers\",\"name\":\"1999\",\"orientation\":\"v\",\"showlegend\":true,\"x\":[\"1999\"],\"xaxis\":\"x\",\"y\":[1314790],\"yaxis\":\"y\",\"type\":\"scatter\"},{\"hovertemplate\":\"year=%{x}<br>abortionstotal=%{y}<extra></extra>\",\"legendgroup\":\"2001\",\"marker\":{\"color\":\"#EF553B\",\"symbol\":\"circle\"},\"mode\":\"markers\",\"name\":\"2001\",\"orientation\":\"v\",\"showlegend\":true,\"x\":[\"2001\"],\"xaxis\":\"x\",\"y\":[1291000],\"yaxis\":\"y\",\"type\":\"scatter\"},{\"hovertemplate\":\"year=%{x}<br>abortionstotal=%{y}<extra></extra>\",\"legendgroup\":\"2002\",\"marker\":{\"color\":\"#00cc96\",\"symbol\":\"circle\"},\"mode\":\"markers\",\"name\":\"2002\",\"orientation\":\"v\",\"showlegend\":true,\"x\":[\"2002\"],\"xaxis\":\"x\",\"y\":[1269000],\"yaxis\":\"y\",\"type\":\"scatter\"},{\"hovertemplate\":\"year=%{x}<br>abortionstotal=%{y}<extra></extra>\",\"legendgroup\":\"2003\",\"marker\":{\"color\":\"#ab63fa\",\"symbol\":\"circle\"},\"mode\":\"markers\",\"name\":\"2003\",\"orientation\":\"v\",\"showlegend\":true,\"x\":[\"2003\"],\"xaxis\":\"x\",\"y\":[1250000],\"yaxis\":\"y\",\"type\":\"scatter\"},{\"hovertemplate\":\"year=%{x}<br>abortionstotal=%{y}<extra></extra>\",\"legendgroup\":\"2004\",\"marker\":{\"color\":\"#FFA15A\",\"symbol\":\"circle\"},\"mode\":\"markers\",\"name\":\"2004\",\"orientation\":\"v\",\"showlegend\":true,\"x\":[\"2004\"],\"xaxis\":\"x\",\"y\":[1222100],\"yaxis\":\"y\",\"type\":\"scatter\"}],                        {\"template\":{\"data\":{\"histogram2dcontour\":[{\"type\":\"histogram2dcontour\",\"colorbar\":{\"outlinewidth\":0,\"ticks\":\"\"},\"colorscale\":[[0.0,\"#0d0887\"],[0.1111111111111111,\"#46039f\"],[0.2222222222222222,\"#7201a8\"],[0.3333333333333333,\"#9c179e\"],[0.4444444444444444,\"#bd3786\"],[0.5555555555555556,\"#d8576b\"],[0.6666666666666666,\"#ed7953\"],[0.7777777777777778,\"#fb9f3a\"],[0.8888888888888888,\"#fdca26\"],[1.0,\"#f0f921\"]]}],\"choropleth\":[{\"type\":\"choropleth\",\"colorbar\":{\"outlinewidth\":0,\"ticks\":\"\"}}],\"histogram2d\":[{\"type\":\"histogram2d\",\"colorbar\":{\"outlinewidth\":0,\"ticks\":\"\"},\"colorscale\":[[0.0,\"#0d0887\"],[0.1111111111111111,\"#46039f\"],[0.2222222222222222,\"#7201a8\"],[0.3333333333333333,\"#9c179e\"],[0.4444444444444444,\"#bd3786\"],[0.5555555555555556,\"#d8576b\"],[0.6666666666666666,\"#ed7953\"],[0.7777777777777778,\"#fb9f3a\"],[0.8888888888888888,\"#fdca26\"],[1.0,\"#f0f921\"]]}],\"heatmap\":[{\"type\":\"heatmap\",\"colorbar\":{\"outlinewidth\":0,\"ticks\":\"\"},\"colorscale\":[[0.0,\"#0d0887\"],[0.1111111111111111,\"#46039f\"],[0.2222222222222222,\"#7201a8\"],[0.3333333333333333,\"#9c179e\"],[0.4444444444444444,\"#bd3786\"],[0.5555555555555556,\"#d8576b\"],[0.6666666666666666,\"#ed7953\"],[0.7777777777777778,\"#fb9f3a\"],[0.8888888888888888,\"#fdca26\"],[1.0,\"#f0f921\"]]}],\"heatmapgl\":[{\"type\":\"heatmapgl\",\"colorbar\":{\"outlinewidth\":0,\"ticks\":\"\"},\"colorscale\":[[0.0,\"#0d0887\"],[0.1111111111111111,\"#46039f\"],[0.2222222222222222,\"#7201a8\"],[0.3333333333333333,\"#9c179e\"],[0.4444444444444444,\"#bd3786\"],[0.5555555555555556,\"#d8576b\"],[0.6666666666666666,\"#ed7953\"],[0.7777777777777778,\"#fb9f3a\"],[0.8888888888888888,\"#fdca26\"],[1.0,\"#f0f921\"]]}],\"contourcarpet\":[{\"type\":\"contourcarpet\",\"colorbar\":{\"outlinewidth\":0,\"ticks\":\"\"}}],\"contour\":[{\"type\":\"contour\",\"colorbar\":{\"outlinewidth\":0,\"ticks\":\"\"},\"colorscale\":[[0.0,\"#0d0887\"],[0.1111111111111111,\"#46039f\"],[0.2222222222222222,\"#7201a8\"],[0.3333333333333333,\"#9c179e\"],[0.4444444444444444,\"#bd3786\"],[0.5555555555555556,\"#d8576b\"],[0.6666666666666666,\"#ed7953\"],[0.7777777777777778,\"#fb9f3a\"],[0.8888888888888888,\"#fdca26\"],[1.0,\"#f0f921\"]]}],\"surface\":[{\"type\":\"surface\",\"colorbar\":{\"outlinewidth\":0,\"ticks\":\"\"},\"colorscale\":[[0.0,\"#0d0887\"],[0.1111111111111111,\"#46039f\"],[0.2222222222222222,\"#7201a8\"],[0.3333333333333333,\"#9c179e\"],[0.4444444444444444,\"#bd3786\"],[0.5555555555555556,\"#d8576b\"],[0.6666666666666666,\"#ed7953\"],[0.7777777777777778,\"#fb9f3a\"],[0.8888888888888888,\"#fdca26\"],[1.0,\"#f0f921\"]]}],\"mesh3d\":[{\"type\":\"mesh3d\",\"colorbar\":{\"outlinewidth\":0,\"ticks\":\"\"}}],\"scatter\":[{\"fillpattern\":{\"fillmode\":\"overlay\",\"size\":10,\"solidity\":0.2},\"type\":\"scatter\"}],\"parcoords\":[{\"type\":\"parcoords\",\"line\":{\"colorbar\":{\"outlinewidth\":0,\"ticks\":\"\"}}}],\"scatterpolargl\":[{\"type\":\"scatterpolargl\",\"marker\":{\"colorbar\":{\"outlinewidth\":0,\"ticks\":\"\"}}}],\"bar\":[{\"error_x\":{\"color\":\"#2a3f5f\"},\"error_y\":{\"color\":\"#2a3f5f\"},\"marker\":{\"line\":{\"color\":\"#E5ECF6\",\"width\":0.5},\"pattern\":{\"fillmode\":\"overlay\",\"size\":10,\"solidity\":0.2}},\"type\":\"bar\"}],\"scattergeo\":[{\"type\":\"scattergeo\",\"marker\":{\"colorbar\":{\"outlinewidth\":0,\"ticks\":\"\"}}}],\"scatterpolar\":[{\"type\":\"scatterpolar\",\"marker\":{\"colorbar\":{\"outlinewidth\":0,\"ticks\":\"\"}}}],\"histogram\":[{\"marker\":{\"pattern\":{\"fillmode\":\"overlay\",\"size\":10,\"solidity\":0.2}},\"type\":\"histogram\"}],\"scattergl\":[{\"type\":\"scattergl\",\"marker\":{\"colorbar\":{\"outlinewidth\":0,\"ticks\":\"\"}}}],\"scatter3d\":[{\"type\":\"scatter3d\",\"line\":{\"colorbar\":{\"outlinewidth\":0,\"ticks\":\"\"}},\"marker\":{\"colorbar\":{\"outlinewidth\":0,\"ticks\":\"\"}}}],\"scattermapbox\":[{\"type\":\"scattermapbox\",\"marker\":{\"colorbar\":{\"outlinewidth\":0,\"ticks\":\"\"}}}],\"scatterternary\":[{\"type\":\"scatterternary\",\"marker\":{\"colorbar\":{\"outlinewidth\":0,\"ticks\":\"\"}}}],\"scattercarpet\":[{\"type\":\"scattercarpet\",\"marker\":{\"colorbar\":{\"outlinewidth\":0,\"ticks\":\"\"}}}],\"carpet\":[{\"aaxis\":{\"endlinecolor\":\"#2a3f5f\",\"gridcolor\":\"white\",\"linecolor\":\"white\",\"minorgridcolor\":\"white\",\"startlinecolor\":\"#2a3f5f\"},\"baxis\":{\"endlinecolor\":\"#2a3f5f\",\"gridcolor\":\"white\",\"linecolor\":\"white\",\"minorgridcolor\":\"white\",\"startlinecolor\":\"#2a3f5f\"},\"type\":\"carpet\"}],\"table\":[{\"cells\":{\"fill\":{\"color\":\"#EBF0F8\"},\"line\":{\"color\":\"white\"}},\"header\":{\"fill\":{\"color\":\"#C8D4E3\"},\"line\":{\"color\":\"white\"}},\"type\":\"table\"}],\"barpolar\":[{\"marker\":{\"line\":{\"color\":\"#E5ECF6\",\"width\":0.5},\"pattern\":{\"fillmode\":\"overlay\",\"size\":10,\"solidity\":0.2}},\"type\":\"barpolar\"}],\"pie\":[{\"automargin\":true,\"type\":\"pie\"}]},\"layout\":{\"autotypenumbers\":\"strict\",\"colorway\":[\"#636efa\",\"#EF553B\",\"#00cc96\",\"#ab63fa\",\"#FFA15A\",\"#19d3f3\",\"#FF6692\",\"#B6E880\",\"#FF97FF\",\"#FECB52\"],\"font\":{\"color\":\"#2a3f5f\"},\"hovermode\":\"closest\",\"hoverlabel\":{\"align\":\"left\"},\"paper_bgcolor\":\"white\",\"plot_bgcolor\":\"#E5ECF6\",\"polar\":{\"bgcolor\":\"#E5ECF6\",\"angularaxis\":{\"gridcolor\":\"white\",\"linecolor\":\"white\",\"ticks\":\"\"},\"radialaxis\":{\"gridcolor\":\"white\",\"linecolor\":\"white\",\"ticks\":\"\"}},\"ternary\":{\"bgcolor\":\"#E5ECF6\",\"aaxis\":{\"gridcolor\":\"white\",\"linecolor\":\"white\",\"ticks\":\"\"},\"baxis\":{\"gridcolor\":\"white\",\"linecolor\":\"white\",\"ticks\":\"\"},\"caxis\":{\"gridcolor\":\"white\",\"linecolor\":\"white\",\"ticks\":\"\"}},\"coloraxis\":{\"colorbar\":{\"outlinewidth\":0,\"ticks\":\"\"}},\"colorscale\":{\"sequential\":[[0.0,\"#0d0887\"],[0.1111111111111111,\"#46039f\"],[0.2222222222222222,\"#7201a8\"],[0.3333333333333333,\"#9c179e\"],[0.4444444444444444,\"#bd3786\"],[0.5555555555555556,\"#d8576b\"],[0.6666666666666666,\"#ed7953\"],[0.7777777777777778,\"#fb9f3a\"],[0.8888888888888888,\"#fdca26\"],[1.0,\"#f0f921\"]],\"sequentialminus\":[[0.0,\"#0d0887\"],[0.1111111111111111,\"#46039f\"],[0.2222222222222222,\"#7201a8\"],[0.3333333333333333,\"#9c179e\"],[0.4444444444444444,\"#bd3786\"],[0.5555555555555556,\"#d8576b\"],[0.6666666666666666,\"#ed7953\"],[0.7777777777777778,\"#fb9f3a\"],[0.8888888888888888,\"#fdca26\"],[1.0,\"#f0f921\"]],\"diverging\":[[0,\"#8e0152\"],[0.1,\"#c51b7d\"],[0.2,\"#de77ae\"],[0.3,\"#f1b6da\"],[0.4,\"#fde0ef\"],[0.5,\"#f7f7f7\"],[0.6,\"#e6f5d0\"],[0.7,\"#b8e186\"],[0.8,\"#7fbc41\"],[0.9,\"#4d9221\"],[1,\"#276419\"]]},\"xaxis\":{\"gridcolor\":\"white\",\"linecolor\":\"white\",\"ticks\":\"\",\"title\":{\"standoff\":15},\"zerolinecolor\":\"white\",\"automargin\":true,\"zerolinewidth\":2},\"yaxis\":{\"gridcolor\":\"white\",\"linecolor\":\"white\",\"ticks\":\"\",\"title\":{\"standoff\":15},\"zerolinecolor\":\"white\",\"automargin\":true,\"zerolinewidth\":2},\"scene\":{\"xaxis\":{\"backgroundcolor\":\"#E5ECF6\",\"gridcolor\":\"white\",\"linecolor\":\"white\",\"showbackground\":true,\"ticks\":\"\",\"zerolinecolor\":\"white\",\"gridwidth\":2},\"yaxis\":{\"backgroundcolor\":\"#E5ECF6\",\"gridcolor\":\"white\",\"linecolor\":\"white\",\"showbackground\":true,\"ticks\":\"\",\"zerolinecolor\":\"white\",\"gridwidth\":2},\"zaxis\":{\"backgroundcolor\":\"#E5ECF6\",\"gridcolor\":\"white\",\"linecolor\":\"white\",\"showbackground\":true,\"ticks\":\"\",\"zerolinecolor\":\"white\",\"gridwidth\":2}},\"shapedefaults\":{\"line\":{\"color\":\"#2a3f5f\"}},\"annotationdefaults\":{\"arrowcolor\":\"#2a3f5f\",\"arrowhead\":0,\"arrowwidth\":1},\"geo\":{\"bgcolor\":\"white\",\"landcolor\":\"#E5ECF6\",\"subunitcolor\":\"white\",\"showland\":true,\"showlakes\":true,\"lakecolor\":\"white\"},\"title\":{\"x\":0.05},\"mapbox\":{\"style\":\"light\"}}},\"xaxis\":{\"anchor\":\"y\",\"domain\":[0.0,1.0],\"title\":{\"text\":\"year\"},\"categoryorder\":\"array\",\"categoryarray\":[\"1988\",\"1992\",\"1996\",\"2000\",\"2005\",\"2006\",\"2007\",\"2008\",\"2009\",\"2010\",\"2011\",\"2012\",\"2013\",\"2014\",\"2015\",\"2016\",\"2017\",\"1973\",\"1974\",\"1975\",\"1976\",\"1977\",\"1978\",\"1979\",\"1980\",\"1981\",\"1982\",\"1983\",\"1984\",\"1985\",\"1986\",\"1987\",\"1989\",\"1990\",\"1991\",\"1993\",\"1994\",\"1995\",\"1997\",\"1998\",\"1999\",\"2001\",\"2002\",\"2003\",\"2004\"]},\"yaxis\":{\"anchor\":\"x\",\"domain\":[0.0,1.0],\"title\":{\"text\":\"abortionstotal\"}},\"legend\":{\"title\":{\"text\":\"year\"},\"tracegroupgap\":0},\"title\":{\"text\":\"Banning Abortions Volume\"}},                        {\"responsive\": true}                    ).then(function(){\n",
       "                            \n",
       "var gd = document.getElementById('b7c4c4a1-4bf5-4ba2-a419-04ee34fde033');\n",
       "var x = new MutationObserver(function (mutations, observer) {{\n",
       "        var display = window.getComputedStyle(gd).display;\n",
       "        if (!display || display === 'none') {{\n",
       "            console.log([gd, 'removed!']);\n",
       "            Plotly.purge(gd);\n",
       "            observer.disconnect();\n",
       "        }}\n",
       "}});\n",
       "\n",
       "// Listen for the removal of the full notebook cells\n",
       "var notebookContainer = gd.closest('#notebook-container');\n",
       "if (notebookContainer) {{\n",
       "    x.observe(notebookContainer, {childList: true});\n",
       "}}\n",
       "\n",
       "// Listen for the clearing of the current output cell\n",
       "var outputEl = gd.closest('.output');\n",
       "if (outputEl) {{\n",
       "    x.observe(outputEl, {childList: true});\n",
       "}}\n",
       "\n",
       "                        })                };                });            </script>        </div>"
      ]
     },
     "metadata": {},
     "output_type": "display_data"
    }
   ],
   "source": [
    "import plotly.express as px\n",
    "AbTimeline_df[\"year\"] = AbTimeline_df[\"year\"].astype(str)\n",
    "fig = px.scatter(AbTimeline_df, x=\"year\", y=\"abortionstotal\", color=\"year\",\n",
    "                 title=\"Banning Abortions Volume\")\n",
    "\n",
    "fig.show()"
   ]
  },
  {
   "cell_type": "code",
   "execution_count": null,
   "id": "7f2108e0",
   "metadata": {},
   "outputs": [],
   "source": []
  },
  {
   "cell_type": "code",
   "execution_count": null,
   "id": "90698947",
   "metadata": {},
   "outputs": [],
   "source": []
  }
 ],
 "metadata": {
  "kernelspec": {
   "display_name": "PythonData",
   "language": "python",
   "name": "pythondata"
  },
  "language_info": {
   "codemirror_mode": {
    "name": "ipython",
    "version": 3
   },
   "file_extension": ".py",
   "mimetype": "text/x-python",
   "name": "python",
   "nbconvert_exporter": "python",
   "pygments_lexer": "ipython3",
   "version": "3.9.11"
  }
 },
 "nbformat": 4,
 "nbformat_minor": 5
}

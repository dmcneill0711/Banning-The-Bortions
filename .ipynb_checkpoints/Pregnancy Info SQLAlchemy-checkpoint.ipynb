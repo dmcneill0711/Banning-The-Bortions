{
 "cells": [
  {
   "cell_type": "code",
   "execution_count": 11,
   "id": "666d7041",
   "metadata": {},
   "outputs": [],
   "source": [
    "# Import Dependencies\n",
    "\n",
    "import pandas as pd\n",
    "from sqlalchemy import create_engine\n",
    "from sqlalchemy import inspect\n",
    "import psycopg2\n",
    "import datetime as dt"
   ]
  },
  {
   "cell_type": "code",
   "execution_count": 15,
   "id": "a6f729f0",
   "metadata": {},
   "outputs": [],
   "source": [
    "#Create Engine and connection to Database\n",
    "engine = create_engine(f\"postgresql://postgres{password}@localhost:5432/Pregnancies\")\n",
    "inspect = inspect(engine)\n",
    "connection = engine.connect()"
   ]
  },
  {
   "cell_type": "code",
   "execution_count": 16,
   "id": "3e539573",
   "metadata": {},
   "outputs": [
    {
     "data": {
      "text/plain": [
       "['abortion_info', 'national_pregnancy']"
      ]
     },
     "execution_count": 16,
     "metadata": {},
     "output_type": "execute_result"
    }
   ],
   "source": [
    "#Verify tables\n",
    "inspect.get_table_names()"
   ]
  },
  {
   "cell_type": "code",
   "execution_count": null,
   "id": "0e61d9f8",
   "metadata": {},
   "outputs": [],
   "source": []
  }
 ],
 "metadata": {
  "kernelspec": {
   "display_name": "Python 3 (ipykernel)",
   "language": "python",
   "name": "python3"
  },
  "language_info": {
   "codemirror_mode": {
    "name": "ipython",
    "version": 3
   },
   "file_extension": ".py",
   "mimetype": "text/x-python",
   "name": "python",
   "nbconvert_exporter": "python",
   "pygments_lexer": "ipython3",
   "version": "3.9.7"
  }
 },
 "nbformat": 4,
 "nbformat_minor": 5
}

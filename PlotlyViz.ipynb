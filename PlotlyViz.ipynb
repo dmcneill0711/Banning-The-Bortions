{
 "cells": [
  {
   "cell_type": "code",
   "execution_count": 27,
   "id": "0d7ad71e",
   "metadata": {},
   "outputs": [],
   "source": [
    "import pandas as pd\n",
    "import plotly.express as px\n",
    "import plotly.graph_objs as go\n",
    "import matplotlib.pyplot as plt\n",
    "import plotly as py\n",
    "import nbconvert\n",
    "import plotly.io as pio"
   ]
  },
  {
   "cell_type": "code",
   "execution_count": 28,
   "id": "a28c80c7",
   "metadata": {},
   "outputs": [],
   "source": [
    "AbVolume_df = pd.read_csv('/Users/petergunn/Banning-The-Bortions/new web/Resources/csvData.csv')\n",
    "AbTimeline_df = pd.read_csv('/Users/petergunn/Banning-The-Bortions/new web/Resources/NationalAndStatePregnancy_PublicUse.csv')\n",
    "AbTimeline_df_cleaned = AbTimeline_df.drop_duplicates(subset=None, inplace=True)\n"
   ]
  },
  {
   "cell_type": "code",
   "execution_count": 29,
   "id": "111dbee2",
   "metadata": {
    "scrolled": true
   },
   "outputs": [
    {
     "data": {
      "application/vnd.plotly.v1+json": {
       "config": {
        "plotlyServerURL": "https://plot.ly"
       },
       "data": [
        {
         "alignmentgroup": "True",
         "hovertemplate": "State=%{x}<br>totalAbortions=%{y}<br>abortionRate=%{marker.color}<extra></extra>",
         "legendgroup": "",
         "marker": {
          "color": [
           1.3,
           3.1,
           3.8,
           3.9,
           4,
           4.3,
           4.4,
           4.4,
           5.3,
           5.5,
           5.5,
           5.9,
           5.9,
           6.2,
           6.3,
           6.4,
           7.9,
           8.3,
           8.6,
           8.8,
           9.2,
           9.2,
           9.2,
           9.4,
           9.4,
           10.1,
           10.2,
           10.5,
           10.6,
           10.9,
           11.4,
           11.7,
           11.9,
           12,
           12.1,
           12.2,
           13.1,
           13.5,
           14.2,
           14.6,
           16.4,
           16.4,
           16.6,
           16.7,
           16.9,
           17.7,
           18.6,
           25,
           26.3,
           28
          ],
          "coloraxis": "coloraxis",
          "pattern": {
           "shape": ""
          }
         },
         "name": "",
         "offsetgroup": "",
         "orientation": "v",
         "showlegend": false,
         "textposition": "auto",
         "type": "bar",
         "x": [
          "Wyoming",
          "South Dakota",
          "Kentucky",
          "Idaho",
          "Missouri",
          "Mississippi",
          "West Virginia",
          "Utah",
          "South Carolina",
          "Nebraska",
          "Arkansas",
          "Wisconsin",
          "Indiana",
          "Oklahoma",
          "Iowa",
          "Alabama",
          "North Dakota",
          "Montana",
          "Alaska",
          "Maine",
          "Tennessee",
          "New Hampshire",
          "Arizona",
          "Texas",
          "Ohio",
          "Minnesota",
          "Virginia",
          "Delaware",
          "Louisiana",
          "Colorado",
          "Vermont",
          "New Mexico",
          "Oregon",
          "Hawaii",
          "Washington",
          "Kansas",
          "Pennsylvania",
          "Massachusetts",
          "Michigan",
          "North Carolina",
          "Nevada",
          "California",
          "Illinois",
          "Rhode Island",
          "Georgia",
          "Connecticut",
          "Florida",
          "Maryland",
          "New York",
          "New Jersey"
         ],
         "xaxis": "x",
         "y": [
          140,
          500,
          3200,
          1290,
          4710,
          2550,
          1430,
          2990,
          5120,
          2020,
          3200,
          6360,
          7710,
          4780,
          3760,
          6110,
          1160,
          1580,
          1260,
          2040,
          12140,
          2210,
          12400,
          55440,
          20630,
          10740,
          17210,
          1900,
          9920,
          12390,
          1300,
          4620,
          9640,
          3200,
          17740,
          6830,
          31260,
          18590,
          26630,
          29500,
          9690,
          132680,
          42080,
          3500,
          36330,
          11910,
          71050,
          29800,
          105380,
          48110
         ],
         "yaxis": "y"
        }
       ],
       "layout": {
        "barmode": "relative",
        "coloraxis": {
         "colorbar": {
          "title": {
           "text": "abortionRate"
          }
         },
         "colorscale": [
          [
           0,
           "#0d0887"
          ],
          [
           0.1111111111111111,
           "#46039f"
          ],
          [
           0.2222222222222222,
           "#7201a8"
          ],
          [
           0.3333333333333333,
           "#9c179e"
          ],
          [
           0.4444444444444444,
           "#bd3786"
          ],
          [
           0.5555555555555556,
           "#d8576b"
          ],
          [
           0.6666666666666666,
           "#ed7953"
          ],
          [
           0.7777777777777778,
           "#fb9f3a"
          ],
          [
           0.8888888888888888,
           "#fdca26"
          ],
          [
           1,
           "#f0f921"
          ]
         ]
        },
        "legend": {
         "tracegroupgap": 0
        },
        "margin": {
         "t": 60
        },
        "template": {
         "data": {
          "bar": [
           {
            "error_x": {
             "color": "#2a3f5f"
            },
            "error_y": {
             "color": "#2a3f5f"
            },
            "marker": {
             "line": {
              "color": "#E5ECF6",
              "width": 0.5
             },
             "pattern": {
              "fillmode": "overlay",
              "size": 10,
              "solidity": 0.2
             }
            },
            "type": "bar"
           }
          ],
          "barpolar": [
           {
            "marker": {
             "line": {
              "color": "#E5ECF6",
              "width": 0.5
             },
             "pattern": {
              "fillmode": "overlay",
              "size": 10,
              "solidity": 0.2
             }
            },
            "type": "barpolar"
           }
          ],
          "carpet": [
           {
            "aaxis": {
             "endlinecolor": "#2a3f5f",
             "gridcolor": "white",
             "linecolor": "white",
             "minorgridcolor": "white",
             "startlinecolor": "#2a3f5f"
            },
            "baxis": {
             "endlinecolor": "#2a3f5f",
             "gridcolor": "white",
             "linecolor": "white",
             "minorgridcolor": "white",
             "startlinecolor": "#2a3f5f"
            },
            "type": "carpet"
           }
          ],
          "choropleth": [
           {
            "colorbar": {
             "outlinewidth": 0,
             "ticks": ""
            },
            "type": "choropleth"
           }
          ],
          "contour": [
           {
            "colorbar": {
             "outlinewidth": 0,
             "ticks": ""
            },
            "colorscale": [
             [
              0,
              "#0d0887"
             ],
             [
              0.1111111111111111,
              "#46039f"
             ],
             [
              0.2222222222222222,
              "#7201a8"
             ],
             [
              0.3333333333333333,
              "#9c179e"
             ],
             [
              0.4444444444444444,
              "#bd3786"
             ],
             [
              0.5555555555555556,
              "#d8576b"
             ],
             [
              0.6666666666666666,
              "#ed7953"
             ],
             [
              0.7777777777777778,
              "#fb9f3a"
             ],
             [
              0.8888888888888888,
              "#fdca26"
             ],
             [
              1,
              "#f0f921"
             ]
            ],
            "type": "contour"
           }
          ],
          "contourcarpet": [
           {
            "colorbar": {
             "outlinewidth": 0,
             "ticks": ""
            },
            "type": "contourcarpet"
           }
          ],
          "heatmap": [
           {
            "colorbar": {
             "outlinewidth": 0,
             "ticks": ""
            },
            "colorscale": [
             [
              0,
              "#0d0887"
             ],
             [
              0.1111111111111111,
              "#46039f"
             ],
             [
              0.2222222222222222,
              "#7201a8"
             ],
             [
              0.3333333333333333,
              "#9c179e"
             ],
             [
              0.4444444444444444,
              "#bd3786"
             ],
             [
              0.5555555555555556,
              "#d8576b"
             ],
             [
              0.6666666666666666,
              "#ed7953"
             ],
             [
              0.7777777777777778,
              "#fb9f3a"
             ],
             [
              0.8888888888888888,
              "#fdca26"
             ],
             [
              1,
              "#f0f921"
             ]
            ],
            "type": "heatmap"
           }
          ],
          "heatmapgl": [
           {
            "colorbar": {
             "outlinewidth": 0,
             "ticks": ""
            },
            "colorscale": [
             [
              0,
              "#0d0887"
             ],
             [
              0.1111111111111111,
              "#46039f"
             ],
             [
              0.2222222222222222,
              "#7201a8"
             ],
             [
              0.3333333333333333,
              "#9c179e"
             ],
             [
              0.4444444444444444,
              "#bd3786"
             ],
             [
              0.5555555555555556,
              "#d8576b"
             ],
             [
              0.6666666666666666,
              "#ed7953"
             ],
             [
              0.7777777777777778,
              "#fb9f3a"
             ],
             [
              0.8888888888888888,
              "#fdca26"
             ],
             [
              1,
              "#f0f921"
             ]
            ],
            "type": "heatmapgl"
           }
          ],
          "histogram": [
           {
            "marker": {
             "pattern": {
              "fillmode": "overlay",
              "size": 10,
              "solidity": 0.2
             }
            },
            "type": "histogram"
           }
          ],
          "histogram2d": [
           {
            "colorbar": {
             "outlinewidth": 0,
             "ticks": ""
            },
            "colorscale": [
             [
              0,
              "#0d0887"
             ],
             [
              0.1111111111111111,
              "#46039f"
             ],
             [
              0.2222222222222222,
              "#7201a8"
             ],
             [
              0.3333333333333333,
              "#9c179e"
             ],
             [
              0.4444444444444444,
              "#bd3786"
             ],
             [
              0.5555555555555556,
              "#d8576b"
             ],
             [
              0.6666666666666666,
              "#ed7953"
             ],
             [
              0.7777777777777778,
              "#fb9f3a"
             ],
             [
              0.8888888888888888,
              "#fdca26"
             ],
             [
              1,
              "#f0f921"
             ]
            ],
            "type": "histogram2d"
           }
          ],
          "histogram2dcontour": [
           {
            "colorbar": {
             "outlinewidth": 0,
             "ticks": ""
            },
            "colorscale": [
             [
              0,
              "#0d0887"
             ],
             [
              0.1111111111111111,
              "#46039f"
             ],
             [
              0.2222222222222222,
              "#7201a8"
             ],
             [
              0.3333333333333333,
              "#9c179e"
             ],
             [
              0.4444444444444444,
              "#bd3786"
             ],
             [
              0.5555555555555556,
              "#d8576b"
             ],
             [
              0.6666666666666666,
              "#ed7953"
             ],
             [
              0.7777777777777778,
              "#fb9f3a"
             ],
             [
              0.8888888888888888,
              "#fdca26"
             ],
             [
              1,
              "#f0f921"
             ]
            ],
            "type": "histogram2dcontour"
           }
          ],
          "mesh3d": [
           {
            "colorbar": {
             "outlinewidth": 0,
             "ticks": ""
            },
            "type": "mesh3d"
           }
          ],
          "parcoords": [
           {
            "line": {
             "colorbar": {
              "outlinewidth": 0,
              "ticks": ""
             }
            },
            "type": "parcoords"
           }
          ],
          "pie": [
           {
            "automargin": true,
            "type": "pie"
           }
          ],
          "scatter": [
           {
            "fillpattern": {
             "fillmode": "overlay",
             "size": 10,
             "solidity": 0.2
            },
            "type": "scatter"
           }
          ],
          "scatter3d": [
           {
            "line": {
             "colorbar": {
              "outlinewidth": 0,
              "ticks": ""
             }
            },
            "marker": {
             "colorbar": {
              "outlinewidth": 0,
              "ticks": ""
             }
            },
            "type": "scatter3d"
           }
          ],
          "scattercarpet": [
           {
            "marker": {
             "colorbar": {
              "outlinewidth": 0,
              "ticks": ""
             }
            },
            "type": "scattercarpet"
           }
          ],
          "scattergeo": [
           {
            "marker": {
             "colorbar": {
              "outlinewidth": 0,
              "ticks": ""
             }
            },
            "type": "scattergeo"
           }
          ],
          "scattergl": [
           {
            "marker": {
             "colorbar": {
              "outlinewidth": 0,
              "ticks": ""
             }
            },
            "type": "scattergl"
           }
          ],
          "scattermapbox": [
           {
            "marker": {
             "colorbar": {
              "outlinewidth": 0,
              "ticks": ""
             }
            },
            "type": "scattermapbox"
           }
          ],
          "scatterpolar": [
           {
            "marker": {
             "colorbar": {
              "outlinewidth": 0,
              "ticks": ""
             }
            },
            "type": "scatterpolar"
           }
          ],
          "scatterpolargl": [
           {
            "marker": {
             "colorbar": {
              "outlinewidth": 0,
              "ticks": ""
             }
            },
            "type": "scatterpolargl"
           }
          ],
          "scatterternary": [
           {
            "marker": {
             "colorbar": {
              "outlinewidth": 0,
              "ticks": ""
             }
            },
            "type": "scatterternary"
           }
          ],
          "surface": [
           {
            "colorbar": {
             "outlinewidth": 0,
             "ticks": ""
            },
            "colorscale": [
             [
              0,
              "#0d0887"
             ],
             [
              0.1111111111111111,
              "#46039f"
             ],
             [
              0.2222222222222222,
              "#7201a8"
             ],
             [
              0.3333333333333333,
              "#9c179e"
             ],
             [
              0.4444444444444444,
              "#bd3786"
             ],
             [
              0.5555555555555556,
              "#d8576b"
             ],
             [
              0.6666666666666666,
              "#ed7953"
             ],
             [
              0.7777777777777778,
              "#fb9f3a"
             ],
             [
              0.8888888888888888,
              "#fdca26"
             ],
             [
              1,
              "#f0f921"
             ]
            ],
            "type": "surface"
           }
          ],
          "table": [
           {
            "cells": {
             "fill": {
              "color": "#EBF0F8"
             },
             "line": {
              "color": "white"
             }
            },
            "header": {
             "fill": {
              "color": "#C8D4E3"
             },
             "line": {
              "color": "white"
             }
            },
            "type": "table"
           }
          ]
         },
         "layout": {
          "annotationdefaults": {
           "arrowcolor": "#2a3f5f",
           "arrowhead": 0,
           "arrowwidth": 1
          },
          "autotypenumbers": "strict",
          "coloraxis": {
           "colorbar": {
            "outlinewidth": 0,
            "ticks": ""
           }
          },
          "colorscale": {
           "diverging": [
            [
             0,
             "#8e0152"
            ],
            [
             0.1,
             "#c51b7d"
            ],
            [
             0.2,
             "#de77ae"
            ],
            [
             0.3,
             "#f1b6da"
            ],
            [
             0.4,
             "#fde0ef"
            ],
            [
             0.5,
             "#f7f7f7"
            ],
            [
             0.6,
             "#e6f5d0"
            ],
            [
             0.7,
             "#b8e186"
            ],
            [
             0.8,
             "#7fbc41"
            ],
            [
             0.9,
             "#4d9221"
            ],
            [
             1,
             "#276419"
            ]
           ],
           "sequential": [
            [
             0,
             "#0d0887"
            ],
            [
             0.1111111111111111,
             "#46039f"
            ],
            [
             0.2222222222222222,
             "#7201a8"
            ],
            [
             0.3333333333333333,
             "#9c179e"
            ],
            [
             0.4444444444444444,
             "#bd3786"
            ],
            [
             0.5555555555555556,
             "#d8576b"
            ],
            [
             0.6666666666666666,
             "#ed7953"
            ],
            [
             0.7777777777777778,
             "#fb9f3a"
            ],
            [
             0.8888888888888888,
             "#fdca26"
            ],
            [
             1,
             "#f0f921"
            ]
           ],
           "sequentialminus": [
            [
             0,
             "#0d0887"
            ],
            [
             0.1111111111111111,
             "#46039f"
            ],
            [
             0.2222222222222222,
             "#7201a8"
            ],
            [
             0.3333333333333333,
             "#9c179e"
            ],
            [
             0.4444444444444444,
             "#bd3786"
            ],
            [
             0.5555555555555556,
             "#d8576b"
            ],
            [
             0.6666666666666666,
             "#ed7953"
            ],
            [
             0.7777777777777778,
             "#fb9f3a"
            ],
            [
             0.8888888888888888,
             "#fdca26"
            ],
            [
             1,
             "#f0f921"
            ]
           ]
          },
          "colorway": [
           "#636efa",
           "#EF553B",
           "#00cc96",
           "#ab63fa",
           "#FFA15A",
           "#19d3f3",
           "#FF6692",
           "#B6E880",
           "#FF97FF",
           "#FECB52"
          ],
          "font": {
           "color": "#2a3f5f"
          },
          "geo": {
           "bgcolor": "white",
           "lakecolor": "white",
           "landcolor": "#E5ECF6",
           "showlakes": true,
           "showland": true,
           "subunitcolor": "white"
          },
          "hoverlabel": {
           "align": "left"
          },
          "hovermode": "closest",
          "mapbox": {
           "style": "light"
          },
          "paper_bgcolor": "white",
          "plot_bgcolor": "#E5ECF6",
          "polar": {
           "angularaxis": {
            "gridcolor": "white",
            "linecolor": "white",
            "ticks": ""
           },
           "bgcolor": "#E5ECF6",
           "radialaxis": {
            "gridcolor": "white",
            "linecolor": "white",
            "ticks": ""
           }
          },
          "scene": {
           "xaxis": {
            "backgroundcolor": "#E5ECF6",
            "gridcolor": "white",
            "gridwidth": 2,
            "linecolor": "white",
            "showbackground": true,
            "ticks": "",
            "zerolinecolor": "white"
           },
           "yaxis": {
            "backgroundcolor": "#E5ECF6",
            "gridcolor": "white",
            "gridwidth": 2,
            "linecolor": "white",
            "showbackground": true,
            "ticks": "",
            "zerolinecolor": "white"
           },
           "zaxis": {
            "backgroundcolor": "#E5ECF6",
            "gridcolor": "white",
            "gridwidth": 2,
            "linecolor": "white",
            "showbackground": true,
            "ticks": "",
            "zerolinecolor": "white"
           }
          },
          "shapedefaults": {
           "line": {
            "color": "#2a3f5f"
           }
          },
          "ternary": {
           "aaxis": {
            "gridcolor": "white",
            "linecolor": "white",
            "ticks": ""
           },
           "baxis": {
            "gridcolor": "white",
            "linecolor": "white",
            "ticks": ""
           },
           "bgcolor": "#E5ECF6",
           "caxis": {
            "gridcolor": "white",
            "linecolor": "white",
            "ticks": ""
           }
          },
          "title": {
           "x": 0.05
          },
          "xaxis": {
           "automargin": true,
           "gridcolor": "white",
           "linecolor": "white",
           "ticks": "",
           "title": {
            "standoff": 15
           },
           "zerolinecolor": "white",
           "zerolinewidth": 2
          },
          "yaxis": {
           "automargin": true,
           "gridcolor": "white",
           "linecolor": "white",
           "ticks": "",
           "title": {
            "standoff": 15
           },
           "zerolinecolor": "white",
           "zerolinewidth": 2
          }
         }
        },
        "xaxis": {
         "anchor": "y",
         "domain": [
          0,
          1
         ],
         "title": {
          "text": "State"
         }
        },
        "yaxis": {
         "anchor": "x",
         "domain": [
          0,
          1
         ],
         "title": {
          "text": "totalAbortions"
         }
        }
       }
      },
      "text/html": [
       "<div>                            <div id=\"728a3fd2-6f34-49e1-b89b-956b6de42051\" class=\"plotly-graph-div\" style=\"height:525px; width:100%;\"></div>            <script type=\"text/javascript\">                require([\"plotly\"], function(Plotly) {                    window.PLOTLYENV=window.PLOTLYENV || {};                                    if (document.getElementById(\"728a3fd2-6f34-49e1-b89b-956b6de42051\")) {                    Plotly.newPlot(                        \"728a3fd2-6f34-49e1-b89b-956b6de42051\",                        [{\"alignmentgroup\":\"True\",\"hovertemplate\":\"State=%{x}<br>totalAbortions=%{y}<br>abortionRate=%{marker.color}<extra></extra>\",\"legendgroup\":\"\",\"marker\":{\"color\":[1.3,3.1,3.8,3.9,4.0,4.3,4.4,4.4,5.3,5.5,5.5,5.9,5.9,6.2,6.3,6.4,7.9,8.3,8.6,8.8,9.2,9.2,9.2,9.4,9.4,10.1,10.2,10.5,10.6,10.9,11.4,11.7,11.9,12.0,12.1,12.2,13.1,13.5,14.2,14.6,16.4,16.4,16.6,16.7,16.9,17.7,18.6,25.0,26.3,28.0],\"coloraxis\":\"coloraxis\",\"pattern\":{\"shape\":\"\"}},\"name\":\"\",\"offsetgroup\":\"\",\"orientation\":\"v\",\"showlegend\":false,\"textposition\":\"auto\",\"x\":[\"Wyoming\",\"South Dakota\",\"Kentucky\",\"Idaho\",\"Missouri\",\"Mississippi\",\"West Virginia\",\"Utah\",\"South Carolina\",\"Nebraska\",\"Arkansas\",\"Wisconsin\",\"Indiana\",\"Oklahoma\",\"Iowa\",\"Alabama\",\"North Dakota\",\"Montana\",\"Alaska\",\"Maine\",\"Tennessee\",\"New Hampshire\",\"Arizona\",\"Texas\",\"Ohio\",\"Minnesota\",\"Virginia\",\"Delaware\",\"Louisiana\",\"Colorado\",\"Vermont\",\"New Mexico\",\"Oregon\",\"Hawaii\",\"Washington\",\"Kansas\",\"Pennsylvania\",\"Massachusetts\",\"Michigan\",\"North Carolina\",\"Nevada\",\"California\",\"Illinois\",\"Rhode Island\",\"Georgia\",\"Connecticut\",\"Florida\",\"Maryland\",\"New York\",\"New Jersey\"],\"xaxis\":\"x\",\"y\":[140,500,3200,1290,4710,2550,1430,2990,5120,2020,3200,6360,7710,4780,3760,6110,1160,1580,1260,2040,12140,2210,12400,55440,20630,10740,17210,1900,9920,12390,1300,4620,9640,3200,17740,6830,31260,18590,26630,29500,9690,132680,42080,3500,36330,11910,71050,29800,105380,48110],\"yaxis\":\"y\",\"type\":\"bar\"}],                        {\"template\":{\"data\":{\"histogram2dcontour\":[{\"type\":\"histogram2dcontour\",\"colorbar\":{\"outlinewidth\":0,\"ticks\":\"\"},\"colorscale\":[[0.0,\"#0d0887\"],[0.1111111111111111,\"#46039f\"],[0.2222222222222222,\"#7201a8\"],[0.3333333333333333,\"#9c179e\"],[0.4444444444444444,\"#bd3786\"],[0.5555555555555556,\"#d8576b\"],[0.6666666666666666,\"#ed7953\"],[0.7777777777777778,\"#fb9f3a\"],[0.8888888888888888,\"#fdca26\"],[1.0,\"#f0f921\"]]}],\"choropleth\":[{\"type\":\"choropleth\",\"colorbar\":{\"outlinewidth\":0,\"ticks\":\"\"}}],\"histogram2d\":[{\"type\":\"histogram2d\",\"colorbar\":{\"outlinewidth\":0,\"ticks\":\"\"},\"colorscale\":[[0.0,\"#0d0887\"],[0.1111111111111111,\"#46039f\"],[0.2222222222222222,\"#7201a8\"],[0.3333333333333333,\"#9c179e\"],[0.4444444444444444,\"#bd3786\"],[0.5555555555555556,\"#d8576b\"],[0.6666666666666666,\"#ed7953\"],[0.7777777777777778,\"#fb9f3a\"],[0.8888888888888888,\"#fdca26\"],[1.0,\"#f0f921\"]]}],\"heatmap\":[{\"type\":\"heatmap\",\"colorbar\":{\"outlinewidth\":0,\"ticks\":\"\"},\"colorscale\":[[0.0,\"#0d0887\"],[0.1111111111111111,\"#46039f\"],[0.2222222222222222,\"#7201a8\"],[0.3333333333333333,\"#9c179e\"],[0.4444444444444444,\"#bd3786\"],[0.5555555555555556,\"#d8576b\"],[0.6666666666666666,\"#ed7953\"],[0.7777777777777778,\"#fb9f3a\"],[0.8888888888888888,\"#fdca26\"],[1.0,\"#f0f921\"]]}],\"heatmapgl\":[{\"type\":\"heatmapgl\",\"colorbar\":{\"outlinewidth\":0,\"ticks\":\"\"},\"colorscale\":[[0.0,\"#0d0887\"],[0.1111111111111111,\"#46039f\"],[0.2222222222222222,\"#7201a8\"],[0.3333333333333333,\"#9c179e\"],[0.4444444444444444,\"#bd3786\"],[0.5555555555555556,\"#d8576b\"],[0.6666666666666666,\"#ed7953\"],[0.7777777777777778,\"#fb9f3a\"],[0.8888888888888888,\"#fdca26\"],[1.0,\"#f0f921\"]]}],\"contourcarpet\":[{\"type\":\"contourcarpet\",\"colorbar\":{\"outlinewidth\":0,\"ticks\":\"\"}}],\"contour\":[{\"type\":\"contour\",\"colorbar\":{\"outlinewidth\":0,\"ticks\":\"\"},\"colorscale\":[[0.0,\"#0d0887\"],[0.1111111111111111,\"#46039f\"],[0.2222222222222222,\"#7201a8\"],[0.3333333333333333,\"#9c179e\"],[0.4444444444444444,\"#bd3786\"],[0.5555555555555556,\"#d8576b\"],[0.6666666666666666,\"#ed7953\"],[0.7777777777777778,\"#fb9f3a\"],[0.8888888888888888,\"#fdca26\"],[1.0,\"#f0f921\"]]}],\"surface\":[{\"type\":\"surface\",\"colorbar\":{\"outlinewidth\":0,\"ticks\":\"\"},\"colorscale\":[[0.0,\"#0d0887\"],[0.1111111111111111,\"#46039f\"],[0.2222222222222222,\"#7201a8\"],[0.3333333333333333,\"#9c179e\"],[0.4444444444444444,\"#bd3786\"],[0.5555555555555556,\"#d8576b\"],[0.6666666666666666,\"#ed7953\"],[0.7777777777777778,\"#fb9f3a\"],[0.8888888888888888,\"#fdca26\"],[1.0,\"#f0f921\"]]}],\"mesh3d\":[{\"type\":\"mesh3d\",\"colorbar\":{\"outlinewidth\":0,\"ticks\":\"\"}}],\"scatter\":[{\"fillpattern\":{\"fillmode\":\"overlay\",\"size\":10,\"solidity\":0.2},\"type\":\"scatter\"}],\"parcoords\":[{\"type\":\"parcoords\",\"line\":{\"colorbar\":{\"outlinewidth\":0,\"ticks\":\"\"}}}],\"scatterpolargl\":[{\"type\":\"scatterpolargl\",\"marker\":{\"colorbar\":{\"outlinewidth\":0,\"ticks\":\"\"}}}],\"bar\":[{\"error_x\":{\"color\":\"#2a3f5f\"},\"error_y\":{\"color\":\"#2a3f5f\"},\"marker\":{\"line\":{\"color\":\"#E5ECF6\",\"width\":0.5},\"pattern\":{\"fillmode\":\"overlay\",\"size\":10,\"solidity\":0.2}},\"type\":\"bar\"}],\"scattergeo\":[{\"type\":\"scattergeo\",\"marker\":{\"colorbar\":{\"outlinewidth\":0,\"ticks\":\"\"}}}],\"scatterpolar\":[{\"type\":\"scatterpolar\",\"marker\":{\"colorbar\":{\"outlinewidth\":0,\"ticks\":\"\"}}}],\"histogram\":[{\"marker\":{\"pattern\":{\"fillmode\":\"overlay\",\"size\":10,\"solidity\":0.2}},\"type\":\"histogram\"}],\"scattergl\":[{\"type\":\"scattergl\",\"marker\":{\"colorbar\":{\"outlinewidth\":0,\"ticks\":\"\"}}}],\"scatter3d\":[{\"type\":\"scatter3d\",\"line\":{\"colorbar\":{\"outlinewidth\":0,\"ticks\":\"\"}},\"marker\":{\"colorbar\":{\"outlinewidth\":0,\"ticks\":\"\"}}}],\"scattermapbox\":[{\"type\":\"scattermapbox\",\"marker\":{\"colorbar\":{\"outlinewidth\":0,\"ticks\":\"\"}}}],\"scatterternary\":[{\"type\":\"scatterternary\",\"marker\":{\"colorbar\":{\"outlinewidth\":0,\"ticks\":\"\"}}}],\"scattercarpet\":[{\"type\":\"scattercarpet\",\"marker\":{\"colorbar\":{\"outlinewidth\":0,\"ticks\":\"\"}}}],\"carpet\":[{\"aaxis\":{\"endlinecolor\":\"#2a3f5f\",\"gridcolor\":\"white\",\"linecolor\":\"white\",\"minorgridcolor\":\"white\",\"startlinecolor\":\"#2a3f5f\"},\"baxis\":{\"endlinecolor\":\"#2a3f5f\",\"gridcolor\":\"white\",\"linecolor\":\"white\",\"minorgridcolor\":\"white\",\"startlinecolor\":\"#2a3f5f\"},\"type\":\"carpet\"}],\"table\":[{\"cells\":{\"fill\":{\"color\":\"#EBF0F8\"},\"line\":{\"color\":\"white\"}},\"header\":{\"fill\":{\"color\":\"#C8D4E3\"},\"line\":{\"color\":\"white\"}},\"type\":\"table\"}],\"barpolar\":[{\"marker\":{\"line\":{\"color\":\"#E5ECF6\",\"width\":0.5},\"pattern\":{\"fillmode\":\"overlay\",\"size\":10,\"solidity\":0.2}},\"type\":\"barpolar\"}],\"pie\":[{\"automargin\":true,\"type\":\"pie\"}]},\"layout\":{\"autotypenumbers\":\"strict\",\"colorway\":[\"#636efa\",\"#EF553B\",\"#00cc96\",\"#ab63fa\",\"#FFA15A\",\"#19d3f3\",\"#FF6692\",\"#B6E880\",\"#FF97FF\",\"#FECB52\"],\"font\":{\"color\":\"#2a3f5f\"},\"hovermode\":\"closest\",\"hoverlabel\":{\"align\":\"left\"},\"paper_bgcolor\":\"white\",\"plot_bgcolor\":\"#E5ECF6\",\"polar\":{\"bgcolor\":\"#E5ECF6\",\"angularaxis\":{\"gridcolor\":\"white\",\"linecolor\":\"white\",\"ticks\":\"\"},\"radialaxis\":{\"gridcolor\":\"white\",\"linecolor\":\"white\",\"ticks\":\"\"}},\"ternary\":{\"bgcolor\":\"#E5ECF6\",\"aaxis\":{\"gridcolor\":\"white\",\"linecolor\":\"white\",\"ticks\":\"\"},\"baxis\":{\"gridcolor\":\"white\",\"linecolor\":\"white\",\"ticks\":\"\"},\"caxis\":{\"gridcolor\":\"white\",\"linecolor\":\"white\",\"ticks\":\"\"}},\"coloraxis\":{\"colorbar\":{\"outlinewidth\":0,\"ticks\":\"\"}},\"colorscale\":{\"sequential\":[[0.0,\"#0d0887\"],[0.1111111111111111,\"#46039f\"],[0.2222222222222222,\"#7201a8\"],[0.3333333333333333,\"#9c179e\"],[0.4444444444444444,\"#bd3786\"],[0.5555555555555556,\"#d8576b\"],[0.6666666666666666,\"#ed7953\"],[0.7777777777777778,\"#fb9f3a\"],[0.8888888888888888,\"#fdca26\"],[1.0,\"#f0f921\"]],\"sequentialminus\":[[0.0,\"#0d0887\"],[0.1111111111111111,\"#46039f\"],[0.2222222222222222,\"#7201a8\"],[0.3333333333333333,\"#9c179e\"],[0.4444444444444444,\"#bd3786\"],[0.5555555555555556,\"#d8576b\"],[0.6666666666666666,\"#ed7953\"],[0.7777777777777778,\"#fb9f3a\"],[0.8888888888888888,\"#fdca26\"],[1.0,\"#f0f921\"]],\"diverging\":[[0,\"#8e0152\"],[0.1,\"#c51b7d\"],[0.2,\"#de77ae\"],[0.3,\"#f1b6da\"],[0.4,\"#fde0ef\"],[0.5,\"#f7f7f7\"],[0.6,\"#e6f5d0\"],[0.7,\"#b8e186\"],[0.8,\"#7fbc41\"],[0.9,\"#4d9221\"],[1,\"#276419\"]]},\"xaxis\":{\"gridcolor\":\"white\",\"linecolor\":\"white\",\"ticks\":\"\",\"title\":{\"standoff\":15},\"zerolinecolor\":\"white\",\"automargin\":true,\"zerolinewidth\":2},\"yaxis\":{\"gridcolor\":\"white\",\"linecolor\":\"white\",\"ticks\":\"\",\"title\":{\"standoff\":15},\"zerolinecolor\":\"white\",\"automargin\":true,\"zerolinewidth\":2},\"scene\":{\"xaxis\":{\"backgroundcolor\":\"#E5ECF6\",\"gridcolor\":\"white\",\"linecolor\":\"white\",\"showbackground\":true,\"ticks\":\"\",\"zerolinecolor\":\"white\",\"gridwidth\":2},\"yaxis\":{\"backgroundcolor\":\"#E5ECF6\",\"gridcolor\":\"white\",\"linecolor\":\"white\",\"showbackground\":true,\"ticks\":\"\",\"zerolinecolor\":\"white\",\"gridwidth\":2},\"zaxis\":{\"backgroundcolor\":\"#E5ECF6\",\"gridcolor\":\"white\",\"linecolor\":\"white\",\"showbackground\":true,\"ticks\":\"\",\"zerolinecolor\":\"white\",\"gridwidth\":2}},\"shapedefaults\":{\"line\":{\"color\":\"#2a3f5f\"}},\"annotationdefaults\":{\"arrowcolor\":\"#2a3f5f\",\"arrowhead\":0,\"arrowwidth\":1},\"geo\":{\"bgcolor\":\"white\",\"landcolor\":\"#E5ECF6\",\"subunitcolor\":\"white\",\"showland\":true,\"showlakes\":true,\"lakecolor\":\"white\"},\"title\":{\"x\":0.05},\"mapbox\":{\"style\":\"light\"}}},\"xaxis\":{\"anchor\":\"y\",\"domain\":[0.0,1.0],\"title\":{\"text\":\"State\"}},\"yaxis\":{\"anchor\":\"x\",\"domain\":[0.0,1.0],\"title\":{\"text\":\"totalAbortions\"}},\"coloraxis\":{\"colorbar\":{\"title\":{\"text\":\"abortionRate\"}},\"colorscale\":[[0.0,\"#0d0887\"],[0.1111111111111111,\"#46039f\"],[0.2222222222222222,\"#7201a8\"],[0.3333333333333333,\"#9c179e\"],[0.4444444444444444,\"#bd3786\"],[0.5555555555555556,\"#d8576b\"],[0.6666666666666666,\"#ed7953\"],[0.7777777777777778,\"#fb9f3a\"],[0.8888888888888888,\"#fdca26\"],[1.0,\"#f0f921\"]]},\"legend\":{\"tracegroupgap\":0},\"margin\":{\"t\":60},\"barmode\":\"relative\"},                        {\"responsive\": true}                    ).then(function(){\n",
       "                            \n",
       "var gd = document.getElementById('728a3fd2-6f34-49e1-b89b-956b6de42051');\n",
       "var x = new MutationObserver(function (mutations, observer) {{\n",
       "        var display = window.getComputedStyle(gd).display;\n",
       "        if (!display || display === 'none') {{\n",
       "            console.log([gd, 'removed!']);\n",
       "            Plotly.purge(gd);\n",
       "            observer.disconnect();\n",
       "        }}\n",
       "}});\n",
       "\n",
       "// Listen for the removal of the full notebook cells\n",
       "var notebookContainer = gd.closest('#notebook-container');\n",
       "if (notebookContainer) {{\n",
       "    x.observe(notebookContainer, {childList: true});\n",
       "}}\n",
       "\n",
       "// Listen for the clearing of the current output cell\n",
       "var outputEl = gd.closest('.output');\n",
       "if (outputEl) {{\n",
       "    x.observe(outputEl, {childList: true});\n",
       "}}\n",
       "\n",
       "                        })                };                });            </script>        </div>"
      ]
     },
     "metadata": {},
     "output_type": "display_data"
    }
   ],
   "source": [
    "fig = px.bar(AbVolume_df, x = \"State\", y = \"totalAbortions\", color=\"abortionRate\")\n",
    "# fig_bar.update_layout(\n",
    "#     xaxis = dict(\n",
    "#     tickmode = 'array',\n",
    "#     tick0 = 0.2,\n",
    "# #     dtick = 1   \n",
    "#  )\n",
    "# )\n",
    "\n",
    "\n",
    "import plotly.io as pio\n",
    "fig.show()\n"
   ]
  },
  {
   "cell_type": "code",
   "execution_count": 31,
   "id": "69e7ba03",
   "metadata": {
    "scrolled": true
   },
   "outputs": [
    {
     "data": {
      "application/vnd.plotly.v1+json": {
       "config": {
        "plotlyServerURL": "https://plot.ly"
       },
       "data": [
        {
         "hovertemplate": "year=%{x}<br>abortionstotal=%{marker.color}<extra></extra>",
         "legendgroup": "",
         "marker": {
          "color": [
           20100,
           17720,
           14940,
           13060,
           10840,
           10980,
           11130,
           11020,
           10530,
           10030,
           9600,
           8920,
           8230,
           8310,
           8150,
           7920,
           7660,
           2700,
           2800,
           2310,
           1900,
           2130,
           2060,
           2000,
           1960,
           2040,
           2120,
           2030,
           1890,
           1740,
           1640,
           1540,
           1450,
           1420,
           22200,
           21200,
           20120,
           18410,
           19710,
           18850,
           17990,
           19770,
           17480,
           15190,
           16270,
           15040,
           13820,
           13240,
           13640,
           14040,
           13270,
           7860,
           8690,
           6680,
           5880,
           5200,
           5450,
           5690,
           5710,
           5630,
           5490,
           5210,
           5010,
           4810,
           4350,
           3930,
           3590,
           3710,
           311440,
           303850,
           237870,
           235670,
           206260,
           213550,
           220840,
           211930,
           200720,
           189110,
           177360,
           170420,
           163550,
           156690,
           148000,
           139320,
           131380,
           17550,
           18410,
           16670,
           12950,
           14720,
           14990,
           15160,
           14920,
           14330,
           13730,
           13130,
           12400,
           11660,
           11760,
           11410,
           11050,
           11100,
           24470,
           20100,
           16510,
           15460,
           17340,
           17580,
           17730,
           17210,
           16350,
           15480,
           14630,
           13900,
           13360,
           13280,
           12770,
           12260,
           11950,
           4570,
           4620,
           2970,
           3920,
           4140,
           4990,
           5850,
           5650,
           5520,
           5380,
           4690,
           4010,
           3340,
           3200,
           3040,
           2880,
           2770,
           13830,
           11040,
           5620,
           5750,
           6390,
           5900,
           5400,
           5880,
           4970,
           4060,
           3400,
           3570,
           3740,
           3800,
           3330,
           2870,
           3930,
           75820,
           77320,
           90160,
           96000,
           85360,
           86980,
           88600,
           86310,
           84150,
           82020,
           79890,
           76730,
           73560,
           72630,
           69390,
           66150,
           68640,
           35320,
           39970,
           35230,
           32270,
           32040,
           32690,
           33680,
           39370,
           37260,
           35160,
           34460,
           33620,
           32550,
           31120,
           31750,
           32390,
           32520,
           11120,
           12180,
           6930,
           5630,
           5330,
           5490,
           5650,
           5650,
           5590,
           5530,
           5540,
           4900,
           4260,
           3750,
           3370,
           3130,
           3220,
           2760,
           2420,
           2450,
           2750,
           2540,
           2700,
           2860,
           2580,
           2490,
           2410,
           2340,
           2090,
           1850,
           1790,
           1780,
           1780,
           1790,
           72500,
           66500,
           66920,
           58370,
           48420,
           48560,
           48710,
           51670,
           47020,
           42370,
           42360,
           42020,
           41430,
           40120,
           38830,
           37590,
           37770,
           20930,
           21170,
           18340,
           15140,
           13180,
           12810,
           12440,
           12300,
           12020,
           11600,
           10710,
           10200,
           9910,
           10130,
           10190,
           10240,
           10270,
           10480,
           7480,
           6150,
           6280,
           6130,
           6390,
           6660,
           6160,
           6010,
           5860,
           5430,
           4790,
           4150,
           3930,
           3990,
           4050,
           3650,
           7210,
           7140,
           6940,
           6440,
           5620,
           5670,
           5720,
           5670,
           4830,
           3990,
           3870,
           3910,
           3940,
           3800,
           3660,
           3520,
           3520,
           10090,
           9850,
           7890,
           6720,
           6060,
           6080,
           6110,
           6380,
           6170,
           5960,
           5820,
           5500,
           5180,
           5180,
           4910,
           4640,
           4780,
           17030,
           11800,
           13110,
           11380,
           10330,
           11220,
           12520,
           14110,
           12930,
           11750,
           11310,
           10470,
           9630,
           9620,
           9830,
           10040,
           9280,
           4140,
           4260,
           3390,
           2910,
           2840,
           2940,
           3030,
           2970,
           2830,
           2640,
           2410,
           2390,
           2380,
           2400,
           2240,
           2080,
           2050,
           41090,
           39490,
           36940,
           38670,
           35250,
           31990,
           28720,
           28390,
           29630,
           30890,
           32140,
           29610,
           27080,
           26430,
           26010,
           25730,
           26940,
           44260,
           41610,
           40150,
           29870,
           27800,
           27130,
           26460,
           25800,
           25240,
           24790,
           24430,
           22840,
           21250,
           21280,
           20370,
           19470,
           18880,
           62770,
           54530,
           47430,
           45710,
           39930,
           37530,
           35780,
           36050,
           33410,
           30770,
           29270,
           28780,
           28420,
           28130,
           27290,
           26460,
           26130,
           17400,
           15090,
           13950,
           13940,
           13370,
           13420,
           13480,
           12580,
           11780,
           11120,
           10690,
           10130,
           9570,
           9230,
           9360,
           9590,
           10100,
           6480,
           8830,
           9020,
           9060,
           7930,
           7880,
           7850,
           8210,
           7640,
           7070,
           6700,
           6280,
           5860,
           5540,
           5300,
           5100,
           4930,
           23940,
           19870,
           16050,
           17410,
           14900,
           15070,
           15250,
           15160,
           13550,
           11930,
           11510,
           11080,
           10610,
           9180,
           9640,
           10100,
           9690,
           2350,
           2810,
           2430,
           2220,
           2020,
           2070,
           2110,
           2040,
           2000,
           1980,
           1990,
           1820,
           1660,
           1520,
           1530,
           1540,
           1510,
           5490,
           4950,
           3930,
           3920,
           2990,
           2690,
           2500,
           2850,
           2630,
           2410,
           2550,
           2510,
           2440,
           2360,
           2260,
           2170,
           2250,
           9450,
           12400,
           14080,
           12880,
           12990,
           13320,
           13630,
           13020,
           12790,
           12570,
           11960,
           10750,
           9550,
           10840,
           10150,
           9460,
           9620,
           5940,
           4490,
           4670,
           4020,
           3060,
           3030,
           2990,
           2860,
           2840,
           2830,
           2880,
           2610,
           2340,
           2530,
           2480,
           2410,
           2330,
           66300,
           58420,
           64230,
           66110,
           60330,
           58030,
           55740,
           54730,
           51930,
           49130,
           46670,
           44680,
           43340,
           43990,
           45680,
           47370,
           47010,
           8180,
           7780,
           6560,
           6890,
           6690,
           7020,
           7350,
           6730,
           6420,
           6110,
           5520,
           4860,
           4190,
           4030,
           4120,
           4210,
           3830,
           179830,
           191100,
           164080,
           161160,
           152340,
           148030,
           144390,
           149070,
           144390,
           139700,
           136280,
           126630,
           116970,
           117580,
           113350,
           108350,
           103060,
           38120,
           34000,
           31070,
           33620,
           29730,
           29970,
           30220,
           29000,
           28340,
           27670,
           25080,
           25960,
           26850,
           26410,
           24870,
           23320,
           25060,
           1510,
           1190,
           1050,
           940,
           890,
           900,
           910,
           1010,
           1000,
           980,
           940,
           920,
           900,
           1020,
           990,
           960,
           970,
           50780,
           46190,
           41320,
           38090,
           33140,
           32880,
           32620,
           32370,
           30760,
           29140,
           27930,
           26200,
           24470,
           23220,
           21980,
           20790,
           20560,
           12240,
           9080,
           8490,
           7780,
           7420,
           7450,
           7480,
           7500,
           7060,
           6510,
           5910,
           5830,
           5760,
           5210,
           4800,
           4550,
           4780,
           14850,
           14620,
           13540,
           15270,
           11900,
           12150,
           12410,
           11800,
           11020,
           10250,
           10020,
           9310,
           8600,
           8760,
           8950,
           9140,
           8950,
           53050,
           50720,
           42080,
           39670,
           38110,
           39770,
           42550,
           46670,
           44820,
           42250,
           39200,
           36560,
           34580,
           34230,
           34550,
           34870,
           33910,
           5800,
           5830,
           5290,
           4900,
           4680,
           4550,
           4420,
           4340,
           4100,
           3850,
           3690,
           3410,
           3130,
           3220,
           3290,
           3340,
           3280,
           16440,
           14410,
           12450,
           12120,
           13320,
           13590,
           13750,
           13200,
           13050,
           12900,
           11580,
           11440,
           11300,
           10940,
           10930,
           10920,
           11380,
           1420,
           1340,
           1200,
           1020,
           980,
           970,
           960,
           970,
           900,
           840,
           850,
           840,
           830,
           810,
           770,
           730,
           750,
           20060,
           19110,
           16690,
           17270,
           15520,
           15550,
           15590,
           16210,
           15290,
           14370,
           13670,
           13210,
           12760,
           12300,
           11770,
           11230,
           11060,
           97450,
           94590,
           88250,
           87110,
           84560,
           82540,
           80510,
           82690,
           81060,
           78130,
           72140,
           69520,
           66910,
           56400,
           55690,
           55100,
           56340,
           744610,
           898570,
           1034170,
           1179300,
           1316700,
           1409600,
           1497670,
           1553890,
           1577340,
           1573920,
           1575000,
           1577180,
           1588550,
           1574000,
           1559110,
           1590750,
           1566870,
           1608620,
           1556510,
           1528930,
           1495000,
           1423000,
           1359440,
           1360160,
           1335000,
           1319000,
           1314790,
           1312990,
           1291000,
           1269000,
           1250000,
           1222100,
           1206200,
           1242000,
           1209640,
           1212350,
           1151600,
           1102670,
           1058490,
           1011070,
           958700,
           926190,
           899270,
           874080,
           862320,
           4590,
           3800,
           3850,
           3500,
           3610,
           3780,
           3940,
           3880,
           3690,
           3470,
           3240,
           3210,
           3170,
           2960,
           3010,
           3050,
           3020,
           2920,
           2160,
           2050,
           1510,
           1810,
           1760,
           1720,
           1730,
           1670,
           1600,
           1610,
           1560,
           1490,
           1380,
           1320,
           1260,
           1140,
           40240,
           38130,
           32450,
           30690,
           30590,
           31670,
           32750,
           31360,
           30950,
           30550,
           29160,
           29510,
           29860,
           24590,
           23290,
           21990,
           20290,
           30890,
           33620,
           26960,
           26970,
           23680,
           24350,
           25030,
           24670,
           23530,
           22380,
           21830,
           20470,
           19100,
           19150,
           18340,
           17530,
           17760,
           4800,
           4460,
           3400,
           2930,
           2700,
           2880,
           3070,
           2680,
           3070,
           3460,
           3320,
           2800,
           2280,
           2280,
           2380,
           2490,
           2380,
           18580,
           16280,
           14980,
           12450,
           10920,
           10390,
           9870,
           9660,
           9420,
           9140,
           8660,
           8080,
           7510,
           7430,
           7360,
           7310,
           7540,
           1370,
           1390,
           1630,
           2090,
           1220,
           1200,
           1170,
           1060,
           1030,
           1010,
           1060,
           940,
           820,
           850,
           810,
           770,
           720
          ],
          "coloraxis": "coloraxis",
          "symbol": "circle"
         },
         "mode": "markers",
         "name": "",
         "orientation": "v",
         "showlegend": false,
         "type": "scatter",
         "x": [
          1988,
          1992,
          1996,
          2000,
          2005,
          2006,
          2007,
          2008,
          2009,
          2010,
          2011,
          2012,
          2013,
          2014,
          2015,
          2016,
          2017,
          1988,
          1992,
          1996,
          2000,
          2005,
          2006,
          2007,
          2008,
          2009,
          2010,
          2011,
          2012,
          2013,
          2014,
          2015,
          2016,
          2017,
          1988,
          1992,
          1996,
          2000,
          2005,
          2006,
          2007,
          2008,
          2009,
          2010,
          2011,
          2012,
          2013,
          2014,
          2015,
          2016,
          2017,
          1988,
          1992,
          1996,
          2000,
          2005,
          2006,
          2007,
          2008,
          2009,
          2010,
          2011,
          2012,
          2013,
          2014,
          2015,
          2016,
          2017,
          1988,
          1992,
          1996,
          2000,
          2005,
          2006,
          2007,
          2008,
          2009,
          2010,
          2011,
          2012,
          2013,
          2014,
          2015,
          2016,
          2017,
          1988,
          1992,
          1996,
          2000,
          2005,
          2006,
          2007,
          2008,
          2009,
          2010,
          2011,
          2012,
          2013,
          2014,
          2015,
          2016,
          2017,
          1988,
          1992,
          1996,
          2000,
          2005,
          2006,
          2007,
          2008,
          2009,
          2010,
          2011,
          2012,
          2013,
          2014,
          2015,
          2016,
          2017,
          1988,
          1992,
          1996,
          2000,
          2005,
          2006,
          2007,
          2008,
          2009,
          2010,
          2011,
          2012,
          2013,
          2014,
          2015,
          2016,
          2017,
          1988,
          1992,
          1996,
          2000,
          2005,
          2006,
          2007,
          2008,
          2009,
          2010,
          2011,
          2012,
          2013,
          2014,
          2015,
          2016,
          2017,
          1988,
          1992,
          1996,
          2000,
          2005,
          2006,
          2007,
          2008,
          2009,
          2010,
          2011,
          2012,
          2013,
          2014,
          2015,
          2016,
          2017,
          1988,
          1992,
          1996,
          2000,
          2005,
          2006,
          2007,
          2008,
          2009,
          2010,
          2011,
          2012,
          2013,
          2014,
          2015,
          2016,
          2017,
          1988,
          1992,
          1996,
          2000,
          2005,
          2006,
          2007,
          2008,
          2009,
          2010,
          2011,
          2012,
          2013,
          2014,
          2015,
          2016,
          2017,
          1988,
          1992,
          1996,
          2000,
          2005,
          2006,
          2007,
          2008,
          2009,
          2010,
          2011,
          2012,
          2013,
          2014,
          2015,
          2016,
          2017,
          1988,
          1992,
          1996,
          2000,
          2005,
          2006,
          2007,
          2008,
          2009,
          2010,
          2011,
          2012,
          2013,
          2014,
          2015,
          2016,
          2017,
          1988,
          1992,
          1996,
          2000,
          2005,
          2006,
          2007,
          2008,
          2009,
          2010,
          2011,
          2012,
          2013,
          2014,
          2015,
          2016,
          2017,
          1988,
          1992,
          1996,
          2000,
          2005,
          2006,
          2007,
          2008,
          2009,
          2010,
          2011,
          2012,
          2013,
          2014,
          2015,
          2016,
          2017,
          1988,
          1992,
          1996,
          2000,
          2005,
          2006,
          2007,
          2008,
          2009,
          2010,
          2011,
          2012,
          2013,
          2014,
          2015,
          2016,
          2017,
          1988,
          1992,
          1996,
          2000,
          2005,
          2006,
          2007,
          2008,
          2009,
          2010,
          2011,
          2012,
          2013,
          2014,
          2015,
          2016,
          2017,
          1988,
          1992,
          1996,
          2000,
          2005,
          2006,
          2007,
          2008,
          2009,
          2010,
          2011,
          2012,
          2013,
          2014,
          2015,
          2016,
          2017,
          1988,
          1992,
          1996,
          2000,
          2005,
          2006,
          2007,
          2008,
          2009,
          2010,
          2011,
          2012,
          2013,
          2014,
          2015,
          2016,
          2017,
          1988,
          1992,
          1996,
          2000,
          2005,
          2006,
          2007,
          2008,
          2009,
          2010,
          2011,
          2012,
          2013,
          2014,
          2015,
          2016,
          2017,
          1988,
          1992,
          1996,
          2000,
          2005,
          2006,
          2007,
          2008,
          2009,
          2010,
          2011,
          2012,
          2013,
          2014,
          2015,
          2016,
          2017,
          1988,
          1992,
          1996,
          2000,
          2005,
          2006,
          2007,
          2008,
          2009,
          2010,
          2011,
          2012,
          2013,
          2014,
          2015,
          2016,
          2017,
          1988,
          1992,
          1996,
          2000,
          2005,
          2006,
          2007,
          2008,
          2009,
          2010,
          2011,
          2012,
          2013,
          2014,
          2015,
          2016,
          2017,
          1988,
          1992,
          1996,
          2000,
          2005,
          2006,
          2007,
          2008,
          2009,
          2010,
          2011,
          2012,
          2013,
          2014,
          2015,
          2016,
          2017,
          1988,
          1992,
          1996,
          2000,
          2005,
          2006,
          2007,
          2008,
          2009,
          2010,
          2011,
          2012,
          2013,
          2014,
          2015,
          2016,
          2017,
          1988,
          1992,
          1996,
          2000,
          2005,
          2006,
          2007,
          2008,
          2009,
          2010,
          2011,
          2012,
          2013,
          2014,
          2015,
          2016,
          2017,
          1988,
          1992,
          1996,
          2000,
          2005,
          2006,
          2007,
          2008,
          2009,
          2010,
          2011,
          2012,
          2013,
          2014,
          2015,
          2016,
          2017,
          1988,
          1992,
          1996,
          2000,
          2005,
          2006,
          2007,
          2008,
          2009,
          2010,
          2011,
          2012,
          2013,
          2014,
          2015,
          2016,
          2017,
          1988,
          1992,
          1996,
          2000,
          2005,
          2006,
          2007,
          2008,
          2009,
          2010,
          2011,
          2012,
          2013,
          2014,
          2015,
          2016,
          2017,
          1988,
          1992,
          1996,
          2000,
          2005,
          2006,
          2007,
          2008,
          2009,
          2010,
          2011,
          2012,
          2013,
          2014,
          2015,
          2016,
          2017,
          1988,
          1992,
          1996,
          2000,
          2005,
          2006,
          2007,
          2008,
          2009,
          2010,
          2011,
          2012,
          2013,
          2014,
          2015,
          2016,
          2017,
          1988,
          1992,
          1996,
          2000,
          2005,
          2006,
          2007,
          2008,
          2009,
          2010,
          2011,
          2012,
          2013,
          2014,
          2015,
          2016,
          2017,
          1988,
          1992,
          1996,
          2000,
          2005,
          2006,
          2007,
          2008,
          2009,
          2010,
          2011,
          2012,
          2013,
          2014,
          2015,
          2016,
          2017,
          1988,
          1992,
          1996,
          2000,
          2005,
          2006,
          2007,
          2008,
          2009,
          2010,
          2011,
          2012,
          2013,
          2014,
          2015,
          2016,
          2017,
          1988,
          1992,
          1996,
          2000,
          2005,
          2006,
          2007,
          2008,
          2009,
          2010,
          2011,
          2012,
          2013,
          2014,
          2015,
          2016,
          2017,
          1988,
          1992,
          1996,
          2000,
          2005,
          2006,
          2007,
          2008,
          2009,
          2010,
          2011,
          2012,
          2013,
          2014,
          2015,
          2016,
          2017,
          1988,
          1992,
          1996,
          2000,
          2005,
          2006,
          2007,
          2008,
          2009,
          2010,
          2011,
          2012,
          2013,
          2014,
          2015,
          2016,
          2017,
          1988,
          1992,
          1996,
          2000,
          2005,
          2006,
          2007,
          2008,
          2009,
          2010,
          2011,
          2012,
          2013,
          2014,
          2015,
          2016,
          2017,
          1988,
          1992,
          1996,
          2000,
          2005,
          2006,
          2007,
          2008,
          2009,
          2010,
          2011,
          2012,
          2013,
          2014,
          2015,
          2016,
          2017,
          1988,
          1992,
          1996,
          2000,
          2005,
          2006,
          2007,
          2008,
          2009,
          2010,
          2011,
          2012,
          2013,
          2014,
          2015,
          2016,
          2017,
          1988,
          1992,
          1996,
          2000,
          2005,
          2006,
          2007,
          2008,
          2009,
          2010,
          2011,
          2012,
          2013,
          2014,
          2015,
          2016,
          2017,
          1988,
          1992,
          1996,
          2000,
          2005,
          2006,
          2007,
          2008,
          2009,
          2010,
          2011,
          2012,
          2013,
          2014,
          2015,
          2016,
          2017,
          1988,
          1992,
          1996,
          2000,
          2005,
          2006,
          2007,
          2008,
          2009,
          2010,
          2011,
          2012,
          2013,
          2014,
          2015,
          2016,
          2017,
          1973,
          1974,
          1975,
          1976,
          1977,
          1978,
          1979,
          1980,
          1981,
          1982,
          1983,
          1984,
          1985,
          1986,
          1987,
          1988,
          1989,
          1990,
          1991,
          1992,
          1993,
          1994,
          1995,
          1996,
          1997,
          1998,
          1999,
          2000,
          2001,
          2002,
          2003,
          2004,
          2005,
          2006,
          2007,
          2008,
          2009,
          2010,
          2011,
          2012,
          2013,
          2014,
          2015,
          2016,
          2017,
          1988,
          1992,
          1996,
          2000,
          2005,
          2006,
          2007,
          2008,
          2009,
          2010,
          2011,
          2012,
          2013,
          2014,
          2015,
          2016,
          2017,
          1988,
          1992,
          1996,
          2000,
          2005,
          2006,
          2007,
          2008,
          2009,
          2010,
          2011,
          2012,
          2013,
          2014,
          2015,
          2016,
          2017,
          1988,
          1992,
          1996,
          2000,
          2005,
          2006,
          2007,
          2008,
          2009,
          2010,
          2011,
          2012,
          2013,
          2014,
          2015,
          2016,
          2017,
          1988,
          1992,
          1996,
          2000,
          2005,
          2006,
          2007,
          2008,
          2009,
          2010,
          2011,
          2012,
          2013,
          2014,
          2015,
          2016,
          2017,
          1988,
          1992,
          1996,
          2000,
          2005,
          2006,
          2007,
          2008,
          2009,
          2010,
          2011,
          2012,
          2013,
          2014,
          2015,
          2016,
          2017,
          1988,
          1992,
          1996,
          2000,
          2005,
          2006,
          2007,
          2008,
          2009,
          2010,
          2011,
          2012,
          2013,
          2014,
          2015,
          2016,
          2017,
          1988,
          1992,
          1996,
          2000,
          2005,
          2006,
          2007,
          2008,
          2009,
          2010,
          2011,
          2012,
          2013,
          2014,
          2015,
          2016,
          2017
         ],
         "xaxis": "x",
         "y": [
          20100,
          17720,
          14940,
          13060,
          10840,
          10980,
          11130,
          11020,
          10530,
          10030,
          9600,
          8920,
          8230,
          8310,
          8150,
          7920,
          7660,
          2700,
          2800,
          2310,
          1900,
          2130,
          2060,
          2000,
          1960,
          2040,
          2120,
          2030,
          1890,
          1740,
          1640,
          1540,
          1450,
          1420,
          22200,
          21200,
          20120,
          18410,
          19710,
          18850,
          17990,
          19770,
          17480,
          15190,
          16270,
          15040,
          13820,
          13240,
          13640,
          14040,
          13270,
          7860,
          8690,
          6680,
          5880,
          5200,
          5450,
          5690,
          5710,
          5630,
          5490,
          5210,
          5010,
          4810,
          4350,
          3930,
          3590,
          3710,
          311440,
          303850,
          237870,
          235670,
          206260,
          213550,
          220840,
          211930,
          200720,
          189110,
          177360,
          170420,
          163550,
          156690,
          148000,
          139320,
          131380,
          17550,
          18410,
          16670,
          12950,
          14720,
          14990,
          15160,
          14920,
          14330,
          13730,
          13130,
          12400,
          11660,
          11760,
          11410,
          11050,
          11100,
          24470,
          20100,
          16510,
          15460,
          17340,
          17580,
          17730,
          17210,
          16350,
          15480,
          14630,
          13900,
          13360,
          13280,
          12770,
          12260,
          11950,
          4570,
          4620,
          2970,
          3920,
          4140,
          4990,
          5850,
          5650,
          5520,
          5380,
          4690,
          4010,
          3340,
          3200,
          3040,
          2880,
          2770,
          13830,
          11040,
          5620,
          5750,
          6390,
          5900,
          5400,
          5880,
          4970,
          4060,
          3400,
          3570,
          3740,
          3800,
          3330,
          2870,
          3930,
          75820,
          77320,
          90160,
          96000,
          85360,
          86980,
          88600,
          86310,
          84150,
          82020,
          79890,
          76730,
          73560,
          72630,
          69390,
          66150,
          68640,
          35320,
          39970,
          35230,
          32270,
          32040,
          32690,
          33680,
          39370,
          37260,
          35160,
          34460,
          33620,
          32550,
          31120,
          31750,
          32390,
          32520,
          11120,
          12180,
          6930,
          5630,
          5330,
          5490,
          5650,
          5650,
          5590,
          5530,
          5540,
          4900,
          4260,
          3750,
          3370,
          3130,
          3220,
          2760,
          2420,
          2450,
          2750,
          2540,
          2700,
          2860,
          2580,
          2490,
          2410,
          2340,
          2090,
          1850,
          1790,
          1780,
          1780,
          1790,
          72500,
          66500,
          66920,
          58370,
          48420,
          48560,
          48710,
          51670,
          47020,
          42370,
          42360,
          42020,
          41430,
          40120,
          38830,
          37590,
          37770,
          20930,
          21170,
          18340,
          15140,
          13180,
          12810,
          12440,
          12300,
          12020,
          11600,
          10710,
          10200,
          9910,
          10130,
          10190,
          10240,
          10270,
          10480,
          7480,
          6150,
          6280,
          6130,
          6390,
          6660,
          6160,
          6010,
          5860,
          5430,
          4790,
          4150,
          3930,
          3990,
          4050,
          3650,
          7210,
          7140,
          6940,
          6440,
          5620,
          5670,
          5720,
          5670,
          4830,
          3990,
          3870,
          3910,
          3940,
          3800,
          3660,
          3520,
          3520,
          10090,
          9850,
          7890,
          6720,
          6060,
          6080,
          6110,
          6380,
          6170,
          5960,
          5820,
          5500,
          5180,
          5180,
          4910,
          4640,
          4780,
          17030,
          11800,
          13110,
          11380,
          10330,
          11220,
          12520,
          14110,
          12930,
          11750,
          11310,
          10470,
          9630,
          9620,
          9830,
          10040,
          9280,
          4140,
          4260,
          3390,
          2910,
          2840,
          2940,
          3030,
          2970,
          2830,
          2640,
          2410,
          2390,
          2380,
          2400,
          2240,
          2080,
          2050,
          41090,
          39490,
          36940,
          38670,
          35250,
          31990,
          28720,
          28390,
          29630,
          30890,
          32140,
          29610,
          27080,
          26430,
          26010,
          25730,
          26940,
          44260,
          41610,
          40150,
          29870,
          27800,
          27130,
          26460,
          25800,
          25240,
          24790,
          24430,
          22840,
          21250,
          21280,
          20370,
          19470,
          18880,
          62770,
          54530,
          47430,
          45710,
          39930,
          37530,
          35780,
          36050,
          33410,
          30770,
          29270,
          28780,
          28420,
          28130,
          27290,
          26460,
          26130,
          17400,
          15090,
          13950,
          13940,
          13370,
          13420,
          13480,
          12580,
          11780,
          11120,
          10690,
          10130,
          9570,
          9230,
          9360,
          9590,
          10100,
          6480,
          8830,
          9020,
          9060,
          7930,
          7880,
          7850,
          8210,
          7640,
          7070,
          6700,
          6280,
          5860,
          5540,
          5300,
          5100,
          4930,
          23940,
          19870,
          16050,
          17410,
          14900,
          15070,
          15250,
          15160,
          13550,
          11930,
          11510,
          11080,
          10610,
          9180,
          9640,
          10100,
          9690,
          2350,
          2810,
          2430,
          2220,
          2020,
          2070,
          2110,
          2040,
          2000,
          1980,
          1990,
          1820,
          1660,
          1520,
          1530,
          1540,
          1510,
          5490,
          4950,
          3930,
          3920,
          2990,
          2690,
          2500,
          2850,
          2630,
          2410,
          2550,
          2510,
          2440,
          2360,
          2260,
          2170,
          2250,
          9450,
          12400,
          14080,
          12880,
          12990,
          13320,
          13630,
          13020,
          12790,
          12570,
          11960,
          10750,
          9550,
          10840,
          10150,
          9460,
          9620,
          5940,
          4490,
          4670,
          4020,
          3060,
          3030,
          2990,
          2860,
          2840,
          2830,
          2880,
          2610,
          2340,
          2530,
          2480,
          2410,
          2330,
          66300,
          58420,
          64230,
          66110,
          60330,
          58030,
          55740,
          54730,
          51930,
          49130,
          46670,
          44680,
          43340,
          43990,
          45680,
          47370,
          47010,
          8180,
          7780,
          6560,
          6890,
          6690,
          7020,
          7350,
          6730,
          6420,
          6110,
          5520,
          4860,
          4190,
          4030,
          4120,
          4210,
          3830,
          179830,
          191100,
          164080,
          161160,
          152340,
          148030,
          144390,
          149070,
          144390,
          139700,
          136280,
          126630,
          116970,
          117580,
          113350,
          108350,
          103060,
          38120,
          34000,
          31070,
          33620,
          29730,
          29970,
          30220,
          29000,
          28340,
          27670,
          25080,
          25960,
          26850,
          26410,
          24870,
          23320,
          25060,
          1510,
          1190,
          1050,
          940,
          890,
          900,
          910,
          1010,
          1000,
          980,
          940,
          920,
          900,
          1020,
          990,
          960,
          970,
          50780,
          46190,
          41320,
          38090,
          33140,
          32880,
          32620,
          32370,
          30760,
          29140,
          27930,
          26200,
          24470,
          23220,
          21980,
          20790,
          20560,
          12240,
          9080,
          8490,
          7780,
          7420,
          7450,
          7480,
          7500,
          7060,
          6510,
          5910,
          5830,
          5760,
          5210,
          4800,
          4550,
          4780,
          14850,
          14620,
          13540,
          15270,
          11900,
          12150,
          12410,
          11800,
          11020,
          10250,
          10020,
          9310,
          8600,
          8760,
          8950,
          9140,
          8950,
          53050,
          50720,
          42080,
          39670,
          38110,
          39770,
          42550,
          46670,
          44820,
          42250,
          39200,
          36560,
          34580,
          34230,
          34550,
          34870,
          33910,
          5800,
          5830,
          5290,
          4900,
          4680,
          4550,
          4420,
          4340,
          4100,
          3850,
          3690,
          3410,
          3130,
          3220,
          3290,
          3340,
          3280,
          16440,
          14410,
          12450,
          12120,
          13320,
          13590,
          13750,
          13200,
          13050,
          12900,
          11580,
          11440,
          11300,
          10940,
          10930,
          10920,
          11380,
          1420,
          1340,
          1200,
          1020,
          980,
          970,
          960,
          970,
          900,
          840,
          850,
          840,
          830,
          810,
          770,
          730,
          750,
          20060,
          19110,
          16690,
          17270,
          15520,
          15550,
          15590,
          16210,
          15290,
          14370,
          13670,
          13210,
          12760,
          12300,
          11770,
          11230,
          11060,
          97450,
          94590,
          88250,
          87110,
          84560,
          82540,
          80510,
          82690,
          81060,
          78130,
          72140,
          69520,
          66910,
          56400,
          55690,
          55100,
          56340,
          744610,
          898570,
          1034170,
          1179300,
          1316700,
          1409600,
          1497670,
          1553890,
          1577340,
          1573920,
          1575000,
          1577180,
          1588550,
          1574000,
          1559110,
          1590750,
          1566870,
          1608620,
          1556510,
          1528930,
          1495000,
          1423000,
          1359440,
          1360160,
          1335000,
          1319000,
          1314790,
          1312990,
          1291000,
          1269000,
          1250000,
          1222100,
          1206200,
          1242000,
          1209640,
          1212350,
          1151600,
          1102670,
          1058490,
          1011070,
          958700,
          926190,
          899270,
          874080,
          862320,
          4590,
          3800,
          3850,
          3500,
          3610,
          3780,
          3940,
          3880,
          3690,
          3470,
          3240,
          3210,
          3170,
          2960,
          3010,
          3050,
          3020,
          2920,
          2160,
          2050,
          1510,
          1810,
          1760,
          1720,
          1730,
          1670,
          1600,
          1610,
          1560,
          1490,
          1380,
          1320,
          1260,
          1140,
          40240,
          38130,
          32450,
          30690,
          30590,
          31670,
          32750,
          31360,
          30950,
          30550,
          29160,
          29510,
          29860,
          24590,
          23290,
          21990,
          20290,
          30890,
          33620,
          26960,
          26970,
          23680,
          24350,
          25030,
          24670,
          23530,
          22380,
          21830,
          20470,
          19100,
          19150,
          18340,
          17530,
          17760,
          4800,
          4460,
          3400,
          2930,
          2700,
          2880,
          3070,
          2680,
          3070,
          3460,
          3320,
          2800,
          2280,
          2280,
          2380,
          2490,
          2380,
          18580,
          16280,
          14980,
          12450,
          10920,
          10390,
          9870,
          9660,
          9420,
          9140,
          8660,
          8080,
          7510,
          7430,
          7360,
          7310,
          7540,
          1370,
          1390,
          1630,
          2090,
          1220,
          1200,
          1170,
          1060,
          1030,
          1010,
          1060,
          940,
          820,
          850,
          810,
          770,
          720
         ],
         "yaxis": "y"
        }
       ],
       "layout": {
        "coloraxis": {
         "colorbar": {
          "title": {
           "text": "abortionstotal"
          }
         },
         "colorscale": [
          [
           0,
           "#0d0887"
          ],
          [
           0.1111111111111111,
           "#46039f"
          ],
          [
           0.2222222222222222,
           "#7201a8"
          ],
          [
           0.3333333333333333,
           "#9c179e"
          ],
          [
           0.4444444444444444,
           "#bd3786"
          ],
          [
           0.5555555555555556,
           "#d8576b"
          ],
          [
           0.6666666666666666,
           "#ed7953"
          ],
          [
           0.7777777777777778,
           "#fb9f3a"
          ],
          [
           0.8888888888888888,
           "#fdca26"
          ],
          [
           1,
           "#f0f921"
          ]
         ]
        },
        "legend": {
         "tracegroupgap": 0
        },
        "template": {
         "data": {
          "bar": [
           {
            "error_x": {
             "color": "#2a3f5f"
            },
            "error_y": {
             "color": "#2a3f5f"
            },
            "marker": {
             "line": {
              "color": "#E5ECF6",
              "width": 0.5
             },
             "pattern": {
              "fillmode": "overlay",
              "size": 10,
              "solidity": 0.2
             }
            },
            "type": "bar"
           }
          ],
          "barpolar": [
           {
            "marker": {
             "line": {
              "color": "#E5ECF6",
              "width": 0.5
             },
             "pattern": {
              "fillmode": "overlay",
              "size": 10,
              "solidity": 0.2
             }
            },
            "type": "barpolar"
           }
          ],
          "carpet": [
           {
            "aaxis": {
             "endlinecolor": "#2a3f5f",
             "gridcolor": "white",
             "linecolor": "white",
             "minorgridcolor": "white",
             "startlinecolor": "#2a3f5f"
            },
            "baxis": {
             "endlinecolor": "#2a3f5f",
             "gridcolor": "white",
             "linecolor": "white",
             "minorgridcolor": "white",
             "startlinecolor": "#2a3f5f"
            },
            "type": "carpet"
           }
          ],
          "choropleth": [
           {
            "colorbar": {
             "outlinewidth": 0,
             "ticks": ""
            },
            "type": "choropleth"
           }
          ],
          "contour": [
           {
            "colorbar": {
             "outlinewidth": 0,
             "ticks": ""
            },
            "colorscale": [
             [
              0,
              "#0d0887"
             ],
             [
              0.1111111111111111,
              "#46039f"
             ],
             [
              0.2222222222222222,
              "#7201a8"
             ],
             [
              0.3333333333333333,
              "#9c179e"
             ],
             [
              0.4444444444444444,
              "#bd3786"
             ],
             [
              0.5555555555555556,
              "#d8576b"
             ],
             [
              0.6666666666666666,
              "#ed7953"
             ],
             [
              0.7777777777777778,
              "#fb9f3a"
             ],
             [
              0.8888888888888888,
              "#fdca26"
             ],
             [
              1,
              "#f0f921"
             ]
            ],
            "type": "contour"
           }
          ],
          "contourcarpet": [
           {
            "colorbar": {
             "outlinewidth": 0,
             "ticks": ""
            },
            "type": "contourcarpet"
           }
          ],
          "heatmap": [
           {
            "colorbar": {
             "outlinewidth": 0,
             "ticks": ""
            },
            "colorscale": [
             [
              0,
              "#0d0887"
             ],
             [
              0.1111111111111111,
              "#46039f"
             ],
             [
              0.2222222222222222,
              "#7201a8"
             ],
             [
              0.3333333333333333,
              "#9c179e"
             ],
             [
              0.4444444444444444,
              "#bd3786"
             ],
             [
              0.5555555555555556,
              "#d8576b"
             ],
             [
              0.6666666666666666,
              "#ed7953"
             ],
             [
              0.7777777777777778,
              "#fb9f3a"
             ],
             [
              0.8888888888888888,
              "#fdca26"
             ],
             [
              1,
              "#f0f921"
             ]
            ],
            "type": "heatmap"
           }
          ],
          "heatmapgl": [
           {
            "colorbar": {
             "outlinewidth": 0,
             "ticks": ""
            },
            "colorscale": [
             [
              0,
              "#0d0887"
             ],
             [
              0.1111111111111111,
              "#46039f"
             ],
             [
              0.2222222222222222,
              "#7201a8"
             ],
             [
              0.3333333333333333,
              "#9c179e"
             ],
             [
              0.4444444444444444,
              "#bd3786"
             ],
             [
              0.5555555555555556,
              "#d8576b"
             ],
             [
              0.6666666666666666,
              "#ed7953"
             ],
             [
              0.7777777777777778,
              "#fb9f3a"
             ],
             [
              0.8888888888888888,
              "#fdca26"
             ],
             [
              1,
              "#f0f921"
             ]
            ],
            "type": "heatmapgl"
           }
          ],
          "histogram": [
           {
            "marker": {
             "pattern": {
              "fillmode": "overlay",
              "size": 10,
              "solidity": 0.2
             }
            },
            "type": "histogram"
           }
          ],
          "histogram2d": [
           {
            "colorbar": {
             "outlinewidth": 0,
             "ticks": ""
            },
            "colorscale": [
             [
              0,
              "#0d0887"
             ],
             [
              0.1111111111111111,
              "#46039f"
             ],
             [
              0.2222222222222222,
              "#7201a8"
             ],
             [
              0.3333333333333333,
              "#9c179e"
             ],
             [
              0.4444444444444444,
              "#bd3786"
             ],
             [
              0.5555555555555556,
              "#d8576b"
             ],
             [
              0.6666666666666666,
              "#ed7953"
             ],
             [
              0.7777777777777778,
              "#fb9f3a"
             ],
             [
              0.8888888888888888,
              "#fdca26"
             ],
             [
              1,
              "#f0f921"
             ]
            ],
            "type": "histogram2d"
           }
          ],
          "histogram2dcontour": [
           {
            "colorbar": {
             "outlinewidth": 0,
             "ticks": ""
            },
            "colorscale": [
             [
              0,
              "#0d0887"
             ],
             [
              0.1111111111111111,
              "#46039f"
             ],
             [
              0.2222222222222222,
              "#7201a8"
             ],
             [
              0.3333333333333333,
              "#9c179e"
             ],
             [
              0.4444444444444444,
              "#bd3786"
             ],
             [
              0.5555555555555556,
              "#d8576b"
             ],
             [
              0.6666666666666666,
              "#ed7953"
             ],
             [
              0.7777777777777778,
              "#fb9f3a"
             ],
             [
              0.8888888888888888,
              "#fdca26"
             ],
             [
              1,
              "#f0f921"
             ]
            ],
            "type": "histogram2dcontour"
           }
          ],
          "mesh3d": [
           {
            "colorbar": {
             "outlinewidth": 0,
             "ticks": ""
            },
            "type": "mesh3d"
           }
          ],
          "parcoords": [
           {
            "line": {
             "colorbar": {
              "outlinewidth": 0,
              "ticks": ""
             }
            },
            "type": "parcoords"
           }
          ],
          "pie": [
           {
            "automargin": true,
            "type": "pie"
           }
          ],
          "scatter": [
           {
            "fillpattern": {
             "fillmode": "overlay",
             "size": 10,
             "solidity": 0.2
            },
            "type": "scatter"
           }
          ],
          "scatter3d": [
           {
            "line": {
             "colorbar": {
              "outlinewidth": 0,
              "ticks": ""
             }
            },
            "marker": {
             "colorbar": {
              "outlinewidth": 0,
              "ticks": ""
             }
            },
            "type": "scatter3d"
           }
          ],
          "scattercarpet": [
           {
            "marker": {
             "colorbar": {
              "outlinewidth": 0,
              "ticks": ""
             }
            },
            "type": "scattercarpet"
           }
          ],
          "scattergeo": [
           {
            "marker": {
             "colorbar": {
              "outlinewidth": 0,
              "ticks": ""
             }
            },
            "type": "scattergeo"
           }
          ],
          "scattergl": [
           {
            "marker": {
             "colorbar": {
              "outlinewidth": 0,
              "ticks": ""
             }
            },
            "type": "scattergl"
           }
          ],
          "scattermapbox": [
           {
            "marker": {
             "colorbar": {
              "outlinewidth": 0,
              "ticks": ""
             }
            },
            "type": "scattermapbox"
           }
          ],
          "scatterpolar": [
           {
            "marker": {
             "colorbar": {
              "outlinewidth": 0,
              "ticks": ""
             }
            },
            "type": "scatterpolar"
           }
          ],
          "scatterpolargl": [
           {
            "marker": {
             "colorbar": {
              "outlinewidth": 0,
              "ticks": ""
             }
            },
            "type": "scatterpolargl"
           }
          ],
          "scatterternary": [
           {
            "marker": {
             "colorbar": {
              "outlinewidth": 0,
              "ticks": ""
             }
            },
            "type": "scatterternary"
           }
          ],
          "surface": [
           {
            "colorbar": {
             "outlinewidth": 0,
             "ticks": ""
            },
            "colorscale": [
             [
              0,
              "#0d0887"
             ],
             [
              0.1111111111111111,
              "#46039f"
             ],
             [
              0.2222222222222222,
              "#7201a8"
             ],
             [
              0.3333333333333333,
              "#9c179e"
             ],
             [
              0.4444444444444444,
              "#bd3786"
             ],
             [
              0.5555555555555556,
              "#d8576b"
             ],
             [
              0.6666666666666666,
              "#ed7953"
             ],
             [
              0.7777777777777778,
              "#fb9f3a"
             ],
             [
              0.8888888888888888,
              "#fdca26"
             ],
             [
              1,
              "#f0f921"
             ]
            ],
            "type": "surface"
           }
          ],
          "table": [
           {
            "cells": {
             "fill": {
              "color": "#EBF0F8"
             },
             "line": {
              "color": "white"
             }
            },
            "header": {
             "fill": {
              "color": "#C8D4E3"
             },
             "line": {
              "color": "white"
             }
            },
            "type": "table"
           }
          ]
         },
         "layout": {
          "annotationdefaults": {
           "arrowcolor": "#2a3f5f",
           "arrowhead": 0,
           "arrowwidth": 1
          },
          "autotypenumbers": "strict",
          "coloraxis": {
           "colorbar": {
            "outlinewidth": 0,
            "ticks": ""
           }
          },
          "colorscale": {
           "diverging": [
            [
             0,
             "#8e0152"
            ],
            [
             0.1,
             "#c51b7d"
            ],
            [
             0.2,
             "#de77ae"
            ],
            [
             0.3,
             "#f1b6da"
            ],
            [
             0.4,
             "#fde0ef"
            ],
            [
             0.5,
             "#f7f7f7"
            ],
            [
             0.6,
             "#e6f5d0"
            ],
            [
             0.7,
             "#b8e186"
            ],
            [
             0.8,
             "#7fbc41"
            ],
            [
             0.9,
             "#4d9221"
            ],
            [
             1,
             "#276419"
            ]
           ],
           "sequential": [
            [
             0,
             "#0d0887"
            ],
            [
             0.1111111111111111,
             "#46039f"
            ],
            [
             0.2222222222222222,
             "#7201a8"
            ],
            [
             0.3333333333333333,
             "#9c179e"
            ],
            [
             0.4444444444444444,
             "#bd3786"
            ],
            [
             0.5555555555555556,
             "#d8576b"
            ],
            [
             0.6666666666666666,
             "#ed7953"
            ],
            [
             0.7777777777777778,
             "#fb9f3a"
            ],
            [
             0.8888888888888888,
             "#fdca26"
            ],
            [
             1,
             "#f0f921"
            ]
           ],
           "sequentialminus": [
            [
             0,
             "#0d0887"
            ],
            [
             0.1111111111111111,
             "#46039f"
            ],
            [
             0.2222222222222222,
             "#7201a8"
            ],
            [
             0.3333333333333333,
             "#9c179e"
            ],
            [
             0.4444444444444444,
             "#bd3786"
            ],
            [
             0.5555555555555556,
             "#d8576b"
            ],
            [
             0.6666666666666666,
             "#ed7953"
            ],
            [
             0.7777777777777778,
             "#fb9f3a"
            ],
            [
             0.8888888888888888,
             "#fdca26"
            ],
            [
             1,
             "#f0f921"
            ]
           ]
          },
          "colorway": [
           "#636efa",
           "#EF553B",
           "#00cc96",
           "#ab63fa",
           "#FFA15A",
           "#19d3f3",
           "#FF6692",
           "#B6E880",
           "#FF97FF",
           "#FECB52"
          ],
          "font": {
           "color": "#2a3f5f"
          },
          "geo": {
           "bgcolor": "white",
           "lakecolor": "white",
           "landcolor": "#E5ECF6",
           "showlakes": true,
           "showland": true,
           "subunitcolor": "white"
          },
          "hoverlabel": {
           "align": "left"
          },
          "hovermode": "closest",
          "mapbox": {
           "style": "light"
          },
          "paper_bgcolor": "white",
          "plot_bgcolor": "#E5ECF6",
          "polar": {
           "angularaxis": {
            "gridcolor": "white",
            "linecolor": "white",
            "ticks": ""
           },
           "bgcolor": "#E5ECF6",
           "radialaxis": {
            "gridcolor": "white",
            "linecolor": "white",
            "ticks": ""
           }
          },
          "scene": {
           "xaxis": {
            "backgroundcolor": "#E5ECF6",
            "gridcolor": "white",
            "gridwidth": 2,
            "linecolor": "white",
            "showbackground": true,
            "ticks": "",
            "zerolinecolor": "white"
           },
           "yaxis": {
            "backgroundcolor": "#E5ECF6",
            "gridcolor": "white",
            "gridwidth": 2,
            "linecolor": "white",
            "showbackground": true,
            "ticks": "",
            "zerolinecolor": "white"
           },
           "zaxis": {
            "backgroundcolor": "#E5ECF6",
            "gridcolor": "white",
            "gridwidth": 2,
            "linecolor": "white",
            "showbackground": true,
            "ticks": "",
            "zerolinecolor": "white"
           }
          },
          "shapedefaults": {
           "line": {
            "color": "#2a3f5f"
           }
          },
          "ternary": {
           "aaxis": {
            "gridcolor": "white",
            "linecolor": "white",
            "ticks": ""
           },
           "baxis": {
            "gridcolor": "white",
            "linecolor": "white",
            "ticks": ""
           },
           "bgcolor": "#E5ECF6",
           "caxis": {
            "gridcolor": "white",
            "linecolor": "white",
            "ticks": ""
           }
          },
          "title": {
           "x": 0.05
          },
          "xaxis": {
           "automargin": true,
           "gridcolor": "white",
           "linecolor": "white",
           "ticks": "",
           "title": {
            "standoff": 15
           },
           "zerolinecolor": "white",
           "zerolinewidth": 2
          },
          "yaxis": {
           "automargin": true,
           "gridcolor": "white",
           "linecolor": "white",
           "ticks": "",
           "title": {
            "standoff": 15
           },
           "zerolinecolor": "white",
           "zerolinewidth": 2
          }
         }
        },
        "title": {
         "text": "Banning Abortions Timeline"
        },
        "xaxis": {
         "anchor": "y",
         "domain": [
          0,
          1
         ],
         "dtick": 1,
         "tick0": 0.2,
         "tickmode": "array",
         "title": {
          "text": "year"
         }
        },
        "yaxis": {
         "anchor": "x",
         "domain": [
          0,
          1
         ],
         "title": {
          "text": "abortionstotal"
         }
        }
       }
      },
      "text/html": [
       "<div>                            <div id=\"4f05d2c2-f60d-4048-bbbb-350a516ad796\" class=\"plotly-graph-div\" style=\"height:525px; width:100%;\"></div>            <script type=\"text/javascript\">                require([\"plotly\"], function(Plotly) {                    window.PLOTLYENV=window.PLOTLYENV || {};                                    if (document.getElementById(\"4f05d2c2-f60d-4048-bbbb-350a516ad796\")) {                    Plotly.newPlot(                        \"4f05d2c2-f60d-4048-bbbb-350a516ad796\",                        [{\"hovertemplate\":\"year=%{x}<br>abortionstotal=%{marker.color}<extra></extra>\",\"legendgroup\":\"\",\"marker\":{\"color\":[20100,17720,14940,13060,10840,10980,11130,11020,10530,10030,9600,8920,8230,8310,8150,7920,7660,2700,2800,2310,1900,2130,2060,2000,1960,2040,2120,2030,1890,1740,1640,1540,1450,1420,22200,21200,20120,18410,19710,18850,17990,19770,17480,15190,16270,15040,13820,13240,13640,14040,13270,7860,8690,6680,5880,5200,5450,5690,5710,5630,5490,5210,5010,4810,4350,3930,3590,3710,311440,303850,237870,235670,206260,213550,220840,211930,200720,189110,177360,170420,163550,156690,148000,139320,131380,17550,18410,16670,12950,14720,14990,15160,14920,14330,13730,13130,12400,11660,11760,11410,11050,11100,24470,20100,16510,15460,17340,17580,17730,17210,16350,15480,14630,13900,13360,13280,12770,12260,11950,4570,4620,2970,3920,4140,4990,5850,5650,5520,5380,4690,4010,3340,3200,3040,2880,2770,13830,11040,5620,5750,6390,5900,5400,5880,4970,4060,3400,3570,3740,3800,3330,2870,3930,75820,77320,90160,96000,85360,86980,88600,86310,84150,82020,79890,76730,73560,72630,69390,66150,68640,35320,39970,35230,32270,32040,32690,33680,39370,37260,35160,34460,33620,32550,31120,31750,32390,32520,11120,12180,6930,5630,5330,5490,5650,5650,5590,5530,5540,4900,4260,3750,3370,3130,3220,2760,2420,2450,2750,2540,2700,2860,2580,2490,2410,2340,2090,1850,1790,1780,1780,1790,72500,66500,66920,58370,48420,48560,48710,51670,47020,42370,42360,42020,41430,40120,38830,37590,37770,20930,21170,18340,15140,13180,12810,12440,12300,12020,11600,10710,10200,9910,10130,10190,10240,10270,10480,7480,6150,6280,6130,6390,6660,6160,6010,5860,5430,4790,4150,3930,3990,4050,3650,7210,7140,6940,6440,5620,5670,5720,5670,4830,3990,3870,3910,3940,3800,3660,3520,3520,10090,9850,7890,6720,6060,6080,6110,6380,6170,5960,5820,5500,5180,5180,4910,4640,4780,17030,11800,13110,11380,10330,11220,12520,14110,12930,11750,11310,10470,9630,9620,9830,10040,9280,4140,4260,3390,2910,2840,2940,3030,2970,2830,2640,2410,2390,2380,2400,2240,2080,2050,41090,39490,36940,38670,35250,31990,28720,28390,29630,30890,32140,29610,27080,26430,26010,25730,26940,44260,41610,40150,29870,27800,27130,26460,25800,25240,24790,24430,22840,21250,21280,20370,19470,18880,62770,54530,47430,45710,39930,37530,35780,36050,33410,30770,29270,28780,28420,28130,27290,26460,26130,17400,15090,13950,13940,13370,13420,13480,12580,11780,11120,10690,10130,9570,9230,9360,9590,10100,6480,8830,9020,9060,7930,7880,7850,8210,7640,7070,6700,6280,5860,5540,5300,5100,4930,23940,19870,16050,17410,14900,15070,15250,15160,13550,11930,11510,11080,10610,9180,9640,10100,9690,2350,2810,2430,2220,2020,2070,2110,2040,2000,1980,1990,1820,1660,1520,1530,1540,1510,5490,4950,3930,3920,2990,2690,2500,2850,2630,2410,2550,2510,2440,2360,2260,2170,2250,9450,12400,14080,12880,12990,13320,13630,13020,12790,12570,11960,10750,9550,10840,10150,9460,9620,5940,4490,4670,4020,3060,3030,2990,2860,2840,2830,2880,2610,2340,2530,2480,2410,2330,66300,58420,64230,66110,60330,58030,55740,54730,51930,49130,46670,44680,43340,43990,45680,47370,47010,8180,7780,6560,6890,6690,7020,7350,6730,6420,6110,5520,4860,4190,4030,4120,4210,3830,179830,191100,164080,161160,152340,148030,144390,149070,144390,139700,136280,126630,116970,117580,113350,108350,103060,38120,34000,31070,33620,29730,29970,30220,29000,28340,27670,25080,25960,26850,26410,24870,23320,25060,1510,1190,1050,940,890,900,910,1010,1000,980,940,920,900,1020,990,960,970,50780,46190,41320,38090,33140,32880,32620,32370,30760,29140,27930,26200,24470,23220,21980,20790,20560,12240,9080,8490,7780,7420,7450,7480,7500,7060,6510,5910,5830,5760,5210,4800,4550,4780,14850,14620,13540,15270,11900,12150,12410,11800,11020,10250,10020,9310,8600,8760,8950,9140,8950,53050,50720,42080,39670,38110,39770,42550,46670,44820,42250,39200,36560,34580,34230,34550,34870,33910,5800,5830,5290,4900,4680,4550,4420,4340,4100,3850,3690,3410,3130,3220,3290,3340,3280,16440,14410,12450,12120,13320,13590,13750,13200,13050,12900,11580,11440,11300,10940,10930,10920,11380,1420,1340,1200,1020,980,970,960,970,900,840,850,840,830,810,770,730,750,20060,19110,16690,17270,15520,15550,15590,16210,15290,14370,13670,13210,12760,12300,11770,11230,11060,97450,94590,88250,87110,84560,82540,80510,82690,81060,78130,72140,69520,66910,56400,55690,55100,56340,744610,898570,1034170,1179300,1316700,1409600,1497670,1553890,1577340,1573920,1575000,1577180,1588550,1574000,1559110,1590750,1566870,1608620,1556510,1528930,1495000,1423000,1359440,1360160,1335000,1319000,1314790,1312990,1291000,1269000,1250000,1222100,1206200,1242000,1209640,1212350,1151600,1102670,1058490,1011070,958700,926190,899270,874080,862320,4590,3800,3850,3500,3610,3780,3940,3880,3690,3470,3240,3210,3170,2960,3010,3050,3020,2920,2160,2050,1510,1810,1760,1720,1730,1670,1600,1610,1560,1490,1380,1320,1260,1140,40240,38130,32450,30690,30590,31670,32750,31360,30950,30550,29160,29510,29860,24590,23290,21990,20290,30890,33620,26960,26970,23680,24350,25030,24670,23530,22380,21830,20470,19100,19150,18340,17530,17760,4800,4460,3400,2930,2700,2880,3070,2680,3070,3460,3320,2800,2280,2280,2380,2490,2380,18580,16280,14980,12450,10920,10390,9870,9660,9420,9140,8660,8080,7510,7430,7360,7310,7540,1370,1390,1630,2090,1220,1200,1170,1060,1030,1010,1060,940,820,850,810,770,720],\"coloraxis\":\"coloraxis\",\"symbol\":\"circle\"},\"mode\":\"markers\",\"name\":\"\",\"orientation\":\"v\",\"showlegend\":false,\"x\":[1988,1992,1996,2000,2005,2006,2007,2008,2009,2010,2011,2012,2013,2014,2015,2016,2017,1988,1992,1996,2000,2005,2006,2007,2008,2009,2010,2011,2012,2013,2014,2015,2016,2017,1988,1992,1996,2000,2005,2006,2007,2008,2009,2010,2011,2012,2013,2014,2015,2016,2017,1988,1992,1996,2000,2005,2006,2007,2008,2009,2010,2011,2012,2013,2014,2015,2016,2017,1988,1992,1996,2000,2005,2006,2007,2008,2009,2010,2011,2012,2013,2014,2015,2016,2017,1988,1992,1996,2000,2005,2006,2007,2008,2009,2010,2011,2012,2013,2014,2015,2016,2017,1988,1992,1996,2000,2005,2006,2007,2008,2009,2010,2011,2012,2013,2014,2015,2016,2017,1988,1992,1996,2000,2005,2006,2007,2008,2009,2010,2011,2012,2013,2014,2015,2016,2017,1988,1992,1996,2000,2005,2006,2007,2008,2009,2010,2011,2012,2013,2014,2015,2016,2017,1988,1992,1996,2000,2005,2006,2007,2008,2009,2010,2011,2012,2013,2014,2015,2016,2017,1988,1992,1996,2000,2005,2006,2007,2008,2009,2010,2011,2012,2013,2014,2015,2016,2017,1988,1992,1996,2000,2005,2006,2007,2008,2009,2010,2011,2012,2013,2014,2015,2016,2017,1988,1992,1996,2000,2005,2006,2007,2008,2009,2010,2011,2012,2013,2014,2015,2016,2017,1988,1992,1996,2000,2005,2006,2007,2008,2009,2010,2011,2012,2013,2014,2015,2016,2017,1988,1992,1996,2000,2005,2006,2007,2008,2009,2010,2011,2012,2013,2014,2015,2016,2017,1988,1992,1996,2000,2005,2006,2007,2008,2009,2010,2011,2012,2013,2014,2015,2016,2017,1988,1992,1996,2000,2005,2006,2007,2008,2009,2010,2011,2012,2013,2014,2015,2016,2017,1988,1992,1996,2000,2005,2006,2007,2008,2009,2010,2011,2012,2013,2014,2015,2016,2017,1988,1992,1996,2000,2005,2006,2007,2008,2009,2010,2011,2012,2013,2014,2015,2016,2017,1988,1992,1996,2000,2005,2006,2007,2008,2009,2010,2011,2012,2013,2014,2015,2016,2017,1988,1992,1996,2000,2005,2006,2007,2008,2009,2010,2011,2012,2013,2014,2015,2016,2017,1988,1992,1996,2000,2005,2006,2007,2008,2009,2010,2011,2012,2013,2014,2015,2016,2017,1988,1992,1996,2000,2005,2006,2007,2008,2009,2010,2011,2012,2013,2014,2015,2016,2017,1988,1992,1996,2000,2005,2006,2007,2008,2009,2010,2011,2012,2013,2014,2015,2016,2017,1988,1992,1996,2000,2005,2006,2007,2008,2009,2010,2011,2012,2013,2014,2015,2016,2017,1988,1992,1996,2000,2005,2006,2007,2008,2009,2010,2011,2012,2013,2014,2015,2016,2017,1988,1992,1996,2000,2005,2006,2007,2008,2009,2010,2011,2012,2013,2014,2015,2016,2017,1988,1992,1996,2000,2005,2006,2007,2008,2009,2010,2011,2012,2013,2014,2015,2016,2017,1988,1992,1996,2000,2005,2006,2007,2008,2009,2010,2011,2012,2013,2014,2015,2016,2017,1988,1992,1996,2000,2005,2006,2007,2008,2009,2010,2011,2012,2013,2014,2015,2016,2017,1988,1992,1996,2000,2005,2006,2007,2008,2009,2010,2011,2012,2013,2014,2015,2016,2017,1988,1992,1996,2000,2005,2006,2007,2008,2009,2010,2011,2012,2013,2014,2015,2016,2017,1988,1992,1996,2000,2005,2006,2007,2008,2009,2010,2011,2012,2013,2014,2015,2016,2017,1988,1992,1996,2000,2005,2006,2007,2008,2009,2010,2011,2012,2013,2014,2015,2016,2017,1988,1992,1996,2000,2005,2006,2007,2008,2009,2010,2011,2012,2013,2014,2015,2016,2017,1988,1992,1996,2000,2005,2006,2007,2008,2009,2010,2011,2012,2013,2014,2015,2016,2017,1988,1992,1996,2000,2005,2006,2007,2008,2009,2010,2011,2012,2013,2014,2015,2016,2017,1988,1992,1996,2000,2005,2006,2007,2008,2009,2010,2011,2012,2013,2014,2015,2016,2017,1988,1992,1996,2000,2005,2006,2007,2008,2009,2010,2011,2012,2013,2014,2015,2016,2017,1988,1992,1996,2000,2005,2006,2007,2008,2009,2010,2011,2012,2013,2014,2015,2016,2017,1988,1992,1996,2000,2005,2006,2007,2008,2009,2010,2011,2012,2013,2014,2015,2016,2017,1988,1992,1996,2000,2005,2006,2007,2008,2009,2010,2011,2012,2013,2014,2015,2016,2017,1988,1992,1996,2000,2005,2006,2007,2008,2009,2010,2011,2012,2013,2014,2015,2016,2017,1988,1992,1996,2000,2005,2006,2007,2008,2009,2010,2011,2012,2013,2014,2015,2016,2017,1973,1974,1975,1976,1977,1978,1979,1980,1981,1982,1983,1984,1985,1986,1987,1988,1989,1990,1991,1992,1993,1994,1995,1996,1997,1998,1999,2000,2001,2002,2003,2004,2005,2006,2007,2008,2009,2010,2011,2012,2013,2014,2015,2016,2017,1988,1992,1996,2000,2005,2006,2007,2008,2009,2010,2011,2012,2013,2014,2015,2016,2017,1988,1992,1996,2000,2005,2006,2007,2008,2009,2010,2011,2012,2013,2014,2015,2016,2017,1988,1992,1996,2000,2005,2006,2007,2008,2009,2010,2011,2012,2013,2014,2015,2016,2017,1988,1992,1996,2000,2005,2006,2007,2008,2009,2010,2011,2012,2013,2014,2015,2016,2017,1988,1992,1996,2000,2005,2006,2007,2008,2009,2010,2011,2012,2013,2014,2015,2016,2017,1988,1992,1996,2000,2005,2006,2007,2008,2009,2010,2011,2012,2013,2014,2015,2016,2017,1988,1992,1996,2000,2005,2006,2007,2008,2009,2010,2011,2012,2013,2014,2015,2016,2017],\"xaxis\":\"x\",\"y\":[20100,17720,14940,13060,10840,10980,11130,11020,10530,10030,9600,8920,8230,8310,8150,7920,7660,2700,2800,2310,1900,2130,2060,2000,1960,2040,2120,2030,1890,1740,1640,1540,1450,1420,22200,21200,20120,18410,19710,18850,17990,19770,17480,15190,16270,15040,13820,13240,13640,14040,13270,7860,8690,6680,5880,5200,5450,5690,5710,5630,5490,5210,5010,4810,4350,3930,3590,3710,311440,303850,237870,235670,206260,213550,220840,211930,200720,189110,177360,170420,163550,156690,148000,139320,131380,17550,18410,16670,12950,14720,14990,15160,14920,14330,13730,13130,12400,11660,11760,11410,11050,11100,24470,20100,16510,15460,17340,17580,17730,17210,16350,15480,14630,13900,13360,13280,12770,12260,11950,4570,4620,2970,3920,4140,4990,5850,5650,5520,5380,4690,4010,3340,3200,3040,2880,2770,13830,11040,5620,5750,6390,5900,5400,5880,4970,4060,3400,3570,3740,3800,3330,2870,3930,75820,77320,90160,96000,85360,86980,88600,86310,84150,82020,79890,76730,73560,72630,69390,66150,68640,35320,39970,35230,32270,32040,32690,33680,39370,37260,35160,34460,33620,32550,31120,31750,32390,32520,11120,12180,6930,5630,5330,5490,5650,5650,5590,5530,5540,4900,4260,3750,3370,3130,3220,2760,2420,2450,2750,2540,2700,2860,2580,2490,2410,2340,2090,1850,1790,1780,1780,1790,72500,66500,66920,58370,48420,48560,48710,51670,47020,42370,42360,42020,41430,40120,38830,37590,37770,20930,21170,18340,15140,13180,12810,12440,12300,12020,11600,10710,10200,9910,10130,10190,10240,10270,10480,7480,6150,6280,6130,6390,6660,6160,6010,5860,5430,4790,4150,3930,3990,4050,3650,7210,7140,6940,6440,5620,5670,5720,5670,4830,3990,3870,3910,3940,3800,3660,3520,3520,10090,9850,7890,6720,6060,6080,6110,6380,6170,5960,5820,5500,5180,5180,4910,4640,4780,17030,11800,13110,11380,10330,11220,12520,14110,12930,11750,11310,10470,9630,9620,9830,10040,9280,4140,4260,3390,2910,2840,2940,3030,2970,2830,2640,2410,2390,2380,2400,2240,2080,2050,41090,39490,36940,38670,35250,31990,28720,28390,29630,30890,32140,29610,27080,26430,26010,25730,26940,44260,41610,40150,29870,27800,27130,26460,25800,25240,24790,24430,22840,21250,21280,20370,19470,18880,62770,54530,47430,45710,39930,37530,35780,36050,33410,30770,29270,28780,28420,28130,27290,26460,26130,17400,15090,13950,13940,13370,13420,13480,12580,11780,11120,10690,10130,9570,9230,9360,9590,10100,6480,8830,9020,9060,7930,7880,7850,8210,7640,7070,6700,6280,5860,5540,5300,5100,4930,23940,19870,16050,17410,14900,15070,15250,15160,13550,11930,11510,11080,10610,9180,9640,10100,9690,2350,2810,2430,2220,2020,2070,2110,2040,2000,1980,1990,1820,1660,1520,1530,1540,1510,5490,4950,3930,3920,2990,2690,2500,2850,2630,2410,2550,2510,2440,2360,2260,2170,2250,9450,12400,14080,12880,12990,13320,13630,13020,12790,12570,11960,10750,9550,10840,10150,9460,9620,5940,4490,4670,4020,3060,3030,2990,2860,2840,2830,2880,2610,2340,2530,2480,2410,2330,66300,58420,64230,66110,60330,58030,55740,54730,51930,49130,46670,44680,43340,43990,45680,47370,47010,8180,7780,6560,6890,6690,7020,7350,6730,6420,6110,5520,4860,4190,4030,4120,4210,3830,179830,191100,164080,161160,152340,148030,144390,149070,144390,139700,136280,126630,116970,117580,113350,108350,103060,38120,34000,31070,33620,29730,29970,30220,29000,28340,27670,25080,25960,26850,26410,24870,23320,25060,1510,1190,1050,940,890,900,910,1010,1000,980,940,920,900,1020,990,960,970,50780,46190,41320,38090,33140,32880,32620,32370,30760,29140,27930,26200,24470,23220,21980,20790,20560,12240,9080,8490,7780,7420,7450,7480,7500,7060,6510,5910,5830,5760,5210,4800,4550,4780,14850,14620,13540,15270,11900,12150,12410,11800,11020,10250,10020,9310,8600,8760,8950,9140,8950,53050,50720,42080,39670,38110,39770,42550,46670,44820,42250,39200,36560,34580,34230,34550,34870,33910,5800,5830,5290,4900,4680,4550,4420,4340,4100,3850,3690,3410,3130,3220,3290,3340,3280,16440,14410,12450,12120,13320,13590,13750,13200,13050,12900,11580,11440,11300,10940,10930,10920,11380,1420,1340,1200,1020,980,970,960,970,900,840,850,840,830,810,770,730,750,20060,19110,16690,17270,15520,15550,15590,16210,15290,14370,13670,13210,12760,12300,11770,11230,11060,97450,94590,88250,87110,84560,82540,80510,82690,81060,78130,72140,69520,66910,56400,55690,55100,56340,744610,898570,1034170,1179300,1316700,1409600,1497670,1553890,1577340,1573920,1575000,1577180,1588550,1574000,1559110,1590750,1566870,1608620,1556510,1528930,1495000,1423000,1359440,1360160,1335000,1319000,1314790,1312990,1291000,1269000,1250000,1222100,1206200,1242000,1209640,1212350,1151600,1102670,1058490,1011070,958700,926190,899270,874080,862320,4590,3800,3850,3500,3610,3780,3940,3880,3690,3470,3240,3210,3170,2960,3010,3050,3020,2920,2160,2050,1510,1810,1760,1720,1730,1670,1600,1610,1560,1490,1380,1320,1260,1140,40240,38130,32450,30690,30590,31670,32750,31360,30950,30550,29160,29510,29860,24590,23290,21990,20290,30890,33620,26960,26970,23680,24350,25030,24670,23530,22380,21830,20470,19100,19150,18340,17530,17760,4800,4460,3400,2930,2700,2880,3070,2680,3070,3460,3320,2800,2280,2280,2380,2490,2380,18580,16280,14980,12450,10920,10390,9870,9660,9420,9140,8660,8080,7510,7430,7360,7310,7540,1370,1390,1630,2090,1220,1200,1170,1060,1030,1010,1060,940,820,850,810,770,720],\"yaxis\":\"y\",\"type\":\"scatter\"}],                        {\"template\":{\"data\":{\"histogram2dcontour\":[{\"type\":\"histogram2dcontour\",\"colorbar\":{\"outlinewidth\":0,\"ticks\":\"\"},\"colorscale\":[[0.0,\"#0d0887\"],[0.1111111111111111,\"#46039f\"],[0.2222222222222222,\"#7201a8\"],[0.3333333333333333,\"#9c179e\"],[0.4444444444444444,\"#bd3786\"],[0.5555555555555556,\"#d8576b\"],[0.6666666666666666,\"#ed7953\"],[0.7777777777777778,\"#fb9f3a\"],[0.8888888888888888,\"#fdca26\"],[1.0,\"#f0f921\"]]}],\"choropleth\":[{\"type\":\"choropleth\",\"colorbar\":{\"outlinewidth\":0,\"ticks\":\"\"}}],\"histogram2d\":[{\"type\":\"histogram2d\",\"colorbar\":{\"outlinewidth\":0,\"ticks\":\"\"},\"colorscale\":[[0.0,\"#0d0887\"],[0.1111111111111111,\"#46039f\"],[0.2222222222222222,\"#7201a8\"],[0.3333333333333333,\"#9c179e\"],[0.4444444444444444,\"#bd3786\"],[0.5555555555555556,\"#d8576b\"],[0.6666666666666666,\"#ed7953\"],[0.7777777777777778,\"#fb9f3a\"],[0.8888888888888888,\"#fdca26\"],[1.0,\"#f0f921\"]]}],\"heatmap\":[{\"type\":\"heatmap\",\"colorbar\":{\"outlinewidth\":0,\"ticks\":\"\"},\"colorscale\":[[0.0,\"#0d0887\"],[0.1111111111111111,\"#46039f\"],[0.2222222222222222,\"#7201a8\"],[0.3333333333333333,\"#9c179e\"],[0.4444444444444444,\"#bd3786\"],[0.5555555555555556,\"#d8576b\"],[0.6666666666666666,\"#ed7953\"],[0.7777777777777778,\"#fb9f3a\"],[0.8888888888888888,\"#fdca26\"],[1.0,\"#f0f921\"]]}],\"heatmapgl\":[{\"type\":\"heatmapgl\",\"colorbar\":{\"outlinewidth\":0,\"ticks\":\"\"},\"colorscale\":[[0.0,\"#0d0887\"],[0.1111111111111111,\"#46039f\"],[0.2222222222222222,\"#7201a8\"],[0.3333333333333333,\"#9c179e\"],[0.4444444444444444,\"#bd3786\"],[0.5555555555555556,\"#d8576b\"],[0.6666666666666666,\"#ed7953\"],[0.7777777777777778,\"#fb9f3a\"],[0.8888888888888888,\"#fdca26\"],[1.0,\"#f0f921\"]]}],\"contourcarpet\":[{\"type\":\"contourcarpet\",\"colorbar\":{\"outlinewidth\":0,\"ticks\":\"\"}}],\"contour\":[{\"type\":\"contour\",\"colorbar\":{\"outlinewidth\":0,\"ticks\":\"\"},\"colorscale\":[[0.0,\"#0d0887\"],[0.1111111111111111,\"#46039f\"],[0.2222222222222222,\"#7201a8\"],[0.3333333333333333,\"#9c179e\"],[0.4444444444444444,\"#bd3786\"],[0.5555555555555556,\"#d8576b\"],[0.6666666666666666,\"#ed7953\"],[0.7777777777777778,\"#fb9f3a\"],[0.8888888888888888,\"#fdca26\"],[1.0,\"#f0f921\"]]}],\"surface\":[{\"type\":\"surface\",\"colorbar\":{\"outlinewidth\":0,\"ticks\":\"\"},\"colorscale\":[[0.0,\"#0d0887\"],[0.1111111111111111,\"#46039f\"],[0.2222222222222222,\"#7201a8\"],[0.3333333333333333,\"#9c179e\"],[0.4444444444444444,\"#bd3786\"],[0.5555555555555556,\"#d8576b\"],[0.6666666666666666,\"#ed7953\"],[0.7777777777777778,\"#fb9f3a\"],[0.8888888888888888,\"#fdca26\"],[1.0,\"#f0f921\"]]}],\"mesh3d\":[{\"type\":\"mesh3d\",\"colorbar\":{\"outlinewidth\":0,\"ticks\":\"\"}}],\"scatter\":[{\"fillpattern\":{\"fillmode\":\"overlay\",\"size\":10,\"solidity\":0.2},\"type\":\"scatter\"}],\"parcoords\":[{\"type\":\"parcoords\",\"line\":{\"colorbar\":{\"outlinewidth\":0,\"ticks\":\"\"}}}],\"scatterpolargl\":[{\"type\":\"scatterpolargl\",\"marker\":{\"colorbar\":{\"outlinewidth\":0,\"ticks\":\"\"}}}],\"bar\":[{\"error_x\":{\"color\":\"#2a3f5f\"},\"error_y\":{\"color\":\"#2a3f5f\"},\"marker\":{\"line\":{\"color\":\"#E5ECF6\",\"width\":0.5},\"pattern\":{\"fillmode\":\"overlay\",\"size\":10,\"solidity\":0.2}},\"type\":\"bar\"}],\"scattergeo\":[{\"type\":\"scattergeo\",\"marker\":{\"colorbar\":{\"outlinewidth\":0,\"ticks\":\"\"}}}],\"scatterpolar\":[{\"type\":\"scatterpolar\",\"marker\":{\"colorbar\":{\"outlinewidth\":0,\"ticks\":\"\"}}}],\"histogram\":[{\"marker\":{\"pattern\":{\"fillmode\":\"overlay\",\"size\":10,\"solidity\":0.2}},\"type\":\"histogram\"}],\"scattergl\":[{\"type\":\"scattergl\",\"marker\":{\"colorbar\":{\"outlinewidth\":0,\"ticks\":\"\"}}}],\"scatter3d\":[{\"type\":\"scatter3d\",\"line\":{\"colorbar\":{\"outlinewidth\":0,\"ticks\":\"\"}},\"marker\":{\"colorbar\":{\"outlinewidth\":0,\"ticks\":\"\"}}}],\"scattermapbox\":[{\"type\":\"scattermapbox\",\"marker\":{\"colorbar\":{\"outlinewidth\":0,\"ticks\":\"\"}}}],\"scatterternary\":[{\"type\":\"scatterternary\",\"marker\":{\"colorbar\":{\"outlinewidth\":0,\"ticks\":\"\"}}}],\"scattercarpet\":[{\"type\":\"scattercarpet\",\"marker\":{\"colorbar\":{\"outlinewidth\":0,\"ticks\":\"\"}}}],\"carpet\":[{\"aaxis\":{\"endlinecolor\":\"#2a3f5f\",\"gridcolor\":\"white\",\"linecolor\":\"white\",\"minorgridcolor\":\"white\",\"startlinecolor\":\"#2a3f5f\"},\"baxis\":{\"endlinecolor\":\"#2a3f5f\",\"gridcolor\":\"white\",\"linecolor\":\"white\",\"minorgridcolor\":\"white\",\"startlinecolor\":\"#2a3f5f\"},\"type\":\"carpet\"}],\"table\":[{\"cells\":{\"fill\":{\"color\":\"#EBF0F8\"},\"line\":{\"color\":\"white\"}},\"header\":{\"fill\":{\"color\":\"#C8D4E3\"},\"line\":{\"color\":\"white\"}},\"type\":\"table\"}],\"barpolar\":[{\"marker\":{\"line\":{\"color\":\"#E5ECF6\",\"width\":0.5},\"pattern\":{\"fillmode\":\"overlay\",\"size\":10,\"solidity\":0.2}},\"type\":\"barpolar\"}],\"pie\":[{\"automargin\":true,\"type\":\"pie\"}]},\"layout\":{\"autotypenumbers\":\"strict\",\"colorway\":[\"#636efa\",\"#EF553B\",\"#00cc96\",\"#ab63fa\",\"#FFA15A\",\"#19d3f3\",\"#FF6692\",\"#B6E880\",\"#FF97FF\",\"#FECB52\"],\"font\":{\"color\":\"#2a3f5f\"},\"hovermode\":\"closest\",\"hoverlabel\":{\"align\":\"left\"},\"paper_bgcolor\":\"white\",\"plot_bgcolor\":\"#E5ECF6\",\"polar\":{\"bgcolor\":\"#E5ECF6\",\"angularaxis\":{\"gridcolor\":\"white\",\"linecolor\":\"white\",\"ticks\":\"\"},\"radialaxis\":{\"gridcolor\":\"white\",\"linecolor\":\"white\",\"ticks\":\"\"}},\"ternary\":{\"bgcolor\":\"#E5ECF6\",\"aaxis\":{\"gridcolor\":\"white\",\"linecolor\":\"white\",\"ticks\":\"\"},\"baxis\":{\"gridcolor\":\"white\",\"linecolor\":\"white\",\"ticks\":\"\"},\"caxis\":{\"gridcolor\":\"white\",\"linecolor\":\"white\",\"ticks\":\"\"}},\"coloraxis\":{\"colorbar\":{\"outlinewidth\":0,\"ticks\":\"\"}},\"colorscale\":{\"sequential\":[[0.0,\"#0d0887\"],[0.1111111111111111,\"#46039f\"],[0.2222222222222222,\"#7201a8\"],[0.3333333333333333,\"#9c179e\"],[0.4444444444444444,\"#bd3786\"],[0.5555555555555556,\"#d8576b\"],[0.6666666666666666,\"#ed7953\"],[0.7777777777777778,\"#fb9f3a\"],[0.8888888888888888,\"#fdca26\"],[1.0,\"#f0f921\"]],\"sequentialminus\":[[0.0,\"#0d0887\"],[0.1111111111111111,\"#46039f\"],[0.2222222222222222,\"#7201a8\"],[0.3333333333333333,\"#9c179e\"],[0.4444444444444444,\"#bd3786\"],[0.5555555555555556,\"#d8576b\"],[0.6666666666666666,\"#ed7953\"],[0.7777777777777778,\"#fb9f3a\"],[0.8888888888888888,\"#fdca26\"],[1.0,\"#f0f921\"]],\"diverging\":[[0,\"#8e0152\"],[0.1,\"#c51b7d\"],[0.2,\"#de77ae\"],[0.3,\"#f1b6da\"],[0.4,\"#fde0ef\"],[0.5,\"#f7f7f7\"],[0.6,\"#e6f5d0\"],[0.7,\"#b8e186\"],[0.8,\"#7fbc41\"],[0.9,\"#4d9221\"],[1,\"#276419\"]]},\"xaxis\":{\"gridcolor\":\"white\",\"linecolor\":\"white\",\"ticks\":\"\",\"title\":{\"standoff\":15},\"zerolinecolor\":\"white\",\"automargin\":true,\"zerolinewidth\":2},\"yaxis\":{\"gridcolor\":\"white\",\"linecolor\":\"white\",\"ticks\":\"\",\"title\":{\"standoff\":15},\"zerolinecolor\":\"white\",\"automargin\":true,\"zerolinewidth\":2},\"scene\":{\"xaxis\":{\"backgroundcolor\":\"#E5ECF6\",\"gridcolor\":\"white\",\"linecolor\":\"white\",\"showbackground\":true,\"ticks\":\"\",\"zerolinecolor\":\"white\",\"gridwidth\":2},\"yaxis\":{\"backgroundcolor\":\"#E5ECF6\",\"gridcolor\":\"white\",\"linecolor\":\"white\",\"showbackground\":true,\"ticks\":\"\",\"zerolinecolor\":\"white\",\"gridwidth\":2},\"zaxis\":{\"backgroundcolor\":\"#E5ECF6\",\"gridcolor\":\"white\",\"linecolor\":\"white\",\"showbackground\":true,\"ticks\":\"\",\"zerolinecolor\":\"white\",\"gridwidth\":2}},\"shapedefaults\":{\"line\":{\"color\":\"#2a3f5f\"}},\"annotationdefaults\":{\"arrowcolor\":\"#2a3f5f\",\"arrowhead\":0,\"arrowwidth\":1},\"geo\":{\"bgcolor\":\"white\",\"landcolor\":\"#E5ECF6\",\"subunitcolor\":\"white\",\"showland\":true,\"showlakes\":true,\"lakecolor\":\"white\"},\"title\":{\"x\":0.05},\"mapbox\":{\"style\":\"light\"}}},\"xaxis\":{\"anchor\":\"y\",\"domain\":[0.0,1.0],\"title\":{\"text\":\"year\"},\"tickmode\":\"array\",\"tick0\":0.2,\"dtick\":1},\"yaxis\":{\"anchor\":\"x\",\"domain\":[0.0,1.0],\"title\":{\"text\":\"abortionstotal\"}},\"coloraxis\":{\"colorbar\":{\"title\":{\"text\":\"abortionstotal\"}},\"colorscale\":[[0.0,\"#0d0887\"],[0.1111111111111111,\"#46039f\"],[0.2222222222222222,\"#7201a8\"],[0.3333333333333333,\"#9c179e\"],[0.4444444444444444,\"#bd3786\"],[0.5555555555555556,\"#d8576b\"],[0.6666666666666666,\"#ed7953\"],[0.7777777777777778,\"#fb9f3a\"],[0.8888888888888888,\"#fdca26\"],[1.0,\"#f0f921\"]]},\"legend\":{\"tracegroupgap\":0},\"title\":{\"text\":\"Banning Abortions Timeline\"}},                        {\"responsive\": true}                    ).then(function(){\n",
       "                            \n",
       "var gd = document.getElementById('4f05d2c2-f60d-4048-bbbb-350a516ad796');\n",
       "var x = new MutationObserver(function (mutations, observer) {{\n",
       "        var display = window.getComputedStyle(gd).display;\n",
       "        if (!display || display === 'none') {{\n",
       "            console.log([gd, 'removed!']);\n",
       "            Plotly.purge(gd);\n",
       "            observer.disconnect();\n",
       "        }}\n",
       "}});\n",
       "\n",
       "// Listen for the removal of the full notebook cells\n",
       "var notebookContainer = gd.closest('#notebook-container');\n",
       "if (notebookContainer) {{\n",
       "    x.observe(notebookContainer, {childList: true});\n",
       "}}\n",
       "\n",
       "// Listen for the clearing of the current output cell\n",
       "var outputEl = gd.closest('.output');\n",
       "if (outputEl) {{\n",
       "    x.observe(outputEl, {childList: true});\n",
       "}}\n",
       "\n",
       "                        })                };                });            </script>        </div>"
      ]
     },
     "metadata": {},
     "output_type": "display_data"
    }
   ],
   "source": [
    "fig = px.scatter(AbTimeline_df, x = 'year', y = 'abortionstotal', color=\"abortionstotal\",  title='Banning Abortions Timeline')\n",
    "fig.update_layout(\n",
    "    xaxis = dict(\n",
    "    tickmode = 'array',\n",
    "    tick0 = 0.2,\n",
    "    dtick = 1   \n",
    " )\n",
    ")\n",
    "\n",
    "\n",
    "import os\n",
    "\n",
    "fig.show()\n"
   ]
  },
  {
   "cell_type": "code",
   "execution_count": 33,
   "id": "6e2753e0",
   "metadata": {},
   "outputs": [
    {
     "name": "stdout",
     "output_type": "stream",
     "text": [
      "[NbConvertApp] Converting notebook PlotlyViz.ipynb to html\n",
      "[NbConvertApp] Writing 721100 bytes to PlotlyViz.html\n"
     ]
    }
   ],
   "source": [
    "!jupyter nbconvert  PlotlyViz.ipynb --to html"
   ]
  },
  {
   "cell_type": "code",
   "execution_count": null,
   "id": "ef337461",
   "metadata": {},
   "outputs": [],
   "source": []
  }
 ],
 "metadata": {
  "kernelspec": {
   "display_name": "PythonData",
   "language": "python",
   "name": "pythondata"
  },
  "language_info": {
   "codemirror_mode": {
    "name": "ipython",
    "version": 3
   },
   "file_extension": ".py",
   "mimetype": "text/x-python",
   "name": "python",
   "nbconvert_exporter": "python",
   "pygments_lexer": "ipython3",
   "version": "3.9.11"
  }
 },
 "nbformat": 4,
 "nbformat_minor": 5
}
